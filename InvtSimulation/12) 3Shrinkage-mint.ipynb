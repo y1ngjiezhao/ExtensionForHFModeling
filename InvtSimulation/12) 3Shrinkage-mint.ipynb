{
 "cells": [
  {
   "cell_type": "code",
   "execution_count": 1,
   "id": "8168a484-6847-4e90-b11e-3cc2b4f0d0ff",
   "metadata": {
    "tags": []
   },
   "outputs": [],
   "source": [
    "path1  = 'C:/PycharmProjects/yjz/Extension for hts/JayCode/Models/'\n",
    "from Invtsim import *\n",
    "import numpy as np\n",
    "import pandas as pd\n",
    "from scipy.stats import norm\n",
    "import warnings\n",
    "warnings.simplefilter(\"ignore\")\n",
    "from tqdm import tqdm\n",
    "\n",
    "gap1 = 365\n",
    "gap2 = 1548\n",
    "\n",
    "\n",
    "train    = pd.read_pickle(f\"{path1}721past_1913.pkl\").reset_index(drop=True)[['ds','y']]\n",
    "fit_all  = pd.read_pickle(f\"{path1}721fitts_base2cohe.pkl\")\n",
    "tr_all   = pd.concat([train,fit_all], axis =1)\n",
    "\n",
    "tr_tr    = tr_all[tr_all['ds'] <= gap2].reset_index(drop=True).iloc[:,1:]\n",
    "tr_ts    = tr_all[tr_all['ds'] >  gap2].reset_index(drop=True).iloc[:,1:]"
   ]
  },
  {
   "cell_type": "markdown",
   "id": "a31d9ae4-24ca-4b94-8759-6688c1668cf9",
   "metadata": {
    "jp-MarkdownHeadingCollapsed": true,
    "tags": []
   },
   "source": [
    "## Hist Order:"
   ]
  },
  {
   "cell_type": "code",
   "execution_count": 2,
   "id": "bd051191-385d-4d19-b46c-323749a0fefe",
   "metadata": {
    "tags": []
   },
   "outputs": [],
   "source": [
    "def loop(fcst, truth, residual, NAME:str,\n",
    "         gap1: int = 28, gap2:int = 1913,\n",
    "         n = None, \n",
    "         df_list:list = [], \n",
    "         L_ = 3):\n",
    "    if n == None:\n",
    "        n = int(len(fcst)/gap1)\n",
    "    for i in tqdm(range(n)):\n",
    "        fcst_1  = fcst[i*gap1:(i+1)*gap1]\n",
    "        truth_1 = truth[i*gap1:(i+1)*gap1]\n",
    "        res_1   = residual[i*gap2:(i+1)*gap2]\n",
    "        df = InvtSim(fcst = fcst_1, truth = truth_1, residual = res_1, name = NAME, L=L_, period = gap1)\n",
    "        res = df.ob_all_t()\n",
    "        df_list.append(res.reset_index(drop = True))\n",
    "    #results = pd.concat(res)\n",
    "    print(\"-----------DOWN!------------\")\n",
    "    return pd.concat(df_list).reset_index(drop=True)"
   ]
  },
  {
   "cell_type": "code",
   "execution_count": 3,
   "id": "2744bfec-43ad-4948-a3cb-4ce7d4669ae6",
   "metadata": {
    "scrolled": true,
    "tags": []
   },
   "outputs": [
    {
     "name": "stdout",
     "output_type": "stream",
     "text": [
      "************Lead time is: 1************\n"
     ]
    },
    {
     "name": "stderr",
     "output_type": "stream",
     "text": [
      "100%|███████████████████████████████████████████████████████████████████████████████████████████████████████████████████████████████████████████| 42840/42840 [06:47<00:00, 105.23it/s]\n"
     ]
    },
    {
     "name": "stdout",
     "output_type": "stream",
     "text": [
      "-----------DOWN!------------\n"
     ]
    },
    {
     "name": "stderr",
     "output_type": "stream",
     "text": [
      "100%|███████████████████████████████████████████████████████████████████████████████████████████████████████████████████████████████████████████| 42840/42840 [06:48<00:00, 104.90it/s]\n"
     ]
    },
    {
     "name": "stdout",
     "output_type": "stream",
     "text": [
      "-----------DOWN!------------\n"
     ]
    },
    {
     "name": "stderr",
     "output_type": "stream",
     "text": [
      "100%|███████████████████████████████████████████████████████████████████████████████████████████████████████████████████████████████████████████| 42840/42840 [06:50<00:00, 104.29it/s]\n"
     ]
    },
    {
     "name": "stdout",
     "output_type": "stream",
     "text": [
      "-----------DOWN!------------\n"
     ]
    },
    {
     "name": "stderr",
     "output_type": "stream",
     "text": [
      "100%|███████████████████████████████████████████████████████████████████████████████████████████████████████████████████████████████████████████| 42840/42840 [06:50<00:00, 104.38it/s]\n"
     ]
    },
    {
     "name": "stdout",
     "output_type": "stream",
     "text": [
      "-----------DOWN!------------\n"
     ]
    },
    {
     "name": "stderr",
     "output_type": "stream",
     "text": [
      "100%|███████████████████████████████████████████████████████████████████████████████████████████████████████████████████████████████████████████| 42840/42840 [06:51<00:00, 104.07it/s]\n"
     ]
    },
    {
     "name": "stdout",
     "output_type": "stream",
     "text": [
      "-----------DOWN!------------\n"
     ]
    },
    {
     "name": "stderr",
     "output_type": "stream",
     "text": [
      "100%|███████████████████████████████████████████████████████████████████████████████████████████████████████████████████████████████████████████| 42840/42840 [06:52<00:00, 103.82it/s]\n"
     ]
    },
    {
     "name": "stdout",
     "output_type": "stream",
     "text": [
      "-----------DOWN!------------\n"
     ]
    },
    {
     "name": "stderr",
     "output_type": "stream",
     "text": [
      "100%|███████████████████████████████████████████████████████████████████████████████████████████████████████████████████████████████████████████| 42840/42840 [06:53<00:00, 103.54it/s]\n"
     ]
    },
    {
     "name": "stdout",
     "output_type": "stream",
     "text": [
      "-----------DOWN!------------\n"
     ]
    },
    {
     "name": "stderr",
     "output_type": "stream",
     "text": [
      "100%|███████████████████████████████████████████████████████████████████████████████████████████████████████████████████████████████████████████| 42840/42840 [06:53<00:00, 103.49it/s]\n"
     ]
    },
    {
     "name": "stdout",
     "output_type": "stream",
     "text": [
      "-----------DOWN!------------\n"
     ]
    },
    {
     "name": "stderr",
     "output_type": "stream",
     "text": [
      "100%|███████████████████████████████████████████████████████████████████████████████████████████████████████████████████████████████████████████| 42840/42840 [06:11<00:00, 115.27it/s]\n"
     ]
    },
    {
     "name": "stdout",
     "output_type": "stream",
     "text": [
      "-----------DOWN!------------\n"
     ]
    },
    {
     "name": "stderr",
     "output_type": "stream",
     "text": [
      "100%|███████████████████████████████████████████████████████████████████████████████████████████████████████████████████████████████████████████| 42840/42840 [06:07<00:00, 116.66it/s]\n"
     ]
    },
    {
     "name": "stdout",
     "output_type": "stream",
     "text": [
      "-----------DOWN!------------\n"
     ]
    },
    {
     "name": "stderr",
     "output_type": "stream",
     "text": [
      "100%|███████████████████████████████████████████████████████████████████████████████████████████████████████████████████████████████████████████| 42840/42840 [06:05<00:00, 117.11it/s]\n"
     ]
    },
    {
     "name": "stdout",
     "output_type": "stream",
     "text": [
      "-----------DOWN!------------\n"
     ]
    },
    {
     "name": "stderr",
     "output_type": "stream",
     "text": [
      "100%|███████████████████████████████████████████████████████████████████████████████████████████████████████████████████████████████████████████| 42840/42840 [06:06<00:00, 116.98it/s]\n"
     ]
    },
    {
     "name": "stdout",
     "output_type": "stream",
     "text": [
      "-----------DOWN!------------\n"
     ]
    },
    {
     "name": "stderr",
     "output_type": "stream",
     "text": [
      "100%|███████████████████████████████████████████████████████████████████████████████████████████████████████████████████████████████████████████| 42840/42840 [06:15<00:00, 114.04it/s]\n"
     ]
    },
    {
     "name": "stdout",
     "output_type": "stream",
     "text": [
      "-----------DOWN!------------\n"
     ]
    },
    {
     "name": "stderr",
     "output_type": "stream",
     "text": [
      "100%|███████████████████████████████████████████████████████████████████████████████████████████████████████████████████████████████████████████| 42840/42840 [06:09<00:00, 116.00it/s]\n"
     ]
    },
    {
     "name": "stdout",
     "output_type": "stream",
     "text": [
      "-----------DOWN!------------\n"
     ]
    },
    {
     "name": "stderr",
     "output_type": "stream",
     "text": [
      "100%|███████████████████████████████████████████████████████████████████████████████████████████████████████████████████████████████████████████| 42840/42840 [06:07<00:00, 116.70it/s]\n"
     ]
    },
    {
     "name": "stdout",
     "output_type": "stream",
     "text": [
      "-----------DOWN!------------\n"
     ]
    },
    {
     "name": "stderr",
     "output_type": "stream",
     "text": [
      "100%|███████████████████████████████████████████████████████████████████████████████████████████████████████████████████████████████████████████| 42840/42840 [06:06<00:00, 116.91it/s]\n"
     ]
    },
    {
     "name": "stdout",
     "output_type": "stream",
     "text": [
      "-----------DOWN!------------\n",
      "************Lead time is: 3************\n"
     ]
    },
    {
     "name": "stderr",
     "output_type": "stream",
     "text": [
      "100%|████████████████████████████████████████████████████████████████████████████████████████████████████████████████████████████████████████████| 42840/42840 [07:09<00:00, 99.82it/s]\n"
     ]
    },
    {
     "name": "stdout",
     "output_type": "stream",
     "text": [
      "-----------DOWN!------------\n"
     ]
    },
    {
     "name": "stderr",
     "output_type": "stream",
     "text": [
      "100%|███████████████████████████████████████████████████████████████████████████████████████████████████████████████████████████████████████████| 42840/42840 [07:04<00:00, 100.82it/s]\n"
     ]
    },
    {
     "name": "stdout",
     "output_type": "stream",
     "text": [
      "-----------DOWN!------------\n"
     ]
    },
    {
     "name": "stderr",
     "output_type": "stream",
     "text": [
      "100%|███████████████████████████████████████████████████████████████████████████████████████████████████████████████████████████████████████████| 42840/42840 [07:04<00:00, 100.96it/s]\n"
     ]
    },
    {
     "name": "stdout",
     "output_type": "stream",
     "text": [
      "-----------DOWN!------------\n"
     ]
    },
    {
     "name": "stderr",
     "output_type": "stream",
     "text": [
      "100%|███████████████████████████████████████████████████████████████████████████████████████████████████████████████████████████████████████████| 42840/42840 [07:04<00:00, 100.90it/s]\n"
     ]
    },
    {
     "name": "stdout",
     "output_type": "stream",
     "text": [
      "-----------DOWN!------------\n"
     ]
    },
    {
     "name": "stderr",
     "output_type": "stream",
     "text": [
      "100%|███████████████████████████████████████████████████████████████████████████████████████████████████████████████████████████████████████████| 42840/42840 [07:05<00:00, 100.77it/s]\n"
     ]
    },
    {
     "name": "stdout",
     "output_type": "stream",
     "text": [
      "-----------DOWN!------------\n"
     ]
    },
    {
     "name": "stderr",
     "output_type": "stream",
     "text": [
      "100%|███████████████████████████████████████████████████████████████████████████████████████████████████████████████████████████████████████████| 42840/42840 [07:04<00:00, 100.98it/s]\n"
     ]
    },
    {
     "name": "stdout",
     "output_type": "stream",
     "text": [
      "-----------DOWN!------------\n"
     ]
    },
    {
     "name": "stderr",
     "output_type": "stream",
     "text": [
      "100%|███████████████████████████████████████████████████████████████████████████████████████████████████████████████████████████████████████████| 42840/42840 [07:05<00:00, 100.80it/s]\n"
     ]
    },
    {
     "name": "stdout",
     "output_type": "stream",
     "text": [
      "-----------DOWN!------------\n"
     ]
    },
    {
     "name": "stderr",
     "output_type": "stream",
     "text": [
      "100%|███████████████████████████████████████████████████████████████████████████████████████████████████████████████████████████████████████████| 42840/42840 [07:05<00:00, 100.69it/s]\n"
     ]
    },
    {
     "name": "stdout",
     "output_type": "stream",
     "text": [
      "-----------DOWN!------------\n"
     ]
    },
    {
     "name": "stderr",
     "output_type": "stream",
     "text": [
      "100%|███████████████████████████████████████████████████████████████████████████████████████████████████████████████████████████████████████████| 42840/42840 [06:26<00:00, 110.85it/s]\n"
     ]
    },
    {
     "name": "stdout",
     "output_type": "stream",
     "text": [
      "-----------DOWN!------------\n"
     ]
    },
    {
     "name": "stderr",
     "output_type": "stream",
     "text": [
      "100%|███████████████████████████████████████████████████████████████████████████████████████████████████████████████████████████████████████████| 42840/42840 [06:24<00:00, 111.41it/s]\n"
     ]
    },
    {
     "name": "stdout",
     "output_type": "stream",
     "text": [
      "-----------DOWN!------------\n"
     ]
    },
    {
     "name": "stderr",
     "output_type": "stream",
     "text": [
      "100%|███████████████████████████████████████████████████████████████████████████████████████████████████████████████████████████████████████████| 42840/42840 [06:23<00:00, 111.58it/s]\n"
     ]
    },
    {
     "name": "stdout",
     "output_type": "stream",
     "text": [
      "-----------DOWN!------------\n"
     ]
    },
    {
     "name": "stderr",
     "output_type": "stream",
     "text": [
      "100%|███████████████████████████████████████████████████████████████████████████████████████████████████████████████████████████████████████████| 42840/42840 [06:24<00:00, 111.28it/s]\n"
     ]
    },
    {
     "name": "stdout",
     "output_type": "stream",
     "text": [
      "-----------DOWN!------------\n"
     ]
    },
    {
     "name": "stderr",
     "output_type": "stream",
     "text": [
      "100%|███████████████████████████████████████████████████████████████████████████████████████████████████████████████████████████████████████████| 42840/42840 [06:34<00:00, 108.73it/s]\n"
     ]
    },
    {
     "name": "stdout",
     "output_type": "stream",
     "text": [
      "-----------DOWN!------------\n"
     ]
    },
    {
     "name": "stderr",
     "output_type": "stream",
     "text": [
      "100%|███████████████████████████████████████████████████████████████████████████████████████████████████████████████████████████████████████████| 42840/42840 [06:28<00:00, 110.13it/s]\n"
     ]
    },
    {
     "name": "stdout",
     "output_type": "stream",
     "text": [
      "-----------DOWN!------------\n"
     ]
    },
    {
     "name": "stderr",
     "output_type": "stream",
     "text": [
      "100%|███████████████████████████████████████████████████████████████████████████████████████████████████████████████████████████████████████████| 42840/42840 [06:24<00:00, 111.29it/s]\n"
     ]
    },
    {
     "name": "stdout",
     "output_type": "stream",
     "text": [
      "-----------DOWN!------------\n"
     ]
    },
    {
     "name": "stderr",
     "output_type": "stream",
     "text": [
      "100%|███████████████████████████████████████████████████████████████████████████████████████████████████████████████████████████████████████████| 42840/42840 [06:24<00:00, 111.37it/s]\n"
     ]
    },
    {
     "name": "stdout",
     "output_type": "stream",
     "text": [
      "-----------DOWN!------------\n",
      "************Lead time is: 7************\n"
     ]
    },
    {
     "name": "stderr",
     "output_type": "stream",
     "text": [
      "100%|████████████████████████████████████████████████████████████████████████████████████████████████████████████████████████████████████████████| 42840/42840 [07:16<00:00, 98.22it/s]\n"
     ]
    },
    {
     "name": "stdout",
     "output_type": "stream",
     "text": [
      "-----------DOWN!------------\n"
     ]
    },
    {
     "name": "stderr",
     "output_type": "stream",
     "text": [
      "100%|████████████████████████████████████████████████████████████████████████████████████████████████████████████████████████████████████████████| 42840/42840 [07:11<00:00, 99.31it/s]\n"
     ]
    },
    {
     "name": "stdout",
     "output_type": "stream",
     "text": [
      "-----------DOWN!------------\n"
     ]
    },
    {
     "name": "stderr",
     "output_type": "stream",
     "text": [
      "100%|████████████████████████████████████████████████████████████████████████████████████████████████████████████████████████████████████████████| 42840/42840 [07:11<00:00, 99.26it/s]\n"
     ]
    },
    {
     "name": "stdout",
     "output_type": "stream",
     "text": [
      "-----------DOWN!------------\n"
     ]
    },
    {
     "name": "stderr",
     "output_type": "stream",
     "text": [
      "100%|████████████████████████████████████████████████████████████████████████████████████████████████████████████████████████████████████████████| 42840/42840 [07:11<00:00, 99.30it/s]\n"
     ]
    },
    {
     "name": "stdout",
     "output_type": "stream",
     "text": [
      "-----------DOWN!------------\n"
     ]
    },
    {
     "name": "stderr",
     "output_type": "stream",
     "text": [
      "100%|████████████████████████████████████████████████████████████████████████████████████████████████████████████████████████████████████████████| 42840/42840 [07:11<00:00, 99.23it/s]\n"
     ]
    },
    {
     "name": "stdout",
     "output_type": "stream",
     "text": [
      "-----------DOWN!------------\n"
     ]
    },
    {
     "name": "stderr",
     "output_type": "stream",
     "text": [
      "100%|████████████████████████████████████████████████████████████████████████████████████████████████████████████████████████████████████████████| 42840/42840 [07:11<00:00, 99.26it/s]\n"
     ]
    },
    {
     "name": "stdout",
     "output_type": "stream",
     "text": [
      "-----------DOWN!------------\n"
     ]
    },
    {
     "name": "stderr",
     "output_type": "stream",
     "text": [
      "100%|████████████████████████████████████████████████████████████████████████████████████████████████████████████████████████████████████████████| 42840/42840 [07:11<00:00, 99.28it/s]\n"
     ]
    },
    {
     "name": "stdout",
     "output_type": "stream",
     "text": [
      "-----------DOWN!------------\n"
     ]
    },
    {
     "name": "stderr",
     "output_type": "stream",
     "text": [
      "100%|████████████████████████████████████████████████████████████████████████████████████████████████████████████████████████████████████████████| 42840/42840 [07:12<00:00, 99.12it/s]\n"
     ]
    },
    {
     "name": "stdout",
     "output_type": "stream",
     "text": [
      "-----------DOWN!------------\n"
     ]
    },
    {
     "name": "stderr",
     "output_type": "stream",
     "text": [
      "100%|███████████████████████████████████████████████████████████████████████████████████████████████████████████████████████████████████████████| 42840/42840 [06:30<00:00, 109.63it/s]\n"
     ]
    },
    {
     "name": "stdout",
     "output_type": "stream",
     "text": [
      "-----------DOWN!------------\n"
     ]
    },
    {
     "name": "stderr",
     "output_type": "stream",
     "text": [
      "100%|███████████████████████████████████████████████████████████████████████████████████████████████████████████████████████████████████████████| 42840/42840 [06:28<00:00, 110.39it/s]\n"
     ]
    },
    {
     "name": "stdout",
     "output_type": "stream",
     "text": [
      "-----------DOWN!------------\n"
     ]
    },
    {
     "name": "stderr",
     "output_type": "stream",
     "text": [
      "100%|███████████████████████████████████████████████████████████████████████████████████████████████████████████████████████████████████████████| 42840/42840 [06:29<00:00, 109.97it/s]\n"
     ]
    },
    {
     "name": "stdout",
     "output_type": "stream",
     "text": [
      "-----------DOWN!------------\n"
     ]
    },
    {
     "name": "stderr",
     "output_type": "stream",
     "text": [
      "100%|███████████████████████████████████████████████████████████████████████████████████████████████████████████████████████████████████████████| 42840/42840 [06:30<00:00, 109.68it/s]\n"
     ]
    },
    {
     "name": "stdout",
     "output_type": "stream",
     "text": [
      "-----------DOWN!------------\n"
     ]
    },
    {
     "name": "stderr",
     "output_type": "stream",
     "text": [
      "100%|███████████████████████████████████████████████████████████████████████████████████████████████████████████████████████████████████████████| 42840/42840 [06:38<00:00, 107.37it/s]\n"
     ]
    },
    {
     "name": "stdout",
     "output_type": "stream",
     "text": [
      "-----------DOWN!------------\n"
     ]
    },
    {
     "name": "stderr",
     "output_type": "stream",
     "text": [
      "100%|███████████████████████████████████████████████████████████████████████████████████████████████████████████████████████████████████████████| 42840/42840 [06:33<00:00, 108.83it/s]\n"
     ]
    },
    {
     "name": "stdout",
     "output_type": "stream",
     "text": [
      "-----------DOWN!------------\n"
     ]
    },
    {
     "name": "stderr",
     "output_type": "stream",
     "text": [
      "100%|███████████████████████████████████████████████████████████████████████████████████████████████████████████████████████████████████████████| 42840/42840 [06:30<00:00, 109.70it/s]\n"
     ]
    },
    {
     "name": "stdout",
     "output_type": "stream",
     "text": [
      "-----------DOWN!------------\n"
     ]
    },
    {
     "name": "stderr",
     "output_type": "stream",
     "text": [
      "100%|███████████████████████████████████████████████████████████████████████████████████████████████████████████████████████████████████████████| 42840/42840 [06:30<00:00, 109.71it/s]\n"
     ]
    },
    {
     "name": "stdout",
     "output_type": "stream",
     "text": [
      "-----------DOWN!------------\n",
      "************Lead time is: 14************\n"
     ]
    },
    {
     "name": "stderr",
     "output_type": "stream",
     "text": [
      "100%|████████████████████████████████████████████████████████████████████████████████████████████████████████████████████████████████████████████| 42840/42840 [07:28<00:00, 95.55it/s]\n"
     ]
    },
    {
     "name": "stdout",
     "output_type": "stream",
     "text": [
      "-----------DOWN!------------\n"
     ]
    },
    {
     "name": "stderr",
     "output_type": "stream",
     "text": [
      "100%|████████████████████████████████████████████████████████████████████████████████████████████████████████████████████████████████████████████| 42840/42840 [07:21<00:00, 96.96it/s]\n"
     ]
    },
    {
     "name": "stdout",
     "output_type": "stream",
     "text": [
      "-----------DOWN!------------\n"
     ]
    },
    {
     "name": "stderr",
     "output_type": "stream",
     "text": [
      "100%|████████████████████████████████████████████████████████████████████████████████████████████████████████████████████████████████████████████| 42840/42840 [07:22<00:00, 96.84it/s]\n"
     ]
    },
    {
     "name": "stdout",
     "output_type": "stream",
     "text": [
      "-----------DOWN!------------\n"
     ]
    },
    {
     "name": "stderr",
     "output_type": "stream",
     "text": [
      "100%|████████████████████████████████████████████████████████████████████████████████████████████████████████████████████████████████████████████| 42840/42840 [07:21<00:00, 96.97it/s]\n"
     ]
    },
    {
     "name": "stdout",
     "output_type": "stream",
     "text": [
      "-----------DOWN!------------\n"
     ]
    },
    {
     "name": "stderr",
     "output_type": "stream",
     "text": [
      "100%|████████████████████████████████████████████████████████████████████████████████████████████████████████████████████████████████████████████| 42840/42840 [07:22<00:00, 96.77it/s]\n"
     ]
    },
    {
     "name": "stdout",
     "output_type": "stream",
     "text": [
      "-----------DOWN!------------\n"
     ]
    },
    {
     "name": "stderr",
     "output_type": "stream",
     "text": [
      "100%|████████████████████████████████████████████████████████████████████████████████████████████████████████████████████████████████████████████| 42840/42840 [07:23<00:00, 96.70it/s]\n"
     ]
    },
    {
     "name": "stdout",
     "output_type": "stream",
     "text": [
      "-----------DOWN!------------\n"
     ]
    },
    {
     "name": "stderr",
     "output_type": "stream",
     "text": [
      "100%|████████████████████████████████████████████████████████████████████████████████████████████████████████████████████████████████████████████| 42840/42840 [07:23<00:00, 96.67it/s]\n"
     ]
    },
    {
     "name": "stdout",
     "output_type": "stream",
     "text": [
      "-----------DOWN!------------\n"
     ]
    },
    {
     "name": "stderr",
     "output_type": "stream",
     "text": [
      "100%|████████████████████████████████████████████████████████████████████████████████████████████████████████████████████████████████████████████| 42840/42840 [07:23<00:00, 96.66it/s]\n"
     ]
    },
    {
     "name": "stdout",
     "output_type": "stream",
     "text": [
      "-----------DOWN!------------\n"
     ]
    },
    {
     "name": "stderr",
     "output_type": "stream",
     "text": [
      "100%|███████████████████████████████████████████████████████████████████████████████████████████████████████████████████████████████████████████| 42840/42840 [06:40<00:00, 106.88it/s]\n"
     ]
    },
    {
     "name": "stdout",
     "output_type": "stream",
     "text": [
      "-----------DOWN!------------\n"
     ]
    },
    {
     "name": "stderr",
     "output_type": "stream",
     "text": [
      "100%|███████████████████████████████████████████████████████████████████████████████████████████████████████████████████████████████████████████| 42840/42840 [06:41<00:00, 106.80it/s]\n"
     ]
    },
    {
     "name": "stdout",
     "output_type": "stream",
     "text": [
      "-----------DOWN!------------\n"
     ]
    },
    {
     "name": "stderr",
     "output_type": "stream",
     "text": [
      "100%|███████████████████████████████████████████████████████████████████████████████████████████████████████████████████████████████████████████| 42840/42840 [06:41<00:00, 106.66it/s]\n"
     ]
    },
    {
     "name": "stdout",
     "output_type": "stream",
     "text": [
      "-----------DOWN!------------\n"
     ]
    },
    {
     "name": "stderr",
     "output_type": "stream",
     "text": [
      "100%|███████████████████████████████████████████████████████████████████████████████████████████████████████████████████████████████████████████| 42840/42840 [06:39<00:00, 107.11it/s]\n"
     ]
    },
    {
     "name": "stdout",
     "output_type": "stream",
     "text": [
      "-----------DOWN!------------\n"
     ]
    },
    {
     "name": "stderr",
     "output_type": "stream",
     "text": [
      "100%|███████████████████████████████████████████████████████████████████████████████████████████████████████████████████████████████████████████| 42840/42840 [06:45<00:00, 105.62it/s]\n"
     ]
    },
    {
     "name": "stdout",
     "output_type": "stream",
     "text": [
      "-----------DOWN!------------\n"
     ]
    },
    {
     "name": "stderr",
     "output_type": "stream",
     "text": [
      "100%|███████████████████████████████████████████████████████████████████████████████████████████████████████████████████████████████████████████| 42840/42840 [06:40<00:00, 106.91it/s]\n"
     ]
    },
    {
     "name": "stdout",
     "output_type": "stream",
     "text": [
      "-----------DOWN!------------\n"
     ]
    },
    {
     "name": "stderr",
     "output_type": "stream",
     "text": [
      "100%|███████████████████████████████████████████████████████████████████████████████████████████████████████████████████████████████████████████| 42840/42840 [06:39<00:00, 107.24it/s]\n"
     ]
    },
    {
     "name": "stdout",
     "output_type": "stream",
     "text": [
      "-----------DOWN!------------\n"
     ]
    },
    {
     "name": "stderr",
     "output_type": "stream",
     "text": [
      "100%|███████████████████████████████████████████████████████████████████████████████████████████████████████████████████████████████████████████| 42840/42840 [06:39<00:00, 107.32it/s]\n"
     ]
    },
    {
     "name": "stdout",
     "output_type": "stream",
     "text": [
      "-----------DOWN!------------\n"
     ]
    }
   ],
   "source": [
    "#lead_time = 1\n",
    "fcst365, actl365 = {},{}\n",
    "for lead_time in [1,3, 7,14]:\n",
    "    print(f\"************Lead time is: {lead_time}************\")\n",
    "    gap1, gap2 = 365,1548\n",
    "    col = ['lgb_base', 'lgb_bu', 'lgb_td', 'lgb_mint', 'ets_base', 'ets_bu','ets_td', 'ets_mint']\n",
    "    trtsy = tr_ts['y']\n",
    "    trtry = tr_tr['y']\n",
    "    trInvtSim = []\n",
    "    for i in col:\n",
    "        df = loop(fcst = trtsy, truth = trtsy, residual = trtry-trtry, NAME = f'tr_{i}', df_list = [],L_=lead_time, gap1 = gap1, gap2 = gap2)\n",
    "        trInvtSim.append(df[['name','ot_90','ot_95','ot_99']])\n",
    "    actl365_L = pd.concat([trInvtSim[i] for i in range(8)])\n",
    "    actl365_L[['ot_90','ot_95','ot_99']] = actl365_L[['ot_90','ot_95','ot_99']].clip(lower=0)\n",
    "    actl365_L.to_pickle(f\"365TRactual_L{lead_time}.pkl\")\n",
    "    #pd.read_pickle(\"365TRactual.pkl\")\n",
    "    trtsy = tr_ts['y']\n",
    "    trtry = tr_tr['y']\n",
    "    trInvtSim = []\n",
    "    for i in col:\n",
    "        df = loop(fcst = tr_ts[i], truth = trtsy, residual = tr_tr[i]-trtry, NAME = f'tr_{i}', df_list = [],\n",
    "              L_=lead_time, gap1 = gap1, gap2 = gap2)\n",
    "        trInvtSim.append(df[['name','ot_90','ot_95','ot_99']])\n",
    "    fcst365_L = pd.concat([trInvtSim[i] for i in range(8)])\n",
    "    fcst365_L[['ot_90','ot_95','ot_99']] = fcst365_L[['ot_90','ot_95','ot_99']].clip(lower=0)\n",
    "    fcst365_L.to_pickle(f\"365TRfcst_L{lead_time}.pkl\")\n",
    "    \n",
    "#actl365_L.to_pickle(f'365TRactual_L{lead_time}.pkl')\n",
    "#fcst365_L.to_pickle(f'365TRfcst_L{lead_time}.pkl')"
   ]
  },
  {
   "cell_type": "markdown",
   "id": "a1ed2098-6590-462e-80b7-7f9455d8e690",
   "metadata": {
    "tags": []
   },
   "source": [
    "## Inventory Reconciliation"
   ]
  },
  {
   "cell_type": "code",
   "execution_count": 2,
   "id": "4cd19e47-3347-40d2-adbd-17be228f3885",
   "metadata": {},
   "outputs": [],
   "source": [
    "path1  = 'C:/PycharmProjects/yjz/Extension for hts/JayCode/Models/'\n",
    "import warnings\n",
    "warnings.simplefilter(\"ignore\")\n",
    "from Invtsim import *\n",
    "import numpy as np\n",
    "import pandas as pd\n",
    "from scipy.stats import norm\n",
    "from hierarchicalforecast.core import HierarchicalReconciliation\n",
    "from hierarchicalforecast.methods import BottomUp, TopDown, MinTrace\n",
    "from tqdm import tqdm\n",
    "\n",
    "S       = pd.read_pickle(f\"{path1}721S_df.pkl\")\n",
    "tags    = pd.read_pickle(f\"{path1}tags.bin\")\n",
    "lp = {\"l10\" :(0,3049),\"l11\":(3049,3049+9147),\"l12\":(3049+9147,3049+9147+30490)}\n",
    "\n",
    "\n",
    "s = pd.concat([S.iloc[lp[i][0]:lp[i][1],:] for i in [\"l10\",\"l11\",\"l12\"]]) \n",
    "taglist = ['total/cat_id/dept_id/item_id',\n",
    "           'total/state_id/cat_id/dept_id/item_id',\n",
    "           'total/state_id/store_id/cat_id/dept_id/item_id']\n",
    "tags_ = {i: tags[i] for i in taglist}\n",
    "\n",
    "gap1    = 365\n",
    "gap2    = 1548\n",
    "train   = pd.read_pickle(f\"{path1}721past_1913.pkl\").reset_index(drop=True)\n",
    "test    = pd.read_pickle(f\"{path1}721future_28.pkl\").reset_index(drop=True)\n",
    "\n",
    "\n",
    "ts_id   = test[['unique_id', 'ds']]\n",
    "tr_id   = train[['unique_id', 'ds']]\n",
    "trts_id = tr_id[tr_id['ds']> gap2].reset_index(drop=True)\n",
    "\n",
    "ts_id  = pd.concat([ts_id.iloc[lp[i][0]*28:lp[i][1]*28,:] for i in [\"l10\",\"l11\",\"l12\"]])\n",
    "tr_id  = pd.concat([trts_id.iloc[lp[i][0]*365:lp[i][1]*365,:] for i in [\"l10\",\"l11\",\"l12\"]])\n",
    "\n",
    "#trtr_id = tr_id[tr_id['ds']<= gap2]"
   ]
  },
  {
   "cell_type": "markdown",
   "id": "9bfc6aa7-5594-4133-8567-85ee932d2a37",
   "metadata": {
    "tags": []
   },
   "source": [
    "## Order MinT"
   ]
  },
  {
   "cell_type": "code",
   "execution_count": 3,
   "id": "9125ec81-baae-49a3-ad0b-ad7433225a4d",
   "metadata": {
    "scrolled": true,
    "tags": []
   },
   "outputs": [
    {
     "name": "stderr",
     "output_type": "stream",
     "text": [
      "100%|████████████████████████████████████████████████████████████████████████████████████████████████████████████████████████████████████████████████| 8/8 [3:43:12<00:00, 1674.01s/it]"
     ]
    },
    {
     "name": "stdout",
     "output_type": "stream",
     "text": [
      "Wall time: 3h 44min 48s\n"
     ]
    },
    {
     "name": "stderr",
     "output_type": "stream",
     "text": [
      "\n"
     ]
    }
   ],
   "source": [
    "%%time\n",
    "lead_time = 1\n",
    "lgbs    =  pd.read_pickle(f\"721lgbInvtSim_L{lead_time}.pkl\")\n",
    "etss    = pd.read_pickle(f\"721etsInvtSim_L{lead_time}.pkl\")\n",
    "MMint   = pd.concat([lgbs,etss])[['name','ot_90','ot_95','ot_99']]\n",
    "MMint   = pd.concat([MMint[MMint['name'] == i].iloc[ts_id.index,:] for i in  ['lgb_base', 'lgb_bu', 'lgb_td', 'lgb_mint',\n",
    "                                                                              'ets_base', 'ets_bu', 'ets_td', 'ets_mint']])\n",
    "\n",
    "tr_fo   = pd.read_pickle(f\"721_365TRfcst_L{lead_time}.pkl\") ########################################################jiushuo\n",
    "tr_do   = pd.read_pickle(f\"721_365TRactual_L{lead_time}.pkl\").iloc[:,:2]################################################\n",
    "tr_do.columns = ['name','y']\n",
    "tr365   = pd.concat([tr_do, tr_fo[['ot_90','ot_95','ot_99']]],axis=1)\n",
    "tr365   = pd.concat([tr365[tr365['name'] == i].iloc[tr_id.index,:] for i in  ['tr_lgb_base', 'tr_lgb_bu', 'tr_lgb_td', 'tr_lgb_mint',\n",
    "                                                                              'tr_ets_base', 'tr_ets_bu', 'tr_ets_td', 'tr_ets_mint']])\n",
    "\n",
    "on   = ['ot_90','ot_95','ot_99']\n",
    "nn = ['lgb_base', 'lgb_bu', 'lgb_td', 'lgb_mint', 'ets_base', 'ets_bu', 'ets_td', 'ets_mint']\n",
    "#nn = ['lgb_base', 'lgb_mint', 'ets_base',  'ets_mint']\n",
    "minimumtrace = [MinTrace(method = 'mint_shrink')]#, nonnegative = True\n",
    "mint = HierarchicalReconciliation(reconcilers=minimumtrace)\n",
    "MINTo = []\n",
    "for i in tqdm(range(len(nn))):\n",
    "    lgb_omt = pd.concat([ts_id, MMint[MMint['name'] == f'{nn[i]}'][on]],axis=1)\n",
    "    tr_order= pd.concat([tr_id.reset_index(drop=True), \n",
    "                         tr365[tr365['name'] == f\"tr_{nn[i]}\"].reset_index(drop=True)],axis=1).drop(columns = ['name'])\n",
    "    subset = []\n",
    "    for j in on:\n",
    "        subset.append(mint.reconcile(Y_hat_df=lgb_omt[['unique_id','ds',j]], S=s, tags=tags_,  Y_df= tr_order[['unique_id','ds','y',j]]).iloc[:,-1:])\n",
    "    MINTo.append(pd.concat(subset, axis=1))"
   ]
  },
  {
   "cell_type": "code",
   "execution_count": 9,
   "id": "8beebdd5-e392-4aca-93e2-18ec7a2a0931",
   "metadata": {},
   "outputs": [],
   "source": [
    "method = \"shrink\"#.reset_index(drop=True)\n",
    "MinT = pd.concat([MMint.loc[MMint.iloc[:,0].isin(nn),'name'], pd.concat(MINTo)], axis = 1)\n",
    "col = MinT.columns[-3:]\n",
    "MinT[col] =MinT[col].clip(lower=0)\n",
    "MinT.to_pickle(f\"721OrderMinT_{method}_L{lead_time}.pkl\")"
   ]
  },
  {
   "cell_type": "code",
   "execution_count": 10,
   "id": "0399ab77-7f11-4583-a998-9086f36bb77e",
   "metadata": {},
   "outputs": [
    {
     "data": {
      "text/html": [
       "<div>\n",
       "<style scoped>\n",
       "    .dataframe tbody tr th:only-of-type {\n",
       "        vertical-align: middle;\n",
       "    }\n",
       "\n",
       "    .dataframe tbody tr th {\n",
       "        vertical-align: top;\n",
       "    }\n",
       "\n",
       "    .dataframe thead th {\n",
       "        text-align: right;\n",
       "    }\n",
       "</style>\n",
       "<table border=\"1\" class=\"dataframe\">\n",
       "  <thead>\n",
       "    <tr style=\"text-align: right;\">\n",
       "      <th></th>\n",
       "      <th>name</th>\n",
       "      <th>ot_90/MinTrace_method-mint_shrink</th>\n",
       "      <th>ot_95/MinTrace_method-mint_shrink</th>\n",
       "      <th>ot_99/MinTrace_method-mint_shrink</th>\n",
       "    </tr>\n",
       "  </thead>\n",
       "  <tbody>\n",
       "    <tr>\n",
       "      <th>0</th>\n",
       "      <td>lgb_base</td>\n",
       "      <td>0.000000</td>\n",
       "      <td>0.000000</td>\n",
       "      <td>0.000000</td>\n",
       "    </tr>\n",
       "    <tr>\n",
       "      <th>1</th>\n",
       "      <td>lgb_base</td>\n",
       "      <td>4.034945</td>\n",
       "      <td>3.669395</td>\n",
       "      <td>3.262308</td>\n",
       "    </tr>\n",
       "    <tr>\n",
       "      <th>2</th>\n",
       "      <td>lgb_base</td>\n",
       "      <td>4.130362</td>\n",
       "      <td>4.116576</td>\n",
       "      <td>4.111039</td>\n",
       "    </tr>\n",
       "    <tr>\n",
       "      <th>3</th>\n",
       "      <td>lgb_base</td>\n",
       "      <td>7.471788</td>\n",
       "      <td>7.478928</td>\n",
       "      <td>7.493766</td>\n",
       "    </tr>\n",
       "    <tr>\n",
       "      <th>4</th>\n",
       "      <td>lgb_base</td>\n",
       "      <td>0.867258</td>\n",
       "      <td>0.877713</td>\n",
       "      <td>0.890211</td>\n",
       "    </tr>\n",
       "    <tr>\n",
       "      <th>...</th>\n",
       "      <td>...</td>\n",
       "      <td>...</td>\n",
       "      <td>...</td>\n",
       "      <td>...</td>\n",
       "    </tr>\n",
       "    <tr>\n",
       "      <th>1195203</th>\n",
       "      <td>ets_mint</td>\n",
       "      <td>0.030040</td>\n",
       "      <td>0.029355</td>\n",
       "      <td>0.028581</td>\n",
       "    </tr>\n",
       "    <tr>\n",
       "      <th>1195204</th>\n",
       "      <td>ets_mint</td>\n",
       "      <td>0.038120</td>\n",
       "      <td>0.035747</td>\n",
       "      <td>0.033577</td>\n",
       "    </tr>\n",
       "    <tr>\n",
       "      <th>1195205</th>\n",
       "      <td>ets_mint</td>\n",
       "      <td>0.055781</td>\n",
       "      <td>0.054834</td>\n",
       "      <td>0.053963</td>\n",
       "    </tr>\n",
       "    <tr>\n",
       "      <th>1195206</th>\n",
       "      <td>ets_mint</td>\n",
       "      <td>0.017830</td>\n",
       "      <td>0.022264</td>\n",
       "      <td>0.026514</td>\n",
       "    </tr>\n",
       "    <tr>\n",
       "      <th>1195207</th>\n",
       "      <td>ets_mint</td>\n",
       "      <td>0.000897</td>\n",
       "      <td>0.001019</td>\n",
       "      <td>0.001109</td>\n",
       "    </tr>\n",
       "  </tbody>\n",
       "</table>\n",
       "<p>9561664 rows × 4 columns</p>\n",
       "</div>"
      ],
      "text/plain": [
       "             name  ot_90/MinTrace_method-mint_shrink  \\\n",
       "0        lgb_base                           0.000000   \n",
       "1        lgb_base                           4.034945   \n",
       "2        lgb_base                           4.130362   \n",
       "3        lgb_base                           7.471788   \n",
       "4        lgb_base                           0.867258   \n",
       "...           ...                                ...   \n",
       "1195203  ets_mint                           0.030040   \n",
       "1195204  ets_mint                           0.038120   \n",
       "1195205  ets_mint                           0.055781   \n",
       "1195206  ets_mint                           0.017830   \n",
       "1195207  ets_mint                           0.000897   \n",
       "\n",
       "         ot_95/MinTrace_method-mint_shrink  ot_99/MinTrace_method-mint_shrink  \n",
       "0                                 0.000000                           0.000000  \n",
       "1                                 3.669395                           3.262308  \n",
       "2                                 4.116576                           4.111039  \n",
       "3                                 7.478928                           7.493766  \n",
       "4                                 0.877713                           0.890211  \n",
       "...                                    ...                                ...  \n",
       "1195203                           0.029355                           0.028581  \n",
       "1195204                           0.035747                           0.033577  \n",
       "1195205                           0.054834                           0.053963  \n",
       "1195206                           0.022264                           0.026514  \n",
       "1195207                           0.001019                           0.001109  \n",
       "\n",
       "[9561664 rows x 4 columns]"
      ]
     },
     "execution_count": 10,
     "metadata": {},
     "output_type": "execute_result"
    }
   ],
   "source": [
    "MinT"
   ]
  },
  {
   "cell_type": "markdown",
   "id": "1a056352-8a79-4098-8130-fa9caeeba5be",
   "metadata": {
    "jp-MarkdownHeadingCollapsed": true,
    "tags": []
   },
   "source": [
    "### L3"
   ]
  },
  {
   "cell_type": "code",
   "execution_count": null,
   "id": "e44b7529-22d5-46bc-9175-5db697723bff",
   "metadata": {},
   "outputs": [],
   "source": [
    "%%time\n",
    "lead_time = 3\n",
    "method = \"shrink\"\n",
    "lgbs    =  pd.read_pickle(f\"lgbInvtSim_L{lead_time}.pkl\")\n",
    "etss    = pd.read_pickle(f\"etsInvtSim_L{lead_time}.pkl\")\n",
    "MMint   = pd.concat([lgbs,etss])[['name','ot_90','ot_95','ot_99']]\n",
    "MMint   = pd.concat([MMint[MMint['name'] == i].iloc[ts_id.index,:] for i in  ['lgb_base', 'lgb_mint', 'ets_base',  'ets_mint']])\n",
    "\n",
    "tr_fo   = pd.read_pickle(f\"365TRfcst_L{lead_time}.pkl\") ########################################################jiushuo\n",
    "tr_do   = pd.read_pickle(f\"365TRactual_L{lead_time}.pkl\").iloc[:,:2]################################################\n",
    "tr_do.columns = ['name','y']\n",
    "tr365   = pd.concat([tr_do, tr_fo[['ot_90','ot_95','ot_99']]],axis=1)\n",
    "tr365   = pd.concat([tr365[tr365['name'] == i].iloc[tr_id.index,:] for i in  ['tr_lgb_base', 'tr_lgb_mint', 'tr_ets_base',  'tr_ets_mint']])\n",
    "\n",
    "on   = ['ot_90','ot_95','ot_99']\n",
    "#nn = ['lgb_base', 'lgb_bu', 'lgb_td', 'lgb_mint', 'ets_base', 'ets_bu', 'ets_td', 'ets_mint']\n",
    "nn = ['lgb_base', 'lgb_mint', 'ets_base',  'ets_mint']\n",
    "minimumtrace = [MinTrace(method = 'mint_shrink', nonnegative = True)]\n",
    "mint = HierarchicalReconciliation(reconcilers=minimumtrace)\n",
    "MINTo = []\n",
    "for i in tqdm(range(len(nn))):\n",
    "    lgb_omt = pd.concat([ts_id, MMint[MMint['name'] == f'{nn[i]}'][on]],axis=1)\n",
    "    tr_order= pd.concat([tr_id.reset_index(drop=True), \n",
    "                         tr365[tr365['name'] == f\"tr_{nn[i]}\"].reset_index(drop=True)],axis=1).drop(columns = ['name'])\n",
    "    subset = []\n",
    "    for j in on:\n",
    "        subset.append(mint.reconcile(Y_hat_df=lgb_omt[['unique_id','ds',j]], \n",
    "                                     S=s, tags=tags_,  Y_df= tr_order[['unique_id','ds','y',j]]).iloc[:,-1:])\n",
    "    MINTo.append(pd.concat(subset, axis=1))\n",
    "\n",
    "MinT = pd.concat([MMint.loc[MMint.iloc[:,0].isin(nn),'name'].reset_index(drop=True), pd.concat(MINTo)], axis = 1)\n",
    "col = MinT.columns[-3:]\n",
    "MinT[col] =MinT[col].clip(lower=0)\n",
    "MinT.to_pickle(f\"OrderMinT_L{lead_time}_{method}.pkl\")"
   ]
  },
  {
   "cell_type": "markdown",
   "id": "d09e7a6d-b2d5-496b-a7b9-6b66bb8ab54f",
   "metadata": {
    "jp-MarkdownHeadingCollapsed": true,
    "tags": []
   },
   "source": [
    "### L7"
   ]
  },
  {
   "cell_type": "code",
   "execution_count": null,
   "id": "7ee1217e-e346-4d0c-8914-0ef24eada8f0",
   "metadata": {},
   "outputs": [],
   "source": [
    "%%time\n",
    "lead_time = 7\n",
    "method = \"shrink\"\n",
    "lgbs    =  pd.read_pickle(f\"lgbInvtSim_L{lead_time}.pkl\")\n",
    "etss    = pd.read_pickle(f\"etsInvtSim_L{lead_time}.pkl\")\n",
    "MMint   = pd.concat([lgbs,etss])[['name','ot_90','ot_95','ot_99']]\n",
    "MMint   = pd.concat([MMint[MMint['name'] == i].iloc[ts_id.index,:] for i in  ['lgb_base', 'lgb_mint', 'ets_base',  'ets_mint']])\n",
    "\n",
    "tr_fo   = pd.read_pickle(f\"365TRfcst_L{lead_time}.pkl\") ########################################################jiushuo\n",
    "tr_do   = pd.read_pickle(f\"365TRactual_L{lead_time}.pkl\").iloc[:,:2]################################################\n",
    "tr_do.columns = ['name','y']\n",
    "tr365   = pd.concat([tr_do, tr_fo[['ot_90','ot_95','ot_99']]],axis=1)\n",
    "tr365   = pd.concat([tr365[tr365['name'] == i].iloc[tr_id.index,:] for i in  ['tr_lgb_base', 'tr_lgb_mint', 'tr_ets_base',  'tr_ets_mint']])\n",
    "\n",
    "on   = ['ot_90','ot_95','ot_99']\n",
    "#nn = ['lgb_base', 'lgb_bu', 'lgb_td', 'lgb_mint', 'ets_base', 'ets_bu', 'ets_td', 'ets_mint']\n",
    "nn = ['lgb_base', 'lgb_mint', 'ets_base',  'ets_mint']\n",
    "minimumtrace = [MinTrace(method = 'mint_shrink', nonnegative = True)]\n",
    "mint = HierarchicalReconciliation(reconcilers=minimumtrace)\n",
    "MINTo = []\n",
    "for i in tqdm(range(len(nn))):\n",
    "    lgb_omt = pd.concat([ts_id, MMint[MMint['name'] == f'{nn[i]}'][on]],axis=1)\n",
    "    tr_order= pd.concat([tr_id.reset_index(drop=True), \n",
    "                         tr365[tr365['name'] == f\"tr_{nn[i]}\"].reset_index(drop=True)],axis=1).drop(columns = ['name'])\n",
    "    subset = []\n",
    "    for j in on:\n",
    "        subset.append(mint.reconcile(Y_hat_df=lgb_omt[['unique_id','ds',j]], S=s, tags=tags_,  \n",
    "                                     Y_df= tr_order[['unique_id','ds','y',j]]).iloc[:,-1:])\n",
    "    MINTo.append(pd.concat(subset, axis=1))\n",
    "\n",
    "MinT = pd.concat([MMint.loc[MMint.iloc[:,0].isin(nn),'name'].reset_index(drop=True), pd.concat(MINTo)], axis = 1)\n",
    "col = MinT.columns[-3:]\n",
    "MinT[col] =MinT[col].clip(lower=0)\n",
    "MinT.to_pickle(f\"OrderMinT_L{lead_time}_{method}.pkl\")"
   ]
  },
  {
   "cell_type": "markdown",
   "id": "351f01d5-7038-492d-a137-8d6a9710e7b9",
   "metadata": {
    "tags": []
   },
   "source": [
    "## Fixed Order Simulation:"
   ]
  },
  {
   "cell_type": "code",
   "execution_count": 3,
   "id": "70520f11-61fd-41fb-b7f2-6ac16e65bbc9",
   "metadata": {},
   "outputs": [
    {
     "name": "stdout",
     "output_type": "stream",
     "text": [
      "Looking in indexes: https://mirrors.tuna.tsinghua.edu.cn/pypi/web/simple\n",
      "Requirement already satisfied: numpy<2 in c:\\py\\anaconda3\\lib\\site-packages (1.26.4)\n",
      "Note: you may need to restart the kernel to use updated packages.\n"
     ]
    }
   ],
   "source": [
    "pip install \"numpy<2\" --upgrade --user -i https://mirrors.tuna.tsinghua.edu.cn/pypi/web/simple numpy"
   ]
  },
  {
   "cell_type": "code",
   "execution_count": 11,
   "id": "ac1246c4-bf00-420d-bae0-84fe3d999979",
   "metadata": {},
   "outputs": [],
   "source": [
    "path1  = 'C:/PycharmProjects/yjz/Extension for hts/JayCode/Models/'\n",
    "from Invtsim import *\n",
    "import numpy as np\n",
    "import pandas as pd\n",
    "from scipy.stats import norm\n",
    "import warnings\n",
    "warnings.simplefilter(\"ignore\")\n",
    "from tqdm import tqdm\n",
    "def loop2( truth, NAME:str, fcst, residual = 0,\n",
    "         gap1: int = 28, gap2:int = 1913,\n",
    "         n = None, \n",
    "         df_list:list = [], \n",
    "         L_ = 3):\n",
    "    if n == None:\n",
    "        n = int(len(truth)/gap1)\n",
    "    for i in tqdm(range(n)):\n",
    "        fcst_1  = fcst[i*gap1:(i+1)*gap1]\n",
    "        truth_1 = truth[i*gap1:(i+1)*gap1]\n",
    "        #res_1   = residual[i*gap2:(i+1)*gap2]\n",
    "        df = InvtSim(fcst = 0, truth = truth_1, residual = residual, name = NAME, L=L_)\n",
    "        res = df.ob_all_t_fixedcase(fixed_order = fcst_1)\n",
    "        df_list.append(res.reset_index(drop = True))\n",
    "    print(\"-----------DOWN!------------\")\n",
    "    return pd.concat(df_list).reset_index(drop=True)"
   ]
  },
  {
   "cell_type": "markdown",
   "id": "85e48f24-4b6b-441e-b2e9-3c11c5b59e99",
   "metadata": {
    "tags": []
   },
   "source": [
    "### L1"
   ]
  },
  {
   "cell_type": "code",
   "execution_count": 12,
   "id": "67f22216-f1c7-4dd5-b7f5-837b0e1aca91",
   "metadata": {
    "scrolled": true,
    "tags": []
   },
   "outputs": [
    {
     "name": "stderr",
     "output_type": "stream",
     "text": [
      "100%|███████████████████████████████████████████████████████████████████████████████████████████████████████████████████████████████████████████| 42686/42686 [00:52<00:00, 819.75it/s]\n"
     ]
    },
    {
     "name": "stdout",
     "output_type": "stream",
     "text": [
      "-----------DOWN!------------\n"
     ]
    },
    {
     "name": "stderr",
     "output_type": "stream",
     "text": [
      "100%|███████████████████████████████████████████████████████████████████████████████████████████████████████████████████████████████████████████| 42686/42686 [00:52<00:00, 819.50it/s]\n"
     ]
    },
    {
     "name": "stdout",
     "output_type": "stream",
     "text": [
      "-----------DOWN!------------\n"
     ]
    },
    {
     "name": "stderr",
     "output_type": "stream",
     "text": [
      "100%|███████████████████████████████████████████████████████████████████████████████████████████████████████████████████████████████████████████| 42686/42686 [00:52<00:00, 813.63it/s]\n"
     ]
    },
    {
     "name": "stdout",
     "output_type": "stream",
     "text": [
      "-----------DOWN!------------\n"
     ]
    },
    {
     "name": "stderr",
     "output_type": "stream",
     "text": [
      "100%|███████████████████████████████████████████████████████████████████████████████████████████████████████████████████████████████████████████| 42686/42686 [00:51<00:00, 825.52it/s]\n"
     ]
    },
    {
     "name": "stdout",
     "output_type": "stream",
     "text": [
      "-----------DOWN!------------\n"
     ]
    },
    {
     "name": "stderr",
     "output_type": "stream",
     "text": [
      "100%|███████████████████████████████████████████████████████████████████████████████████████████████████████████████████████████████████████████| 42686/42686 [00:51<00:00, 823.75it/s]\n"
     ]
    },
    {
     "name": "stdout",
     "output_type": "stream",
     "text": [
      "-----------DOWN!------------\n"
     ]
    },
    {
     "name": "stderr",
     "output_type": "stream",
     "text": [
      "100%|███████████████████████████████████████████████████████████████████████████████████████████████████████████████████████████████████████████| 42686/42686 [00:52<00:00, 816.26it/s]\n"
     ]
    },
    {
     "name": "stdout",
     "output_type": "stream",
     "text": [
      "-----------DOWN!------------\n"
     ]
    },
    {
     "name": "stderr",
     "output_type": "stream",
     "text": [
      "100%|███████████████████████████████████████████████████████████████████████████████████████████████████████████████████████████████████████████| 42686/42686 [00:52<00:00, 814.84it/s]\n"
     ]
    },
    {
     "name": "stdout",
     "output_type": "stream",
     "text": [
      "-----------DOWN!------------\n"
     ]
    },
    {
     "name": "stderr",
     "output_type": "stream",
     "text": [
      "100%|███████████████████████████████████████████████████████████████████████████████████████████████████████████████████████████████████████████| 42686/42686 [00:52<00:00, 816.25it/s]\n"
     ]
    },
    {
     "name": "stdout",
     "output_type": "stream",
     "text": [
      "-----------DOWN!------------\n"
     ]
    }
   ],
   "source": [
    "#Oemt = pd.read_pickle(\"Order_ets_BU.pkl\")\n",
    "#Olmt = pd.read_pickle(\"Order_lgb_BU.pkl\")\n",
    "lead_time = 1\n",
    "method = 'shrink'\n",
    "MinT = pd.read_pickle(f\"721OrderMinT_{method}_L{lead_time}.pkl\") #OrderMinT.pkl#############################################################################\n",
    "col = MinT.columns[-3:]\n",
    "MinT[col] = MinT[col].clip(lower=0)\n",
    "truth= pd.read_pickle(f\"{path1}721future_28.pkl\")['y']\n",
    "Invt_df = []\n",
    "names   = ['lgb_base', 'lgb_bu', 'lgb_td', 'lgb_mint', 'ets_base', 'ets_bu', 'ets_td', 'ets_mint']\n",
    "for i in names:\n",
    "    df = loop2(fcst = MinT[MinT['name'] == i].iloc[:,-3:], truth = truth, residual = [], NAME = i, df_list = [],L_=lead_time)# L_=3\n",
    "    Invt_df.append(df)\n",
    "pd.concat(Invt_df).to_pickle(f\"721MinTOrder_{method}_L{lead_time}.pkl\")"
   ]
  },
  {
   "cell_type": "code",
   "execution_count": 13,
   "id": "30a357c5-2326-4710-b518-1a57c166d470",
   "metadata": {},
   "outputs": [
    {
     "data": {
      "text/html": [
       "<div>\n",
       "<style scoped>\n",
       "    .dataframe tbody tr th:only-of-type {\n",
       "        vertical-align: middle;\n",
       "    }\n",
       "\n",
       "    .dataframe tbody tr th {\n",
       "        vertical-align: top;\n",
       "    }\n",
       "\n",
       "    .dataframe thead th {\n",
       "        text-align: right;\n",
       "    }\n",
       "</style>\n",
       "<table border=\"1\" class=\"dataframe\">\n",
       "  <thead>\n",
       "    <tr style=\"text-align: right;\">\n",
       "      <th></th>\n",
       "      <th>name</th>\n",
       "      <th>true_demand</th>\n",
       "      <th>forecasts</th>\n",
       "      <th>ot_90</th>\n",
       "      <th>ip_90</th>\n",
       "      <th>net_90</th>\n",
       "      <th>backlog_90</th>\n",
       "      <th>ch_90</th>\n",
       "      <th>cb_90</th>\n",
       "      <th>ot_95</th>\n",
       "      <th>...</th>\n",
       "      <th>net_95</th>\n",
       "      <th>backlog_95</th>\n",
       "      <th>ch_95</th>\n",
       "      <th>cb_95</th>\n",
       "      <th>ot_99</th>\n",
       "      <th>ip_99</th>\n",
       "      <th>net_99</th>\n",
       "      <th>backlog_99</th>\n",
       "      <th>ch_99</th>\n",
       "      <th>cb_99</th>\n",
       "    </tr>\n",
       "  </thead>\n",
       "  <tbody>\n",
       "    <tr>\n",
       "      <th>0</th>\n",
       "      <td>lgb_base</td>\n",
       "      <td>4</td>\n",
       "      <td>0</td>\n",
       "      <td>0.000000</td>\n",
       "      <td>0.000000</td>\n",
       "      <td>0.000000</td>\n",
       "      <td>0.000000</td>\n",
       "      <td>0.000000</td>\n",
       "      <td>0.000000</td>\n",
       "      <td>0.000000</td>\n",
       "      <td>...</td>\n",
       "      <td>0.000000</td>\n",
       "      <td>0.000000</td>\n",
       "      <td>0.000000</td>\n",
       "      <td>0.000000</td>\n",
       "      <td>0.000000</td>\n",
       "      <td>0.000000</td>\n",
       "      <td>0.000000</td>\n",
       "      <td>0.000000</td>\n",
       "      <td>0.000000</td>\n",
       "      <td>0.000000</td>\n",
       "    </tr>\n",
       "    <tr>\n",
       "      <th>1</th>\n",
       "      <td>lgb_base</td>\n",
       "      <td>5</td>\n",
       "      <td>0</td>\n",
       "      <td>4.034945</td>\n",
       "      <td>-0.965055</td>\n",
       "      <td>-0.965055</td>\n",
       "      <td>0.965055</td>\n",
       "      <td>0.000000</td>\n",
       "      <td>8.685491</td>\n",
       "      <td>3.669395</td>\n",
       "      <td>...</td>\n",
       "      <td>-1.330605</td>\n",
       "      <td>1.330605</td>\n",
       "      <td>0.000000</td>\n",
       "      <td>25.281490</td>\n",
       "      <td>3.262308</td>\n",
       "      <td>-1.737692</td>\n",
       "      <td>-1.737692</td>\n",
       "      <td>1.737692</td>\n",
       "      <td>0.000000</td>\n",
       "      <td>172.031518</td>\n",
       "    </tr>\n",
       "    <tr>\n",
       "      <th>2</th>\n",
       "      <td>lgb_base</td>\n",
       "      <td>7</td>\n",
       "      <td>0</td>\n",
       "      <td>4.130362</td>\n",
       "      <td>-3.834693</td>\n",
       "      <td>-3.834693</td>\n",
       "      <td>3.834693</td>\n",
       "      <td>0.000000</td>\n",
       "      <td>34.512237</td>\n",
       "      <td>4.116576</td>\n",
       "      <td>...</td>\n",
       "      <td>-4.214029</td>\n",
       "      <td>4.214029</td>\n",
       "      <td>0.000000</td>\n",
       "      <td>80.066551</td>\n",
       "      <td>4.111039</td>\n",
       "      <td>-4.626653</td>\n",
       "      <td>-4.626653</td>\n",
       "      <td>4.626653</td>\n",
       "      <td>0.000000</td>\n",
       "      <td>458.038689</td>\n",
       "    </tr>\n",
       "    <tr>\n",
       "      <th>3</th>\n",
       "      <td>lgb_base</td>\n",
       "      <td>1</td>\n",
       "      <td>0</td>\n",
       "      <td>7.471788</td>\n",
       "      <td>2.637095</td>\n",
       "      <td>2.637095</td>\n",
       "      <td>0.000000</td>\n",
       "      <td>2.637095</td>\n",
       "      <td>0.000000</td>\n",
       "      <td>7.478928</td>\n",
       "      <td>...</td>\n",
       "      <td>2.264899</td>\n",
       "      <td>0.000000</td>\n",
       "      <td>2.264899</td>\n",
       "      <td>0.000000</td>\n",
       "      <td>7.493766</td>\n",
       "      <td>1.867113</td>\n",
       "      <td>1.867113</td>\n",
       "      <td>0.000000</td>\n",
       "      <td>1.867113</td>\n",
       "      <td>0.000000</td>\n",
       "    </tr>\n",
       "    <tr>\n",
       "      <th>4</th>\n",
       "      <td>lgb_base</td>\n",
       "      <td>9</td>\n",
       "      <td>0</td>\n",
       "      <td>0.867258</td>\n",
       "      <td>-5.495647</td>\n",
       "      <td>-5.495647</td>\n",
       "      <td>5.495647</td>\n",
       "      <td>0.000000</td>\n",
       "      <td>49.460826</td>\n",
       "      <td>0.877713</td>\n",
       "      <td>...</td>\n",
       "      <td>-5.857388</td>\n",
       "      <td>5.857388</td>\n",
       "      <td>0.000000</td>\n",
       "      <td>111.290377</td>\n",
       "      <td>0.890211</td>\n",
       "      <td>-6.242676</td>\n",
       "      <td>-6.242676</td>\n",
       "      <td>6.242676</td>\n",
       "      <td>0.000000</td>\n",
       "      <td>618.024881</td>\n",
       "    </tr>\n",
       "    <tr>\n",
       "      <th>...</th>\n",
       "      <td>...</td>\n",
       "      <td>...</td>\n",
       "      <td>...</td>\n",
       "      <td>...</td>\n",
       "      <td>...</td>\n",
       "      <td>...</td>\n",
       "      <td>...</td>\n",
       "      <td>...</td>\n",
       "      <td>...</td>\n",
       "      <td>...</td>\n",
       "      <td>...</td>\n",
       "      <td>...</td>\n",
       "      <td>...</td>\n",
       "      <td>...</td>\n",
       "      <td>...</td>\n",
       "      <td>...</td>\n",
       "      <td>...</td>\n",
       "      <td>...</td>\n",
       "      <td>...</td>\n",
       "      <td>...</td>\n",
       "      <td>...</td>\n",
       "    </tr>\n",
       "    <tr>\n",
       "      <th>1195203</th>\n",
       "      <td>ets_mint</td>\n",
       "      <td>0</td>\n",
       "      <td>0</td>\n",
       "      <td>0.030040</td>\n",
       "      <td>0.338759</td>\n",
       "      <td>0.338759</td>\n",
       "      <td>0.000000</td>\n",
       "      <td>0.338759</td>\n",
       "      <td>0.000000</td>\n",
       "      <td>0.029355</td>\n",
       "      <td>...</td>\n",
       "      <td>0.332106</td>\n",
       "      <td>0.000000</td>\n",
       "      <td>0.332106</td>\n",
       "      <td>0.000000</td>\n",
       "      <td>0.028581</td>\n",
       "      <td>0.291638</td>\n",
       "      <td>0.291638</td>\n",
       "      <td>0.000000</td>\n",
       "      <td>0.291638</td>\n",
       "      <td>0.000000</td>\n",
       "    </tr>\n",
       "    <tr>\n",
       "      <th>1195204</th>\n",
       "      <td>ets_mint</td>\n",
       "      <td>0</td>\n",
       "      <td>0</td>\n",
       "      <td>0.038120</td>\n",
       "      <td>0.376879</td>\n",
       "      <td>0.376879</td>\n",
       "      <td>0.000000</td>\n",
       "      <td>0.376879</td>\n",
       "      <td>0.000000</td>\n",
       "      <td>0.035747</td>\n",
       "      <td>...</td>\n",
       "      <td>0.367853</td>\n",
       "      <td>0.000000</td>\n",
       "      <td>0.367853</td>\n",
       "      <td>0.000000</td>\n",
       "      <td>0.033577</td>\n",
       "      <td>0.325215</td>\n",
       "      <td>0.325215</td>\n",
       "      <td>0.000000</td>\n",
       "      <td>0.325215</td>\n",
       "      <td>0.000000</td>\n",
       "    </tr>\n",
       "    <tr>\n",
       "      <th>1195205</th>\n",
       "      <td>ets_mint</td>\n",
       "      <td>0</td>\n",
       "      <td>0</td>\n",
       "      <td>0.055781</td>\n",
       "      <td>0.432660</td>\n",
       "      <td>0.432660</td>\n",
       "      <td>0.000000</td>\n",
       "      <td>0.432660</td>\n",
       "      <td>0.000000</td>\n",
       "      <td>0.054834</td>\n",
       "      <td>...</td>\n",
       "      <td>0.422687</td>\n",
       "      <td>0.000000</td>\n",
       "      <td>0.422687</td>\n",
       "      <td>0.000000</td>\n",
       "      <td>0.053963</td>\n",
       "      <td>0.379178</td>\n",
       "      <td>0.379178</td>\n",
       "      <td>0.000000</td>\n",
       "      <td>0.379178</td>\n",
       "      <td>0.000000</td>\n",
       "    </tr>\n",
       "    <tr>\n",
       "      <th>1195206</th>\n",
       "      <td>ets_mint</td>\n",
       "      <td>0</td>\n",
       "      <td>0</td>\n",
       "      <td>0.017830</td>\n",
       "      <td>0.450490</td>\n",
       "      <td>0.450490</td>\n",
       "      <td>0.000000</td>\n",
       "      <td>0.450490</td>\n",
       "      <td>0.000000</td>\n",
       "      <td>0.022264</td>\n",
       "      <td>...</td>\n",
       "      <td>0.444951</td>\n",
       "      <td>0.000000</td>\n",
       "      <td>0.444951</td>\n",
       "      <td>0.000000</td>\n",
       "      <td>0.026514</td>\n",
       "      <td>0.405692</td>\n",
       "      <td>0.405692</td>\n",
       "      <td>0.000000</td>\n",
       "      <td>0.405692</td>\n",
       "      <td>0.000000</td>\n",
       "    </tr>\n",
       "    <tr>\n",
       "      <th>1195207</th>\n",
       "      <td>ets_mint</td>\n",
       "      <td>0</td>\n",
       "      <td>0</td>\n",
       "      <td>0.000897</td>\n",
       "      <td>0.451387</td>\n",
       "      <td>0.451387</td>\n",
       "      <td>0.000000</td>\n",
       "      <td>0.451387</td>\n",
       "      <td>0.000000</td>\n",
       "      <td>0.001019</td>\n",
       "      <td>...</td>\n",
       "      <td>0.445970</td>\n",
       "      <td>0.000000</td>\n",
       "      <td>0.445970</td>\n",
       "      <td>0.000000</td>\n",
       "      <td>0.001109</td>\n",
       "      <td>0.406801</td>\n",
       "      <td>0.406801</td>\n",
       "      <td>0.000000</td>\n",
       "      <td>0.406801</td>\n",
       "      <td>0.000000</td>\n",
       "    </tr>\n",
       "  </tbody>\n",
       "</table>\n",
       "<p>9561664 rows × 21 columns</p>\n",
       "</div>"
      ],
      "text/plain": [
       "             name  true_demand  forecasts     ot_90     ip_90    net_90  \\\n",
       "0        lgb_base            4          0  0.000000  0.000000  0.000000   \n",
       "1        lgb_base            5          0  4.034945 -0.965055 -0.965055   \n",
       "2        lgb_base            7          0  4.130362 -3.834693 -3.834693   \n",
       "3        lgb_base            1          0  7.471788  2.637095  2.637095   \n",
       "4        lgb_base            9          0  0.867258 -5.495647 -5.495647   \n",
       "...           ...          ...        ...       ...       ...       ...   \n",
       "1195203  ets_mint            0          0  0.030040  0.338759  0.338759   \n",
       "1195204  ets_mint            0          0  0.038120  0.376879  0.376879   \n",
       "1195205  ets_mint            0          0  0.055781  0.432660  0.432660   \n",
       "1195206  ets_mint            0          0  0.017830  0.450490  0.450490   \n",
       "1195207  ets_mint            0          0  0.000897  0.451387  0.451387   \n",
       "\n",
       "         backlog_90     ch_90      cb_90     ot_95  ...    net_95  backlog_95  \\\n",
       "0          0.000000  0.000000   0.000000  0.000000  ...  0.000000    0.000000   \n",
       "1          0.965055  0.000000   8.685491  3.669395  ... -1.330605    1.330605   \n",
       "2          3.834693  0.000000  34.512237  4.116576  ... -4.214029    4.214029   \n",
       "3          0.000000  2.637095   0.000000  7.478928  ...  2.264899    0.000000   \n",
       "4          5.495647  0.000000  49.460826  0.877713  ... -5.857388    5.857388   \n",
       "...             ...       ...        ...       ...  ...       ...         ...   \n",
       "1195203    0.000000  0.338759   0.000000  0.029355  ...  0.332106    0.000000   \n",
       "1195204    0.000000  0.376879   0.000000  0.035747  ...  0.367853    0.000000   \n",
       "1195205    0.000000  0.432660   0.000000  0.054834  ...  0.422687    0.000000   \n",
       "1195206    0.000000  0.450490   0.000000  0.022264  ...  0.444951    0.000000   \n",
       "1195207    0.000000  0.451387   0.000000  0.001019  ...  0.445970    0.000000   \n",
       "\n",
       "            ch_95       cb_95     ot_99     ip_99    net_99  backlog_99  \\\n",
       "0        0.000000    0.000000  0.000000  0.000000  0.000000    0.000000   \n",
       "1        0.000000   25.281490  3.262308 -1.737692 -1.737692    1.737692   \n",
       "2        0.000000   80.066551  4.111039 -4.626653 -4.626653    4.626653   \n",
       "3        2.264899    0.000000  7.493766  1.867113  1.867113    0.000000   \n",
       "4        0.000000  111.290377  0.890211 -6.242676 -6.242676    6.242676   \n",
       "...           ...         ...       ...       ...       ...         ...   \n",
       "1195203  0.332106    0.000000  0.028581  0.291638  0.291638    0.000000   \n",
       "1195204  0.367853    0.000000  0.033577  0.325215  0.325215    0.000000   \n",
       "1195205  0.422687    0.000000  0.053963  0.379178  0.379178    0.000000   \n",
       "1195206  0.444951    0.000000  0.026514  0.405692  0.405692    0.000000   \n",
       "1195207  0.445970    0.000000  0.001109  0.406801  0.406801    0.000000   \n",
       "\n",
       "            ch_99       cb_99  \n",
       "0        0.000000    0.000000  \n",
       "1        0.000000  172.031518  \n",
       "2        0.000000  458.038689  \n",
       "3        1.867113    0.000000  \n",
       "4        0.000000  618.024881  \n",
       "...           ...         ...  \n",
       "1195203  0.291638    0.000000  \n",
       "1195204  0.325215    0.000000  \n",
       "1195205  0.379178    0.000000  \n",
       "1195206  0.405692    0.000000  \n",
       "1195207  0.406801    0.000000  \n",
       "\n",
       "[9561664 rows x 21 columns]"
      ]
     },
     "execution_count": 13,
     "metadata": {},
     "output_type": "execute_result"
    }
   ],
   "source": [
    "pd.concat(Invt_df)"
   ]
  },
  {
   "cell_type": "markdown",
   "id": "de2ffe7f-3fe0-4570-ac4f-1bcb89f82397",
   "metadata": {
    "tags": []
   },
   "source": [
    "### L3"
   ]
  },
  {
   "cell_type": "code",
   "execution_count": 38,
   "id": "f8b7f5fa-ddbb-4076-bc4f-19a840a7129d",
   "metadata": {
    "scrolled": true,
    "tags": []
   },
   "outputs": [
    {
     "name": "stderr",
     "output_type": "stream",
     "text": [
      "100%|█████████████████████████████████████████████████████████████████████████████████████████████████████████████████████████████████████████████| 42840/42840 [01:06<00:00, 643.02it/s]\n"
     ]
    },
    {
     "name": "stdout",
     "output_type": "stream",
     "text": [
      "-----------DOWN!------------\n"
     ]
    },
    {
     "name": "stderr",
     "output_type": "stream",
     "text": [
      "100%|█████████████████████████████████████████████████████████████████████████████████████████████████████████████████████████████████████████████| 42840/42840 [01:06<00:00, 646.23it/s]\n"
     ]
    },
    {
     "name": "stdout",
     "output_type": "stream",
     "text": [
      "-----------DOWN!------------\n"
     ]
    },
    {
     "name": "stderr",
     "output_type": "stream",
     "text": [
      "100%|█████████████████████████████████████████████████████████████████████████████████████████████████████████████████████████████████████████████| 42840/42840 [01:06<00:00, 641.45it/s]\n"
     ]
    },
    {
     "name": "stdout",
     "output_type": "stream",
     "text": [
      "-----------DOWN!------------\n"
     ]
    },
    {
     "name": "stderr",
     "output_type": "stream",
     "text": [
      "100%|█████████████████████████████████████████████████████████████████████████████████████████████████████████████████████████████████████████████| 42840/42840 [01:07<00:00, 639.36it/s]\n"
     ]
    },
    {
     "name": "stdout",
     "output_type": "stream",
     "text": [
      "-----------DOWN!------------\n"
     ]
    }
   ],
   "source": [
    "lead_time = 3\n",
    "method = 'shrink'\n",
    "MinT = pd.read_pickle(f\"OrderMinT_L{lead_time}_{method}.pkl\") #OrderMinT.pkl#############################################################################\n",
    "col = MinT.columns[-3:]\n",
    "MinT[col] = MinT[col].clip(lower=0)\n",
    "truth= pd.read_pickle(f\"{path1}future_28.pkl\")['y']\n",
    "Invt_df = []\n",
    "names   = [ \"lgb_base\", \"lgb_mint\", \"ets_base\", \"ets_mint\"]\n",
    "for i in names:\n",
    "    df = loop2(fcst = MinT[MinT['name'] == i].iloc[:,-3:], truth = truth, residual = [], NAME = i, df_list = [],L_=lead_time)# L_=3\n",
    "    Invt_df.append(df)\n",
    "pd.concat(Invt_df).to_pickle(f\"MinTOrder_L{lead_time}_{method}.pkl\")"
   ]
  },
  {
   "cell_type": "markdown",
   "id": "31dba3a7-2787-4c36-8f31-2b2979493e83",
   "metadata": {
    "jp-MarkdownHeadingCollapsed": true,
    "tags": []
   },
   "source": [
    "### L7"
   ]
  },
  {
   "cell_type": "code",
   "execution_count": 39,
   "id": "de51ac0b-b1f3-4eaa-9eda-0d1443d24b42",
   "metadata": {},
   "outputs": [
    {
     "name": "stderr",
     "output_type": "stream",
     "text": [
      "100%|█████████████████████████████████████████████████████████████████████████████████████████████████████████████████████████████████████████████| 42840/42840 [01:13<00:00, 585.29it/s]\n"
     ]
    },
    {
     "name": "stdout",
     "output_type": "stream",
     "text": [
      "-----------DOWN!------------\n"
     ]
    },
    {
     "name": "stderr",
     "output_type": "stream",
     "text": [
      "100%|█████████████████████████████████████████████████████████████████████████████████████████████████████████████████████████████████████████████| 42840/42840 [01:12<00:00, 591.77it/s]\n"
     ]
    },
    {
     "name": "stdout",
     "output_type": "stream",
     "text": [
      "-----------DOWN!------------\n"
     ]
    },
    {
     "name": "stderr",
     "output_type": "stream",
     "text": [
      "100%|█████████████████████████████████████████████████████████████████████████████████████████████████████████████████████████████████████████████| 42840/42840 [01:13<00:00, 582.02it/s]\n"
     ]
    },
    {
     "name": "stdout",
     "output_type": "stream",
     "text": [
      "-----------DOWN!------------\n"
     ]
    },
    {
     "name": "stderr",
     "output_type": "stream",
     "text": [
      "100%|█████████████████████████████████████████████████████████████████████████████████████████████████████████████████████████████████████████████| 42840/42840 [01:12<00:00, 594.29it/s]\n"
     ]
    },
    {
     "name": "stdout",
     "output_type": "stream",
     "text": [
      "-----------DOWN!------------\n"
     ]
    }
   ],
   "source": [
    "lead_time = 7\n",
    "method = 'shrink'\n",
    "MinT = pd.read_pickle(f\"OrderMinT_L{lead_time}_{method}.pkl\") #OrderMinT.pkl#############################################################################\n",
    "col = MinT.columns[-3:]\n",
    "MinT[col] = MinT[col].clip(lower=0)\n",
    "truth= pd.read_pickle(f\"{path1}future_28.pkl\")['y']\n",
    "Invt_df = []\n",
    "names   = [ \"lgb_base\", \"lgb_mint\", \"ets_base\", \"ets_mint\"]\n",
    "for i in names:\n",
    "    df = loop2(fcst = MinT[MinT['name'] == i].iloc[:,-3:], truth = truth, residual = [], NAME = i, df_list = [],L_=lead_time)# L_=3\n",
    "    Invt_df.append(df)\n",
    "pd.concat(Invt_df).to_pickle(f\"MinTOrder_L{lead_time}_{method}.pkl\")"
   ]
  },
  {
   "cell_type": "code",
   "execution_count": null,
   "id": "e18071cb-4ea0-4547-a811-91420ecda68c",
   "metadata": {},
   "outputs": [],
   "source": []
  }
 ],
 "metadata": {
  "kernelspec": {
   "display_name": "Python 3 (ipykernel)",
   "language": "python",
   "name": "python3"
  },
  "language_info": {
   "codemirror_mode": {
    "name": "ipython",
    "version": 3
   },
   "file_extension": ".py",
   "mimetype": "text/x-python",
   "name": "python",
   "nbconvert_exporter": "python",
   "pygments_lexer": "ipython3",
   "version": "3.9.7"
  }
 },
 "nbformat": 4,
 "nbformat_minor": 5
}
