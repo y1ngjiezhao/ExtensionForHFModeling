{
 "cells": [
  {
   "cell_type": "markdown",
   "id": "a1ed2098-6590-462e-80b7-7f9455d8e690",
   "metadata": {
    "tags": []
   },
   "source": [
    "## BU_L1"
   ]
  },
  {
   "cell_type": "code",
   "execution_count": 2,
   "id": "4cd19e47-3347-40d2-adbd-17be228f3885",
   "metadata": {
    "tags": []
   },
   "outputs": [],
   "source": [
    "path1  = 'C:/PycharmProjects/yjz/Extension for hts/JayCode/Models/'\n",
    "import warnings\n",
    "warnings.simplefilter(\"ignore\")\n",
    "from Invtsim import *\n",
    "import numpy as np\n",
    "import pandas as pd\n",
    "from scipy.stats import norm\n",
    "from hierarchicalforecast.core import HierarchicalReconciliation\n",
    "from hierarchicalforecast.methods import BottomUp, TopDown, MinTrace\n",
    "from tqdm import tqdm\n",
    "\n",
    "gap1    = 365\n",
    "gap2    = 1548\n",
    "train   = pd.read_pickle(f\"{path1}721past_1913.pkl\").reset_index(drop=True)\n",
    "test    = pd.read_pickle(f\"{path1}721future_28.pkl\").reset_index(drop=True)\n",
    "S       = pd.read_pickle(f\"{path1}721S_df.pkl\")\n",
    "tags    = pd.read_pickle(f\"{path1}tags.bin\")\n",
    "\n",
    "ts_id   = test[['unique_id', 'ds']]\n",
    "tr_id   = train[['unique_id', 'ds']]\n",
    "trts_id = tr_id[tr_id['ds']> gap2]\n",
    "trtr_id = tr_id[tr_id['ds']<= gap2]\n",
    "'''\n",
    "lgbs = pd.read_pickle(\"lgbInvtSim_L1.pkl\")\n",
    "etss = pd.read_pickle(\"etsInvtSim_L1.pkl\")\n",
    "bus = pd.concat([lgbs,etss])'''\n",
    "del train, test, trtr_id"
   ]
  },
  {
   "cell_type": "code",
   "execution_count": 3,
   "id": "bacf1aa8-0b99-44ac-942b-42d367dd1c28",
   "metadata": {},
   "outputs": [
    {
     "data": {
      "text/plain": [
       "array(['TOTAL/FOODS/FOODS_1/FOODS_1_001',\n",
       "       'TOTAL/FOODS/FOODS_1/FOODS_1_002',\n",
       "       'TOTAL/FOODS/FOODS_1/FOODS_1_003', ...,\n",
       "       'TOTAL/WI/WI_3/HOUSEHOLD/HOUSEHOLD_2/HOUSEHOLD_2_514',\n",
       "       'TOTAL/WI/WI_3/HOUSEHOLD/HOUSEHOLD_2/HOUSEHOLD_2_515',\n",
       "       'TOTAL/WI/WI_3/HOUSEHOLD/HOUSEHOLD_2/HOUSEHOLD_2_516'],\n",
       "      dtype=object)"
      ]
     },
     "execution_count": 3,
     "metadata": {},
     "output_type": "execute_result"
    }
   ],
   "source": [
    "trts_id['unique_id'].unique()"
   ]
  },
  {
   "cell_type": "markdown",
   "id": "9ca264fb-bdf2-4ae9-b3fa-ca2b794747fd",
   "metadata": {
    "tags": []
   },
   "source": [
    "## Order BU"
   ]
  },
  {
   "cell_type": "markdown",
   "id": "c09ee6ce-cb78-4561-ba65-9ca965ec8dc6",
   "metadata": {
    "tags": []
   },
   "source": [
    "### L1"
   ]
  },
  {
   "cell_type": "code",
   "execution_count": null,
   "id": "5420e196-f027-47e7-94cf-71555bd916df",
   "metadata": {},
   "outputs": [
    {
     "name": "stderr",
     "output_type": "stream",
     "text": [
      " 50%|███████████████████████████████████████████████████████████████████████████                                                                           | 4/8 [05:05<05:03, 75.83s/it]"
     ]
    }
   ],
   "source": [
    "################################### BU\n",
    "lt = 1\n",
    "on   = ['ot_90','ot_95','ot_99']\n",
    "names = ['lgb_base', 'lgb_bu', 'lgb_td', 'lgb_mint','ets_base', 'ets_bu', 'ets_td', 'ets_mint']\n",
    "bottomup = [BottomUp()]\n",
    "bu = HierarchicalReconciliation(reconcilers=bottomup)\n",
    "eobu,lobu = [], []\n",
    "\n",
    "lgbs = pd.read_pickle(f\"721lgbInvtSim_L{lt}.pkl\")\n",
    "etss = pd.read_pickle(f\"721etsInvtSim_L{lt}.pkl\")\n",
    "bus = pd.concat([lgbs,etss])\n",
    "\n",
    "for i in tqdm(names):\n",
    "    obu = pd.concat([ts_id, bus[bus['name'] == i][on]],axis=1)\n",
    "    lobu.append(bu.reconcile(Y_hat_df=obu, S=S, tags=tags).iloc[:,-3:])\n",
    "orderbu = pd.concat([bus['name'], pd.concat(lobu)],axis=1)\n",
    "#ets_orderbu.to_pickle(\"Order_ets_BU.pkl\")\n",
    "orderbu.to_pickle(f\"721OrderBU_L{lt}.pkl\")"
   ]
  },
  {
   "cell_type": "code",
   "execution_count": null,
   "id": "9e681dd6-ea01-4d3f-90cb-743ab8e25a9a",
   "metadata": {},
   "outputs": [],
   "source": [
    "orderbu"
   ]
  },
  {
   "cell_type": "code",
   "execution_count": null,
   "id": "ba4287cd-6b97-4104-b392-c3be9d792a3c",
   "metadata": {},
   "outputs": [],
   "source": [
    "lt = 1\n",
    "on   = ['ot_90','ot_95','ot_99']\n",
    "#pd.read_pickle(f\"721OrderBU_L{lt}.pkl\")\n",
    "pd.read_pickle(f\"721BUOrder_L{lt}.pkl\")[on]"
   ]
  },
  {
   "cell_type": "code",
   "execution_count": null,
   "id": "462713e1-6e64-478b-8981-9a03b3fdeb7c",
   "metadata": {},
   "outputs": [],
   "source": [
    "pd.read_pickle(f\"BUOrder_L{lt}.pkl\")[on]"
   ]
  },
  {
   "cell_type": "markdown",
   "id": "351f01d5-7038-492d-a137-8d6a9710e7b9",
   "metadata": {
    "tags": []
   },
   "source": [
    "## Fixed Order Simulation:"
   ]
  },
  {
   "cell_type": "code",
   "execution_count": null,
   "id": "ac1246c4-bf00-420d-bae0-84fe3d999979",
   "metadata": {},
   "outputs": [],
   "source": [
    "path1  = 'C:/PycharmProjects/yjz/Extension for hts/JayCode/Models/'\n",
    "from Invtsim import *\n",
    "import numpy as np\n",
    "import pandas as pd\n",
    "from scipy.stats import norm\n",
    "import warnings\n",
    "warnings.simplefilter(\"ignore\")\n",
    "from tqdm import tqdm\n",
    "def loop2( truth, NAME:str, fcst, residual = 0,\n",
    "         gap1: int = 28, gap2:int = 1913,\n",
    "         n = None, \n",
    "         df_list:list = [], \n",
    "         L_ = 3):\n",
    "    if n == None:\n",
    "        n = int(len(truth)/gap1)\n",
    "    for i in tqdm(range(n)):\n",
    "        fcst_1  = fcst[i*gap1:(i+1)*gap1]\n",
    "        truth_1 = truth[i*gap1:(i+1)*gap1]\n",
    "        #res_1   = residual[i*gap2:(i+1)*gap2]\n",
    "        df = InvtSim(fcst = 0, truth = truth_1, residual = residual, name = NAME, L=L_)##################\n",
    "        res = df.ob_all_t_fixedcase(fixed_order = fcst_1)\n",
    "        df_list.append(res.reset_index(drop = True))\n",
    "    print(\"-----------DOWN!------------\")\n",
    "    return pd.concat(df_list).reset_index(drop=True)"
   ]
  },
  {
   "cell_type": "markdown",
   "id": "d4515cb3-ec67-4f27-9649-d7f44ed6c424",
   "metadata": {
    "tags": []
   },
   "source": [
    "## BU-FIXED SIMULATION:"
   ]
  },
  {
   "cell_type": "markdown",
   "id": "c141c932-0c7b-4845-b8ee-4400a793fd39",
   "metadata": {
    "tags": []
   },
   "source": [
    "### L1"
   ]
  },
  {
   "cell_type": "code",
   "execution_count": null,
   "id": "aa7b428a-317f-4b62-b2ea-9602d9c85dbf",
   "metadata": {
    "scrolled": true,
    "tags": []
   },
   "outputs": [],
   "source": [
    "lead_time = 1\n",
    "BU   = pd.read_pickle(f\"721OrderBU_L{lead_time}.pkl\")\n",
    "truth= pd.read_pickle(f\"{path1}721future_28.pkl\")['y']\n",
    "Invt_df = []\n",
    "#names   = [ \"lgb_base\", \"lgb_bu\", \"ets_base\", \"ets_bu\"]\n",
    "names = ['lgb_base', 'lgb_bu', 'lgb_td', 'lgb_mint','ets_base', 'ets_bu', 'ets_td', 'ets_mint']\n",
    "for i in names:\n",
    "    df = loop2(fcst = BU[BU['name'] == i].iloc[:,-3:], truth = truth, residual = [], NAME = i, df_list = [],L_=lead_time)# L_=3\n",
    "    Invt_df.append(df)\n",
    "pd.concat(Invt_df).to_pickle(f\"721BUOrder_L{lead_time}.pkl\")"
   ]
  },
  {
   "cell_type": "code",
   "execution_count": null,
   "id": "f92d412f-3ecc-44e7-b3c4-e5fb3ebc2046",
   "metadata": {},
   "outputs": [],
   "source": [
    "pd.read_pickle(f\"721BUOrder_L{lead_time}.pkl\")"
   ]
  },
  {
   "cell_type": "code",
   "execution_count": 5,
   "id": "e19c707c-3f80-4336-9220-4d324e249b1d",
   "metadata": {},
   "outputs": [
    {
     "data": {
      "text/plain": [
       "1195208.0"
      ]
     },
     "execution_count": 5,
     "metadata": {},
     "output_type": "execute_result"
    }
   ],
   "source": [
    "9561664/8"
   ]
  },
  {
   "cell_type": "code",
   "execution_count": 7,
   "id": "a686f018-102f-464f-9ff8-5e3dcc54d708",
   "metadata": {},
   "outputs": [
    {
     "data": {
      "text/plain": [
       "28.0"
      ]
     },
     "execution_count": 7,
     "metadata": {},
     "output_type": "execute_result"
    }
   ],
   "source": [
    "1195208/42686"
   ]
  },
  {
   "cell_type": "code",
   "execution_count": null,
   "id": "3f0e5c9e-4a35-45d7-9249-f76b0aaa3712",
   "metadata": {},
   "outputs": [],
   "source": []
  }
 ],
 "metadata": {
  "kernelspec": {
   "display_name": "Python 3 (ipykernel)",
   "language": "python",
   "name": "python3"
  },
  "language_info": {
   "codemirror_mode": {
    "name": "ipython",
    "version": 3
   },
   "file_extension": ".py",
   "mimetype": "text/x-python",
   "name": "python",
   "nbconvert_exporter": "python",
   "pygments_lexer": "ipython3",
   "version": "3.9.7"
  }
 },
 "nbformat": 4,
 "nbformat_minor": 5
}
