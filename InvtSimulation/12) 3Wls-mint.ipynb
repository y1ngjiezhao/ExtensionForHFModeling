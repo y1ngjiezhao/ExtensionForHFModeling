{
 "cells": [
  {
   "cell_type": "code",
   "execution_count": 1,
   "id": "8168a484-6847-4e90-b11e-3cc2b4f0d0ff",
   "metadata": {
    "tags": []
   },
   "outputs": [],
   "source": [
    "path1  = 'C:/PycharmProjects/yjz/Extension for hts/JayCode/Models/'\n",
    "from Invtsim import *\n",
    "import numpy as np\n",
    "import pandas as pd\n",
    "from scipy.stats import norm\n",
    "import warnings\n",
    "warnings.simplefilter(\"ignore\")\n",
    "from tqdm import tqdm\n",
    "\n",
    "gap1 = 365\n",
    "gap2 = 1548\n",
    "\n",
    "train    = pd.read_pickle(f\"{path1}721past_1913.pkl\").reset_index(drop=True)[['ds','y']]\n",
    "fit_all  = pd.read_pickle(f\"{path1}721fitts_base2cohe.pkl\")\n",
    "tr_all   = pd.concat([train,fit_all], axis =1)\n",
    "\n",
    "tr_tr    = tr_all[tr_all['ds'] <= gap2].reset_index(drop=True).iloc[:,1:]\n",
    "tr_ts    = tr_all[tr_all['ds'] >  gap2].reset_index(drop=True).iloc[:,1:]"
   ]
  },
  {
   "cell_type": "markdown",
   "id": "a31d9ae4-24ca-4b94-8759-6688c1668cf9",
   "metadata": {
    "jp-MarkdownHeadingCollapsed": true,
    "tags": []
   },
   "source": [
    "## Hist Order:"
   ]
  },
  {
   "cell_type": "code",
   "execution_count": 2,
   "id": "bd051191-385d-4d19-b46c-323749a0fefe",
   "metadata": {
    "tags": []
   },
   "outputs": [],
   "source": [
    "def loop(fcst, truth, residual, NAME:str,\n",
    "         gap1: int = 28, gap2:int = 1913,\n",
    "         n = None, \n",
    "         df_list:list = [], \n",
    "         L_ = 3):\n",
    "    if n == None:\n",
    "        n = int(len(fcst)/gap1)\n",
    "    for i in tqdm(range(n)):\n",
    "        fcst_1  = fcst[i*gap1:(i+1)*gap1]\n",
    "        truth_1 = truth[i*gap1:(i+1)*gap1]\n",
    "        res_1   = residual[i*gap2:(i+1)*gap2]\n",
    "        df = InvtSim(fcst = fcst_1, truth = truth_1, residual = res_1, name = NAME, L=L_, period = gap1)\n",
    "        res = df.ob_all_t()\n",
    "        df_list.append(res.reset_index(drop = True))\n",
    "    #results = pd.concat(res)\n",
    "    print(\"-----------DOWN!------------\")\n",
    "    return pd.concat(df_list).reset_index(drop=True)"
   ]
  },
  {
   "cell_type": "code",
   "execution_count": 3,
   "id": "2744bfec-43ad-4948-a3cb-4ce7d4669ae6",
   "metadata": {
    "scrolled": true,
    "tags": []
   },
   "outputs": [
    {
     "name": "stdout",
     "output_type": "stream",
     "text": [
      "************Lead time is: 1************\n"
     ]
    },
    {
     "name": "stderr",
     "output_type": "stream",
     "text": [
      "100%|███████████████████████████████████████████████████████████████████████████████████████████████████████████████████████████████████████████| 42840/42840 [06:47<00:00, 105.23it/s]\n"
     ]
    },
    {
     "name": "stdout",
     "output_type": "stream",
     "text": [
      "-----------DOWN!------------\n"
     ]
    },
    {
     "name": "stderr",
     "output_type": "stream",
     "text": [
      "100%|███████████████████████████████████████████████████████████████████████████████████████████████████████████████████████████████████████████| 42840/42840 [06:48<00:00, 104.90it/s]\n"
     ]
    },
    {
     "name": "stdout",
     "output_type": "stream",
     "text": [
      "-----------DOWN!------------\n"
     ]
    },
    {
     "name": "stderr",
     "output_type": "stream",
     "text": [
      "100%|███████████████████████████████████████████████████████████████████████████████████████████████████████████████████████████████████████████| 42840/42840 [06:50<00:00, 104.29it/s]\n"
     ]
    },
    {
     "name": "stdout",
     "output_type": "stream",
     "text": [
      "-----------DOWN!------------\n"
     ]
    },
    {
     "name": "stderr",
     "output_type": "stream",
     "text": [
      "100%|███████████████████████████████████████████████████████████████████████████████████████████████████████████████████████████████████████████| 42840/42840 [06:50<00:00, 104.38it/s]\n"
     ]
    },
    {
     "name": "stdout",
     "output_type": "stream",
     "text": [
      "-----------DOWN!------------\n"
     ]
    },
    {
     "name": "stderr",
     "output_type": "stream",
     "text": [
      "100%|███████████████████████████████████████████████████████████████████████████████████████████████████████████████████████████████████████████| 42840/42840 [06:51<00:00, 104.07it/s]\n"
     ]
    },
    {
     "name": "stdout",
     "output_type": "stream",
     "text": [
      "-----------DOWN!------------\n"
     ]
    },
    {
     "name": "stderr",
     "output_type": "stream",
     "text": [
      "100%|███████████████████████████████████████████████████████████████████████████████████████████████████████████████████████████████████████████| 42840/42840 [06:52<00:00, 103.82it/s]\n"
     ]
    },
    {
     "name": "stdout",
     "output_type": "stream",
     "text": [
      "-----------DOWN!------------\n"
     ]
    },
    {
     "name": "stderr",
     "output_type": "stream",
     "text": [
      "100%|███████████████████████████████████████████████████████████████████████████████████████████████████████████████████████████████████████████| 42840/42840 [06:53<00:00, 103.54it/s]\n"
     ]
    },
    {
     "name": "stdout",
     "output_type": "stream",
     "text": [
      "-----------DOWN!------------\n"
     ]
    },
    {
     "name": "stderr",
     "output_type": "stream",
     "text": [
      "100%|███████████████████████████████████████████████████████████████████████████████████████████████████████████████████████████████████████████| 42840/42840 [06:53<00:00, 103.49it/s]\n"
     ]
    },
    {
     "name": "stdout",
     "output_type": "stream",
     "text": [
      "-----------DOWN!------------\n"
     ]
    },
    {
     "name": "stderr",
     "output_type": "stream",
     "text": [
      "100%|███████████████████████████████████████████████████████████████████████████████████████████████████████████████████████████████████████████| 42840/42840 [06:11<00:00, 115.27it/s]\n"
     ]
    },
    {
     "name": "stdout",
     "output_type": "stream",
     "text": [
      "-----------DOWN!------------\n"
     ]
    },
    {
     "name": "stderr",
     "output_type": "stream",
     "text": [
      "100%|███████████████████████████████████████████████████████████████████████████████████████████████████████████████████████████████████████████| 42840/42840 [06:07<00:00, 116.66it/s]\n"
     ]
    },
    {
     "name": "stdout",
     "output_type": "stream",
     "text": [
      "-----------DOWN!------------\n"
     ]
    },
    {
     "name": "stderr",
     "output_type": "stream",
     "text": [
      "100%|███████████████████████████████████████████████████████████████████████████████████████████████████████████████████████████████████████████| 42840/42840 [06:05<00:00, 117.11it/s]\n"
     ]
    },
    {
     "name": "stdout",
     "output_type": "stream",
     "text": [
      "-----------DOWN!------------\n"
     ]
    },
    {
     "name": "stderr",
     "output_type": "stream",
     "text": [
      "100%|███████████████████████████████████████████████████████████████████████████████████████████████████████████████████████████████████████████| 42840/42840 [06:06<00:00, 116.98it/s]\n"
     ]
    },
    {
     "name": "stdout",
     "output_type": "stream",
     "text": [
      "-----------DOWN!------------\n"
     ]
    },
    {
     "name": "stderr",
     "output_type": "stream",
     "text": [
      "100%|███████████████████████████████████████████████████████████████████████████████████████████████████████████████████████████████████████████| 42840/42840 [06:15<00:00, 114.04it/s]\n"
     ]
    },
    {
     "name": "stdout",
     "output_type": "stream",
     "text": [
      "-----------DOWN!------------\n"
     ]
    },
    {
     "name": "stderr",
     "output_type": "stream",
     "text": [
      "100%|███████████████████████████████████████████████████████████████████████████████████████████████████████████████████████████████████████████| 42840/42840 [06:09<00:00, 116.00it/s]\n"
     ]
    },
    {
     "name": "stdout",
     "output_type": "stream",
     "text": [
      "-----------DOWN!------------\n"
     ]
    },
    {
     "name": "stderr",
     "output_type": "stream",
     "text": [
      "100%|███████████████████████████████████████████████████████████████████████████████████████████████████████████████████████████████████████████| 42840/42840 [06:07<00:00, 116.70it/s]\n"
     ]
    },
    {
     "name": "stdout",
     "output_type": "stream",
     "text": [
      "-----------DOWN!------------\n"
     ]
    },
    {
     "name": "stderr",
     "output_type": "stream",
     "text": [
      "100%|███████████████████████████████████████████████████████████████████████████████████████████████████████████████████████████████████████████| 42840/42840 [06:06<00:00, 116.91it/s]\n"
     ]
    },
    {
     "name": "stdout",
     "output_type": "stream",
     "text": [
      "-----------DOWN!------------\n",
      "************Lead time is: 3************\n"
     ]
    },
    {
     "name": "stderr",
     "output_type": "stream",
     "text": [
      "100%|████████████████████████████████████████████████████████████████████████████████████████████████████████████████████████████████████████████| 42840/42840 [07:09<00:00, 99.82it/s]\n"
     ]
    },
    {
     "name": "stdout",
     "output_type": "stream",
     "text": [
      "-----------DOWN!------------\n"
     ]
    },
    {
     "name": "stderr",
     "output_type": "stream",
     "text": [
      "100%|███████████████████████████████████████████████████████████████████████████████████████████████████████████████████████████████████████████| 42840/42840 [07:04<00:00, 100.82it/s]\n"
     ]
    },
    {
     "name": "stdout",
     "output_type": "stream",
     "text": [
      "-----------DOWN!------------\n"
     ]
    },
    {
     "name": "stderr",
     "output_type": "stream",
     "text": [
      "100%|███████████████████████████████████████████████████████████████████████████████████████████████████████████████████████████████████████████| 42840/42840 [07:04<00:00, 100.96it/s]\n"
     ]
    },
    {
     "name": "stdout",
     "output_type": "stream",
     "text": [
      "-----------DOWN!------------\n"
     ]
    },
    {
     "name": "stderr",
     "output_type": "stream",
     "text": [
      "100%|███████████████████████████████████████████████████████████████████████████████████████████████████████████████████████████████████████████| 42840/42840 [07:04<00:00, 100.90it/s]\n"
     ]
    },
    {
     "name": "stdout",
     "output_type": "stream",
     "text": [
      "-----------DOWN!------------\n"
     ]
    },
    {
     "name": "stderr",
     "output_type": "stream",
     "text": [
      "100%|███████████████████████████████████████████████████████████████████████████████████████████████████████████████████████████████████████████| 42840/42840 [07:05<00:00, 100.77it/s]\n"
     ]
    },
    {
     "name": "stdout",
     "output_type": "stream",
     "text": [
      "-----------DOWN!------------\n"
     ]
    },
    {
     "name": "stderr",
     "output_type": "stream",
     "text": [
      "100%|███████████████████████████████████████████████████████████████████████████████████████████████████████████████████████████████████████████| 42840/42840 [07:04<00:00, 100.98it/s]\n"
     ]
    },
    {
     "name": "stdout",
     "output_type": "stream",
     "text": [
      "-----------DOWN!------------\n"
     ]
    },
    {
     "name": "stderr",
     "output_type": "stream",
     "text": [
      "100%|███████████████████████████████████████████████████████████████████████████████████████████████████████████████████████████████████████████| 42840/42840 [07:05<00:00, 100.80it/s]\n"
     ]
    },
    {
     "name": "stdout",
     "output_type": "stream",
     "text": [
      "-----------DOWN!------------\n"
     ]
    },
    {
     "name": "stderr",
     "output_type": "stream",
     "text": [
      "100%|███████████████████████████████████████████████████████████████████████████████████████████████████████████████████████████████████████████| 42840/42840 [07:05<00:00, 100.69it/s]\n"
     ]
    },
    {
     "name": "stdout",
     "output_type": "stream",
     "text": [
      "-----------DOWN!------------\n"
     ]
    },
    {
     "name": "stderr",
     "output_type": "stream",
     "text": [
      "100%|███████████████████████████████████████████████████████████████████████████████████████████████████████████████████████████████████████████| 42840/42840 [06:26<00:00, 110.85it/s]\n"
     ]
    },
    {
     "name": "stdout",
     "output_type": "stream",
     "text": [
      "-----------DOWN!------------\n"
     ]
    },
    {
     "name": "stderr",
     "output_type": "stream",
     "text": [
      "100%|███████████████████████████████████████████████████████████████████████████████████████████████████████████████████████████████████████████| 42840/42840 [06:24<00:00, 111.41it/s]\n"
     ]
    },
    {
     "name": "stdout",
     "output_type": "stream",
     "text": [
      "-----------DOWN!------------\n"
     ]
    },
    {
     "name": "stderr",
     "output_type": "stream",
     "text": [
      "100%|███████████████████████████████████████████████████████████████████████████████████████████████████████████████████████████████████████████| 42840/42840 [06:23<00:00, 111.58it/s]\n"
     ]
    },
    {
     "name": "stdout",
     "output_type": "stream",
     "text": [
      "-----------DOWN!------------\n"
     ]
    },
    {
     "name": "stderr",
     "output_type": "stream",
     "text": [
      "100%|███████████████████████████████████████████████████████████████████████████████████████████████████████████████████████████████████████████| 42840/42840 [06:24<00:00, 111.28it/s]\n"
     ]
    },
    {
     "name": "stdout",
     "output_type": "stream",
     "text": [
      "-----------DOWN!------------\n"
     ]
    },
    {
     "name": "stderr",
     "output_type": "stream",
     "text": [
      "100%|███████████████████████████████████████████████████████████████████████████████████████████████████████████████████████████████████████████| 42840/42840 [06:34<00:00, 108.73it/s]\n"
     ]
    },
    {
     "name": "stdout",
     "output_type": "stream",
     "text": [
      "-----------DOWN!------------\n"
     ]
    },
    {
     "name": "stderr",
     "output_type": "stream",
     "text": [
      "100%|███████████████████████████████████████████████████████████████████████████████████████████████████████████████████████████████████████████| 42840/42840 [06:28<00:00, 110.13it/s]\n"
     ]
    },
    {
     "name": "stdout",
     "output_type": "stream",
     "text": [
      "-----------DOWN!------------\n"
     ]
    },
    {
     "name": "stderr",
     "output_type": "stream",
     "text": [
      "100%|███████████████████████████████████████████████████████████████████████████████████████████████████████████████████████████████████████████| 42840/42840 [06:24<00:00, 111.29it/s]\n"
     ]
    },
    {
     "name": "stdout",
     "output_type": "stream",
     "text": [
      "-----------DOWN!------------\n"
     ]
    },
    {
     "name": "stderr",
     "output_type": "stream",
     "text": [
      "100%|███████████████████████████████████████████████████████████████████████████████████████████████████████████████████████████████████████████| 42840/42840 [06:24<00:00, 111.37it/s]\n"
     ]
    },
    {
     "name": "stdout",
     "output_type": "stream",
     "text": [
      "-----------DOWN!------------\n",
      "************Lead time is: 7************\n"
     ]
    },
    {
     "name": "stderr",
     "output_type": "stream",
     "text": [
      "100%|████████████████████████████████████████████████████████████████████████████████████████████████████████████████████████████████████████████| 42840/42840 [07:16<00:00, 98.22it/s]\n"
     ]
    },
    {
     "name": "stdout",
     "output_type": "stream",
     "text": [
      "-----------DOWN!------------\n"
     ]
    },
    {
     "name": "stderr",
     "output_type": "stream",
     "text": [
      "100%|████████████████████████████████████████████████████████████████████████████████████████████████████████████████████████████████████████████| 42840/42840 [07:11<00:00, 99.31it/s]\n"
     ]
    },
    {
     "name": "stdout",
     "output_type": "stream",
     "text": [
      "-----------DOWN!------------\n"
     ]
    },
    {
     "name": "stderr",
     "output_type": "stream",
     "text": [
      "100%|████████████████████████████████████████████████████████████████████████████████████████████████████████████████████████████████████████████| 42840/42840 [07:11<00:00, 99.26it/s]\n"
     ]
    },
    {
     "name": "stdout",
     "output_type": "stream",
     "text": [
      "-----------DOWN!------------\n"
     ]
    },
    {
     "name": "stderr",
     "output_type": "stream",
     "text": [
      "100%|████████████████████████████████████████████████████████████████████████████████████████████████████████████████████████████████████████████| 42840/42840 [07:11<00:00, 99.30it/s]\n"
     ]
    },
    {
     "name": "stdout",
     "output_type": "stream",
     "text": [
      "-----------DOWN!------------\n"
     ]
    },
    {
     "name": "stderr",
     "output_type": "stream",
     "text": [
      "100%|████████████████████████████████████████████████████████████████████████████████████████████████████████████████████████████████████████████| 42840/42840 [07:11<00:00, 99.23it/s]\n"
     ]
    },
    {
     "name": "stdout",
     "output_type": "stream",
     "text": [
      "-----------DOWN!------------\n"
     ]
    },
    {
     "name": "stderr",
     "output_type": "stream",
     "text": [
      "100%|████████████████████████████████████████████████████████████████████████████████████████████████████████████████████████████████████████████| 42840/42840 [07:11<00:00, 99.26it/s]\n"
     ]
    },
    {
     "name": "stdout",
     "output_type": "stream",
     "text": [
      "-----------DOWN!------------\n"
     ]
    },
    {
     "name": "stderr",
     "output_type": "stream",
     "text": [
      "100%|████████████████████████████████████████████████████████████████████████████████████████████████████████████████████████████████████████████| 42840/42840 [07:11<00:00, 99.28it/s]\n"
     ]
    },
    {
     "name": "stdout",
     "output_type": "stream",
     "text": [
      "-----------DOWN!------------\n"
     ]
    },
    {
     "name": "stderr",
     "output_type": "stream",
     "text": [
      "100%|████████████████████████████████████████████████████████████████████████████████████████████████████████████████████████████████████████████| 42840/42840 [07:12<00:00, 99.12it/s]\n"
     ]
    },
    {
     "name": "stdout",
     "output_type": "stream",
     "text": [
      "-----------DOWN!------------\n"
     ]
    },
    {
     "name": "stderr",
     "output_type": "stream",
     "text": [
      "100%|███████████████████████████████████████████████████████████████████████████████████████████████████████████████████████████████████████████| 42840/42840 [06:30<00:00, 109.63it/s]\n"
     ]
    },
    {
     "name": "stdout",
     "output_type": "stream",
     "text": [
      "-----------DOWN!------------\n"
     ]
    },
    {
     "name": "stderr",
     "output_type": "stream",
     "text": [
      "100%|███████████████████████████████████████████████████████████████████████████████████████████████████████████████████████████████████████████| 42840/42840 [06:28<00:00, 110.39it/s]\n"
     ]
    },
    {
     "name": "stdout",
     "output_type": "stream",
     "text": [
      "-----------DOWN!------------\n"
     ]
    },
    {
     "name": "stderr",
     "output_type": "stream",
     "text": [
      "100%|███████████████████████████████████████████████████████████████████████████████████████████████████████████████████████████████████████████| 42840/42840 [06:29<00:00, 109.97it/s]\n"
     ]
    },
    {
     "name": "stdout",
     "output_type": "stream",
     "text": [
      "-----------DOWN!------------\n"
     ]
    },
    {
     "name": "stderr",
     "output_type": "stream",
     "text": [
      "100%|███████████████████████████████████████████████████████████████████████████████████████████████████████████████████████████████████████████| 42840/42840 [06:30<00:00, 109.68it/s]\n"
     ]
    },
    {
     "name": "stdout",
     "output_type": "stream",
     "text": [
      "-----------DOWN!------------\n"
     ]
    },
    {
     "name": "stderr",
     "output_type": "stream",
     "text": [
      "100%|███████████████████████████████████████████████████████████████████████████████████████████████████████████████████████████████████████████| 42840/42840 [06:38<00:00, 107.37it/s]\n"
     ]
    },
    {
     "name": "stdout",
     "output_type": "stream",
     "text": [
      "-----------DOWN!------------\n"
     ]
    },
    {
     "name": "stderr",
     "output_type": "stream",
     "text": [
      "100%|███████████████████████████████████████████████████████████████████████████████████████████████████████████████████████████████████████████| 42840/42840 [06:33<00:00, 108.83it/s]\n"
     ]
    },
    {
     "name": "stdout",
     "output_type": "stream",
     "text": [
      "-----------DOWN!------------\n"
     ]
    },
    {
     "name": "stderr",
     "output_type": "stream",
     "text": [
      "100%|███████████████████████████████████████████████████████████████████████████████████████████████████████████████████████████████████████████| 42840/42840 [06:30<00:00, 109.70it/s]\n"
     ]
    },
    {
     "name": "stdout",
     "output_type": "stream",
     "text": [
      "-----------DOWN!------------\n"
     ]
    },
    {
     "name": "stderr",
     "output_type": "stream",
     "text": [
      "100%|███████████████████████████████████████████████████████████████████████████████████████████████████████████████████████████████████████████| 42840/42840 [06:30<00:00, 109.71it/s]\n"
     ]
    },
    {
     "name": "stdout",
     "output_type": "stream",
     "text": [
      "-----------DOWN!------------\n",
      "************Lead time is: 14************\n"
     ]
    },
    {
     "name": "stderr",
     "output_type": "stream",
     "text": [
      "100%|████████████████████████████████████████████████████████████████████████████████████████████████████████████████████████████████████████████| 42840/42840 [07:28<00:00, 95.55it/s]\n"
     ]
    },
    {
     "name": "stdout",
     "output_type": "stream",
     "text": [
      "-----------DOWN!------------\n"
     ]
    },
    {
     "name": "stderr",
     "output_type": "stream",
     "text": [
      "100%|████████████████████████████████████████████████████████████████████████████████████████████████████████████████████████████████████████████| 42840/42840 [07:21<00:00, 96.96it/s]\n"
     ]
    },
    {
     "name": "stdout",
     "output_type": "stream",
     "text": [
      "-----------DOWN!------------\n"
     ]
    },
    {
     "name": "stderr",
     "output_type": "stream",
     "text": [
      "100%|████████████████████████████████████████████████████████████████████████████████████████████████████████████████████████████████████████████| 42840/42840 [07:22<00:00, 96.84it/s]\n"
     ]
    },
    {
     "name": "stdout",
     "output_type": "stream",
     "text": [
      "-----------DOWN!------------\n"
     ]
    },
    {
     "name": "stderr",
     "output_type": "stream",
     "text": [
      "100%|████████████████████████████████████████████████████████████████████████████████████████████████████████████████████████████████████████████| 42840/42840 [07:21<00:00, 96.97it/s]\n"
     ]
    },
    {
     "name": "stdout",
     "output_type": "stream",
     "text": [
      "-----------DOWN!------------\n"
     ]
    },
    {
     "name": "stderr",
     "output_type": "stream",
     "text": [
      "100%|████████████████████████████████████████████████████████████████████████████████████████████████████████████████████████████████████████████| 42840/42840 [07:22<00:00, 96.77it/s]\n"
     ]
    },
    {
     "name": "stdout",
     "output_type": "stream",
     "text": [
      "-----------DOWN!------------\n"
     ]
    },
    {
     "name": "stderr",
     "output_type": "stream",
     "text": [
      "100%|████████████████████████████████████████████████████████████████████████████████████████████████████████████████████████████████████████████| 42840/42840 [07:23<00:00, 96.70it/s]\n"
     ]
    },
    {
     "name": "stdout",
     "output_type": "stream",
     "text": [
      "-----------DOWN!------------\n"
     ]
    },
    {
     "name": "stderr",
     "output_type": "stream",
     "text": [
      "100%|████████████████████████████████████████████████████████████████████████████████████████████████████████████████████████████████████████████| 42840/42840 [07:23<00:00, 96.67it/s]\n"
     ]
    },
    {
     "name": "stdout",
     "output_type": "stream",
     "text": [
      "-----------DOWN!------------\n"
     ]
    },
    {
     "name": "stderr",
     "output_type": "stream",
     "text": [
      "100%|████████████████████████████████████████████████████████████████████████████████████████████████████████████████████████████████████████████| 42840/42840 [07:23<00:00, 96.66it/s]\n"
     ]
    },
    {
     "name": "stdout",
     "output_type": "stream",
     "text": [
      "-----------DOWN!------------\n"
     ]
    },
    {
     "name": "stderr",
     "output_type": "stream",
     "text": [
      "100%|███████████████████████████████████████████████████████████████████████████████████████████████████████████████████████████████████████████| 42840/42840 [06:40<00:00, 106.88it/s]\n"
     ]
    },
    {
     "name": "stdout",
     "output_type": "stream",
     "text": [
      "-----------DOWN!------------\n"
     ]
    },
    {
     "name": "stderr",
     "output_type": "stream",
     "text": [
      "100%|███████████████████████████████████████████████████████████████████████████████████████████████████████████████████████████████████████████| 42840/42840 [06:41<00:00, 106.80it/s]\n"
     ]
    },
    {
     "name": "stdout",
     "output_type": "stream",
     "text": [
      "-----------DOWN!------------\n"
     ]
    },
    {
     "name": "stderr",
     "output_type": "stream",
     "text": [
      "100%|███████████████████████████████████████████████████████████████████████████████████████████████████████████████████████████████████████████| 42840/42840 [06:41<00:00, 106.66it/s]\n"
     ]
    },
    {
     "name": "stdout",
     "output_type": "stream",
     "text": [
      "-----------DOWN!------------\n"
     ]
    },
    {
     "name": "stderr",
     "output_type": "stream",
     "text": [
      "100%|███████████████████████████████████████████████████████████████████████████████████████████████████████████████████████████████████████████| 42840/42840 [06:39<00:00, 107.11it/s]\n"
     ]
    },
    {
     "name": "stdout",
     "output_type": "stream",
     "text": [
      "-----------DOWN!------------\n"
     ]
    },
    {
     "name": "stderr",
     "output_type": "stream",
     "text": [
      "100%|███████████████████████████████████████████████████████████████████████████████████████████████████████████████████████████████████████████| 42840/42840 [06:45<00:00, 105.62it/s]\n"
     ]
    },
    {
     "name": "stdout",
     "output_type": "stream",
     "text": [
      "-----------DOWN!------------\n"
     ]
    },
    {
     "name": "stderr",
     "output_type": "stream",
     "text": [
      "100%|███████████████████████████████████████████████████████████████████████████████████████████████████████████████████████████████████████████| 42840/42840 [06:40<00:00, 106.91it/s]\n"
     ]
    },
    {
     "name": "stdout",
     "output_type": "stream",
     "text": [
      "-----------DOWN!------------\n"
     ]
    },
    {
     "name": "stderr",
     "output_type": "stream",
     "text": [
      "100%|███████████████████████████████████████████████████████████████████████████████████████████████████████████████████████████████████████████| 42840/42840 [06:39<00:00, 107.24it/s]\n"
     ]
    },
    {
     "name": "stdout",
     "output_type": "stream",
     "text": [
      "-----------DOWN!------------\n"
     ]
    },
    {
     "name": "stderr",
     "output_type": "stream",
     "text": [
      "100%|███████████████████████████████████████████████████████████████████████████████████████████████████████████████████████████████████████████| 42840/42840 [06:39<00:00, 107.32it/s]\n"
     ]
    },
    {
     "name": "stdout",
     "output_type": "stream",
     "text": [
      "-----------DOWN!------------\n"
     ]
    }
   ],
   "source": [
    "#lead_time = 1\n",
    "fcst365, actl365 = {},{}\n",
    "for lead_time in [1,3, 7,14]:\n",
    "    print(f\"************Lead time is: {lead_time}************\")\n",
    "    gap1, gap2 = 365,1548\n",
    "    col = ['lgb_base', 'lgb_bu', 'lgb_td', 'lgb_mint', 'ets_base', 'ets_bu','ets_td', 'ets_mint']\n",
    "    trtsy = tr_ts['y']\n",
    "    trtry = tr_tr['y']\n",
    "    trInvtSim = []\n",
    "    for i in col:\n",
    "        df = loop(fcst = trtsy, truth = trtsy, residual = trtry-trtry, NAME = f'tr_{i}', df_list = [],L_=lead_time, gap1 = gap1, gap2 = gap2)\n",
    "        trInvtSim.append(df[['name','ot_90','ot_95','ot_99']])\n",
    "    actl365_L = pd.concat([trInvtSim[i] for i in range(8)])\n",
    "    actl365_L[['ot_90','ot_95','ot_99']] = actl365_L[['ot_90','ot_95','ot_99']].clip(lower=0)\n",
    "    actl365_L.to_pickle(f\"365TRactual_L{lead_time}.pkl\")\n",
    "    #pd.read_pickle(\"365TRactual.pkl\")\n",
    "    trtsy = tr_ts['y']\n",
    "    trtry = tr_tr['y']\n",
    "    trInvtSim = []\n",
    "    for i in col:\n",
    "        df = loop(fcst = tr_ts[i], truth = trtsy, residual = tr_tr[i]-trtry, NAME = f'tr_{i}', df_list = [],\n",
    "              L_=lead_time, gap1 = gap1, gap2 = gap2)\n",
    "        trInvtSim.append(df[['name','ot_90','ot_95','ot_99']])\n",
    "    fcst365_L = pd.concat([trInvtSim[i] for i in range(8)])\n",
    "    fcst365_L[['ot_90','ot_95','ot_99']] = fcst365_L[['ot_90','ot_95','ot_99']].clip(lower=0)\n",
    "    fcst365_L.to_pickle(f\"365TRfcst_L{lead_time}.pkl\")\n",
    "    \n",
    "#actl365_L.to_pickle(f'365TRactual_L{lead_time}.pkl')\n",
    "#fcst365_L.to_pickle(f'365TRfcst_L{lead_time}.pkl')"
   ]
  },
  {
   "cell_type": "markdown",
   "id": "a1ed2098-6590-462e-80b7-7f9455d8e690",
   "metadata": {
    "tags": []
   },
   "source": [
    "## Inventory Reconciliation"
   ]
  },
  {
   "cell_type": "code",
   "execution_count": 2,
   "id": "4cd19e47-3347-40d2-adbd-17be228f3885",
   "metadata": {},
   "outputs": [],
   "source": [
    "path1  = 'C:/PycharmProjects/yjz/Extension for hts/JayCode/Models/'\n",
    "import warnings\n",
    "warnings.simplefilter(\"ignore\")\n",
    "from Invtsim import *\n",
    "import numpy as np\n",
    "import pandas as pd\n",
    "from scipy.stats import norm\n",
    "from hierarchicalforecast.core import HierarchicalReconciliation\n",
    "from hierarchicalforecast.methods import BottomUp, TopDown, MinTrace\n",
    "from tqdm import tqdm\n",
    "\n",
    "\n",
    "lp = {\"l10\" :(0,3049),\"l11\":(3049,3049+9147),\"l12\":(3049+9147,3049+9147+30490)}\n",
    "\n",
    "S       = pd.read_pickle(f\"{path1}721S_df.pkl\")\n",
    "tags    = pd.read_pickle(f\"{path1}tags.bin\")\n",
    "\n",
    "s = pd.concat([S.iloc[lp[i][0]:lp[i][1],:] for i in [\"l10\",\"l11\",\"l12\"]]) \n",
    "taglist = ['total/cat_id/dept_id/item_id',\n",
    "           'total/state_id/cat_id/dept_id/item_id',\n",
    "           'total/state_id/store_id/cat_id/dept_id/item_id']\n",
    "tags_ = {i: tags[i] for i in taglist}\n",
    "\n",
    "gap1    = 365\n",
    "gap2    = 1548\n",
    "train   = pd.read_pickle(f\"{path1}721past_1913.pkl\").reset_index(drop=True)\n",
    "test    = pd.read_pickle(f\"{path1}721future_28.pkl\").reset_index(drop=True)\n",
    "\n",
    "\n",
    "ts_id   = test[['unique_id', 'ds']]\n",
    "tr_id   = train[['unique_id', 'ds']]\n",
    "trts_id = tr_id[tr_id['ds']> gap2].reset_index(drop=True)\n",
    "\n",
    "ts_id  = pd.concat([ts_id.iloc[lp[i][0]*28:lp[i][1]*28,:] for i in [\"l10\",\"l11\",\"l12\"]])\n",
    "tr_id  = pd.concat([trts_id.iloc[lp[i][0]*365:lp[i][1]*365,:] for i in [\"l10\",\"l11\",\"l12\"]])\n",
    "\n",
    "#trtr_id = tr_id[tr_id['ds']<= gap2]"
   ]
  },
  {
   "cell_type": "markdown",
   "id": "9bfc6aa7-5594-4133-8567-85ee932d2a37",
   "metadata": {
    "tags": []
   },
   "source": [
    "## Order MinT"
   ]
  },
  {
   "cell_type": "code",
   "execution_count": 3,
   "id": "9125ec81-baae-49a3-ad0b-ad7433225a4d",
   "metadata": {
    "scrolled": true,
    "tags": []
   },
   "outputs": [
    {
     "name": "stderr",
     "output_type": "stream",
     "text": [
      "100%|█████████████████████████████████████████████████████████████████████████████████████████████████████████████████████████████████████████████████| 8/8 [1:49:16<00:00, 819.55s/it]\n"
     ]
    },
    {
     "name": "stdout",
     "output_type": "stream",
     "text": [
      "Wall time: 1h 51min 3s\n"
     ]
    }
   ],
   "source": [
    "%%time\n",
    "lead_time = 1\n",
    "method = \"wls-var\"\n",
    "names   = ['lgb_base', 'lgb_bu', 'lgb_td', 'lgb_mint', 'ets_base', 'ets_bu','ets_td', 'ets_mint']\n",
    "tr_names= ['tr_lgb_base', 'tr_lgb_bu', 'tr_lgb_td', 'tr_lgb_mint', 'tr_ets_base', 'tr_ets_bu','tr_ets_td', 'tr_ets_mint']\n",
    "lgbs    =  pd.read_pickle(f\"721lgbInvtSim_L{lead_time}.pkl\")\n",
    "etss    = pd.read_pickle(f\"721etsInvtSim_L{lead_time}.pkl\")\n",
    "MMint   = pd.concat([lgbs,etss])[['name','ot_90','ot_95','ot_99']]\n",
    "MMint   = pd.concat([MMint[MMint['name'] == i].iloc[ts_id.index,:] for i in  names])\n",
    "\n",
    "tr_fo   = pd.read_pickle(f\"721_365TRfcst_L{lead_time}.pkl\") ########################################################jiushuo\n",
    "tr_do   = pd.read_pickle(f\"721_365TRactual_L{lead_time}.pkl\").iloc[:,:2]################################################\n",
    "tr_do.columns = ['name','y']\n",
    "tr365   = pd.concat([tr_do, tr_fo[['ot_90','ot_95','ot_99']]],axis=1)\n",
    "tr365   = pd.concat([tr365[tr365['name'] == i].iloc[tr_id.index,:] for i in  tr_names])\n",
    "\n",
    "on   = ['ot_90','ot_95','ot_99']\n",
    "nn = ['lgb_base', 'lgb_bu', 'lgb_td', 'lgb_mint', 'ets_base', 'ets_bu', 'ets_td', 'ets_mint']\n",
    "#nn = ['lgb_base', 'lgb_mint', 'ets_base',  'ets_mint']\n",
    "minimumtrace = [MinTrace(method = \"wls_var\")]#, nonnegative = True\n",
    "mint = HierarchicalReconciliation(reconcilers=minimumtrace)\n",
    "MINTo = []\n",
    "for i in tqdm(range(len(nn))):\n",
    "    lgb_omt = pd.concat([ts_id, MMint[MMint['name'] == f'{nn[i]}'][on]],axis=1)\n",
    "    tr_order= pd.concat([tr_id.reset_index(drop=True), \n",
    "                         tr365[tr365['name'] == f\"tr_{nn[i]}\"].reset_index(drop=True)],axis=1).drop(columns = ['name'])\n",
    "    subset = []\n",
    "    for j in on:\n",
    "        subset.append(mint.reconcile(Y_hat_df=lgb_omt[['unique_id','ds',j]], S=s, tags=tags_,  Y_df= tr_order[['unique_id','ds','y',j]]).iloc[:,-1:])\n",
    "    MINTo.append(pd.concat(subset, axis=1))\n",
    "\n",
    "MinT = pd.concat([MMint.loc[MMint.iloc[:,0].isin(nn),'name'].reset_index(drop=True), \n",
    "                  pd.concat(MINTo).reset_index(drop=True)], axis = 1)\n",
    "#col = MinT.columns[-3:]\n",
    "#MinT[col] =MinT[col].clip(lower=0)\n",
    "MinT.to_pickle(f\"721OrderMinT_{method}_L{lead_time}.pkl\")"
   ]
  },
  {
   "cell_type": "markdown",
   "id": "1a056352-8a79-4098-8130-fa9caeeba5be",
   "metadata": {
    "jp-MarkdownHeadingCollapsed": true,
    "tags": []
   },
   "source": [
    "### L3"
   ]
  },
  {
   "cell_type": "code",
   "execution_count": 25,
   "id": "e44b7529-22d5-46bc-9175-5db697723bff",
   "metadata": {},
   "outputs": [
    {
     "name": "stderr",
     "output_type": "stream",
     "text": [
      "100%|███████████████████████████████████████████████████████████████████████████████████████████████████████████████████████████████████████████████████| 4/4 [53:16<00:00, 799.09s/it]\n"
     ]
    },
    {
     "name": "stdout",
     "output_type": "stream",
     "text": [
      "Wall time: 54min 23s\n"
     ]
    }
   ],
   "source": [
    "%%time\n",
    "lead_time = 3\n",
    "method = \"wls-var\"\n",
    "lgbs    =  pd.read_pickle(f\"lgbInvtSim_L{lead_time}.pkl\")\n",
    "etss    = pd.read_pickle(f\"etsInvtSim_L{lead_time}.pkl\")\n",
    "MMint   = pd.concat([lgbs,etss])[['name','ot_90','ot_95','ot_99']]\n",
    "MMint   = pd.concat([MMint[MMint['name'] == i].iloc[ts_id.index,:] for i in  ['lgb_base', 'lgb_mint', 'ets_base',  'ets_mint']])\n",
    "\n",
    "tr_fo   = pd.read_pickle(f\"365TRfcst_L{lead_time}.pkl\") ########################################################jiushuo\n",
    "tr_do   = pd.read_pickle(f\"365TRactual_L{lead_time}.pkl\").iloc[:,:2]################################################\n",
    "tr_do.columns = ['name','y']\n",
    "tr365   = pd.concat([tr_do, tr_fo[['ot_90','ot_95','ot_99']]],axis=1)\n",
    "tr365   = pd.concat([tr365[tr365['name'] == i].iloc[tr_id.index,:] for i in  ['tr_lgb_base', 'tr_lgb_mint', 'tr_ets_base',  'tr_ets_mint']])\n",
    "\n",
    "on   = ['ot_90','ot_95','ot_99']\n",
    "#nn = ['lgb_base', 'lgb_bu', 'lgb_td', 'lgb_mint', 'ets_base', 'ets_bu', 'ets_td', 'ets_mint']\n",
    "nn = ['lgb_base', 'lgb_mint', 'ets_base',  'ets_mint']\n",
    "minimumtrace = [MinTrace(method = \"wls_var\")]#, nonnegative = True\n",
    "mint = HierarchicalReconciliation(reconcilers=minimumtrace)\n",
    "MINTo = []\n",
    "for i in tqdm(range(len(nn))):\n",
    "    lgb_omt = pd.concat([ts_id, MMint[MMint['name'] == f'{nn[i]}'][on]],axis=1)\n",
    "    tr_order= pd.concat([tr_id.reset_index(drop=True), \n",
    "                         tr365[tr365['name'] == f\"tr_{nn[i]}\"].reset_index(drop=True)],axis=1).drop(columns = ['name'])\n",
    "    subset = []\n",
    "    for j in on:\n",
    "        subset.append(mint.reconcile(Y_hat_df=lgb_omt[['unique_id','ds',j]], \n",
    "                                     S=s, tags=tags_,  Y_df= tr_order[['unique_id','ds','y',j]]).iloc[:,-1:])\n",
    "    MINTo.append(pd.concat(subset, axis=1))\n",
    "\n",
    "MinT = pd.concat([MMint.loc[MMint.iloc[:,0].isin(nn),'name'].reset_index(drop=True), \n",
    "                  pd.concat(MINTo).reset_index(drop=True)], axis = 1)\n",
    "#col = MinT.columns[-3:]\n",
    "#MinT[col] =MinT[col].clip(lower=0)\n",
    "MinT.to_pickle(f\"OrderMinT_L{lead_time}_{method}.pkl\")"
   ]
  },
  {
   "cell_type": "markdown",
   "id": "d09e7a6d-b2d5-496b-a7b9-6b66bb8ab54f",
   "metadata": {
    "jp-MarkdownHeadingCollapsed": true,
    "tags": []
   },
   "source": [
    "### L7"
   ]
  },
  {
   "cell_type": "code",
   "execution_count": 26,
   "id": "7ee1217e-e346-4d0c-8914-0ef24eada8f0",
   "metadata": {},
   "outputs": [
    {
     "name": "stderr",
     "output_type": "stream",
     "text": [
      "100%|███████████████████████████████████████████████████████████████████████████████████████████████████████████████████████████████████████████████████| 4/4 [53:16<00:00, 799.10s/it]\n"
     ]
    },
    {
     "name": "stdout",
     "output_type": "stream",
     "text": [
      "Wall time: 54min 23s\n"
     ]
    }
   ],
   "source": [
    "%%time\n",
    "lead_time = 7\n",
    "method = \"wls-var\"\n",
    "lgbs    =  pd.read_pickle(f\"lgbInvtSim_L{lead_time}.pkl\")\n",
    "etss    = pd.read_pickle(f\"etsInvtSim_L{lead_time}.pkl\")\n",
    "MMint   = pd.concat([lgbs,etss])[['name','ot_90','ot_95','ot_99']]\n",
    "MMint   = pd.concat([MMint[MMint['name'] == i].iloc[ts_id.index,:] for i in  ['lgb_base', 'lgb_mint', 'ets_base',  'ets_mint']])\n",
    "\n",
    "tr_fo   = pd.read_pickle(f\"365TRfcst_L{lead_time}.pkl\") ########################################################jiushuo\n",
    "tr_do   = pd.read_pickle(f\"365TRactual_L{lead_time}.pkl\").iloc[:,:2]################################################\n",
    "tr_do.columns = ['name','y']\n",
    "tr365   = pd.concat([tr_do, tr_fo[['ot_90','ot_95','ot_99']]],axis=1)\n",
    "tr365   = pd.concat([tr365[tr365['name'] == i].iloc[tr_id.index,:] for i in  ['tr_lgb_base', 'tr_lgb_mint', 'tr_ets_base',  'tr_ets_mint']])\n",
    "\n",
    "on   = ['ot_90','ot_95','ot_99']\n",
    "#nn = ['lgb_base', 'lgb_bu', 'lgb_td', 'lgb_mint', 'ets_base', 'ets_bu', 'ets_td', 'ets_mint']\n",
    "nn = ['lgb_base', 'lgb_mint', 'ets_base',  'ets_mint']\n",
    "minimumtrace = [MinTrace(method = \"wls_var\")]#, nonnegative = True\n",
    "mint = HierarchicalReconciliation(reconcilers=minimumtrace)\n",
    "MINTo = []\n",
    "for i in tqdm(range(len(nn))):\n",
    "    lgb_omt = pd.concat([ts_id, MMint[MMint['name'] == f'{nn[i]}'][on]],axis=1)\n",
    "    tr_order= pd.concat([tr_id.reset_index(drop=True), \n",
    "                         tr365[tr365['name'] == f\"tr_{nn[i]}\"].reset_index(drop=True)],axis=1).drop(columns = ['name'])\n",
    "    subset = []\n",
    "    for j in on:\n",
    "        subset.append(mint.reconcile(Y_hat_df=lgb_omt[['unique_id','ds',j]], S=s, tags=tags_,  \n",
    "                                     Y_df= tr_order[['unique_id','ds','y',j]]).iloc[:,-1:])\n",
    "    MINTo.append(pd.concat(subset, axis=1))\n",
    "\n",
    "MinT = pd.concat([MMint.loc[MMint.iloc[:,0].isin(nn),'name'].reset_index(drop=True),\n",
    "                  pd.concat(MINTo).reset_index(drop=True)], axis = 1)\n",
    "#col = MinT.columns[-3:]\n",
    "#MinT[col] =MinT[col].clip(lower=0)\n",
    "MinT.to_pickle(f\"OrderMinT_L{lead_time}_{method}.pkl\")"
   ]
  },
  {
   "cell_type": "markdown",
   "id": "351f01d5-7038-492d-a137-8d6a9710e7b9",
   "metadata": {
    "tags": []
   },
   "source": [
    "## Fixed Order Simulation:"
   ]
  },
  {
   "cell_type": "code",
   "execution_count": 4,
   "id": "ac1246c4-bf00-420d-bae0-84fe3d999979",
   "metadata": {},
   "outputs": [
    {
     "data": {
      "text/plain": [
       "'\\nlp = {\"l1\" :(0,1),\\n      \"l2\" :(1,(1+3)),\\n      \"l4\" :((1+3),(1+3+3)),\\n      \"l3\" :((1+3+3),(1+3+3+10)),\\n      \"l5\" :((1+3+10+3),(1+3+10+3+7)),\\n      \"l6\" :((1+3+10+3+7),(1+3+10+3+7+9)),\\n      \"l7\" :((1+3+10+3+7+9),(1+3+10+3+7+9+21)),\\n      \"l8\" :((1+3+10+3+7+9+21),(1+3+10+3+7+9+21+30)),\\n      \"l10\" :((1+3+10+3+7+9+21+30),(1+3+10+3+7+9+21+30+3049)),\\n      \"l9\":((1+3+10+3+7+9+21+30+3049),(1+3+10+3+7+9+21+30+3049+70)),\\n      \"l11\":((1+3+10+3+7+9+21+30+70+3049),(1+3+10+3+7+9+21+30+70+3049+9147)),\\n      \"l12\":((1+3+10+3+7+9+21+30+70+3049+9147),(1+3+10+3+7+9+21+30+70+3049+9147+30490))}'"
      ]
     },
     "execution_count": 4,
     "metadata": {},
     "output_type": "execute_result"
    }
   ],
   "source": [
    "path1  = 'C:/PycharmProjects/yjz/Extension for hts/JayCode/Models/'\n",
    "from Invtsim import *\n",
    "import numpy as np\n",
    "import pandas as pd\n",
    "from scipy.stats import norm\n",
    "import warnings\n",
    "warnings.simplefilter(\"ignore\")\n",
    "from tqdm import tqdm\n",
    "def loop2( truth, NAME:str, fcst, residual = 0,\n",
    "         gap1: int = 28, gap2:int = 1913,\n",
    "         n = None, \n",
    "         df_list:list = [], \n",
    "         L_ = 3):\n",
    "    if n == None:\n",
    "        n = int(len(truth)/gap1)\n",
    "    for i in tqdm(range(n)):\n",
    "        fcst_1  = fcst[i*gap1:(i+1)*gap1]\n",
    "        truth_1 = truth[i*gap1:(i+1)*gap1]\n",
    "        #res_1   = residual[i*gap2:(i+1)*gap2]\n",
    "        df = InvtSim(fcst = 0, truth = truth_1, residual = residual, name = NAME, L=L_)\n",
    "        res = df.ob_all_t_fixedcase(fixed_order = fcst_1)\n",
    "        df_list.append(res.reset_index(drop = True))\n",
    "    print(\"-----------DOWN!------------\")\n",
    "    return pd.concat(df_list).reset_index(drop=True)\n",
    "'''\n",
    "lp = {\"l1\" :(0,1),\n",
    "      \"l2\" :(1,(1+3)),\n",
    "      \"l4\" :((1+3),(1+3+3)),\n",
    "      \"l3\" :((1+3+3),(1+3+3+10)),\n",
    "      \"l5\" :((1+3+10+3),(1+3+10+3+7)),\n",
    "      \"l6\" :((1+3+10+3+7),(1+3+10+3+7+9)),\n",
    "      \"l7\" :((1+3+10+3+7+9),(1+3+10+3+7+9+21)),\n",
    "      \"l8\" :((1+3+10+3+7+9+21),(1+3+10+3+7+9+21+30)),\n",
    "      \"l10\" :((1+3+10+3+7+9+21+30),(1+3+10+3+7+9+21+30+3049)),\n",
    "      \"l9\":((1+3+10+3+7+9+21+30+3049),(1+3+10+3+7+9+21+30+3049+70)),\n",
    "      \"l11\":((1+3+10+3+7+9+21+30+70+3049),(1+3+10+3+7+9+21+30+70+3049+9147)),\n",
    "      \"l12\":((1+3+10+3+7+9+21+30+70+3049+9147),(1+3+10+3+7+9+21+30+70+3049+9147+30490))}'''\n",
    "\n",
    "#test    = pd.read_pickle(f\"{path1}future_28.pkl\").reset_index(drop=True)\n",
    "#ts_id   = test[['unique_id', 'ds']]\n",
    "#trts_id = tr_id[tr_id['ds']> gap2].reset_index(drop=True)\n",
    "#ts_id  = pd.concat([ts_id.iloc[lp[i][0]*28:lp[i][1]*28,:] for i in [\"l10\",\"l11\",\"l12\"]])"
   ]
  },
  {
   "cell_type": "code",
   "execution_count": 33,
   "id": "70f61c57-c798-453a-8b8c-46a3f1cfdf24",
   "metadata": {},
   "outputs": [],
   "source": [
    "lead_time = 1\n",
    "method =\"wls-var\"\n",
    "MinT = pd.read_pickle(f\"OrderMinT_L{lead_time}_{method}.pkl\")"
   ]
  },
  {
   "cell_type": "code",
   "execution_count": 34,
   "id": "a45968c2-120d-461f-bb4b-dc1944978d51",
   "metadata": {},
   "outputs": [
    {
     "data": {
      "text/html": [
       "<div>\n",
       "<style scoped>\n",
       "    .dataframe tbody tr th:only-of-type {\n",
       "        vertical-align: middle;\n",
       "    }\n",
       "\n",
       "    .dataframe tbody tr th {\n",
       "        vertical-align: top;\n",
       "    }\n",
       "\n",
       "    .dataframe thead th {\n",
       "        text-align: right;\n",
       "    }\n",
       "</style>\n",
       "<table border=\"1\" class=\"dataframe\">\n",
       "  <thead>\n",
       "    <tr style=\"text-align: right;\">\n",
       "      <th></th>\n",
       "      <th>name</th>\n",
       "      <th>ot_90/MinTrace_method-wls_var</th>\n",
       "      <th>ot_95/MinTrace_method-wls_var</th>\n",
       "      <th>ot_99/MinTrace_method-wls_var</th>\n",
       "    </tr>\n",
       "  </thead>\n",
       "  <tbody>\n",
       "    <tr>\n",
       "      <th>0</th>\n",
       "      <td>lgb_base</td>\n",
       "      <td>12.400680</td>\n",
       "      <td>15.371702</td>\n",
       "      <td>20.946312</td>\n",
       "    </tr>\n",
       "    <tr>\n",
       "      <th>1</th>\n",
       "      <td>lgb_base</td>\n",
       "      <td>3.558971</td>\n",
       "      <td>3.559098</td>\n",
       "      <td>3.559311</td>\n",
       "    </tr>\n",
       "    <tr>\n",
       "      <th>2</th>\n",
       "      <td>lgb_base</td>\n",
       "      <td>4.807034</td>\n",
       "      <td>4.806960</td>\n",
       "      <td>4.806828</td>\n",
       "    </tr>\n",
       "    <tr>\n",
       "      <th>3</th>\n",
       "      <td>lgb_base</td>\n",
       "      <td>7.930966</td>\n",
       "      <td>7.930929</td>\n",
       "      <td>7.930865</td>\n",
       "    </tr>\n",
       "    <tr>\n",
       "      <th>4</th>\n",
       "      <td>lgb_base</td>\n",
       "      <td>0.784444</td>\n",
       "      <td>0.784614</td>\n",
       "      <td>0.784941</td>\n",
       "    </tr>\n",
       "    <tr>\n",
       "      <th>...</th>\n",
       "      <td>...</td>\n",
       "      <td>...</td>\n",
       "      <td>...</td>\n",
       "      <td>...</td>\n",
       "    </tr>\n",
       "    <tr>\n",
       "      <th>4780827</th>\n",
       "      <td>ets_mint</td>\n",
       "      <td>0.026650</td>\n",
       "      <td>0.026651</td>\n",
       "      <td>0.026654</td>\n",
       "    </tr>\n",
       "    <tr>\n",
       "      <th>4780828</th>\n",
       "      <td>ets_mint</td>\n",
       "      <td>0.015847</td>\n",
       "      <td>0.015849</td>\n",
       "      <td>0.015854</td>\n",
       "    </tr>\n",
       "    <tr>\n",
       "      <th>4780829</th>\n",
       "      <td>ets_mint</td>\n",
       "      <td>0.032928</td>\n",
       "      <td>0.032928</td>\n",
       "      <td>0.032929</td>\n",
       "    </tr>\n",
       "    <tr>\n",
       "      <th>4780830</th>\n",
       "      <td>ets_mint</td>\n",
       "      <td>0.029291</td>\n",
       "      <td>0.029291</td>\n",
       "      <td>0.029291</td>\n",
       "    </tr>\n",
       "    <tr>\n",
       "      <th>4780831</th>\n",
       "      <td>ets_mint</td>\n",
       "      <td>-0.001975</td>\n",
       "      <td>-0.001975</td>\n",
       "      <td>-0.001975</td>\n",
       "    </tr>\n",
       "  </tbody>\n",
       "</table>\n",
       "<p>4780832 rows × 4 columns</p>\n",
       "</div>"
      ],
      "text/plain": [
       "             name  ot_90/MinTrace_method-wls_var  \\\n",
       "0        lgb_base                      12.400680   \n",
       "1        lgb_base                       3.558971   \n",
       "2        lgb_base                       4.807034   \n",
       "3        lgb_base                       7.930966   \n",
       "4        lgb_base                       0.784444   \n",
       "...           ...                            ...   \n",
       "4780827  ets_mint                       0.026650   \n",
       "4780828  ets_mint                       0.015847   \n",
       "4780829  ets_mint                       0.032928   \n",
       "4780830  ets_mint                       0.029291   \n",
       "4780831  ets_mint                      -0.001975   \n",
       "\n",
       "         ot_95/MinTrace_method-wls_var  ot_99/MinTrace_method-wls_var  \n",
       "0                            15.371702                      20.946312  \n",
       "1                             3.559098                       3.559311  \n",
       "2                             4.806960                       4.806828  \n",
       "3                             7.930929                       7.930865  \n",
       "4                             0.784614                       0.784941  \n",
       "...                                ...                            ...  \n",
       "4780827                       0.026651                       0.026654  \n",
       "4780828                       0.015849                       0.015854  \n",
       "4780829                       0.032928                       0.032929  \n",
       "4780830                       0.029291                       0.029291  \n",
       "4780831                      -0.001975                      -0.001975  \n",
       "\n",
       "[4780832 rows x 4 columns]"
      ]
     },
     "execution_count": 34,
     "metadata": {},
     "output_type": "execute_result"
    }
   ],
   "source": [
    "MinT"
   ]
  },
  {
   "cell_type": "code",
   "execution_count": 30,
   "id": "f213317a-bbce-4eb8-9dea-88e3bcf0ac8f",
   "metadata": {},
   "outputs": [
    {
     "data": {
      "text/html": [
       "<div>\n",
       "<style scoped>\n",
       "    .dataframe tbody tr th:only-of-type {\n",
       "        vertical-align: middle;\n",
       "    }\n",
       "\n",
       "    .dataframe tbody tr th {\n",
       "        vertical-align: top;\n",
       "    }\n",
       "\n",
       "    .dataframe thead th {\n",
       "        text-align: right;\n",
       "    }\n",
       "</style>\n",
       "<table border=\"1\" class=\"dataframe\">\n",
       "  <thead>\n",
       "    <tr style=\"text-align: right;\">\n",
       "      <th></th>\n",
       "      <th>unique_id</th>\n",
       "      <th>ds</th>\n",
       "      <th>y</th>\n",
       "    </tr>\n",
       "  </thead>\n",
       "  <tbody>\n",
       "    <tr>\n",
       "      <th>2352</th>\n",
       "      <td>TOTAL/FOODS/FOODS_1/FOODS_1_001</td>\n",
       "      <td>1914</td>\n",
       "      <td>4</td>\n",
       "    </tr>\n",
       "    <tr>\n",
       "      <th>2353</th>\n",
       "      <td>TOTAL/FOODS/FOODS_1/FOODS_1_001</td>\n",
       "      <td>1915</td>\n",
       "      <td>5</td>\n",
       "    </tr>\n",
       "    <tr>\n",
       "      <th>2354</th>\n",
       "      <td>TOTAL/FOODS/FOODS_1/FOODS_1_001</td>\n",
       "      <td>1916</td>\n",
       "      <td>7</td>\n",
       "    </tr>\n",
       "    <tr>\n",
       "      <th>2355</th>\n",
       "      <td>TOTAL/FOODS/FOODS_1/FOODS_1_001</td>\n",
       "      <td>1917</td>\n",
       "      <td>1</td>\n",
       "    </tr>\n",
       "    <tr>\n",
       "      <th>2356</th>\n",
       "      <td>TOTAL/FOODS/FOODS_1/FOODS_1_001</td>\n",
       "      <td>1918</td>\n",
       "      <td>9</td>\n",
       "    </tr>\n",
       "    <tr>\n",
       "      <th>...</th>\n",
       "      <td>...</td>\n",
       "      <td>...</td>\n",
       "      <td>...</td>\n",
       "    </tr>\n",
       "    <tr>\n",
       "      <th>1199515</th>\n",
       "      <td>TOTAL/WI/WI_3/HOUSEHOLD/HOUSEHOLD_2/HOUSEHOLD_...</td>\n",
       "      <td>1937</td>\n",
       "      <td>0</td>\n",
       "    </tr>\n",
       "    <tr>\n",
       "      <th>1199516</th>\n",
       "      <td>TOTAL/WI/WI_3/HOUSEHOLD/HOUSEHOLD_2/HOUSEHOLD_...</td>\n",
       "      <td>1938</td>\n",
       "      <td>0</td>\n",
       "    </tr>\n",
       "    <tr>\n",
       "      <th>1199517</th>\n",
       "      <td>TOTAL/WI/WI_3/HOUSEHOLD/HOUSEHOLD_2/HOUSEHOLD_...</td>\n",
       "      <td>1939</td>\n",
       "      <td>0</td>\n",
       "    </tr>\n",
       "    <tr>\n",
       "      <th>1199518</th>\n",
       "      <td>TOTAL/WI/WI_3/HOUSEHOLD/HOUSEHOLD_2/HOUSEHOLD_...</td>\n",
       "      <td>1940</td>\n",
       "      <td>0</td>\n",
       "    </tr>\n",
       "    <tr>\n",
       "      <th>1199519</th>\n",
       "      <td>TOTAL/WI/WI_3/HOUSEHOLD/HOUSEHOLD_2/HOUSEHOLD_...</td>\n",
       "      <td>1941</td>\n",
       "      <td>0</td>\n",
       "    </tr>\n",
       "  </tbody>\n",
       "</table>\n",
       "<p>1195208 rows × 3 columns</p>\n",
       "</div>"
      ],
      "text/plain": [
       "                                                 unique_id    ds  y\n",
       "2352                       TOTAL/FOODS/FOODS_1/FOODS_1_001  1914  4\n",
       "2353                       TOTAL/FOODS/FOODS_1/FOODS_1_001  1915  5\n",
       "2354                       TOTAL/FOODS/FOODS_1/FOODS_1_001  1916  7\n",
       "2355                       TOTAL/FOODS/FOODS_1/FOODS_1_001  1917  1\n",
       "2356                       TOTAL/FOODS/FOODS_1/FOODS_1_001  1918  9\n",
       "...                                                    ...   ... ..\n",
       "1199515  TOTAL/WI/WI_3/HOUSEHOLD/HOUSEHOLD_2/HOUSEHOLD_...  1937  0\n",
       "1199516  TOTAL/WI/WI_3/HOUSEHOLD/HOUSEHOLD_2/HOUSEHOLD_...  1938  0\n",
       "1199517  TOTAL/WI/WI_3/HOUSEHOLD/HOUSEHOLD_2/HOUSEHOLD_...  1939  0\n",
       "1199518  TOTAL/WI/WI_3/HOUSEHOLD/HOUSEHOLD_2/HOUSEHOLD_...  1940  0\n",
       "1199519  TOTAL/WI/WI_3/HOUSEHOLD/HOUSEHOLD_2/HOUSEHOLD_...  1941  0\n",
       "\n",
       "[1195208 rows x 3 columns]"
      ]
     },
     "execution_count": 30,
     "metadata": {},
     "output_type": "execute_result"
    }
   ],
   "source": [
    "truth= pd.read_pickle(f\"{path1}future_28.pkl\")\n",
    "truth.iloc[ts_id.index,:]"
   ]
  },
  {
   "cell_type": "markdown",
   "id": "85e48f24-4b6b-441e-b2e9-3c11c5b59e99",
   "metadata": {
    "tags": []
   },
   "source": [
    "### L1"
   ]
  },
  {
   "cell_type": "code",
   "execution_count": 5,
   "id": "67f22216-f1c7-4dd5-b7f5-837b0e1aca91",
   "metadata": {
    "scrolled": true,
    "tags": []
   },
   "outputs": [
    {
     "name": "stderr",
     "output_type": "stream",
     "text": [
      "100%|███████████████████████████████████████████████████████████████████████████████████████████████████████████████████████████████████████████| 42686/42686 [00:53<00:00, 791.12it/s]\n"
     ]
    },
    {
     "name": "stdout",
     "output_type": "stream",
     "text": [
      "-----------DOWN!------------\n"
     ]
    },
    {
     "name": "stderr",
     "output_type": "stream",
     "text": [
      "100%|███████████████████████████████████████████████████████████████████████████████████████████████████████████████████████████████████████████| 42686/42686 [00:53<00:00, 796.36it/s]\n"
     ]
    },
    {
     "name": "stdout",
     "output_type": "stream",
     "text": [
      "-----------DOWN!------------\n"
     ]
    },
    {
     "name": "stderr",
     "output_type": "stream",
     "text": [
      "100%|███████████████████████████████████████████████████████████████████████████████████████████████████████████████████████████████████████████| 42686/42686 [00:53<00:00, 803.22it/s]\n"
     ]
    },
    {
     "name": "stdout",
     "output_type": "stream",
     "text": [
      "-----------DOWN!------------\n"
     ]
    },
    {
     "name": "stderr",
     "output_type": "stream",
     "text": [
      "100%|███████████████████████████████████████████████████████████████████████████████████████████████████████████████████████████████████████████| 42686/42686 [00:53<00:00, 803.86it/s]\n"
     ]
    },
    {
     "name": "stdout",
     "output_type": "stream",
     "text": [
      "-----------DOWN!------------\n"
     ]
    },
    {
     "name": "stderr",
     "output_type": "stream",
     "text": [
      "100%|███████████████████████████████████████████████████████████████████████████████████████████████████████████████████████████████████████████| 42686/42686 [00:53<00:00, 804.38it/s]\n"
     ]
    },
    {
     "name": "stdout",
     "output_type": "stream",
     "text": [
      "-----------DOWN!------------\n"
     ]
    },
    {
     "name": "stderr",
     "output_type": "stream",
     "text": [
      "100%|███████████████████████████████████████████████████████████████████████████████████████████████████████████████████████████████████████████| 42686/42686 [00:52<00:00, 810.09it/s]\n"
     ]
    },
    {
     "name": "stdout",
     "output_type": "stream",
     "text": [
      "-----------DOWN!------------\n"
     ]
    },
    {
     "name": "stderr",
     "output_type": "stream",
     "text": [
      "100%|███████████████████████████████████████████████████████████████████████████████████████████████████████████████████████████████████████████| 42686/42686 [00:53<00:00, 799.84it/s]\n"
     ]
    },
    {
     "name": "stdout",
     "output_type": "stream",
     "text": [
      "-----------DOWN!------------\n"
     ]
    },
    {
     "name": "stderr",
     "output_type": "stream",
     "text": [
      "100%|███████████████████████████████████████████████████████████████████████████████████████████████████████████████████████████████████████████| 42686/42686 [00:52<00:00, 808.86it/s]\n"
     ]
    },
    {
     "name": "stdout",
     "output_type": "stream",
     "text": [
      "-----------DOWN!------------\n"
     ]
    }
   ],
   "source": [
    "#Oemt = pd.read_pickle(\"Order_ets_BU.pkl\")\n",
    "#Olmt = pd.read_pickle(\"Order_lgb_BU.pkl\")\n",
    "lead_time = 1\n",
    "method =\"wls-var\"\n",
    "MinT = pd.read_pickle(f\"721OrderMinT_{method}_L{lead_time}.pkl\") #OrderMinT.pkl#############################################################################\n",
    "col = MinT.columns[-3:]\n",
    "MinT[col] = MinT[col].clip(lower=0)\n",
    "truth= pd.read_pickle(f\"{path1}721future_28.pkl\")['y'].iloc[ts_id.index]\n",
    "Invt_df = []\n",
    "#names   = [ \"lgb_base\", \"lgb_mint\", \"ets_base\", \"ets_mint\"]\n",
    "names   = ['lgb_base', 'lgb_bu', 'lgb_td', 'lgb_mint', 'ets_base', 'ets_bu', 'ets_td', 'ets_mint']\n",
    "for i in names:\n",
    "    df = loop2(fcst = MinT[MinT['name'] == i].iloc[:,-3:], truth = truth,\n",
    "               residual = [], NAME = i, df_list = [],L_=lead_time)# L_=3\n",
    "    Invt_df.append(df)\n",
    "pd.concat(Invt_df).to_pickle(f\"721MinTOrder_{method}_L{lead_time}.pkl\")"
   ]
  },
  {
   "cell_type": "code",
   "execution_count": 6,
   "id": "1c65edef-5b53-4ea2-af38-74ba5f02c53d",
   "metadata": {},
   "outputs": [
    {
     "data": {
      "text/html": [
       "<div>\n",
       "<style scoped>\n",
       "    .dataframe tbody tr th:only-of-type {\n",
       "        vertical-align: middle;\n",
       "    }\n",
       "\n",
       "    .dataframe tbody tr th {\n",
       "        vertical-align: top;\n",
       "    }\n",
       "\n",
       "    .dataframe thead th {\n",
       "        text-align: right;\n",
       "    }\n",
       "</style>\n",
       "<table border=\"1\" class=\"dataframe\">\n",
       "  <thead>\n",
       "    <tr style=\"text-align: right;\">\n",
       "      <th></th>\n",
       "      <th>name</th>\n",
       "      <th>true_demand</th>\n",
       "      <th>forecasts</th>\n",
       "      <th>ot_90</th>\n",
       "      <th>ip_90</th>\n",
       "      <th>net_90</th>\n",
       "      <th>backlog_90</th>\n",
       "      <th>ch_90</th>\n",
       "      <th>cb_90</th>\n",
       "      <th>ot_95</th>\n",
       "      <th>...</th>\n",
       "      <th>net_95</th>\n",
       "      <th>backlog_95</th>\n",
       "      <th>ch_95</th>\n",
       "      <th>cb_95</th>\n",
       "      <th>ot_99</th>\n",
       "      <th>ip_99</th>\n",
       "      <th>net_99</th>\n",
       "      <th>backlog_99</th>\n",
       "      <th>ch_99</th>\n",
       "      <th>cb_99</th>\n",
       "    </tr>\n",
       "  </thead>\n",
       "  <tbody>\n",
       "    <tr>\n",
       "      <th>0</th>\n",
       "      <td>lgb_base</td>\n",
       "      <td>4</td>\n",
       "      <td>0</td>\n",
       "      <td>12.400680</td>\n",
       "      <td>12.400680</td>\n",
       "      <td>12.400680</td>\n",
       "      <td>0.0</td>\n",
       "      <td>12.400680</td>\n",
       "      <td>0.0</td>\n",
       "      <td>15.371702</td>\n",
       "      <td>...</td>\n",
       "      <td>15.371702</td>\n",
       "      <td>0.0</td>\n",
       "      <td>15.371702</td>\n",
       "      <td>0.0</td>\n",
       "      <td>20.946312</td>\n",
       "      <td>20.946312</td>\n",
       "      <td>20.946312</td>\n",
       "      <td>0.0</td>\n",
       "      <td>20.946312</td>\n",
       "      <td>0.0</td>\n",
       "    </tr>\n",
       "    <tr>\n",
       "      <th>1</th>\n",
       "      <td>lgb_base</td>\n",
       "      <td>5</td>\n",
       "      <td>0</td>\n",
       "      <td>3.558971</td>\n",
       "      <td>10.959652</td>\n",
       "      <td>10.959652</td>\n",
       "      <td>0.0</td>\n",
       "      <td>10.959652</td>\n",
       "      <td>0.0</td>\n",
       "      <td>3.559098</td>\n",
       "      <td>...</td>\n",
       "      <td>13.930800</td>\n",
       "      <td>0.0</td>\n",
       "      <td>13.930800</td>\n",
       "      <td>0.0</td>\n",
       "      <td>3.559311</td>\n",
       "      <td>19.505623</td>\n",
       "      <td>19.505623</td>\n",
       "      <td>0.0</td>\n",
       "      <td>19.505623</td>\n",
       "      <td>0.0</td>\n",
       "    </tr>\n",
       "    <tr>\n",
       "      <th>2</th>\n",
       "      <td>lgb_base</td>\n",
       "      <td>7</td>\n",
       "      <td>0</td>\n",
       "      <td>4.807034</td>\n",
       "      <td>8.766686</td>\n",
       "      <td>8.766686</td>\n",
       "      <td>0.0</td>\n",
       "      <td>8.766686</td>\n",
       "      <td>0.0</td>\n",
       "      <td>4.806960</td>\n",
       "      <td>...</td>\n",
       "      <td>11.737760</td>\n",
       "      <td>0.0</td>\n",
       "      <td>11.737760</td>\n",
       "      <td>0.0</td>\n",
       "      <td>4.806828</td>\n",
       "      <td>17.312451</td>\n",
       "      <td>17.312451</td>\n",
       "      <td>0.0</td>\n",
       "      <td>17.312451</td>\n",
       "      <td>0.0</td>\n",
       "    </tr>\n",
       "    <tr>\n",
       "      <th>3</th>\n",
       "      <td>lgb_base</td>\n",
       "      <td>1</td>\n",
       "      <td>0</td>\n",
       "      <td>7.930966</td>\n",
       "      <td>15.697652</td>\n",
       "      <td>15.697652</td>\n",
       "      <td>0.0</td>\n",
       "      <td>15.697652</td>\n",
       "      <td>0.0</td>\n",
       "      <td>7.930929</td>\n",
       "      <td>...</td>\n",
       "      <td>18.668689</td>\n",
       "      <td>0.0</td>\n",
       "      <td>18.668689</td>\n",
       "      <td>0.0</td>\n",
       "      <td>7.930865</td>\n",
       "      <td>24.243316</td>\n",
       "      <td>24.243316</td>\n",
       "      <td>0.0</td>\n",
       "      <td>24.243316</td>\n",
       "      <td>0.0</td>\n",
       "    </tr>\n",
       "    <tr>\n",
       "      <th>4</th>\n",
       "      <td>lgb_base</td>\n",
       "      <td>9</td>\n",
       "      <td>0</td>\n",
       "      <td>0.784444</td>\n",
       "      <td>7.482096</td>\n",
       "      <td>7.482096</td>\n",
       "      <td>0.0</td>\n",
       "      <td>7.482096</td>\n",
       "      <td>0.0</td>\n",
       "      <td>0.784614</td>\n",
       "      <td>...</td>\n",
       "      <td>10.453303</td>\n",
       "      <td>0.0</td>\n",
       "      <td>10.453303</td>\n",
       "      <td>0.0</td>\n",
       "      <td>0.784941</td>\n",
       "      <td>16.028256</td>\n",
       "      <td>16.028256</td>\n",
       "      <td>0.0</td>\n",
       "      <td>16.028256</td>\n",
       "      <td>0.0</td>\n",
       "    </tr>\n",
       "    <tr>\n",
       "      <th>...</th>\n",
       "      <td>...</td>\n",
       "      <td>...</td>\n",
       "      <td>...</td>\n",
       "      <td>...</td>\n",
       "      <td>...</td>\n",
       "      <td>...</td>\n",
       "      <td>...</td>\n",
       "      <td>...</td>\n",
       "      <td>...</td>\n",
       "      <td>...</td>\n",
       "      <td>...</td>\n",
       "      <td>...</td>\n",
       "      <td>...</td>\n",
       "      <td>...</td>\n",
       "      <td>...</td>\n",
       "      <td>...</td>\n",
       "      <td>...</td>\n",
       "      <td>...</td>\n",
       "      <td>...</td>\n",
       "      <td>...</td>\n",
       "      <td>...</td>\n",
       "    </tr>\n",
       "    <tr>\n",
       "      <th>1195203</th>\n",
       "      <td>ets_mint</td>\n",
       "      <td>0</td>\n",
       "      <td>0</td>\n",
       "      <td>0.022120</td>\n",
       "      <td>0.430208</td>\n",
       "      <td>0.430208</td>\n",
       "      <td>0.0</td>\n",
       "      <td>0.430208</td>\n",
       "      <td>0.0</td>\n",
       "      <td>0.022121</td>\n",
       "      <td>...</td>\n",
       "      <td>0.515247</td>\n",
       "      <td>0.0</td>\n",
       "      <td>0.515247</td>\n",
       "      <td>0.0</td>\n",
       "      <td>0.022125</td>\n",
       "      <td>0.674714</td>\n",
       "      <td>0.674714</td>\n",
       "      <td>0.0</td>\n",
       "      <td>0.674714</td>\n",
       "      <td>0.0</td>\n",
       "    </tr>\n",
       "    <tr>\n",
       "      <th>1195204</th>\n",
       "      <td>ets_mint</td>\n",
       "      <td>0</td>\n",
       "      <td>0</td>\n",
       "      <td>0.013577</td>\n",
       "      <td>0.443785</td>\n",
       "      <td>0.443785</td>\n",
       "      <td>0.0</td>\n",
       "      <td>0.443785</td>\n",
       "      <td>0.0</td>\n",
       "      <td>0.013579</td>\n",
       "      <td>...</td>\n",
       "      <td>0.528826</td>\n",
       "      <td>0.0</td>\n",
       "      <td>0.528826</td>\n",
       "      <td>0.0</td>\n",
       "      <td>0.013584</td>\n",
       "      <td>0.688298</td>\n",
       "      <td>0.688298</td>\n",
       "      <td>0.0</td>\n",
       "      <td>0.688298</td>\n",
       "      <td>0.0</td>\n",
       "    </tr>\n",
       "    <tr>\n",
       "      <th>1195205</th>\n",
       "      <td>ets_mint</td>\n",
       "      <td>0</td>\n",
       "      <td>0</td>\n",
       "      <td>0.025355</td>\n",
       "      <td>0.469140</td>\n",
       "      <td>0.469140</td>\n",
       "      <td>0.0</td>\n",
       "      <td>0.469140</td>\n",
       "      <td>0.0</td>\n",
       "      <td>0.025355</td>\n",
       "      <td>...</td>\n",
       "      <td>0.554181</td>\n",
       "      <td>0.0</td>\n",
       "      <td>0.554181</td>\n",
       "      <td>0.0</td>\n",
       "      <td>0.025357</td>\n",
       "      <td>0.713655</td>\n",
       "      <td>0.713655</td>\n",
       "      <td>0.0</td>\n",
       "      <td>0.713655</td>\n",
       "      <td>0.0</td>\n",
       "    </tr>\n",
       "    <tr>\n",
       "      <th>1195206</th>\n",
       "      <td>ets_mint</td>\n",
       "      <td>0</td>\n",
       "      <td>0</td>\n",
       "      <td>0.026458</td>\n",
       "      <td>0.495599</td>\n",
       "      <td>0.495599</td>\n",
       "      <td>0.0</td>\n",
       "      <td>0.495599</td>\n",
       "      <td>0.0</td>\n",
       "      <td>0.026459</td>\n",
       "      <td>...</td>\n",
       "      <td>0.580640</td>\n",
       "      <td>0.0</td>\n",
       "      <td>0.580640</td>\n",
       "      <td>0.0</td>\n",
       "      <td>0.026459</td>\n",
       "      <td>0.740114</td>\n",
       "      <td>0.740114</td>\n",
       "      <td>0.0</td>\n",
       "      <td>0.740114</td>\n",
       "      <td>0.0</td>\n",
       "    </tr>\n",
       "    <tr>\n",
       "      <th>1195207</th>\n",
       "      <td>ets_mint</td>\n",
       "      <td>0</td>\n",
       "      <td>0</td>\n",
       "      <td>0.000000</td>\n",
       "      <td>0.495599</td>\n",
       "      <td>0.495599</td>\n",
       "      <td>0.0</td>\n",
       "      <td>0.495599</td>\n",
       "      <td>0.0</td>\n",
       "      <td>0.000000</td>\n",
       "      <td>...</td>\n",
       "      <td>0.580640</td>\n",
       "      <td>0.0</td>\n",
       "      <td>0.580640</td>\n",
       "      <td>0.0</td>\n",
       "      <td>0.000000</td>\n",
       "      <td>0.740114</td>\n",
       "      <td>0.740114</td>\n",
       "      <td>0.0</td>\n",
       "      <td>0.740114</td>\n",
       "      <td>0.0</td>\n",
       "    </tr>\n",
       "  </tbody>\n",
       "</table>\n",
       "<p>9561664 rows × 21 columns</p>\n",
       "</div>"
      ],
      "text/plain": [
       "             name  true_demand  forecasts      ot_90      ip_90     net_90  \\\n",
       "0        lgb_base            4          0  12.400680  12.400680  12.400680   \n",
       "1        lgb_base            5          0   3.558971  10.959652  10.959652   \n",
       "2        lgb_base            7          0   4.807034   8.766686   8.766686   \n",
       "3        lgb_base            1          0   7.930966  15.697652  15.697652   \n",
       "4        lgb_base            9          0   0.784444   7.482096   7.482096   \n",
       "...           ...          ...        ...        ...        ...        ...   \n",
       "1195203  ets_mint            0          0   0.022120   0.430208   0.430208   \n",
       "1195204  ets_mint            0          0   0.013577   0.443785   0.443785   \n",
       "1195205  ets_mint            0          0   0.025355   0.469140   0.469140   \n",
       "1195206  ets_mint            0          0   0.026458   0.495599   0.495599   \n",
       "1195207  ets_mint            0          0   0.000000   0.495599   0.495599   \n",
       "\n",
       "         backlog_90      ch_90  cb_90      ot_95  ...     net_95  backlog_95  \\\n",
       "0               0.0  12.400680    0.0  15.371702  ...  15.371702         0.0   \n",
       "1               0.0  10.959652    0.0   3.559098  ...  13.930800         0.0   \n",
       "2               0.0   8.766686    0.0   4.806960  ...  11.737760         0.0   \n",
       "3               0.0  15.697652    0.0   7.930929  ...  18.668689         0.0   \n",
       "4               0.0   7.482096    0.0   0.784614  ...  10.453303         0.0   \n",
       "...             ...        ...    ...        ...  ...        ...         ...   \n",
       "1195203         0.0   0.430208    0.0   0.022121  ...   0.515247         0.0   \n",
       "1195204         0.0   0.443785    0.0   0.013579  ...   0.528826         0.0   \n",
       "1195205         0.0   0.469140    0.0   0.025355  ...   0.554181         0.0   \n",
       "1195206         0.0   0.495599    0.0   0.026459  ...   0.580640         0.0   \n",
       "1195207         0.0   0.495599    0.0   0.000000  ...   0.580640         0.0   \n",
       "\n",
       "             ch_95  cb_95      ot_99      ip_99     net_99  backlog_99  \\\n",
       "0        15.371702    0.0  20.946312  20.946312  20.946312         0.0   \n",
       "1        13.930800    0.0   3.559311  19.505623  19.505623         0.0   \n",
       "2        11.737760    0.0   4.806828  17.312451  17.312451         0.0   \n",
       "3        18.668689    0.0   7.930865  24.243316  24.243316         0.0   \n",
       "4        10.453303    0.0   0.784941  16.028256  16.028256         0.0   \n",
       "...            ...    ...        ...        ...        ...         ...   \n",
       "1195203   0.515247    0.0   0.022125   0.674714   0.674714         0.0   \n",
       "1195204   0.528826    0.0   0.013584   0.688298   0.688298         0.0   \n",
       "1195205   0.554181    0.0   0.025357   0.713655   0.713655         0.0   \n",
       "1195206   0.580640    0.0   0.026459   0.740114   0.740114         0.0   \n",
       "1195207   0.580640    0.0   0.000000   0.740114   0.740114         0.0   \n",
       "\n",
       "             ch_99  cb_99  \n",
       "0        20.946312    0.0  \n",
       "1        19.505623    0.0  \n",
       "2        17.312451    0.0  \n",
       "3        24.243316    0.0  \n",
       "4        16.028256    0.0  \n",
       "...            ...    ...  \n",
       "1195203   0.674714    0.0  \n",
       "1195204   0.688298    0.0  \n",
       "1195205   0.713655    0.0  \n",
       "1195206   0.740114    0.0  \n",
       "1195207   0.740114    0.0  \n",
       "\n",
       "[9561664 rows x 21 columns]"
      ]
     },
     "execution_count": 6,
     "metadata": {},
     "output_type": "execute_result"
    }
   ],
   "source": [
    "pd.concat(Invt_df)"
   ]
  },
  {
   "cell_type": "code",
   "execution_count": 12,
   "id": "aa1ea359-f48b-4678-842b-988c96ecf9e9",
   "metadata": {},
   "outputs": [
    {
     "data": {
      "text/plain": [
       "backlog_90    880697.026838\n",
       "backlog_95    668290.126171\n",
       "backlog_99    423891.268430\n",
       "dtype: float64"
      ]
     },
     "execution_count": 12,
     "metadata": {},
     "output_type": "execute_result"
    }
   ],
   "source": [
    "a[['backlog_90','backlog_95','backlog_99']].sum()#[['ot_90','ot_95','ot_99']]"
   ]
  },
  {
   "cell_type": "markdown",
   "id": "de2ffe7f-3fe0-4570-ac4f-1bcb89f82397",
   "metadata": {
    "jp-MarkdownHeadingCollapsed": true,
    "tags": []
   },
   "source": [
    "### L3"
   ]
  },
  {
   "cell_type": "code",
   "execution_count": 35,
   "id": "f8b7f5fa-ddbb-4076-bc4f-19a840a7129d",
   "metadata": {
    "scrolled": true,
    "tags": []
   },
   "outputs": [
    {
     "name": "stderr",
     "output_type": "stream",
     "text": [
      "100%|███████████████████████████████████████████████████████████████████████████████████████████████████████████████████████████████████████████| 42686/42686 [00:59<00:00, 712.18it/s]\n"
     ]
    },
    {
     "name": "stdout",
     "output_type": "stream",
     "text": [
      "-----------DOWN!------------\n"
     ]
    },
    {
     "name": "stderr",
     "output_type": "stream",
     "text": [
      "100%|███████████████████████████████████████████████████████████████████████████████████████████████████████████████████████████████████████████| 42686/42686 [00:59<00:00, 719.76it/s]\n"
     ]
    },
    {
     "name": "stdout",
     "output_type": "stream",
     "text": [
      "-----------DOWN!------------\n"
     ]
    },
    {
     "name": "stderr",
     "output_type": "stream",
     "text": [
      "100%|███████████████████████████████████████████████████████████████████████████████████████████████████████████████████████████████████████████| 42686/42686 [00:59<00:00, 719.86it/s]\n"
     ]
    },
    {
     "name": "stdout",
     "output_type": "stream",
     "text": [
      "-----------DOWN!------------\n"
     ]
    },
    {
     "name": "stderr",
     "output_type": "stream",
     "text": [
      "100%|███████████████████████████████████████████████████████████████████████████████████████████████████████████████████████████████████████████| 42686/42686 [00:58<00:00, 732.03it/s]\n"
     ]
    },
    {
     "name": "stdout",
     "output_type": "stream",
     "text": [
      "-----------DOWN!------------\n"
     ]
    }
   ],
   "source": [
    "lead_time = 3\n",
    "method =\"wls-var\"\n",
    "MinT = pd.read_pickle(f\"OrderMinT_L{lead_time}_{method}.pkl\") #OrderMinT.pkl#############################################################################\n",
    "col = MinT.columns[-3:]\n",
    "MinT[col] = MinT[col].clip(lower=0)\n",
    "truth= pd.read_pickle(f\"{path1}future_28.pkl\")['y'].iloc[ts_id.index]\n",
    "Invt_df = []\n",
    "names   = [ \"lgb_base\", \"lgb_mint\", \"ets_base\", \"ets_mint\"]\n",
    "for i in names:\n",
    "    df = loop2(fcst = MinT[MinT['name'] == i].iloc[:,-3:], truth = truth,\n",
    "               residual = [], NAME = i, df_list = [],L_=lead_time)# L_=3\n",
    "    Invt_df.append(df)\n",
    "pd.concat(Invt_df).to_pickle(f\"MinTOrder_L{lead_time}_{method}.pkl\")"
   ]
  },
  {
   "cell_type": "markdown",
   "id": "31dba3a7-2787-4c36-8f31-2b2979493e83",
   "metadata": {
    "jp-MarkdownHeadingCollapsed": true,
    "tags": []
   },
   "source": [
    "### L7"
   ]
  },
  {
   "cell_type": "code",
   "execution_count": 36,
   "id": "de51ac0b-b1f3-4eaa-9eda-0d1443d24b42",
   "metadata": {},
   "outputs": [
    {
     "name": "stderr",
     "output_type": "stream",
     "text": [
      "100%|███████████████████████████████████████████████████████████████████████████████████████████████████████████████████████████████████████████| 42686/42686 [01:06<00:00, 645.63it/s]\n"
     ]
    },
    {
     "name": "stdout",
     "output_type": "stream",
     "text": [
      "-----------DOWN!------------\n"
     ]
    },
    {
     "name": "stderr",
     "output_type": "stream",
     "text": [
      "100%|███████████████████████████████████████████████████████████████████████████████████████████████████████████████████████████████████████████| 42686/42686 [01:06<00:00, 638.28it/s]\n"
     ]
    },
    {
     "name": "stdout",
     "output_type": "stream",
     "text": [
      "-----------DOWN!------------\n"
     ]
    },
    {
     "name": "stderr",
     "output_type": "stream",
     "text": [
      "100%|███████████████████████████████████████████████████████████████████████████████████████████████████████████████████████████████████████████| 42686/42686 [01:05<00:00, 653.69it/s]\n"
     ]
    },
    {
     "name": "stdout",
     "output_type": "stream",
     "text": [
      "-----------DOWN!------------\n"
     ]
    },
    {
     "name": "stderr",
     "output_type": "stream",
     "text": [
      "100%|███████████████████████████████████████████████████████████████████████████████████████████████████████████████████████████████████████████| 42686/42686 [01:04<00:00, 659.77it/s]\n"
     ]
    },
    {
     "name": "stdout",
     "output_type": "stream",
     "text": [
      "-----------DOWN!------------\n"
     ]
    }
   ],
   "source": [
    "lead_time = 7\n",
    "method =\"wls-var\"\n",
    "MinT = pd.read_pickle(f\"OrderMinT_L{lead_time}_{method}.pkl\") #OrderMinT.pkl#############################################################################\n",
    "col = MinT.columns[-3:]\n",
    "MinT[col] = MinT[col].clip(lower=0)\n",
    "truth= pd.read_pickle(f\"{path1}future_28.pkl\")['y'].iloc[ts_id.index]\n",
    "Invt_df = []\n",
    "names   = [ \"lgb_base\", \"lgb_mint\", \"ets_base\", \"ets_mint\"]\n",
    "for i in names:\n",
    "    df = loop2(fcst = MinT[MinT['name'] == i].iloc[:,-3:], truth = truth,\n",
    "               residual = [], NAME = i, df_list = [],L_=lead_time)# L_=3\n",
    "    Invt_df.append(df)\n",
    "pd.concat(Invt_df).to_pickle(f\"MinTOrder_L{lead_time}_{method}.pkl\")"
   ]
  },
  {
   "cell_type": "code",
   "execution_count": 1,
   "id": "e18071cb-4ea0-4547-a811-91420ecda68c",
   "metadata": {},
   "outputs": [
    {
     "data": {
      "text/html": [
       "<div>\n",
       "<style scoped>\n",
       "    .dataframe tbody tr th:only-of-type {\n",
       "        vertical-align: middle;\n",
       "    }\n",
       "\n",
       "    .dataframe tbody tr th {\n",
       "        vertical-align: top;\n",
       "    }\n",
       "\n",
       "    .dataframe thead th {\n",
       "        text-align: right;\n",
       "    }\n",
       "</style>\n",
       "<table border=\"1\" class=\"dataframe\">\n",
       "  <thead>\n",
       "    <tr style=\"text-align: right;\">\n",
       "      <th></th>\n",
       "      <th>name</th>\n",
       "      <th>true_demand</th>\n",
       "      <th>forecasts</th>\n",
       "      <th>ot_90</th>\n",
       "      <th>ip_90</th>\n",
       "      <th>net_90</th>\n",
       "      <th>backlog_90</th>\n",
       "      <th>ch_90</th>\n",
       "      <th>cb_90</th>\n",
       "      <th>ot_95</th>\n",
       "      <th>...</th>\n",
       "      <th>net_95</th>\n",
       "      <th>backlog_95</th>\n",
       "      <th>ch_95</th>\n",
       "      <th>cb_95</th>\n",
       "      <th>ot_99</th>\n",
       "      <th>ip_99</th>\n",
       "      <th>net_99</th>\n",
       "      <th>backlog_99</th>\n",
       "      <th>ch_99</th>\n",
       "      <th>cb_99</th>\n",
       "    </tr>\n",
       "  </thead>\n",
       "  <tbody>\n",
       "    <tr>\n",
       "      <th>0</th>\n",
       "      <td>lgb_base</td>\n",
       "      <td>4</td>\n",
       "      <td>0</td>\n",
       "      <td>12.400680</td>\n",
       "      <td>12.400680</td>\n",
       "      <td>12.400680</td>\n",
       "      <td>0.0</td>\n",
       "      <td>12.400680</td>\n",
       "      <td>0.0</td>\n",
       "      <td>15.371702</td>\n",
       "      <td>...</td>\n",
       "      <td>15.371702</td>\n",
       "      <td>0.0</td>\n",
       "      <td>15.371702</td>\n",
       "      <td>0.0</td>\n",
       "      <td>20.946312</td>\n",
       "      <td>20.946312</td>\n",
       "      <td>20.946312</td>\n",
       "      <td>0.0</td>\n",
       "      <td>20.946312</td>\n",
       "      <td>0.0</td>\n",
       "    </tr>\n",
       "    <tr>\n",
       "      <th>1</th>\n",
       "      <td>lgb_base</td>\n",
       "      <td>5</td>\n",
       "      <td>0</td>\n",
       "      <td>3.558971</td>\n",
       "      <td>10.959652</td>\n",
       "      <td>10.959652</td>\n",
       "      <td>0.0</td>\n",
       "      <td>10.959652</td>\n",
       "      <td>0.0</td>\n",
       "      <td>3.559098</td>\n",
       "      <td>...</td>\n",
       "      <td>13.930800</td>\n",
       "      <td>0.0</td>\n",
       "      <td>13.930800</td>\n",
       "      <td>0.0</td>\n",
       "      <td>3.559311</td>\n",
       "      <td>19.505623</td>\n",
       "      <td>19.505623</td>\n",
       "      <td>0.0</td>\n",
       "      <td>19.505623</td>\n",
       "      <td>0.0</td>\n",
       "    </tr>\n",
       "    <tr>\n",
       "      <th>2</th>\n",
       "      <td>lgb_base</td>\n",
       "      <td>7</td>\n",
       "      <td>0</td>\n",
       "      <td>4.807034</td>\n",
       "      <td>8.766686</td>\n",
       "      <td>8.766686</td>\n",
       "      <td>0.0</td>\n",
       "      <td>8.766686</td>\n",
       "      <td>0.0</td>\n",
       "      <td>4.806960</td>\n",
       "      <td>...</td>\n",
       "      <td>11.737760</td>\n",
       "      <td>0.0</td>\n",
       "      <td>11.737760</td>\n",
       "      <td>0.0</td>\n",
       "      <td>4.806828</td>\n",
       "      <td>17.312451</td>\n",
       "      <td>17.312451</td>\n",
       "      <td>0.0</td>\n",
       "      <td>17.312451</td>\n",
       "      <td>0.0</td>\n",
       "    </tr>\n",
       "    <tr>\n",
       "      <th>3</th>\n",
       "      <td>lgb_base</td>\n",
       "      <td>1</td>\n",
       "      <td>0</td>\n",
       "      <td>7.930966</td>\n",
       "      <td>15.697652</td>\n",
       "      <td>15.697652</td>\n",
       "      <td>0.0</td>\n",
       "      <td>15.697652</td>\n",
       "      <td>0.0</td>\n",
       "      <td>7.930929</td>\n",
       "      <td>...</td>\n",
       "      <td>18.668689</td>\n",
       "      <td>0.0</td>\n",
       "      <td>18.668689</td>\n",
       "      <td>0.0</td>\n",
       "      <td>7.930865</td>\n",
       "      <td>24.243316</td>\n",
       "      <td>24.243316</td>\n",
       "      <td>0.0</td>\n",
       "      <td>24.243316</td>\n",
       "      <td>0.0</td>\n",
       "    </tr>\n",
       "    <tr>\n",
       "      <th>4</th>\n",
       "      <td>lgb_base</td>\n",
       "      <td>9</td>\n",
       "      <td>0</td>\n",
       "      <td>0.784444</td>\n",
       "      <td>7.482096</td>\n",
       "      <td>7.482096</td>\n",
       "      <td>0.0</td>\n",
       "      <td>7.482096</td>\n",
       "      <td>0.0</td>\n",
       "      <td>0.784614</td>\n",
       "      <td>...</td>\n",
       "      <td>10.453303</td>\n",
       "      <td>0.0</td>\n",
       "      <td>10.453303</td>\n",
       "      <td>0.0</td>\n",
       "      <td>0.784941</td>\n",
       "      <td>16.028256</td>\n",
       "      <td>16.028256</td>\n",
       "      <td>0.0</td>\n",
       "      <td>16.028256</td>\n",
       "      <td>0.0</td>\n",
       "    </tr>\n",
       "    <tr>\n",
       "      <th>...</th>\n",
       "      <td>...</td>\n",
       "      <td>...</td>\n",
       "      <td>...</td>\n",
       "      <td>...</td>\n",
       "      <td>...</td>\n",
       "      <td>...</td>\n",
       "      <td>...</td>\n",
       "      <td>...</td>\n",
       "      <td>...</td>\n",
       "      <td>...</td>\n",
       "      <td>...</td>\n",
       "      <td>...</td>\n",
       "      <td>...</td>\n",
       "      <td>...</td>\n",
       "      <td>...</td>\n",
       "      <td>...</td>\n",
       "      <td>...</td>\n",
       "      <td>...</td>\n",
       "      <td>...</td>\n",
       "      <td>...</td>\n",
       "      <td>...</td>\n",
       "    </tr>\n",
       "    <tr>\n",
       "      <th>1195203</th>\n",
       "      <td>ets_mint</td>\n",
       "      <td>0</td>\n",
       "      <td>0</td>\n",
       "      <td>0.026650</td>\n",
       "      <td>0.424379</td>\n",
       "      <td>0.424379</td>\n",
       "      <td>0.0</td>\n",
       "      <td>0.424379</td>\n",
       "      <td>0.0</td>\n",
       "      <td>0.026651</td>\n",
       "      <td>...</td>\n",
       "      <td>0.509039</td>\n",
       "      <td>0.0</td>\n",
       "      <td>0.509039</td>\n",
       "      <td>0.0</td>\n",
       "      <td>0.026654</td>\n",
       "      <td>0.667800</td>\n",
       "      <td>0.667800</td>\n",
       "      <td>0.0</td>\n",
       "      <td>0.667800</td>\n",
       "      <td>0.0</td>\n",
       "    </tr>\n",
       "    <tr>\n",
       "      <th>1195204</th>\n",
       "      <td>ets_mint</td>\n",
       "      <td>0</td>\n",
       "      <td>0</td>\n",
       "      <td>0.015847</td>\n",
       "      <td>0.440226</td>\n",
       "      <td>0.440226</td>\n",
       "      <td>0.0</td>\n",
       "      <td>0.440226</td>\n",
       "      <td>0.0</td>\n",
       "      <td>0.015849</td>\n",
       "      <td>...</td>\n",
       "      <td>0.524888</td>\n",
       "      <td>0.0</td>\n",
       "      <td>0.524888</td>\n",
       "      <td>0.0</td>\n",
       "      <td>0.015854</td>\n",
       "      <td>0.683653</td>\n",
       "      <td>0.683653</td>\n",
       "      <td>0.0</td>\n",
       "      <td>0.683653</td>\n",
       "      <td>0.0</td>\n",
       "    </tr>\n",
       "    <tr>\n",
       "      <th>1195205</th>\n",
       "      <td>ets_mint</td>\n",
       "      <td>0</td>\n",
       "      <td>0</td>\n",
       "      <td>0.032928</td>\n",
       "      <td>0.473153</td>\n",
       "      <td>0.473153</td>\n",
       "      <td>0.0</td>\n",
       "      <td>0.473153</td>\n",
       "      <td>0.0</td>\n",
       "      <td>0.032928</td>\n",
       "      <td>...</td>\n",
       "      <td>0.557816</td>\n",
       "      <td>0.0</td>\n",
       "      <td>0.557816</td>\n",
       "      <td>0.0</td>\n",
       "      <td>0.032929</td>\n",
       "      <td>0.716583</td>\n",
       "      <td>0.716583</td>\n",
       "      <td>0.0</td>\n",
       "      <td>0.716583</td>\n",
       "      <td>0.0</td>\n",
       "    </tr>\n",
       "    <tr>\n",
       "      <th>1195206</th>\n",
       "      <td>ets_mint</td>\n",
       "      <td>0</td>\n",
       "      <td>0</td>\n",
       "      <td>0.029291</td>\n",
       "      <td>0.502444</td>\n",
       "      <td>0.502444</td>\n",
       "      <td>0.0</td>\n",
       "      <td>0.502444</td>\n",
       "      <td>0.0</td>\n",
       "      <td>0.029291</td>\n",
       "      <td>...</td>\n",
       "      <td>0.587107</td>\n",
       "      <td>0.0</td>\n",
       "      <td>0.587107</td>\n",
       "      <td>0.0</td>\n",
       "      <td>0.029291</td>\n",
       "      <td>0.745874</td>\n",
       "      <td>0.745874</td>\n",
       "      <td>0.0</td>\n",
       "      <td>0.745874</td>\n",
       "      <td>0.0</td>\n",
       "    </tr>\n",
       "    <tr>\n",
       "      <th>1195207</th>\n",
       "      <td>ets_mint</td>\n",
       "      <td>0</td>\n",
       "      <td>0</td>\n",
       "      <td>0.000000</td>\n",
       "      <td>0.502444</td>\n",
       "      <td>0.502444</td>\n",
       "      <td>0.0</td>\n",
       "      <td>0.502444</td>\n",
       "      <td>0.0</td>\n",
       "      <td>0.000000</td>\n",
       "      <td>...</td>\n",
       "      <td>0.587107</td>\n",
       "      <td>0.0</td>\n",
       "      <td>0.587107</td>\n",
       "      <td>0.0</td>\n",
       "      <td>0.000000</td>\n",
       "      <td>0.745874</td>\n",
       "      <td>0.745874</td>\n",
       "      <td>0.0</td>\n",
       "      <td>0.745874</td>\n",
       "      <td>0.0</td>\n",
       "    </tr>\n",
       "  </tbody>\n",
       "</table>\n",
       "<p>4780832 rows × 21 columns</p>\n",
       "</div>"
      ],
      "text/plain": [
       "             name  true_demand  forecasts      ot_90      ip_90     net_90  \\\n",
       "0        lgb_base            4          0  12.400680  12.400680  12.400680   \n",
       "1        lgb_base            5          0   3.558971  10.959652  10.959652   \n",
       "2        lgb_base            7          0   4.807034   8.766686   8.766686   \n",
       "3        lgb_base            1          0   7.930966  15.697652  15.697652   \n",
       "4        lgb_base            9          0   0.784444   7.482096   7.482096   \n",
       "...           ...          ...        ...        ...        ...        ...   \n",
       "1195203  ets_mint            0          0   0.026650   0.424379   0.424379   \n",
       "1195204  ets_mint            0          0   0.015847   0.440226   0.440226   \n",
       "1195205  ets_mint            0          0   0.032928   0.473153   0.473153   \n",
       "1195206  ets_mint            0          0   0.029291   0.502444   0.502444   \n",
       "1195207  ets_mint            0          0   0.000000   0.502444   0.502444   \n",
       "\n",
       "         backlog_90      ch_90  cb_90      ot_95  ...     net_95  backlog_95  \\\n",
       "0               0.0  12.400680    0.0  15.371702  ...  15.371702         0.0   \n",
       "1               0.0  10.959652    0.0   3.559098  ...  13.930800         0.0   \n",
       "2               0.0   8.766686    0.0   4.806960  ...  11.737760         0.0   \n",
       "3               0.0  15.697652    0.0   7.930929  ...  18.668689         0.0   \n",
       "4               0.0   7.482096    0.0   0.784614  ...  10.453303         0.0   \n",
       "...             ...        ...    ...        ...  ...        ...         ...   \n",
       "1195203         0.0   0.424379    0.0   0.026651  ...   0.509039         0.0   \n",
       "1195204         0.0   0.440226    0.0   0.015849  ...   0.524888         0.0   \n",
       "1195205         0.0   0.473153    0.0   0.032928  ...   0.557816         0.0   \n",
       "1195206         0.0   0.502444    0.0   0.029291  ...   0.587107         0.0   \n",
       "1195207         0.0   0.502444    0.0   0.000000  ...   0.587107         0.0   \n",
       "\n",
       "             ch_95  cb_95      ot_99      ip_99     net_99  backlog_99  \\\n",
       "0        15.371702    0.0  20.946312  20.946312  20.946312         0.0   \n",
       "1        13.930800    0.0   3.559311  19.505623  19.505623         0.0   \n",
       "2        11.737760    0.0   4.806828  17.312451  17.312451         0.0   \n",
       "3        18.668689    0.0   7.930865  24.243316  24.243316         0.0   \n",
       "4        10.453303    0.0   0.784941  16.028256  16.028256         0.0   \n",
       "...            ...    ...        ...        ...        ...         ...   \n",
       "1195203   0.509039    0.0   0.026654   0.667800   0.667800         0.0   \n",
       "1195204   0.524888    0.0   0.015854   0.683653   0.683653         0.0   \n",
       "1195205   0.557816    0.0   0.032929   0.716583   0.716583         0.0   \n",
       "1195206   0.587107    0.0   0.029291   0.745874   0.745874         0.0   \n",
       "1195207   0.587107    0.0   0.000000   0.745874   0.745874         0.0   \n",
       "\n",
       "             ch_99  cb_99  \n",
       "0        20.946312    0.0  \n",
       "1        19.505623    0.0  \n",
       "2        17.312451    0.0  \n",
       "3        24.243316    0.0  \n",
       "4        16.028256    0.0  \n",
       "...            ...    ...  \n",
       "1195203   0.667800    0.0  \n",
       "1195204   0.683653    0.0  \n",
       "1195205   0.716583    0.0  \n",
       "1195206   0.745874    0.0  \n",
       "1195207   0.745874    0.0  \n",
       "\n",
       "[4780832 rows x 21 columns]"
      ]
     },
     "execution_count": 1,
     "metadata": {},
     "output_type": "execute_result"
    }
   ],
   "source": [
    "import pandas as pd\n",
    "lead_time = 1\n",
    "method = \"wls-var\"\n",
    "pd.read_pickle(f\"MinTOrder_L{lead_time}_{method}.pkl\")"
   ]
  },
  {
   "cell_type": "code",
   "execution_count": null,
   "id": "d5c16b3a-fc5d-4aea-b9b9-c76cd75a371a",
   "metadata": {},
   "outputs": [],
   "source": []
  }
 ],
 "metadata": {
  "kernelspec": {
   "display_name": "Python 3 (ipykernel)",
   "language": "python",
   "name": "python3"
  },
  "language_info": {
   "codemirror_mode": {
    "name": "ipython",
    "version": 3
   },
   "file_extension": ".py",
   "mimetype": "text/x-python",
   "name": "python",
   "nbconvert_exporter": "python",
   "pygments_lexer": "ipython3",
   "version": "3.9.7"
  }
 },
 "nbformat": 4,
 "nbformat_minor": 5
}
