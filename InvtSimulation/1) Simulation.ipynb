{
 "cells": [
  {
   "cell_type": "code",
   "execution_count": 1,
   "id": "8168a484-6847-4e90-b11e-3cc2b4f0d0ff",
   "metadata": {
    "tags": []
   },
   "outputs": [],
   "source": [
    "path1  = 'C:/PycharmProjects/yjz/Extension for hts/JayCode/Models/'\n",
    "from Invtsim import * \n",
    "import numpy as np\n",
    "import pandas as pd\n",
    "from scipy.stats import norm\n",
    "import warnings\n",
    "warnings.simplefilter(\"ignore\")\n",
    "from tqdm import tqdm"
   ]
  },
  {
   "cell_type": "code",
   "execution_count": 2,
   "id": "5c221aaf-fc9a-467f-9c42-627d2cfbcbb6",
   "metadata": {
    "scrolled": true,
    "tags": []
   },
   "outputs": [],
   "source": [
    "fcst    = pd.read_pickle(f\"{path1}721fcsts_base2cohe.pkl\")\n",
    "fitt    = pd.read_pickle(f\"{path1}721fitts_base2cohe.pkl\")\n",
    "\n",
    "ets     = fcst.iloc[:,4:]\n",
    "lgb     = fcst.iloc[:,:4]\n",
    "\n",
    "etsf    = fitt.iloc[:,4:]\n",
    "lgbf    = fitt.iloc[:,:4]\n",
    "\n",
    "test    = pd.read_pickle(f\"{path1}721future_28.pkl\").reset_index(drop=True)\n",
    "truth   = test[\"y\"]\n",
    "history = pd.read_pickle(f\"{path1}721past_1913.pkl\")\n",
    "\n",
    "ets_resid = pd.concat({ f\"{etsf.columns[i]}\": history['y'] - etsf.iloc[:,i] for i in range(4)},axis=1)\n",
    "lgb_resid = pd.concat({ f\"{lgbf.columns[i]}\": history['y'] - lgbf.iloc[:,i] for i in range(4)},axis=1)"
   ]
  },
  {
   "cell_type": "code",
   "execution_count": 3,
   "id": "4791d4f0-316a-4f72-ac8f-fa894ec22c4f",
   "metadata": {},
   "outputs": [
    {
     "data": {
      "text/html": [
       "<div>\n",
       "<style scoped>\n",
       "    .dataframe tbody tr th:only-of-type {\n",
       "        vertical-align: middle;\n",
       "    }\n",
       "\n",
       "    .dataframe tbody tr th {\n",
       "        vertical-align: top;\n",
       "    }\n",
       "\n",
       "    .dataframe thead th {\n",
       "        text-align: right;\n",
       "    }\n",
       "</style>\n",
       "<table border=\"1\" class=\"dataframe\">\n",
       "  <thead>\n",
       "    <tr style=\"text-align: right;\">\n",
       "      <th></th>\n",
       "      <th>lgb_base</th>\n",
       "      <th>lgb_bu</th>\n",
       "      <th>lgb_td</th>\n",
       "      <th>lgb_mint</th>\n",
       "      <th>ets_base</th>\n",
       "      <th>ets_bu</th>\n",
       "      <th>ets_td</th>\n",
       "      <th>ets_mint</th>\n",
       "    </tr>\n",
       "  </thead>\n",
       "  <tbody>\n",
       "    <tr>\n",
       "      <th>0</th>\n",
       "      <td>10.427386</td>\n",
       "      <td>31.892026</td>\n",
       "      <td>10.427386</td>\n",
       "      <td>6.554925</td>\n",
       "      <td>4.361950</td>\n",
       "      <td>7.949644</td>\n",
       "      <td>4.361950</td>\n",
       "      <td>6.269733</td>\n",
       "    </tr>\n",
       "    <tr>\n",
       "      <th>1</th>\n",
       "      <td>6.017043</td>\n",
       "      <td>18.424095</td>\n",
       "      <td>6.017043</td>\n",
       "      <td>8.308634</td>\n",
       "      <td>5.869864</td>\n",
       "      <td>8.418413</td>\n",
       "      <td>5.869864</td>\n",
       "      <td>7.040606</td>\n",
       "    </tr>\n",
       "    <tr>\n",
       "      <th>2</th>\n",
       "      <td>2.831026</td>\n",
       "      <td>5.822718</td>\n",
       "      <td>2.831026</td>\n",
       "      <td>3.816622</td>\n",
       "      <td>7.009515</td>\n",
       "      <td>8.708042</td>\n",
       "      <td>7.009515</td>\n",
       "      <td>7.274240</td>\n",
       "    </tr>\n",
       "    <tr>\n",
       "      <th>3</th>\n",
       "      <td>3.167066</td>\n",
       "      <td>5.835477</td>\n",
       "      <td>3.167066</td>\n",
       "      <td>4.299868</td>\n",
       "      <td>7.721546</td>\n",
       "      <td>8.858576</td>\n",
       "      <td>7.721546</td>\n",
       "      <td>7.508198</td>\n",
       "    </tr>\n",
       "    <tr>\n",
       "      <th>4</th>\n",
       "      <td>3.511534</td>\n",
       "      <td>4.095703</td>\n",
       "      <td>3.511534</td>\n",
       "      <td>4.408462</td>\n",
       "      <td>8.318248</td>\n",
       "      <td>9.023244</td>\n",
       "      <td>8.318248</td>\n",
       "      <td>8.263259</td>\n",
       "    </tr>\n",
       "    <tr>\n",
       "      <th>...</th>\n",
       "      <td>...</td>\n",
       "      <td>...</td>\n",
       "      <td>...</td>\n",
       "      <td>...</td>\n",
       "      <td>...</td>\n",
       "      <td>...</td>\n",
       "      <td>...</td>\n",
       "      <td>...</td>\n",
       "    </tr>\n",
       "    <tr>\n",
       "      <th>81658313</th>\n",
       "      <td>0.125571</td>\n",
       "      <td>0.125571</td>\n",
       "      <td>0.125571</td>\n",
       "      <td>0.028646</td>\n",
       "      <td>0.079155</td>\n",
       "      <td>0.079155</td>\n",
       "      <td>0.079155</td>\n",
       "      <td>0.017801</td>\n",
       "    </tr>\n",
       "    <tr>\n",
       "      <th>81658314</th>\n",
       "      <td>0.134732</td>\n",
       "      <td>0.134732</td>\n",
       "      <td>0.134732</td>\n",
       "      <td>0.032594</td>\n",
       "      <td>0.078329</td>\n",
       "      <td>0.078329</td>\n",
       "      <td>0.078329</td>\n",
       "      <td>0.041732</td>\n",
       "    </tr>\n",
       "    <tr>\n",
       "      <th>81658315</th>\n",
       "      <td>0.139261</td>\n",
       "      <td>0.139261</td>\n",
       "      <td>0.139261</td>\n",
       "      <td>0.036976</td>\n",
       "      <td>0.077508</td>\n",
       "      <td>0.077508</td>\n",
       "      <td>0.077508</td>\n",
       "      <td>0.073077</td>\n",
       "    </tr>\n",
       "    <tr>\n",
       "      <th>81658316</th>\n",
       "      <td>0.150921</td>\n",
       "      <td>0.150921</td>\n",
       "      <td>0.150921</td>\n",
       "      <td>0.037568</td>\n",
       "      <td>0.076693</td>\n",
       "      <td>0.076693</td>\n",
       "      <td>0.076693</td>\n",
       "      <td>0.069677</td>\n",
       "    </tr>\n",
       "    <tr>\n",
       "      <th>81658317</th>\n",
       "      <td>0.150921</td>\n",
       "      <td>0.150921</td>\n",
       "      <td>0.150921</td>\n",
       "      <td>0.039516</td>\n",
       "      <td>0.075882</td>\n",
       "      <td>0.075882</td>\n",
       "      <td>0.075882</td>\n",
       "      <td>0.071203</td>\n",
       "    </tr>\n",
       "  </tbody>\n",
       "</table>\n",
       "<p>81658318 rows × 8 columns</p>\n",
       "</div>"
      ],
      "text/plain": [
       "           lgb_base     lgb_bu     lgb_td  lgb_mint  ets_base    ets_bu  \\\n",
       "0         10.427386  31.892026  10.427386  6.554925  4.361950  7.949644   \n",
       "1          6.017043  18.424095   6.017043  8.308634  5.869864  8.418413   \n",
       "2          2.831026   5.822718   2.831026  3.816622  7.009515  8.708042   \n",
       "3          3.167066   5.835477   3.167066  4.299868  7.721546  8.858576   \n",
       "4          3.511534   4.095703   3.511534  4.408462  8.318248  9.023244   \n",
       "...             ...        ...        ...       ...       ...       ...   \n",
       "81658313   0.125571   0.125571   0.125571  0.028646  0.079155  0.079155   \n",
       "81658314   0.134732   0.134732   0.134732  0.032594  0.078329  0.078329   \n",
       "81658315   0.139261   0.139261   0.139261  0.036976  0.077508  0.077508   \n",
       "81658316   0.150921   0.150921   0.150921  0.037568  0.076693  0.076693   \n",
       "81658317   0.150921   0.150921   0.150921  0.039516  0.075882  0.075882   \n",
       "\n",
       "            ets_td  ets_mint  \n",
       "0         4.361950  6.269733  \n",
       "1         5.869864  7.040606  \n",
       "2         7.009515  7.274240  \n",
       "3         7.721546  7.508198  \n",
       "4         8.318248  8.263259  \n",
       "...            ...       ...  \n",
       "81658313  0.079155  0.017801  \n",
       "81658314  0.078329  0.041732  \n",
       "81658315  0.077508  0.073077  \n",
       "81658316  0.076693  0.069677  \n",
       "81658317  0.075882  0.071203  \n",
       "\n",
       "[81658318 rows x 8 columns]"
      ]
     },
     "execution_count": 3,
     "metadata": {},
     "output_type": "execute_result"
    }
   ],
   "source": [
    "fitt"
   ]
  },
  {
   "cell_type": "markdown",
   "id": "a31d9ae4-24ca-4b94-8759-6688c1668cf9",
   "metadata": {
    "tags": []
   },
   "source": [
    "## Verify:"
   ]
  },
  {
   "cell_type": "code",
   "execution_count": 4,
   "id": "a9e0717a-e07a-4b7f-ae70-4641d1071e49",
   "metadata": {
    "tags": []
   },
   "outputs": [],
   "source": [
    "'''\n",
    "lp = {\"l1\" :(0,1),\n",
    "      \"l2\" :(1,(1+3)),\n",
    "      \"l4\" :((1+3),(1+3+3)),\n",
    "      \"l3\" :((1+3+3),(1+3+3+10)),\n",
    "      \"l5\" :((1+3+10+3),(1+3+10+3+7)),\n",
    "      \"l6\" :((1+3+10+3+7),(1+3+10+3+7+9)),\n",
    "      \"l7\" :((1+3+10+3+7+9),(1+3+10+3+7+9+21)),\n",
    "      \"l8\" :((1+3+10+3+7+9+21),(1+3+10+3+7+9+21+30)),\n",
    "      \"l10\" :((1+3+10+3+7+9+21+30),(1+3+10+3+7+9+21+30+3049)),\n",
    "      \"l9\":((1+3+10+3+7+9+21+30+3049),(1+3+10+3+7+9+21+30+3049+70)),\n",
    "      \"l11\":((1+3+10+3+7+9+21+30+70+3049),(1+3+10+3+7+9+21+30+70+3049+9147)),\n",
    "      \"l12\":((1+3+10+3+7+9+21+30+70+3049+9147),(1+3+10+3+7+9+21+30+70+3049+9147+30490))}'''\n",
    "\n",
    "lp = {\"l10\" :(0,3049),\"l11\":(3049,3049+9147),\"l12\":(3049+9147,3049+9147+30490)}\n",
    "\n",
    "def check(lp:dict, df:pd.DataFrame, col:str = 'backlog', gap:int = 28):\n",
    "    asl = []\n",
    "    for i in lp.keys():\n",
    "        bt = df[lp[i][0]*gap:lp[i][1]*gap]\n",
    "        l1 = bt[col]\n",
    "        if col == 'backlog':\n",
    "            print(f\"{len(l1[l1==0])/len(l1)}\")\n",
    "            asl.append(len(l1[l1==0])/len(l1))\n",
    "        else:\n",
    "            asl.append(l1.mean())\n",
    "    return asl"
   ]
  },
  {
   "cell_type": "code",
   "execution_count": 5,
   "id": "bd051191-385d-4d19-b46c-323749a0fefe",
   "metadata": {
    "tags": []
   },
   "outputs": [],
   "source": [
    "def loop(fcst, truth, residual, NAME:str,\n",
    "         gap1: int = 28, gap2:int = 1913,\n",
    "         n = None, \n",
    "         df_list:list = [], \n",
    "         L_ = 3):\n",
    "    if n == None:\n",
    "        n = int(len(fcst)/gap1)\n",
    "    for i in tqdm(range(n)):\n",
    "        fcst_1  = fcst[i*gap1:(i+1)*gap1]\n",
    "        truth_1 = truth[i*gap1:(i+1)*gap1]\n",
    "        res_1   = residual[i*gap2:(i+1)*gap2]\n",
    "        df = InvtSim(fcst = fcst_1, truth = truth_1, residual = res_1, name = NAME, L=L_)\n",
    "        res = df.ob_all_t()\n",
    "        df_list.append(res.reset_index(drop = True))\n",
    "    #results = pd.concat(res)\n",
    "    print(\"-----------DOWN!------------\")\n",
    "    return pd.concat(df_list).reset_index(drop=True)"
   ]
  },
  {
   "cell_type": "code",
   "execution_count": 6,
   "id": "1693d23a-4b77-4b6c-acab-5bbd96e75c95",
   "metadata": {
    "scrolled": true,
    "tags": []
   },
   "outputs": [
    {
     "name": "stderr",
     "output_type": "stream",
     "text": [
      "100%|█████████████████████████████████████████████████████████████████████████████████████████████████████████████████████████████████████████████████████| 1/1 [00:00<00:00, 284.30it/s]"
     ]
    },
    {
     "name": "stdout",
     "output_type": "stream",
     "text": [
      "-----------DOWN!------------\n"
     ]
    },
    {
     "name": "stderr",
     "output_type": "stream",
     "text": [
      "\n"
     ]
    }
   ],
   "source": [
    "df = loop(fcst = fcst['lgb_base'], truth = truth, residual = lgb_resid['lgb_base'], NAME = 'lgb_base', df_list = [],L_=1,n=1)\n",
    "a = df[['cb_90','cb_95','cb_99']]#[['ot_90','ip_90','ot_95','ip_95','ot_99','ip_99']]#[['backlog_90','backlog_95','backlog_99']]#"
   ]
  },
  {
   "cell_type": "code",
   "execution_count": 9,
   "id": "840f019a-e508-47fb-8522-99b6ed28177a",
   "metadata": {},
   "outputs": [],
   "source": [
    "trto = pd.read_pickle(f\"365TRactual_L{lead_time}.pkl\")\n",
    "trfo = pd.read_pickle(f\"365TRfcst_L{lead_time}.pkl\")"
   ]
  },
  {
   "cell_type": "code",
   "execution_count": 10,
   "id": "d9431a82-e91d-4a1f-a8c5-6505a5974e70",
   "metadata": {},
   "outputs": [
    {
     "data": {
      "text/html": [
       "<div>\n",
       "<style scoped>\n",
       "    .dataframe tbody tr th:only-of-type {\n",
       "        vertical-align: middle;\n",
       "    }\n",
       "\n",
       "    .dataframe tbody tr th {\n",
       "        vertical-align: top;\n",
       "    }\n",
       "\n",
       "    .dataframe thead th {\n",
       "        text-align: right;\n",
       "    }\n",
       "</style>\n",
       "<table border=\"1\" class=\"dataframe\">\n",
       "  <thead>\n",
       "    <tr style=\"text-align: right;\">\n",
       "      <th></th>\n",
       "      <th>name</th>\n",
       "      <th>ot_90</th>\n",
       "      <th>ot_95</th>\n",
       "      <th>ot_99</th>\n",
       "    </tr>\n",
       "  </thead>\n",
       "  <tbody>\n",
       "    <tr>\n",
       "      <th>0</th>\n",
       "      <td>tr_lgb_base</td>\n",
       "      <td>0.0</td>\n",
       "      <td>0.0</td>\n",
       "      <td>0.0</td>\n",
       "    </tr>\n",
       "    <tr>\n",
       "      <th>1</th>\n",
       "      <td>tr_lgb_base</td>\n",
       "      <td>33444.0</td>\n",
       "      <td>33444.0</td>\n",
       "      <td>33444.0</td>\n",
       "    </tr>\n",
       "    <tr>\n",
       "      <th>2</th>\n",
       "      <td>tr_lgb_base</td>\n",
       "      <td>29750.0</td>\n",
       "      <td>29750.0</td>\n",
       "      <td>29750.0</td>\n",
       "    </tr>\n",
       "    <tr>\n",
       "      <th>3</th>\n",
       "      <td>tr_lgb_base</td>\n",
       "      <td>28667.0</td>\n",
       "      <td>28667.0</td>\n",
       "      <td>28667.0</td>\n",
       "    </tr>\n",
       "    <tr>\n",
       "      <th>4</th>\n",
       "      <td>tr_lgb_base</td>\n",
       "      <td>30553.0</td>\n",
       "      <td>30553.0</td>\n",
       "      <td>30553.0</td>\n",
       "    </tr>\n",
       "    <tr>\n",
       "      <th>...</th>\n",
       "      <td>...</td>\n",
       "      <td>...</td>\n",
       "      <td>...</td>\n",
       "      <td>...</td>\n",
       "    </tr>\n",
       "    <tr>\n",
       "      <th>15636595</th>\n",
       "      <td>tr_ets_mint</td>\n",
       "      <td>0.0</td>\n",
       "      <td>0.0</td>\n",
       "      <td>0.0</td>\n",
       "    </tr>\n",
       "    <tr>\n",
       "      <th>15636596</th>\n",
       "      <td>tr_ets_mint</td>\n",
       "      <td>0.0</td>\n",
       "      <td>0.0</td>\n",
       "      <td>0.0</td>\n",
       "    </tr>\n",
       "    <tr>\n",
       "      <th>15636597</th>\n",
       "      <td>tr_ets_mint</td>\n",
       "      <td>0.0</td>\n",
       "      <td>0.0</td>\n",
       "      <td>0.0</td>\n",
       "    </tr>\n",
       "    <tr>\n",
       "      <th>15636598</th>\n",
       "      <td>tr_ets_mint</td>\n",
       "      <td>0.0</td>\n",
       "      <td>0.0</td>\n",
       "      <td>0.0</td>\n",
       "    </tr>\n",
       "    <tr>\n",
       "      <th>15636599</th>\n",
       "      <td>tr_ets_mint</td>\n",
       "      <td>0.0</td>\n",
       "      <td>0.0</td>\n",
       "      <td>0.0</td>\n",
       "    </tr>\n",
       "  </tbody>\n",
       "</table>\n",
       "<p>125092800 rows × 4 columns</p>\n",
       "</div>"
      ],
      "text/plain": [
       "                 name    ot_90    ot_95    ot_99\n",
       "0         tr_lgb_base      0.0      0.0      0.0\n",
       "1         tr_lgb_base  33444.0  33444.0  33444.0\n",
       "2         tr_lgb_base  29750.0  29750.0  29750.0\n",
       "3         tr_lgb_base  28667.0  28667.0  28667.0\n",
       "4         tr_lgb_base  30553.0  30553.0  30553.0\n",
       "...               ...      ...      ...      ...\n",
       "15636595  tr_ets_mint      0.0      0.0      0.0\n",
       "15636596  tr_ets_mint      0.0      0.0      0.0\n",
       "15636597  tr_ets_mint      0.0      0.0      0.0\n",
       "15636598  tr_ets_mint      0.0      0.0      0.0\n",
       "15636599  tr_ets_mint      0.0      0.0      0.0\n",
       "\n",
       "[125092800 rows x 4 columns]"
      ]
     },
     "execution_count": 10,
     "metadata": {},
     "output_type": "execute_result"
    }
   ],
   "source": [
    "trto"
   ]
  },
  {
   "cell_type": "code",
   "execution_count": 18,
   "id": "08bccb86-0da0-4f30-aac4-9cbdd0d0786e",
   "metadata": {},
   "outputs": [
    {
     "data": {
      "text/plain": [
       "42840.0"
      ]
     },
     "execution_count": 18,
     "metadata": {},
     "output_type": "execute_result"
    }
   ],
   "source": [
    "125092800/8/365"
   ]
  },
  {
   "cell_type": "markdown",
   "id": "7f57bec8-3765-4d46-8e01-c8b7b179e288",
   "metadata": {
    "tags": []
   },
   "source": [
    "## LEAD TIME 1:"
   ]
  },
  {
   "cell_type": "code",
   "execution_count": 14,
   "id": "e94094c6-2c34-4c49-adfa-64ac17186a17",
   "metadata": {
    "scrolled": true,
    "tags": []
   },
   "outputs": [
    {
     "name": "stderr",
     "output_type": "stream",
     "text": [
      "100%|███████████████████████████████████████████████████████████████████████████████████████████████████████████████████████████████████████████| 42686/42686 [01:18<00:00, 545.46it/s]\n"
     ]
    },
    {
     "name": "stdout",
     "output_type": "stream",
     "text": [
      "-----------DOWN!------------\n"
     ]
    },
    {
     "name": "stderr",
     "output_type": "stream",
     "text": [
      "100%|███████████████████████████████████████████████████████████████████████████████████████████████████████████████████████████████████████████| 42686/42686 [01:19<00:00, 540.27it/s]\n"
     ]
    },
    {
     "name": "stdout",
     "output_type": "stream",
     "text": [
      "-----------DOWN!------------\n"
     ]
    },
    {
     "name": "stderr",
     "output_type": "stream",
     "text": [
      "100%|███████████████████████████████████████████████████████████████████████████████████████████████████████████████████████████████████████████| 42686/42686 [01:17<00:00, 549.42it/s]\n"
     ]
    },
    {
     "name": "stdout",
     "output_type": "stream",
     "text": [
      "-----------DOWN!------------\n"
     ]
    },
    {
     "name": "stderr",
     "output_type": "stream",
     "text": [
      "100%|███████████████████████████████████████████████████████████████████████████████████████████████████████████████████████████████████████████| 42686/42686 [01:17<00:00, 547.51it/s]\n"
     ]
    },
    {
     "name": "stdout",
     "output_type": "stream",
     "text": [
      "-----------DOWN!------------\n"
     ]
    },
    {
     "name": "stderr",
     "output_type": "stream",
     "text": [
      "100%|███████████████████████████████████████████████████████████████████████████████████████████████████████████████████████████████████████████| 42686/42686 [01:18<00:00, 544.40it/s]\n"
     ]
    },
    {
     "name": "stdout",
     "output_type": "stream",
     "text": [
      "-----------DOWN!------------\n"
     ]
    },
    {
     "name": "stderr",
     "output_type": "stream",
     "text": [
      "100%|███████████████████████████████████████████████████████████████████████████████████████████████████████████████████████████████████████████| 42686/42686 [01:18<00:00, 544.87it/s]\n"
     ]
    },
    {
     "name": "stdout",
     "output_type": "stream",
     "text": [
      "-----------DOWN!------------\n"
     ]
    },
    {
     "name": "stderr",
     "output_type": "stream",
     "text": [
      "100%|███████████████████████████████████████████████████████████████████████████████████████████████████████████████████████████████████████████| 42686/42686 [01:17<00:00, 548.61it/s]\n"
     ]
    },
    {
     "name": "stdout",
     "output_type": "stream",
     "text": [
      "-----------DOWN!------------\n"
     ]
    },
    {
     "name": "stderr",
     "output_type": "stream",
     "text": [
      "100%|███████████████████████████████████████████████████████████████████████████████████████████████████████████████████████████████████████████| 42686/42686 [01:17<00:00, 551.25it/s]\n"
     ]
    },
    {
     "name": "stdout",
     "output_type": "stream",
     "text": [
      "-----------DOWN!------------\n"
     ]
    }
   ],
   "source": [
    "Invt_df = []\n",
    "nam_lgb = [ \"lgb_base\", \"lgb_bu\", \"lgb_td\", \"lgb_mint\"]\n",
    "nam_ets = [ \"ets_base\", \"ets_bu\", \"ets_td\", \"ets_mint\"]\n",
    "lead_time = 1\n",
    "#trto = pd.read_pickle(f\"365TRactual_L{lead_time}.pkl\")\n",
    "#trfo = pd.read_pickle(f\"365TRfcst_L{lead_time}.pkl\")\n",
    "for i in nam_lgb:\n",
    "    df = loop(fcst = fcst[i], truth = truth, residual = lgb_resid[i], NAME = i, df_list = [],L_=lead_time)# L_=3\n",
    "    Invt_df.append(df)\n",
    "pd.concat(Invt_df).to_pickle(f\"721lgbInvtSim_L{lead_time}.pkl\")\n",
    "\n",
    "Invt_df = []\n",
    "for i in nam_ets:\n",
    "    df = loop(fcst = fcst[i], truth = truth, residual = ets_resid[i], NAME = i, df_list = [],L_=lead_time)\n",
    "    Invt_df.append(df)\n",
    "pd.concat(Invt_df).to_pickle(f\"721etsInvtSim_L{lead_time}.pkl\")"
   ]
  },
  {
   "cell_type": "code",
   "execution_count": 9,
   "id": "a08a54f5-6954-4b9b-a0d6-f85924b53d5a",
   "metadata": {
    "scrolled": true,
    "tags": []
   },
   "outputs": [
    {
     "name": "stderr",
     "output_type": "stream",
     "text": [
      "100%|███████████████████████████████████████████████████████████████████████████████████████████████████████████████████████████████████████████| 42840/42840 [01:59<00:00, 358.85it/s]\n"
     ]
    },
    {
     "name": "stdout",
     "output_type": "stream",
     "text": [
      "-----------DOWN!------------\n"
     ]
    },
    {
     "name": "stderr",
     "output_type": "stream",
     "text": [
      "100%|███████████████████████████████████████████████████████████████████████████████████████████████████████████████████████████████████████████| 42840/42840 [01:58<00:00, 360.82it/s]\n"
     ]
    },
    {
     "name": "stdout",
     "output_type": "stream",
     "text": [
      "-----------DOWN!------------\n"
     ]
    },
    {
     "name": "stderr",
     "output_type": "stream",
     "text": [
      "100%|███████████████████████████████████████████████████████████████████████████████████████████████████████████████████████████████████████████| 42840/42840 [01:59<00:00, 357.53it/s]\n"
     ]
    },
    {
     "name": "stdout",
     "output_type": "stream",
     "text": [
      "-----------DOWN!------------\n"
     ]
    },
    {
     "name": "stderr",
     "output_type": "stream",
     "text": [
      "100%|███████████████████████████████████████████████████████████████████████████████████████████████████████████████████████████████████████████| 42840/42840 [01:58<00:00, 360.83it/s]\n"
     ]
    },
    {
     "name": "stdout",
     "output_type": "stream",
     "text": [
      "-----------DOWN!------------\n"
     ]
    },
    {
     "name": "stderr",
     "output_type": "stream",
     "text": [
      "100%|███████████████████████████████████████████████████████████████████████████████████████████████████████████████████████████████████████████| 42840/42840 [02:00<00:00, 354.75it/s]\n"
     ]
    },
    {
     "name": "stdout",
     "output_type": "stream",
     "text": [
      "-----------DOWN!------------\n"
     ]
    },
    {
     "name": "stderr",
     "output_type": "stream",
     "text": [
      "100%|███████████████████████████████████████████████████████████████████████████████████████████████████████████████████████████████████████████| 42840/42840 [01:58<00:00, 362.94it/s]\n"
     ]
    },
    {
     "name": "stdout",
     "output_type": "stream",
     "text": [
      "-----------DOWN!------------\n"
     ]
    },
    {
     "name": "stderr",
     "output_type": "stream",
     "text": [
      "100%|███████████████████████████████████████████████████████████████████████████████████████████████████████████████████████████████████████████| 42840/42840 [01:58<00:00, 360.87it/s]\n"
     ]
    },
    {
     "name": "stdout",
     "output_type": "stream",
     "text": [
      "-----------DOWN!------------\n"
     ]
    },
    {
     "name": "stderr",
     "output_type": "stream",
     "text": [
      "100%|███████████████████████████████████████████████████████████████████████████████████████████████████████████████████████████████████████████| 42840/42840 [01:57<00:00, 363.58it/s]\n"
     ]
    },
    {
     "name": "stdout",
     "output_type": "stream",
     "text": [
      "-----------DOWN!------------\n"
     ]
    }
   ],
   "source": [
    "Invt_df = []\n",
    "nam_lgb = [ \"lgb_base\", \"lgb_bu\", \"lgb_td\", \"lgb_mint\"]\n",
    "nam_ets = [ \"ets_base\", \"ets_bu\", \"ets_td\", \"ets_mint\"]\n",
    "lead_time = 14\n",
    "for i in nam_lgb:\n",
    "    df = loop(fcst = fcst[i], truth = truth, residual = lgb_resid[i], NAME = i, df_list = [],L_=lead_time)# L_=3\n",
    "    Invt_df.append(df)\n",
    "pd.concat(Invt_df).to_pickle(f\"lgbInvtSim_L{lead_time}.pkl\")\n",
    "\n",
    "Invt_df = []\n",
    "for i in nam_ets:\n",
    "    df = loop(fcst = fcst[i], truth = truth, residual = ets_resid[i], NAME = i, df_list = [],L_=lead_time)\n",
    "    Invt_df.append(df)\n",
    "pd.concat(Invt_df).to_pickle(f\"etsInvtSim_L{lead_time}.pkl\")"
   ]
  },
  {
   "cell_type": "markdown",
   "id": "a1ed2098-6590-462e-80b7-7f9455d8e690",
   "metadata": {},
   "source": [
    "## Inventory Reconciliation"
   ]
  },
  {
   "cell_type": "code",
   "execution_count": 1,
   "id": "4cd19e47-3347-40d2-adbd-17be228f3885",
   "metadata": {},
   "outputs": [],
   "source": [
    "import pandas as pd\n",
    "import numpy as np\n",
    "from tqdm import tqdm\n",
    "import warnings\n",
    "warnings.simplefilter(\"ignore\")\n",
    "lgbsim = pd.read_pickle(\"lgbInvtSim_L1.pkl\")\n",
    "etssim = pd.read_pickle(\"etsInvtSim_L1.pkl\")"
   ]
  },
  {
   "cell_type": "code",
   "execution_count": 2,
   "id": "5420e196-f027-47e7-94cf-71555bd916df",
   "metadata": {},
   "outputs": [
    {
     "data": {
      "text/html": [
       "<div>\n",
       "<style scoped>\n",
       "    .dataframe tbody tr th:only-of-type {\n",
       "        vertical-align: middle;\n",
       "    }\n",
       "\n",
       "    .dataframe tbody tr th {\n",
       "        vertical-align: top;\n",
       "    }\n",
       "\n",
       "    .dataframe thead th {\n",
       "        text-align: right;\n",
       "    }\n",
       "</style>\n",
       "<table border=\"1\" class=\"dataframe\">\n",
       "  <thead>\n",
       "    <tr style=\"text-align: right;\">\n",
       "      <th></th>\n",
       "      <th>name</th>\n",
       "      <th>true_demand</th>\n",
       "      <th>forecasts</th>\n",
       "      <th>ot_90</th>\n",
       "      <th>sst_90</th>\n",
       "      <th>ip_90</th>\n",
       "      <th>net_90</th>\n",
       "      <th>backlog_90</th>\n",
       "      <th>ch_90</th>\n",
       "      <th>cb_90</th>\n",
       "      <th>...</th>\n",
       "      <th>backlog_95</th>\n",
       "      <th>ch_95</th>\n",
       "      <th>cb_95</th>\n",
       "      <th>ot_99</th>\n",
       "      <th>sst_99</th>\n",
       "      <th>ip_99</th>\n",
       "      <th>net_99</th>\n",
       "      <th>backlog_99</th>\n",
       "      <th>ch_99</th>\n",
       "      <th>cb_99</th>\n",
       "    </tr>\n",
       "  </thead>\n",
       "  <tbody>\n",
       "    <tr>\n",
       "      <th>0</th>\n",
       "      <td>lgb_base</td>\n",
       "      <td>38793</td>\n",
       "      <td>37936.346099</td>\n",
       "      <td>0.000000</td>\n",
       "      <td>544.190211</td>\n",
       "      <td>0.000000</td>\n",
       "      <td>0.000000</td>\n",
       "      <td>0.000000</td>\n",
       "      <td>0.000000</td>\n",
       "      <td>0.000000</td>\n",
       "      <td>...</td>\n",
       "      <td>0.00000</td>\n",
       "      <td>0.000000</td>\n",
       "      <td>0.000000</td>\n",
       "      <td>131.192218</td>\n",
       "      <td>987.846119</td>\n",
       "      <td>131.192218</td>\n",
       "      <td>131.192218</td>\n",
       "      <td>0.000000</td>\n",
       "      <td>131.192218</td>\n",
       "      <td>0.000000</td>\n",
       "    </tr>\n",
       "    <tr>\n",
       "      <th>1</th>\n",
       "      <td>lgb_base</td>\n",
       "      <td>35487</td>\n",
       "      <td>35346.413219</td>\n",
       "      <td>35890.603430</td>\n",
       "      <td>544.190211</td>\n",
       "      <td>403.603430</td>\n",
       "      <td>403.603430</td>\n",
       "      <td>0.000000</td>\n",
       "      <td>403.603430</td>\n",
       "      <td>0.000000</td>\n",
       "      <td>...</td>\n",
       "      <td>0.00000</td>\n",
       "      <td>557.873794</td>\n",
       "      <td>0.000000</td>\n",
       "      <td>36203.067121</td>\n",
       "      <td>987.846119</td>\n",
       "      <td>847.259339</td>\n",
       "      <td>847.259339</td>\n",
       "      <td>0.000000</td>\n",
       "      <td>847.259339</td>\n",
       "      <td>0.000000</td>\n",
       "    </tr>\n",
       "    <tr>\n",
       "      <th>2</th>\n",
       "      <td>lgb_base</td>\n",
       "      <td>34445</td>\n",
       "      <td>33967.281969</td>\n",
       "      <td>34107.868750</td>\n",
       "      <td>544.190211</td>\n",
       "      <td>66.472180</td>\n",
       "      <td>66.472180</td>\n",
       "      <td>0.000000</td>\n",
       "      <td>66.472180</td>\n",
       "      <td>0.000000</td>\n",
       "      <td>...</td>\n",
       "      <td>0.00000</td>\n",
       "      <td>220.742543</td>\n",
       "      <td>0.000000</td>\n",
       "      <td>34107.868750</td>\n",
       "      <td>987.846119</td>\n",
       "      <td>510.128088</td>\n",
       "      <td>510.128088</td>\n",
       "      <td>0.000000</td>\n",
       "      <td>510.128088</td>\n",
       "      <td>0.000000</td>\n",
       "    </tr>\n",
       "    <tr>\n",
       "      <th>3</th>\n",
       "      <td>lgb_base</td>\n",
       "      <td>34732</td>\n",
       "      <td>34286.477860</td>\n",
       "      <td>34764.195891</td>\n",
       "      <td>544.190211</td>\n",
       "      <td>98.668071</td>\n",
       "      <td>98.668071</td>\n",
       "      <td>0.000000</td>\n",
       "      <td>98.668071</td>\n",
       "      <td>0.000000</td>\n",
       "      <td>...</td>\n",
       "      <td>0.00000</td>\n",
       "      <td>252.938435</td>\n",
       "      <td>0.000000</td>\n",
       "      <td>34764.195891</td>\n",
       "      <td>987.846119</td>\n",
       "      <td>542.323980</td>\n",
       "      <td>542.323980</td>\n",
       "      <td>0.000000</td>\n",
       "      <td>542.323980</td>\n",
       "      <td>0.000000</td>\n",
       "    </tr>\n",
       "    <tr>\n",
       "      <th>4</th>\n",
       "      <td>lgb_base</td>\n",
       "      <td>42896</td>\n",
       "      <td>38999.291696</td>\n",
       "      <td>39444.813836</td>\n",
       "      <td>544.190211</td>\n",
       "      <td>-3352.518093</td>\n",
       "      <td>-3352.518093</td>\n",
       "      <td>3352.518093</td>\n",
       "      <td>0.000000</td>\n",
       "      <td>30172.662835</td>\n",
       "      <td>...</td>\n",
       "      <td>3198.24773</td>\n",
       "      <td>0.000000</td>\n",
       "      <td>60766.706862</td>\n",
       "      <td>39444.813836</td>\n",
       "      <td>987.846119</td>\n",
       "      <td>-2908.862185</td>\n",
       "      <td>-2908.862185</td>\n",
       "      <td>2908.862185</td>\n",
       "      <td>0.000000</td>\n",
       "      <td>287977.356283</td>\n",
       "    </tr>\n",
       "    <tr>\n",
       "      <th>...</th>\n",
       "      <td>...</td>\n",
       "      <td>...</td>\n",
       "      <td>...</td>\n",
       "      <td>...</td>\n",
       "      <td>...</td>\n",
       "      <td>...</td>\n",
       "      <td>...</td>\n",
       "      <td>...</td>\n",
       "      <td>...</td>\n",
       "      <td>...</td>\n",
       "      <td>...</td>\n",
       "      <td>...</td>\n",
       "      <td>...</td>\n",
       "      <td>...</td>\n",
       "      <td>...</td>\n",
       "      <td>...</td>\n",
       "      <td>...</td>\n",
       "      <td>...</td>\n",
       "      <td>...</td>\n",
       "      <td>...</td>\n",
       "      <td>...</td>\n",
       "    </tr>\n",
       "    <tr>\n",
       "      <th>1199515</th>\n",
       "      <td>lgb_mint</td>\n",
       "      <td>0</td>\n",
       "      <td>0.096519</td>\n",
       "      <td>0.000000</td>\n",
       "      <td>0.500212</td>\n",
       "      <td>0.791690</td>\n",
       "      <td>0.791690</td>\n",
       "      <td>0.000000</td>\n",
       "      <td>0.791690</td>\n",
       "      <td>0.000000</td>\n",
       "      <td>...</td>\n",
       "      <td>0.00000</td>\n",
       "      <td>0.933493</td>\n",
       "      <td>0.000000</td>\n",
       "      <td>0.000000</td>\n",
       "      <td>0.908014</td>\n",
       "      <td>1.199492</td>\n",
       "      <td>1.199492</td>\n",
       "      <td>0.000000</td>\n",
       "      <td>1.199492</td>\n",
       "      <td>0.000000</td>\n",
       "    </tr>\n",
       "    <tr>\n",
       "      <th>1199516</th>\n",
       "      <td>lgb_mint</td>\n",
       "      <td>0</td>\n",
       "      <td>0.113224</td>\n",
       "      <td>0.000000</td>\n",
       "      <td>0.500212</td>\n",
       "      <td>0.791690</td>\n",
       "      <td>0.791690</td>\n",
       "      <td>0.000000</td>\n",
       "      <td>0.791690</td>\n",
       "      <td>0.000000</td>\n",
       "      <td>...</td>\n",
       "      <td>0.00000</td>\n",
       "      <td>0.933493</td>\n",
       "      <td>0.000000</td>\n",
       "      <td>0.000000</td>\n",
       "      <td>0.908014</td>\n",
       "      <td>1.199492</td>\n",
       "      <td>1.199492</td>\n",
       "      <td>0.000000</td>\n",
       "      <td>1.199492</td>\n",
       "      <td>0.000000</td>\n",
       "    </tr>\n",
       "    <tr>\n",
       "      <th>1199517</th>\n",
       "      <td>lgb_mint</td>\n",
       "      <td>0</td>\n",
       "      <td>0.089249</td>\n",
       "      <td>0.000000</td>\n",
       "      <td>0.500212</td>\n",
       "      <td>0.791690</td>\n",
       "      <td>0.791690</td>\n",
       "      <td>0.000000</td>\n",
       "      <td>0.791690</td>\n",
       "      <td>0.000000</td>\n",
       "      <td>...</td>\n",
       "      <td>0.00000</td>\n",
       "      <td>0.933493</td>\n",
       "      <td>0.000000</td>\n",
       "      <td>0.000000</td>\n",
       "      <td>0.908014</td>\n",
       "      <td>1.199492</td>\n",
       "      <td>1.199492</td>\n",
       "      <td>0.000000</td>\n",
       "      <td>1.199492</td>\n",
       "      <td>0.000000</td>\n",
       "    </tr>\n",
       "    <tr>\n",
       "      <th>1199518</th>\n",
       "      <td>lgb_mint</td>\n",
       "      <td>0</td>\n",
       "      <td>0.145623</td>\n",
       "      <td>0.000000</td>\n",
       "      <td>0.500212</td>\n",
       "      <td>0.791690</td>\n",
       "      <td>0.791690</td>\n",
       "      <td>0.000000</td>\n",
       "      <td>0.791690</td>\n",
       "      <td>0.000000</td>\n",
       "      <td>...</td>\n",
       "      <td>0.00000</td>\n",
       "      <td>0.933493</td>\n",
       "      <td>0.000000</td>\n",
       "      <td>0.000000</td>\n",
       "      <td>0.908014</td>\n",
       "      <td>1.199492</td>\n",
       "      <td>1.199492</td>\n",
       "      <td>0.000000</td>\n",
       "      <td>1.199492</td>\n",
       "      <td>0.000000</td>\n",
       "    </tr>\n",
       "    <tr>\n",
       "      <th>1199519</th>\n",
       "      <td>lgb_mint</td>\n",
       "      <td>0</td>\n",
       "      <td>0.068590</td>\n",
       "      <td>0.000000</td>\n",
       "      <td>0.500212</td>\n",
       "      <td>0.791690</td>\n",
       "      <td>0.791690</td>\n",
       "      <td>0.000000</td>\n",
       "      <td>0.791690</td>\n",
       "      <td>0.000000</td>\n",
       "      <td>...</td>\n",
       "      <td>0.00000</td>\n",
       "      <td>0.933493</td>\n",
       "      <td>0.000000</td>\n",
       "      <td>0.000000</td>\n",
       "      <td>0.908014</td>\n",
       "      <td>1.199492</td>\n",
       "      <td>1.199492</td>\n",
       "      <td>0.000000</td>\n",
       "      <td>1.199492</td>\n",
       "      <td>0.000000</td>\n",
       "    </tr>\n",
       "  </tbody>\n",
       "</table>\n",
       "<p>4798080 rows × 24 columns</p>\n",
       "</div>"
      ],
      "text/plain": [
       "             name  true_demand     forecasts         ot_90      sst_90  \\\n",
       "0        lgb_base        38793  37936.346099      0.000000  544.190211   \n",
       "1        lgb_base        35487  35346.413219  35890.603430  544.190211   \n",
       "2        lgb_base        34445  33967.281969  34107.868750  544.190211   \n",
       "3        lgb_base        34732  34286.477860  34764.195891  544.190211   \n",
       "4        lgb_base        42896  38999.291696  39444.813836  544.190211   \n",
       "...           ...          ...           ...           ...         ...   \n",
       "1199515  lgb_mint            0      0.096519      0.000000    0.500212   \n",
       "1199516  lgb_mint            0      0.113224      0.000000    0.500212   \n",
       "1199517  lgb_mint            0      0.089249      0.000000    0.500212   \n",
       "1199518  lgb_mint            0      0.145623      0.000000    0.500212   \n",
       "1199519  lgb_mint            0      0.068590      0.000000    0.500212   \n",
       "\n",
       "               ip_90       net_90   backlog_90       ch_90         cb_90  ...  \\\n",
       "0           0.000000     0.000000     0.000000    0.000000      0.000000  ...   \n",
       "1         403.603430   403.603430     0.000000  403.603430      0.000000  ...   \n",
       "2          66.472180    66.472180     0.000000   66.472180      0.000000  ...   \n",
       "3          98.668071    98.668071     0.000000   98.668071      0.000000  ...   \n",
       "4       -3352.518093 -3352.518093  3352.518093    0.000000  30172.662835  ...   \n",
       "...              ...          ...          ...         ...           ...  ...   \n",
       "1199515     0.791690     0.791690     0.000000    0.791690      0.000000  ...   \n",
       "1199516     0.791690     0.791690     0.000000    0.791690      0.000000  ...   \n",
       "1199517     0.791690     0.791690     0.000000    0.791690      0.000000  ...   \n",
       "1199518     0.791690     0.791690     0.000000    0.791690      0.000000  ...   \n",
       "1199519     0.791690     0.791690     0.000000    0.791690      0.000000  ...   \n",
       "\n",
       "         backlog_95       ch_95         cb_95         ot_99      sst_99  \\\n",
       "0           0.00000    0.000000      0.000000    131.192218  987.846119   \n",
       "1           0.00000  557.873794      0.000000  36203.067121  987.846119   \n",
       "2           0.00000  220.742543      0.000000  34107.868750  987.846119   \n",
       "3           0.00000  252.938435      0.000000  34764.195891  987.846119   \n",
       "4        3198.24773    0.000000  60766.706862  39444.813836  987.846119   \n",
       "...             ...         ...           ...           ...         ...   \n",
       "1199515     0.00000    0.933493      0.000000      0.000000    0.908014   \n",
       "1199516     0.00000    0.933493      0.000000      0.000000    0.908014   \n",
       "1199517     0.00000    0.933493      0.000000      0.000000    0.908014   \n",
       "1199518     0.00000    0.933493      0.000000      0.000000    0.908014   \n",
       "1199519     0.00000    0.933493      0.000000      0.000000    0.908014   \n",
       "\n",
       "               ip_99       net_99   backlog_99       ch_99          cb_99  \n",
       "0         131.192218   131.192218     0.000000  131.192218       0.000000  \n",
       "1         847.259339   847.259339     0.000000  847.259339       0.000000  \n",
       "2         510.128088   510.128088     0.000000  510.128088       0.000000  \n",
       "3         542.323980   542.323980     0.000000  542.323980       0.000000  \n",
       "4       -2908.862185 -2908.862185  2908.862185    0.000000  287977.356283  \n",
       "...              ...          ...          ...         ...            ...  \n",
       "1199515     1.199492     1.199492     0.000000    1.199492       0.000000  \n",
       "1199516     1.199492     1.199492     0.000000    1.199492       0.000000  \n",
       "1199517     1.199492     1.199492     0.000000    1.199492       0.000000  \n",
       "1199518     1.199492     1.199492     0.000000    1.199492       0.000000  \n",
       "1199519     1.199492     1.199492     0.000000    1.199492       0.000000  \n",
       "\n",
       "[4798080 rows x 24 columns]"
      ]
     },
     "execution_count": 2,
     "metadata": {},
     "output_type": "execute_result"
    }
   ],
   "source": [
    "lgbsim"
   ]
  },
  {
   "cell_type": "code",
   "execution_count": 8,
   "id": "8ba1b7ce-b3e9-48fc-988f-f5473559d490",
   "metadata": {},
   "outputs": [],
   "source": [
    "lgbsim = pd.read_pickle(\"lgbInvtSim.pkl\")"
   ]
  },
  {
   "cell_type": "code",
   "execution_count": 3,
   "id": "6d4b393b-52e7-4669-81a1-8c3b2e51508e",
   "metadata": {},
   "outputs": [
    {
     "data": {
      "text/plain": [
       "array(['lgb_base', 'lgb_bu', 'lgb_td', 'lgb_mint'], dtype=object)"
      ]
     },
     "execution_count": 3,
     "metadata": {},
     "output_type": "execute_result"
    }
   ],
   "source": [
    "lgbsim['name'].unique()"
   ]
  },
  {
   "cell_type": "code",
   "execution_count": null,
   "id": "76135bd8-10de-4d6a-81c7-5d0e1b93a251",
   "metadata": {},
   "outputs": [],
   "source": []
  }
 ],
 "metadata": {
  "kernelspec": {
   "display_name": "Python 3 (ipykernel)",
   "language": "python",
   "name": "python3"
  },
  "language_info": {
   "codemirror_mode": {
    "name": "ipython",
    "version": 3
   },
   "file_extension": ".py",
   "mimetype": "text/x-python",
   "name": "python",
   "nbconvert_exporter": "python",
   "pygments_lexer": "ipython3",
   "version": "3.9.7"
  }
 },
 "nbformat": 4,
 "nbformat_minor": 5
}
