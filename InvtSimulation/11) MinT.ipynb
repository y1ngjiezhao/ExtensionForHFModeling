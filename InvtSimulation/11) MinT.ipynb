{
 "cells": [
  {
   "cell_type": "code",
   "execution_count": 1,
   "id": "8168a484-6847-4e90-b11e-3cc2b4f0d0ff",
   "metadata": {
    "tags": []
   },
   "outputs": [],
   "source": [
    "path1  = 'C:/PycharmProjects/yjz/Extension for hts/JayCode/Models/'\n",
    "from Invtsim import *\n",
    "import numpy as np\n",
    "import pandas as pd\n",
    "from scipy.stats import norm\n",
    "import warnings\n",
    "warnings.simplefilter(\"ignore\")\n",
    "from tqdm import tqdm\n",
    "\n",
    "gap1 = 365\n",
    "gap2 = 1548\n",
    "\n",
    "train    = pd.read_pickle(f\"{path1}past_1913.pkl\").reset_index(drop=True)[['ds','y']]\n",
    "fit_all  = pd.read_pickle(f\"{path1}fitts_base2cohe_tdfp.pkl\")\n",
    "tr_all   = pd.concat([train,fit_all], axis =1)\n",
    "\n",
    "tr_tr    = tr_all[tr_all['ds'] <= gap2].reset_index(drop=True).iloc[:,1:]\n",
    "tr_ts    = tr_all[tr_all['ds'] >  gap2].reset_index(drop=True).iloc[:,1:]"
   ]
  },
  {
   "cell_type": "markdown",
   "id": "a31d9ae4-24ca-4b94-8759-6688c1668cf9",
   "metadata": {
    "tags": []
   },
   "source": [
    "## Hist Order:"
   ]
  },
  {
   "cell_type": "code",
   "execution_count": 2,
   "id": "bd051191-385d-4d19-b46c-323749a0fefe",
   "metadata": {
    "tags": []
   },
   "outputs": [],
   "source": [
    "def loop(fcst, truth, residual, NAME:str,\n",
    "         gap1: int = 28, gap2:int = 1913,\n",
    "         n = None, \n",
    "         df_list:list = [], \n",
    "         L_ = 3):\n",
    "    if n == None:\n",
    "        n = int(len(fcst)/gap1)\n",
    "    for i in tqdm(range(n)):\n",
    "        fcst_1  = fcst[i*gap1:(i+1)*gap1]\n",
    "        truth_1 = truth[i*gap1:(i+1)*gap1]\n",
    "        res_1   = residual[i*gap2:(i+1)*gap2]\n",
    "        df = InvtSim(fcst = fcst_1, truth = truth_1, residual = res_1, name = NAME, L=L_, period = gap1)\n",
    "        res = df.ob_all_t()\n",
    "        df_list.append(res.reset_index(drop = True))\n",
    "    #results = pd.concat(res)\n",
    "    print(\"-----------DOWN!------------\")\n",
    "    return pd.concat(df_list).reset_index(drop=True)"
   ]
  },
  {
   "cell_type": "code",
   "execution_count": 3,
   "id": "2744bfec-43ad-4948-a3cb-4ce7d4669ae6",
   "metadata": {
    "scrolled": true,
    "tags": []
   },
   "outputs": [
    {
     "name": "stdout",
     "output_type": "stream",
     "text": [
      "************Lead time is: 1************\n"
     ]
    },
    {
     "name": "stderr",
     "output_type": "stream",
     "text": [
      "100%|███████████████████████████████████████████████████████████████████████████████████████████████████████████████████████████████████████████| 42840/42840 [05:49<00:00, 122.62it/s]\n"
     ]
    },
    {
     "name": "stdout",
     "output_type": "stream",
     "text": [
      "-----------DOWN!------------\n"
     ]
    },
    {
     "name": "stderr",
     "output_type": "stream",
     "text": [
      "100%|███████████████████████████████████████████████████████████████████████████████████████████████████████████████████████████████████████████| 42840/42840 [05:52<00:00, 121.69it/s]\n"
     ]
    },
    {
     "name": "stdout",
     "output_type": "stream",
     "text": [
      "-----------DOWN!------------\n"
     ]
    },
    {
     "name": "stderr",
     "output_type": "stream",
     "text": [
      "100%|███████████████████████████████████████████████████████████████████████████████████████████████████████████████████████████████████████████| 42840/42840 [05:53<00:00, 121.23it/s]\n"
     ]
    },
    {
     "name": "stdout",
     "output_type": "stream",
     "text": [
      "-----------DOWN!------------\n"
     ]
    },
    {
     "name": "stderr",
     "output_type": "stream",
     "text": [
      "100%|███████████████████████████████████████████████████████████████████████████████████████████████████████████████████████████████████████████| 42840/42840 [05:53<00:00, 121.17it/s]\n"
     ]
    },
    {
     "name": "stdout",
     "output_type": "stream",
     "text": [
      "-----------DOWN!------------\n"
     ]
    },
    {
     "name": "stderr",
     "output_type": "stream",
     "text": [
      "100%|███████████████████████████████████████████████████████████████████████████████████████████████████████████████████████████████████████████| 42840/42840 [05:54<00:00, 120.95it/s]\n"
     ]
    },
    {
     "name": "stdout",
     "output_type": "stream",
     "text": [
      "-----------DOWN!------------\n"
     ]
    },
    {
     "name": "stderr",
     "output_type": "stream",
     "text": [
      "100%|███████████████████████████████████████████████████████████████████████████████████████████████████████████████████████████████████████████| 42840/42840 [05:54<00:00, 120.99it/s]\n"
     ]
    },
    {
     "name": "stdout",
     "output_type": "stream",
     "text": [
      "-----------DOWN!------------\n"
     ]
    },
    {
     "name": "stderr",
     "output_type": "stream",
     "text": [
      "100%|███████████████████████████████████████████████████████████████████████████████████████████████████████████████████████████████████████████| 42840/42840 [05:56<00:00, 120.30it/s]\n"
     ]
    },
    {
     "name": "stdout",
     "output_type": "stream",
     "text": [
      "-----------DOWN!------------\n"
     ]
    },
    {
     "name": "stderr",
     "output_type": "stream",
     "text": [
      "100%|███████████████████████████████████████████████████████████████████████████████████████████████████████████████████████████████████████████| 42840/42840 [05:56<00:00, 120.33it/s]\n"
     ]
    },
    {
     "name": "stdout",
     "output_type": "stream",
     "text": [
      "-----------DOWN!------------\n"
     ]
    },
    {
     "name": "stderr",
     "output_type": "stream",
     "text": [
      "100%|███████████████████████████████████████████████████████████████████████████████████████████████████████████████████████████████████████████| 42840/42840 [05:11<00:00, 137.45it/s]\n"
     ]
    },
    {
     "name": "stdout",
     "output_type": "stream",
     "text": [
      "-----------DOWN!------------\n"
     ]
    },
    {
     "name": "stderr",
     "output_type": "stream",
     "text": [
      "100%|███████████████████████████████████████████████████████████████████████████████████████████████████████████████████████████████████████████| 42840/42840 [05:10<00:00, 137.86it/s]\n"
     ]
    },
    {
     "name": "stdout",
     "output_type": "stream",
     "text": [
      "-----------DOWN!------------\n"
     ]
    },
    {
     "name": "stderr",
     "output_type": "stream",
     "text": [
      "100%|███████████████████████████████████████████████████████████████████████████████████████████████████████████████████████████████████████████| 42840/42840 [05:11<00:00, 137.45it/s]\n"
     ]
    },
    {
     "name": "stdout",
     "output_type": "stream",
     "text": [
      "-----------DOWN!------------\n"
     ]
    },
    {
     "name": "stderr",
     "output_type": "stream",
     "text": [
      "100%|███████████████████████████████████████████████████████████████████████████████████████████████████████████████████████████████████████████| 42840/42840 [05:11<00:00, 137.74it/s]\n"
     ]
    },
    {
     "name": "stdout",
     "output_type": "stream",
     "text": [
      "-----------DOWN!------------\n"
     ]
    },
    {
     "name": "stderr",
     "output_type": "stream",
     "text": [
      "100%|███████████████████████████████████████████████████████████████████████████████████████████████████████████████████████████████████████████| 42840/42840 [05:18<00:00, 134.63it/s]\n"
     ]
    },
    {
     "name": "stdout",
     "output_type": "stream",
     "text": [
      "-----------DOWN!------------\n"
     ]
    },
    {
     "name": "stderr",
     "output_type": "stream",
     "text": [
      "100%|███████████████████████████████████████████████████████████████████████████████████████████████████████████████████████████████████████████| 42840/42840 [05:12<00:00, 136.95it/s]\n"
     ]
    },
    {
     "name": "stdout",
     "output_type": "stream",
     "text": [
      "-----------DOWN!------------\n"
     ]
    },
    {
     "name": "stderr",
     "output_type": "stream",
     "text": [
      "100%|███████████████████████████████████████████████████████████████████████████████████████████████████████████████████████████████████████████| 42840/42840 [05:11<00:00, 137.57it/s]\n"
     ]
    },
    {
     "name": "stdout",
     "output_type": "stream",
     "text": [
      "-----------DOWN!------------\n"
     ]
    },
    {
     "name": "stderr",
     "output_type": "stream",
     "text": [
      "100%|███████████████████████████████████████████████████████████████████████████████████████████████████████████████████████████████████████████| 42840/42840 [05:11<00:00, 137.55it/s]\n"
     ]
    },
    {
     "name": "stdout",
     "output_type": "stream",
     "text": [
      "-----------DOWN!------------\n"
     ]
    }
   ],
   "source": [
    "#lead_time = 1\n",
    "fcst365, actl365 = {},{}\n",
    "for lead_time in [1]:#,3, 7,14\n",
    "    print(f\"************Lead time is: {lead_time}************\")\n",
    "    gap1, gap2 = 365,1548\n",
    "    col = ['lgb_base', 'lgb_bu', 'lgb_td', 'lgb_mint', 'ets_base', 'ets_bu','ets_td', 'ets_mint']\n",
    "    trtsy = tr_ts['y']\n",
    "    trtry = tr_tr['y']\n",
    "    trInvtSim = []\n",
    "    for i in col:\n",
    "        df = loop(fcst = trtsy, truth = trtsy, residual = trtry-trtry, NAME = f'tr_{i}', df_list = [],L_=lead_time, gap1 = gap1, gap2 = gap2)\n",
    "        trInvtSim.append(df[['name','ot_90','ot_95','ot_99']])\n",
    "    actl365_L = pd.concat([trInvtSim[i] for i in range(8)])\n",
    "    actl365_L[['ot_90','ot_95','ot_99']] = actl365_L[['ot_90','ot_95','ot_99']].clip(lower=0)\n",
    "    actl365_L.to_pickle(f\"365TRactual_L{lead_time}.pkl\")\n",
    "    #pd.read_pickle(\"365TRactual.pkl\")\n",
    "    trtsy = tr_ts['y']\n",
    "    trtry = tr_tr['y']\n",
    "    trInvtSim = []\n",
    "    for i in col:\n",
    "        df = loop(fcst = tr_ts[i], truth = trtsy, residual = tr_tr[i]-trtry, NAME = f'tr_{i}', df_list = [],\n",
    "              L_=lead_time, gap1 = gap1, gap2 = gap2)\n",
    "        trInvtSim.append(df[['name','ot_90','ot_95','ot_99']])\n",
    "    fcst365_L = pd.concat([trInvtSim[i] for i in range(8)])\n",
    "    fcst365_L[['ot_90','ot_95','ot_99']] = fcst365_L[['ot_90','ot_95','ot_99']].clip(lower=0)\n",
    "    fcst365_L.to_pickle(f\"365TRfcst_L{lead_time}.pkl\")\n",
    "    \n",
    "#actl365_L.to_pickle(f'365TRactual_L{lead_time}.pkl')\n",
    "#fcst365_L.to_pickle(f'365TRfcst_L{lead_time}.pkl')"
   ]
  },
  {
   "cell_type": "markdown",
   "id": "a1ed2098-6590-462e-80b7-7f9455d8e690",
   "metadata": {
    "tags": []
   },
   "source": [
    "## Inventory Reconciliation"
   ]
  },
  {
   "cell_type": "code",
   "execution_count": 2,
   "id": "4cd19e47-3347-40d2-adbd-17be228f3885",
   "metadata": {},
   "outputs": [],
   "source": [
    "path1  = 'C:/PycharmProjects/yjz/Extension for hts/JayCode/Models/'\n",
    "import warnings\n",
    "warnings.simplefilter(\"ignore\")\n",
    "from Invtsim import *\n",
    "import numpy as np\n",
    "import pandas as pd\n",
    "from scipy.stats import norm\n",
    "from hierarchicalforecast.core import HierarchicalReconciliation\n",
    "from hierarchicalforecast.methods import BottomUp, TopDown, MinTrace\n",
    "from tqdm import tqdm\n",
    "\n",
    "gap1    = 365\n",
    "gap2    = 1548\n",
    "train   = pd.read_pickle(f\"{path1}past_1913.pkl\").reset_index(drop=True)\n",
    "test    = pd.read_pickle(f\"{path1}future_28.pkl\").reset_index(drop=True)\n",
    "S       = pd.read_pickle(f\"{path1}S_df.pkl\")\n",
    "tags    = pd.read_pickle(f\"{path1}tags.bin\")\n",
    "\n",
    "ts_id   = test[['unique_id', 'ds']]\n",
    "tr_id   = train[['unique_id', 'ds']]\n",
    "trts_id = tr_id[tr_id['ds']> gap2]\n",
    "#trtr_id = tr_id[tr_id['ds']<= gap2]\n",
    "\n",
    "lgbs    =  pd.read_pickle(\"lgbInvtSim_L1.pkl\")\n",
    "etss    = pd.read_pickle(\"etsInvtSim_L1.pkl\")\n",
    "MMint   = pd.concat([lgbs,etss])[['name','ot_90','ot_95','ot_99']]\n",
    "#del train, test, trtr_id\n",
    "#tr_fo   = pd.read_pickle(\"365TRfcst.pkl\")\n",
    "#tr_do   = pd.read_pickle(\"365TRactual.pkl\").iloc[:,:2]\n",
    "#tr_do.columns = ['name','y']\n",
    "#tr365   = pd.concat([tr_do, tr_fo[['ot_90','ot_95','ot_99']]],axis=1)\n",
    "#del lgbs, etss, train, test, tr_id, tr_do, tr_fo"
   ]
  },
  {
   "cell_type": "markdown",
   "id": "9bfc6aa7-5594-4133-8567-85ee932d2a37",
   "metadata": {
    "tags": []
   },
   "source": [
    "## Order MinT"
   ]
  },
  {
   "cell_type": "code",
   "execution_count": 3,
   "id": "9125ec81-baae-49a3-ad0b-ad7433225a4d",
   "metadata": {
    "scrolled": true,
    "tags": []
   },
   "outputs": [
    {
     "name": "stderr",
     "output_type": "stream",
     "text": [
      "100%|████████████████████████████████████████████████████████████████████████████████████████████████████████████████████████████████████████████████| 4/4 [1:41:53<00:00, 1528.29s/it]"
     ]
    },
    {
     "name": "stdout",
     "output_type": "stream",
     "text": [
      "Wall time: 1h 42min 23s\n"
     ]
    },
    {
     "name": "stderr",
     "output_type": "stream",
     "text": [
      "\n"
     ]
    }
   ],
   "source": [
    "%%time\n",
    "lead_time = 1\n",
    "lgbs    =  pd.read_pickle(f\"lgbInvtSim_L{lead_time}.pkl\")\n",
    "etss    = pd.read_pickle(f\"etsInvtSim_L{lead_time}.pkl\")\n",
    "MMint   = pd.concat([lgbs,etss])[['name','ot_90','ot_95','ot_99']]\n",
    "\n",
    "tr_fo   = pd.read_pickle(f\"365TRfcst_L{lead_time}.pkl\") ########################################################\n",
    "tr_do   = pd.read_pickle(f\"365TRactual_L{lead_time}.pkl\").iloc[:,:2]################################################\n",
    "tr_do.columns = ['name','y']\n",
    "tr365   = pd.concat([tr_do, tr_fo[['ot_90','ot_95','ot_99']]],axis=1)\n",
    "\n",
    "on   = ['ot_90','ot_95','ot_99']\n",
    "#nn = ['lgb_base', 'lgb_bu', 'lgb_td', 'lgb_mint', 'ets_base', 'ets_bu', 'ets_td', 'ets_mint']\n",
    "nn = ['lgb_base', 'lgb_mint', 'ets_base',  'ets_mint']\n",
    "minimumtrace = [MinTrace(method = 'mint_shrink')]\n",
    "mint = HierarchicalReconciliation(reconcilers=minimumtrace)\n",
    "MINTo = []\n",
    "for i in tqdm(range(len(nn))):\n",
    "    lgb_omt = pd.concat([ts_id, MMint[MMint['name'] == f'{nn[i]}'][on]],axis=1)\n",
    "    tr_order= pd.concat([trts_id.reset_index(drop=True), \n",
    "                         tr365[tr365['name'] == f\"tr_{nn[i]}\"].reset_index(drop=True)],\n",
    "                        axis=1).drop(columns = ['name'])\n",
    "    subset = []\n",
    "    for j in on:\n",
    "        subset.append(mint.reconcile(Y_hat_df=lgb_omt[['unique_id','ds',j]], S=S, tags=tags,  Y_df= tr_order[['unique_id','ds','y',j]]).iloc[:,-1:])\n",
    "    MINTo.append(pd.concat(subset, axis=1))\n",
    "#MinT = pd.concat([MMint.iloc[:,:1], pd.concat(MINTo)], axis = 1)\n",
    "#col = MinT.columns[-3:]\n",
    "#MinT[col] =MinT[col].clip(lower=0)\n",
    "#MinT.to_pickle(f\"OrderMinT_L{lead_time}.pkl\")"
   ]
  },
  {
   "cell_type": "code",
   "execution_count": 4,
   "id": "97a39788-aeaa-4cd7-931f-52a72a44d2d2",
   "metadata": {},
   "outputs": [
    {
     "ename": "SyntaxError",
     "evalue": "invalid syntax (Temp/ipykernel_2912/2566095695.py, line 3)",
     "output_type": "error",
     "traceback": [
      "\u001b[1;36m  File \u001b[1;32m\"C:\\Users\\qifei\\AppData\\Local\\Temp/ipykernel_2912/2566095695.py\"\u001b[1;36m, line \u001b[1;32m3\u001b[0m\n\u001b[1;33m    MinT[col] =MinT[col].clip(lower=0)shide\u001b[0m\n\u001b[1;37m                                      ^\u001b[0m\n\u001b[1;31mSyntaxError\u001b[0m\u001b[1;31m:\u001b[0m invalid syntax\n"
     ]
    }
   ],
   "source": [
    "MinT = pd.concat([MMint.loc[MMint.iloc[:,0].isin(nn),'name'], pd.concat(MINTo)], axis = 1)\n",
    "col = MinT.columns[-3:]\n",
    "MinT[col] =MinT[col].clip(lower=0)shide \n",
    "MinT.to_pickle(f\"OrderMinT_L{lead_time}.pkl\")"
   ]
  },
  {
   "cell_type": "code",
   "execution_count": null,
   "id": "3b1cd19a-58ce-4483-9fd8-68fcc16b0702",
   "metadata": {},
   "outputs": [],
   "source": []
  },
  {
   "cell_type": "markdown",
   "id": "1a056352-8a79-4098-8130-fa9caeeba5be",
   "metadata": {
    "jp-MarkdownHeadingCollapsed": true,
    "tags": []
   },
   "source": [
    "### L3"
   ]
  },
  {
   "cell_type": "code",
   "execution_count": 33,
   "id": "e44b7529-22d5-46bc-9175-5db697723bff",
   "metadata": {},
   "outputs": [
    {
     "name": "stderr",
     "output_type": "stream",
     "text": [
      "100%|██████████████████████████████████████████████████████████████████████████████████████████████████████████████████████████████████████████████████| 4/4 [3:11:27<00:00, 2871.87s/it]\n"
     ]
    }
   ],
   "source": [
    "lead_time = 3\n",
    "lgbs    =  pd.read_pickle(f\"lgbInvtSim_L{lead_time}.pkl\")\n",
    "etss    = pd.read_pickle(f\"etsInvtSim_L{lead_time}.pkl\")\n",
    "MMint   = pd.concat([lgbs,etss])[['name','ot_90','ot_95','ot_99']]\n",
    "\n",
    "tr_fo   = pd.read_pickle(f\"365TRfcst_L{lead_time}.pkl\") ########################################################\n",
    "tr_do   = pd.read_pickle(f\"365TRactual_L{lead_time}.pkl\").iloc[:,:2]################################################\n",
    "tr_do.columns = ['name','y']\n",
    "tr365   = pd.concat([tr_do, tr_fo[['ot_90','ot_95','ot_99']]],axis=1)\n",
    "\n",
    "on   = ['ot_90','ot_95','ot_99']\n",
    "nn = ['lgb_base', 'lgb_mint', 'ets_base',  'ets_mint']\n",
    "minimumtrace = [MinTrace(method = 'mint_shrink')]\n",
    "mint = HierarchicalReconciliation(reconcilers=minimumtrace)\n",
    "MINTo = []\n",
    "for i in tqdm(range(len(nn))):\n",
    "    lgb_omt = pd.concat([ts_id, MMint[MMint['name'] == f'{nn[i]}'][on]],axis=1)\n",
    "    tr_order= pd.concat([trts_id.reset_index(drop=True), \n",
    "                         tr365[tr365['name'] == f\"tr_{nn[i]}\"].reset_index(drop=True)],\n",
    "                        axis=1).drop(columns = ['name'])\n",
    "    subset = []\n",
    "    for j in on:\n",
    "        subset.append(mint.reconcile(Y_hat_df=lgb_omt[['unique_id','ds',j]], S=S, tags=tags,  Y_df= tr_order[['unique_id','ds','y',j]]).iloc[:,-1:])\n",
    "    MINTo.append(pd.concat(subset, axis=1))\n",
    "MinT = pd.concat([MMint.loc[MMint.iloc[:,0].isin(nn),'name'], pd.concat(MINTo)], axis = 1)\n",
    "col = MinT.columns[-3:]\n",
    "MinT[col] =MinT[col].clip(lower=0)\n",
    "MinT.to_pickle(f\"OrderMinT_L{lead_time}.pkl\")"
   ]
  },
  {
   "cell_type": "markdown",
   "id": "d09e7a6d-b2d5-496b-a7b9-6b66bb8ab54f",
   "metadata": {
    "jp-MarkdownHeadingCollapsed": true,
    "tags": []
   },
   "source": [
    "### L7"
   ]
  },
  {
   "cell_type": "code",
   "execution_count": 34,
   "id": "7ee1217e-e346-4d0c-8914-0ef24eada8f0",
   "metadata": {},
   "outputs": [
    {
     "name": "stderr",
     "output_type": "stream",
     "text": [
      "100%|██████████████████████████████████████████████████████████████████████████████████████████████████████████████████████████████████████████████████| 4/4 [3:09:23<00:00, 2840.87s/it]\n"
     ]
    }
   ],
   "source": [
    "lead_time = 7\n",
    "lgbs    =  pd.read_pickle(f\"lgbInvtSim_L{lead_time}.pkl\")\n",
    "etss    = pd.read_pickle(f\"etsInvtSim_L{lead_time}.pkl\")\n",
    "MMint   = pd.concat([lgbs,etss])[['name','ot_90','ot_95','ot_99']]\n",
    "\n",
    "tr_fo   = pd.read_pickle(f\"365TRfcst_L{lead_time}.pkl\") ########################################################\n",
    "tr_do   = pd.read_pickle(f\"365TRactual_L{lead_time}.pkl\").iloc[:,:2]################################################\n",
    "tr_do.columns = ['name','y']\n",
    "tr365   = pd.concat([tr_do, tr_fo[['ot_90','ot_95','ot_99']]],axis=1)\n",
    "\n",
    "on   = ['ot_90','ot_95','ot_99']\n",
    "nn = ['lgb_base', 'lgb_mint', 'ets_base',  'ets_mint']\n",
    "minimumtrace = [MinTrace(method = 'mint_shrink')]\n",
    "mint = HierarchicalReconciliation(reconcilers=minimumtrace)\n",
    "MINTo = []\n",
    "for i in tqdm(range(len(nn))):\n",
    "    lgb_omt = pd.concat([ts_id, MMint[MMint['name'] == f'{nn[i]}'][on]],axis=1)\n",
    "    tr_order= pd.concat([trts_id.reset_index(drop=True), \n",
    "                         tr365[tr365['name'] == f\"tr_{nn[i]}\"].reset_index(drop=True)],\n",
    "                        axis=1).drop(columns = ['name'])\n",
    "    subset = []\n",
    "    for j in on:\n",
    "        subset.append(mint.reconcile(Y_hat_df=lgb_omt[['unique_id','ds',j]], S=S, tags=tags,  Y_df= tr_order[['unique_id','ds','y',j]]).iloc[:,-1:])\n",
    "    MINTo.append(pd.concat(subset, axis=1))\n",
    "#MinT = pd.concat([MMint.iloc[:,:1], pd.concat(MINTo)], axis = 1)\n",
    "MinT = pd.concat([MMint.loc[MMint.iloc[:,0].isin(nn),'name'], pd.concat(MINTo)], axis = 1)\n",
    "col = MinT.columns[-3:]\n",
    "MinT[col] =MinT[col].clip(lower=0)\n",
    "MinT.to_pickle(f\"OrderMinT_L{lead_time}.pkl\")"
   ]
  },
  {
   "cell_type": "markdown",
   "id": "3c37dcd6-e799-4d6e-bdb4-21ae8b2738cf",
   "metadata": {},
   "source": [
    "### L14"
   ]
  },
  {
   "cell_type": "code",
   "execution_count": 35,
   "id": "0c4aedb3-9358-48b9-92e0-c3fa5f494af7",
   "metadata": {},
   "outputs": [
    {
     "name": "stderr",
     "output_type": "stream",
     "text": [
      "100%|██████████████████████████████████████████████████████████████████████████████████████████████████████████████████████████████████████████████████| 4/4 [3:11:28<00:00, 2872.08s/it]\n"
     ]
    }
   ],
   "source": [
    "lead_time = 14\n",
    "lgbs    =  pd.read_pickle(f\"lgbInvtSim_L{lead_time}.pkl\")\n",
    "etss    = pd.read_pickle(f\"etsInvtSim_L{lead_time}.pkl\")\n",
    "MMint   = pd.concat([lgbs,etss])[['name','ot_90','ot_95','ot_99']]\n",
    "\n",
    "tr_fo   = pd.read_pickle(f\"365TRfcst_L{lead_time}.pkl\") ########################################################\n",
    "tr_do   = pd.read_pickle(f\"365TRactual_L{lead_time}.pkl\").iloc[:,:2]################################################\n",
    "tr_do.columns = ['name','y']\n",
    "tr365   = pd.concat([tr_do, tr_fo[['ot_90','ot_95','ot_99']]],axis=1)\n",
    "\n",
    "on   = ['ot_90','ot_95','ot_99']\n",
    "nn = ['lgb_base', 'lgb_mint', 'ets_base',  'ets_mint']\n",
    "minimumtrace = [MinTrace(method = 'mint_shrink')]\n",
    "mint = HierarchicalReconciliation(reconcilers=minimumtrace)\n",
    "MINTo = []\n",
    "for i in tqdm(range(len(nn))):\n",
    "    lgb_omt = pd.concat([ts_id, MMint[MMint['name'] == f'{nn[i]}'][on]],axis=1)\n",
    "    tr_order= pd.concat([trts_id.reset_index(drop=True), \n",
    "                         tr365[tr365['name'] == f\"tr_{nn[i]}\"].reset_index(drop=True)],\n",
    "                        axis=1).drop(columns = ['name'])\n",
    "    subset = []\n",
    "    for j in on:\n",
    "        subset.append(mint.reconcile(Y_hat_df=lgb_omt[['unique_id','ds',j]], S=S, tags=tags,  Y_df= tr_order[['unique_id','ds','y',j]]).iloc[:,-1:])\n",
    "    MINTo.append(pd.concat(subset, axis=1))\n",
    "#MinT = pd.concat([MMint.iloc[:,:1], pd.concat(MINTo)], axis = 1)\n",
    "MinT = pd.concat([MMint.loc[MMint.iloc[:,0].isin(nn),'name'], pd.concat(MINTo)], axis = 1)\n",
    "col = MinT.columns[-3:]\n",
    "MinT[col] =MinT[col].clip(lower=0)\n",
    "MinT.to_pickle(f\"OrderMinT_L{lead_time}.pkl\")"
   ]
  },
  {
   "cell_type": "code",
   "execution_count": null,
   "id": "efd8bf43-6061-44fd-85a0-0ce06bac0df6",
   "metadata": {},
   "outputs": [],
   "source": []
  },
  {
   "cell_type": "markdown",
   "id": "351f01d5-7038-492d-a137-8d6a9710e7b9",
   "metadata": {
    "tags": []
   },
   "source": [
    "## Fixed Order Simulation:"
   ]
  },
  {
   "cell_type": "code",
   "execution_count": 3,
   "id": "70520f11-61fd-41fb-b7f2-6ac16e65bbc9",
   "metadata": {},
   "outputs": [
    {
     "name": "stdout",
     "output_type": "stream",
     "text": [
      "Looking in indexes: https://mirrors.tuna.tsinghua.edu.cn/pypi/web/simple\n",
      "Requirement already satisfied: numpy<2 in c:\\py\\anaconda3\\lib\\site-packages (1.26.4)\n",
      "Note: you may need to restart the kernel to use updated packages.\n"
     ]
    }
   ],
   "source": [
    "pip install \"numpy<2\" --upgrade --user -i https://mirrors.tuna.tsinghua.edu.cn/pypi/web/simple numpy"
   ]
  },
  {
   "cell_type": "code",
   "execution_count": 36,
   "id": "ac1246c4-bf00-420d-bae0-84fe3d999979",
   "metadata": {},
   "outputs": [],
   "source": [
    "path1  = 'C:/PycharmProjects/yjz/Extension for hts/JayCode/Models/'\n",
    "from Invtsim import *\n",
    "import numpy as np\n",
    "import pandas as pd\n",
    "from scipy.stats import norm\n",
    "import warnings\n",
    "warnings.simplefilter(\"ignore\")\n",
    "from tqdm import tqdm\n",
    "def loop2( truth, NAME:str, fcst, residual = 0,\n",
    "         gap1: int = 28, gap2:int = 1913,\n",
    "         n = None, \n",
    "         df_list:list = [], \n",
    "         L_ = 3):\n",
    "    if n == None:\n",
    "        n = int(len(truth)/gap1)\n",
    "    for i in tqdm(range(n)):\n",
    "        fcst_1  = fcst[i*gap1:(i+1)*gap1]\n",
    "        truth_1 = truth[i*gap1:(i+1)*gap1]\n",
    "        #res_1   = residual[i*gap2:(i+1)*gap2]\n",
    "        df = InvtSim(fcst = 0, truth = truth_1, residual = residual, name = NAME, L=L_)\n",
    "        res = df.ob_all_t_fixedcase(fixed_order = fcst_1)\n",
    "        df_list.append(res.reset_index(drop = True))\n",
    "    print(\"-----------DOWN!------------\")\n",
    "    return pd.concat(df_list).reset_index(drop=True)"
   ]
  },
  {
   "cell_type": "markdown",
   "id": "85e48f24-4b6b-441e-b2e9-3c11c5b59e99",
   "metadata": {
    "tags": []
   },
   "source": [
    "### L1"
   ]
  },
  {
   "cell_type": "code",
   "execution_count": 37,
   "id": "67f22216-f1c7-4dd5-b7f5-837b0e1aca91",
   "metadata": {
    "scrolled": true,
    "tags": []
   },
   "outputs": [
    {
     "name": "stderr",
     "output_type": "stream",
     "text": [
      "100%|█████████████████████████████████████████████████████████████████████████████████████████████████████████████████████████████████████████████| 42840/42840 [01:02<00:00, 680.45it/s]\n"
     ]
    },
    {
     "name": "stdout",
     "output_type": "stream",
     "text": [
      "-----------DOWN!------------\n"
     ]
    },
    {
     "name": "stderr",
     "output_type": "stream",
     "text": [
      "100%|█████████████████████████████████████████████████████████████████████████████████████████████████████████████████████████████████████████████| 42840/42840 [01:01<00:00, 697.20it/s]\n"
     ]
    },
    {
     "name": "stdout",
     "output_type": "stream",
     "text": [
      "-----------DOWN!------------\n"
     ]
    },
    {
     "name": "stderr",
     "output_type": "stream",
     "text": [
      "100%|█████████████████████████████████████████████████████████████████████████████████████████████████████████████████████████████████████████████| 42840/42840 [01:01<00:00, 697.54it/s]\n"
     ]
    },
    {
     "name": "stdout",
     "output_type": "stream",
     "text": [
      "-----------DOWN!------------\n"
     ]
    },
    {
     "name": "stderr",
     "output_type": "stream",
     "text": [
      "100%|█████████████████████████████████████████████████████████████████████████████████████████████████████████████████████████████████████████████| 42840/42840 [01:01<00:00, 696.01it/s]\n"
     ]
    },
    {
     "name": "stdout",
     "output_type": "stream",
     "text": [
      "-----------DOWN!------------\n"
     ]
    }
   ],
   "source": [
    "#Oemt = pd.read_pickle(\"Order_ets_BU.pkl\")\n",
    "#Olmt = pd.read_pickle(\"Order_lgb_BU.pkl\")\n",
    "lead_time = 1\n",
    "MinT = pd.read_pickle(f\"OrderMinT_L{lead_time}.pkl\") #OrderMinT.pkl#############################################################################\n",
    "col = MinT.columns[-3:]\n",
    "MinT[col] = MinT[col].clip(lower=0)\n",
    "truth= pd.read_pickle(f\"{path1}future_28.pkl\")['y']\n",
    "Invt_df = []\n",
    "names   = [ \"lgb_base\", \"lgb_mint\", \"ets_base\", \"ets_mint\"]\n",
    "for i in names:\n",
    "    df = loop2(fcst = MinT[MinT['name'] == i].iloc[:,-3:], truth = truth, residual = [], NAME = i, df_list = [],L_=lead_time)# L_=3\n",
    "    Invt_df.append(df)\n",
    "pd.concat(Invt_df).to_pickle(f\"MinTOrder_L{lead_time}.pkl\")"
   ]
  },
  {
   "cell_type": "markdown",
   "id": "de2ffe7f-3fe0-4570-ac4f-1bcb89f82397",
   "metadata": {
    "jp-MarkdownHeadingCollapsed": true,
    "tags": []
   },
   "source": [
    "### L3"
   ]
  },
  {
   "cell_type": "code",
   "execution_count": 38,
   "id": "f8b7f5fa-ddbb-4076-bc4f-19a840a7129d",
   "metadata": {
    "scrolled": true,
    "tags": []
   },
   "outputs": [
    {
     "name": "stderr",
     "output_type": "stream",
     "text": [
      "100%|█████████████████████████████████████████████████████████████████████████████████████████████████████████████████████████████████████████████| 42840/42840 [01:06<00:00, 643.02it/s]\n"
     ]
    },
    {
     "name": "stdout",
     "output_type": "stream",
     "text": [
      "-----------DOWN!------------\n"
     ]
    },
    {
     "name": "stderr",
     "output_type": "stream",
     "text": [
      "100%|█████████████████████████████████████████████████████████████████████████████████████████████████████████████████████████████████████████████| 42840/42840 [01:06<00:00, 646.23it/s]\n"
     ]
    },
    {
     "name": "stdout",
     "output_type": "stream",
     "text": [
      "-----------DOWN!------------\n"
     ]
    },
    {
     "name": "stderr",
     "output_type": "stream",
     "text": [
      "100%|█████████████████████████████████████████████████████████████████████████████████████████████████████████████████████████████████████████████| 42840/42840 [01:06<00:00, 641.45it/s]\n"
     ]
    },
    {
     "name": "stdout",
     "output_type": "stream",
     "text": [
      "-----------DOWN!------------\n"
     ]
    },
    {
     "name": "stderr",
     "output_type": "stream",
     "text": [
      "100%|█████████████████████████████████████████████████████████████████████████████████████████████████████████████████████████████████████████████| 42840/42840 [01:07<00:00, 639.36it/s]\n"
     ]
    },
    {
     "name": "stdout",
     "output_type": "stream",
     "text": [
      "-----------DOWN!------------\n"
     ]
    }
   ],
   "source": [
    "lead_time = 3\n",
    "MinT = pd.read_pickle(f\"OrderMinT_L{lead_time}.pkl\") #OrderMinT.pkl#############################################################################\n",
    "col = MinT.columns[-3:]\n",
    "MinT[col] = MinT[col].clip(lower=0)\n",
    "truth= pd.read_pickle(f\"{path1}future_28.pkl\")['y']\n",
    "Invt_df = []\n",
    "#names   = [ \"lgb_base\", \"lgb_bu\", \"lgb_td\", \"lgb_mint\", \"ets_base\", \"ets_bu\", \"ets_td\", \"ets_mint\"]\n",
    "names   = [ \"lgb_base\", \"lgb_mint\", \"ets_base\", \"ets_mint\"]\n",
    "for i in names:\n",
    "    df = loop2(fcst = MinT[MinT['name'] == i].iloc[:,-3:], truth = truth, residual = [], NAME = i, df_list = [],L_=lead_time)# L_=3\n",
    "    Invt_df.append(df)\n",
    "pd.concat(Invt_df).to_pickle(f\"MinTOrder_L{lead_time}.pkl\")"
   ]
  },
  {
   "cell_type": "markdown",
   "id": "31dba3a7-2787-4c36-8f31-2b2979493e83",
   "metadata": {
    "jp-MarkdownHeadingCollapsed": true,
    "tags": []
   },
   "source": [
    "### L7"
   ]
  },
  {
   "cell_type": "code",
   "execution_count": 39,
   "id": "de51ac0b-b1f3-4eaa-9eda-0d1443d24b42",
   "metadata": {},
   "outputs": [
    {
     "name": "stderr",
     "output_type": "stream",
     "text": [
      "100%|█████████████████████████████████████████████████████████████████████████████████████████████████████████████████████████████████████████████| 42840/42840 [01:13<00:00, 585.29it/s]\n"
     ]
    },
    {
     "name": "stdout",
     "output_type": "stream",
     "text": [
      "-----------DOWN!------------\n"
     ]
    },
    {
     "name": "stderr",
     "output_type": "stream",
     "text": [
      "100%|█████████████████████████████████████████████████████████████████████████████████████████████████████████████████████████████████████████████| 42840/42840 [01:12<00:00, 591.77it/s]\n"
     ]
    },
    {
     "name": "stdout",
     "output_type": "stream",
     "text": [
      "-----------DOWN!------------\n"
     ]
    },
    {
     "name": "stderr",
     "output_type": "stream",
     "text": [
      "100%|█████████████████████████████████████████████████████████████████████████████████████████████████████████████████████████████████████████████| 42840/42840 [01:13<00:00, 582.02it/s]\n"
     ]
    },
    {
     "name": "stdout",
     "output_type": "stream",
     "text": [
      "-----------DOWN!------------\n"
     ]
    },
    {
     "name": "stderr",
     "output_type": "stream",
     "text": [
      "100%|█████████████████████████████████████████████████████████████████████████████████████████████████████████████████████████████████████████████| 42840/42840 [01:12<00:00, 594.29it/s]\n"
     ]
    },
    {
     "name": "stdout",
     "output_type": "stream",
     "text": [
      "-----------DOWN!------------\n"
     ]
    }
   ],
   "source": [
    "lead_time = 7\n",
    "MinT = pd.read_pickle(f\"OrderMinT_L{lead_time}.pkl\") #OrderMinT.pkl#############################################################################\n",
    "col = MinT.columns[-3:]\n",
    "MinT[col] = MinT[col].clip(lower=0)\n",
    "truth= pd.read_pickle(f\"{path1}future_28.pkl\")['y']\n",
    "Invt_df = []\n",
    "#names   = [ \"lgb_base\", \"lgb_bu\", \"lgb_td\", \"lgb_mint\", \"ets_base\", \"ets_bu\", \"ets_td\", \"ets_mint\"]\n",
    "names   = [ \"lgb_base\", \"lgb_mint\", \"ets_base\", \"ets_mint\"]\n",
    "for i in names:\n",
    "    df = loop2(fcst = MinT[MinT['name'] == i].iloc[:,-3:], truth = truth, residual = [], NAME = i, df_list = [],L_=lead_time)# L_=3\n",
    "    Invt_df.append(df)\n",
    "pd.concat(Invt_df).to_pickle(f\"MinTOrder_L{lead_time}.pkl\")"
   ]
  },
  {
   "cell_type": "markdown",
   "id": "7e082466-a294-4c9c-949b-c37f5f646c9f",
   "metadata": {
    "jp-MarkdownHeadingCollapsed": true,
    "tags": []
   },
   "source": [
    "### L14"
   ]
  },
  {
   "cell_type": "code",
   "execution_count": 40,
   "id": "e161a872-0b95-498a-9dc2-32d06d893f50",
   "metadata": {},
   "outputs": [
    {
     "name": "stderr",
     "output_type": "stream",
     "text": [
      "100%|█████████████████████████████████████████████████████████████████████████████████████████████████████████████████████████████████████████████| 42840/42840 [01:22<00:00, 519.10it/s]\n"
     ]
    },
    {
     "name": "stdout",
     "output_type": "stream",
     "text": [
      "-----------DOWN!------------\n"
     ]
    },
    {
     "name": "stderr",
     "output_type": "stream",
     "text": [
      "100%|█████████████████████████████████████████████████████████████████████████████████████████████████████████████████████████████████████████████| 42840/42840 [01:22<00:00, 518.93it/s]\n"
     ]
    },
    {
     "name": "stdout",
     "output_type": "stream",
     "text": [
      "-----------DOWN!------------\n"
     ]
    },
    {
     "name": "stderr",
     "output_type": "stream",
     "text": [
      "100%|█████████████████████████████████████████████████████████████████████████████████████████████████████████████████████████████████████████████| 42840/42840 [01:23<00:00, 511.57it/s]\n"
     ]
    },
    {
     "name": "stdout",
     "output_type": "stream",
     "text": [
      "-----------DOWN!------------\n"
     ]
    },
    {
     "name": "stderr",
     "output_type": "stream",
     "text": [
      "100%|█████████████████████████████████████████████████████████████████████████████████████████████████████████████████████████████████████████████| 42840/42840 [01:22<00:00, 517.92it/s]\n"
     ]
    },
    {
     "name": "stdout",
     "output_type": "stream",
     "text": [
      "-----------DOWN!------------\n"
     ]
    }
   ],
   "source": [
    "lead_time = 14\n",
    "MinT = pd.read_pickle(f\"OrderMinT_L{lead_time}.pkl\") #OrderMinT.pkl#############################################################################\n",
    "col = MinT.columns[-3:]\n",
    "MinT[col] = MinT[col].clip(lower=0)\n",
    "truth= pd.read_pickle(f\"{path1}future_28.pkl\")['y']\n",
    "Invt_df = []\n",
    "#names   = [ \"lgb_base\", \"lgb_bu\", \"lgb_td\", \"lgb_mint\", \"ets_base\", \"ets_bu\", \"ets_td\", \"ets_mint\"]\n",
    "names   = [ \"lgb_base\", \"lgb_mint\", \"ets_base\", \"ets_mint\"]\n",
    "for i in names:\n",
    "    df = loop2(fcst = MinT[MinT['name'] == i].iloc[:,-3:], truth = truth, residual = [], NAME = i, df_list = [],L_=lead_time)# L_=3\n",
    "    Invt_df.append(df)\n",
    "pd.concat(Invt_df).to_pickle(f\"MinTOrder_L{lead_time}.pkl\")"
   ]
  },
  {
   "cell_type": "code",
   "execution_count": null,
   "id": "e18071cb-4ea0-4547-a811-91420ecda68c",
   "metadata": {},
   "outputs": [],
   "source": []
  }
 ],
 "metadata": {
  "kernelspec": {
   "display_name": "Python 3 (ipykernel)",
   "language": "python",
   "name": "python3"
  },
  "language_info": {
   "codemirror_mode": {
    "name": "ipython",
    "version": 3
   },
   "file_extension": ".py",
   "mimetype": "text/x-python",
   "name": "python",
   "nbconvert_exporter": "python",
   "pygments_lexer": "ipython3",
   "version": "3.9.7"
  }
 },
 "nbformat": 4,
 "nbformat_minor": 5
}
