{
 "cells": [
  {
   "cell_type": "markdown",
   "id": "43cfa5e8-151e-4949-a356-b3375fb2186d",
   "metadata": {
    "tags": []
   },
   "source": [
    "# Parameters Tuning"
   ]
  },
  {
   "cell_type": "code",
   "execution_count": 1,
   "id": "b16ada9d-2c5d-4756-bd86-7fc41dd44fbb",
   "metadata": {},
   "outputs": [
    {
     "name": "stderr",
     "output_type": "stream",
     "text": [
      "100%|████████████████████████████████████████████████████████████████████| 42840/42840 [00:09<00:00, 4735.82it/s]\n"
     ]
    }
   ],
   "source": [
    "import numpy as np\n",
    "import pandas as pd\n",
    "import optuna\n",
    "import lightgbm as lgb\n",
    "from mlforecast import MLForecast\n",
    "from sklearn.metrics import mean_squared_error\n",
    "from window_ops.rolling import rolling_mean\n",
    "from tqdm import tqdm\n",
    "\n",
    "path  = 'C:/PycharmProjects/pythonProject1/yjz/Extension for hts/JayCode/Data/'\n",
    "data  = pd.read_pickle(f\"{path}final_processed_data.pkl\")#.reset_index(drop=True)\n",
    "data[\"unique_id\"] = pd.concat([pd.DataFrame({\"unique_id\": np.ones(1941)*(i+1)}) for i in tqdm(range(42840))]).reset_index(drop=True)"
   ]
  },
  {
   "cell_type": "markdown",
   "id": "7a18a8ec-2d7e-497e-8e3b-5e30deee5288",
   "metadata": {
    "tags": []
   },
   "source": [
    "## optuna"
   ]
  },
  {
   "cell_type": "code",
   "execution_count": 7,
   "id": "f67e4db2-7b8c-4684-b045-ad4d0965db2e",
   "metadata": {},
   "outputs": [],
   "source": [
    "# define the goal function for optuna\n",
    "nn1 = 1913-28*2\n",
    "nn2 = 1913-28\n",
    "DATA_COLS = [\"y\", \"unique_id\", \"ds\", 'sell_price', 'event_name_1','level','price_std', 'price_max', 'price_min', 'price_mean', 'price_std_dev',\n",
    "             'price_momentum_1d', 'price_momentum_1m', 'price_momentum_1y',\n",
    "             'event_type_1', 'event_name_2', 'event_type_2', 'snap_CA', 'snap_TX',\n",
    "             'snap_WI', 'tm_d', 'tm_w', 'tm_m', 'tm_y', 'tm_wm', 'tm_dw', 'tm_w_end']\n",
    "def objective(trial):\n",
    "    train_df = train.loc[train[\"ds\"] <= nn1].reset_index(drop=True)\n",
    "    val_df   = train.loc[train[\"ds\"] > nn1]\n",
    "    val_df   = val_df.loc[val_df['ds'] < nn2].reset_index(drop=True)\n",
    "    test_df  = val_df[val_df['ds'] >= nn2].reset_index(drop=True)\n",
    "    params = {\n",
    "        \"objective\": \"regression\",\n",
    "        \"metric\": \"rmse\",\n",
    "        \"n_estimators\": trial.suggest_int(\"n_estimators\", 300, 1500),\n",
    "        \"random_state\": 8,\n",
    "        \"verbosity\": -1,\n",
    "        \"learning_rate\": trial.suggest_loguniform('learning_rate', 0.001, 0.1),\n",
    "        \"num_leaves\": trial.suggest_int('num_leaves', 2, 256),\n",
    "        \"min_data_in_leaf\": trial.suggest_int('min_data_in_leaf', 1, 100),\n",
    "        \"subsample\": trial.suggest_uniform(\"subsample\", 0.3, 1.0),\n",
    "        \"colsample_bytree\": trial.suggest_uniform('colsample_bytree', 0.3, 1.0),\n",
    "        'num_threads': -1\n",
    "    \n",
    "    models = [lgb.LGBMRegressor(**params)]\n",
    "    model = MLForecast(\n",
    "            models=models,\n",
    "            freq=1\n",
    "        )\n",
    "    model.fit(train_df,static_features = [])\n",
    "    forecasts = model.predict(h=1,X_df = val_df[DATA_COLS[1:]])\n",
    "    forecasts = forecasts.merge(val_df[[\"unique_id\",\"ds\",\"y\"]], on = [\"unique_id\",\"ds\"], how=\"left\")\n",
    "    rmse = mean_squared_error(forecasts[\"y\"], forecasts[\"LGBMRegressor\"], squared=False)\n",
    "    \n",
    "    return rmse"
   ]
  },
  {
   "cell_type": "code",
   "execution_count": 8,
   "id": "1d4706c1-3d6c-48b4-ad04-dfdd685bc862",
   "metadata": {
    "scrolled": true,
    "tags": []
   },
   "outputs": [
    {
     "name": "stderr",
     "output_type": "stream",
     "text": [
      "[I 2025-03-07 21:07:53,652] A new study created in memory with name: no-name-27ae2393-9c6c-444e-8c99-03bfb445a0fd\n"
     ]
    },
    {
     "name": "stdout",
     "output_type": "stream",
     "text": [
      "1\n",
      "[LightGBM] [Warning] min_data_in_leaf is set=12, min_child_samples=20 will be ignored. Current value: min_data_in_leaf=12\n",
      "[LightGBM] [Warning] num_threads is set=-1, n_jobs=-1 will be ignored. Current value: num_threads=-1\n"
     ]
    },
    {
     "name": "stderr",
     "output_type": "stream",
     "text": [
      "[I 2025-03-07 21:24:02,816] Trial 0 finished with value: 150.74463996450936 and parameters: {'n_estimators': 930, 'learning_rate': 0.0016112910158499465, 'num_leaves': 99, 'min_data_in_leaf': 12, 'subsample': 0.7322324840407219, 'colsample_bytree': 0.8233825130977579}. Best is trial 0 with value: 150.74463996450936.\n"
     ]
    },
    {
     "name": "stdout",
     "output_type": "stream",
     "text": [
      "1\n",
      "[LightGBM] [Warning] min_data_in_leaf is set=6, min_child_samples=20 will be ignored. Current value: min_data_in_leaf=6\n",
      "[LightGBM] [Warning] num_threads is set=-1, n_jobs=-1 will be ignored. Current value: num_threads=-1\n"
     ]
    },
    {
     "name": "stderr",
     "output_type": "stream",
     "text": [
      "[I 2025-03-07 21:42:13,497] Trial 1 finished with value: 148.67133980572288 and parameters: {'n_estimators': 995, 'learning_rate': 0.0015290321070419942, 'num_leaves': 133, 'min_data_in_leaf': 6, 'subsample': 0.4897141238349568, 'colsample_bytree': 0.8505094085277167}. Best is trial 1 with value: 148.67133980572288.\n"
     ]
    },
    {
     "name": "stdout",
     "output_type": "stream",
     "text": [
      "1\n",
      "[LightGBM] [Warning] min_data_in_leaf is set=9, min_child_samples=20 will be ignored. Current value: min_data_in_leaf=9\n",
      "[LightGBM] [Warning] num_threads is set=-1, n_jobs=-1 will be ignored. Current value: num_threads=-1\n"
     ]
    },
    {
     "name": "stderr",
     "output_type": "stream",
     "text": [
      "[I 2025-03-07 21:56:18,691] Trial 2 finished with value: 121.63162831930548 and parameters: {'n_estimators': 546, 'learning_rate': 0.04316246270807021, 'num_leaves': 214, 'min_data_in_leaf': 9, 'subsample': 0.7039713082609848, 'colsample_bytree': 0.6426386987639958}. Best is trial 2 with value: 121.63162831930548.\n"
     ]
    },
    {
     "name": "stdout",
     "output_type": "stream",
     "text": [
      "1\n",
      "[LightGBM] [Warning] min_data_in_leaf is set=49, min_child_samples=20 will be ignored. Current value: min_data_in_leaf=49\n",
      "[LightGBM] [Warning] num_threads is set=-1, n_jobs=-1 will be ignored. Current value: num_threads=-1\n"
     ]
    },
    {
     "name": "stderr",
     "output_type": "stream",
     "text": [
      "[I 2025-03-07 22:08:50,369] Trial 3 finished with value: 121.50398210339824 and parameters: {'n_estimators': 436, 'learning_rate': 0.020673266648574253, 'num_leaves': 214, 'min_data_in_leaf': 49, 'subsample': 0.4154106369999997, 'colsample_bytree': 0.5602299581936341}. Best is trial 3 with value: 121.50398210339824.\n"
     ]
    },
    {
     "name": "stdout",
     "output_type": "stream",
     "text": [
      "1\n",
      "[LightGBM] [Warning] min_data_in_leaf is set=3, min_child_samples=20 will be ignored. Current value: min_data_in_leaf=3\n",
      "[LightGBM] [Warning] num_threads is set=-1, n_jobs=-1 will be ignored. Current value: num_threads=-1\n"
     ]
    },
    {
     "name": "stderr",
     "output_type": "stream",
     "text": [
      "[I 2025-03-07 22:21:07,675] Trial 4 finished with value: 125.23199137567887 and parameters: {'n_estimators': 611, 'learning_rate': 0.005736769696741086, 'num_leaves': 248, 'min_data_in_leaf': 3, 'subsample': 0.802841595532853, 'colsample_bytree': 0.809227567008024}. Best is trial 3 with value: 121.50398210339824.\n"
     ]
    },
    {
     "name": "stdout",
     "output_type": "stream",
     "text": [
      "1\n",
      "[LightGBM] [Warning] min_data_in_leaf is set=65, min_child_samples=20 will be ignored. Current value: min_data_in_leaf=65\n",
      "[LightGBM] [Warning] num_threads is set=-1, n_jobs=-1 will be ignored. Current value: num_threads=-1\n"
     ]
    },
    {
     "name": "stderr",
     "output_type": "stream",
     "text": [
      "[I 2025-03-07 22:31:33,956] Trial 5 finished with value: 151.77975518994782 and parameters: {'n_estimators': 385, 'learning_rate': 0.0115589270466602, 'num_leaves': 102, 'min_data_in_leaf': 65, 'subsample': 0.4199550295721029, 'colsample_bytree': 0.3281598713039455}. Best is trial 3 with value: 121.50398210339824.\n"
     ]
    },
    {
     "name": "stdout",
     "output_type": "stream",
     "text": [
      "1\n",
      "[LightGBM] [Warning] min_data_in_leaf is set=88, min_child_samples=20 will be ignored. Current value: min_data_in_leaf=88\n",
      "[LightGBM] [Warning] num_threads is set=-1, n_jobs=-1 will be ignored. Current value: num_threads=-1\n"
     ]
    },
    {
     "name": "stderr",
     "output_type": "stream",
     "text": [
      "[I 2025-03-07 22:54:53,166] Trial 6 finished with value: 122.11850061497051 and parameters: {'n_estimators': 1011, 'learning_rate': 0.06937329749316636, 'num_leaves': 185, 'min_data_in_leaf': 88, 'subsample': 0.4949546836513715, 'colsample_bytree': 0.5999881120184678}. Best is trial 3 with value: 121.50398210339824.\n"
     ]
    },
    {
     "name": "stdout",
     "output_type": "stream",
     "text": [
      "1\n",
      "[LightGBM] [Warning] min_data_in_leaf is set=94, min_child_samples=20 will be ignored. Current value: min_data_in_leaf=94\n",
      "[LightGBM] [Warning] num_threads is set=-1, n_jobs=-1 will be ignored. Current value: num_threads=-1\n"
     ]
    },
    {
     "name": "stderr",
     "output_type": "stream",
     "text": [
      "[I 2025-03-07 23:09:39,017] Trial 7 finished with value: 203.0705996220427 and parameters: {'n_estimators': 686, 'learning_rate': 0.0010259563480415524, 'num_leaves': 226, 'min_data_in_leaf': 94, 'subsample': 0.34025458640590944, 'colsample_bytree': 0.6958597320722587}. Best is trial 3 with value: 121.50398210339824.\n"
     ]
    },
    {
     "name": "stdout",
     "output_type": "stream",
     "text": [
      "1\n",
      "[LightGBM] [Warning] min_data_in_leaf is set=50, min_child_samples=20 will be ignored. Current value: min_data_in_leaf=50\n",
      "[LightGBM] [Warning] num_threads is set=-1, n_jobs=-1 will be ignored. Current value: num_threads=-1\n"
     ]
    },
    {
     "name": "stderr",
     "output_type": "stream",
     "text": [
      "[I 2025-03-07 23:34:00,534] Trial 8 finished with value: 121.30333099759687 and parameters: {'n_estimators': 1277, 'learning_rate': 0.005462294525615527, 'num_leaves': 199, 'min_data_in_leaf': 50, 'subsample': 0.9403482892803465, 'colsample_bytree': 0.7804229740086301}. Best is trial 8 with value: 121.30333099759687.\n"
     ]
    },
    {
     "name": "stdout",
     "output_type": "stream",
     "text": [
      "1\n",
      "[LightGBM] [Warning] min_data_in_leaf is set=45, min_child_samples=20 will be ignored. Current value: min_data_in_leaf=45\n",
      "[LightGBM] [Warning] num_threads is set=-1, n_jobs=-1 will be ignored. Current value: num_threads=-1\n"
     ]
    },
    {
     "name": "stderr",
     "output_type": "stream",
     "text": [
      "[I 2025-03-07 23:59:08,887] Trial 9 finished with value: 134.05739374458932 and parameters: {'n_estimators': 1262, 'learning_rate': 0.0021067274773032517, 'num_leaves': 180, 'min_data_in_leaf': 45, 'subsample': 0.5579404947700142, 'colsample_bytree': 0.7175207624721346}. Best is trial 8 with value: 121.30333099759687.\n"
     ]
    },
    {
     "name": "stdout",
     "output_type": "stream",
     "text": [
      "1\n",
      "[LightGBM] [Warning] min_data_in_leaf is set=27, min_child_samples=20 will be ignored. Current value: min_data_in_leaf=27\n",
      "[LightGBM] [Warning] num_threads is set=-1, n_jobs=-1 will be ignored. Current value: num_threads=-1\n"
     ]
    },
    {
     "name": "stderr",
     "output_type": "stream",
     "text": [
      "[I 2025-03-08 00:28:21,125] Trial 10 finished with value: 124.84560481513174 and parameters: {'n_estimators': 1500, 'learning_rate': 0.004530659529623243, 'num_leaves': 30, 'min_data_in_leaf': 27, 'subsample': 0.9361900199264231, 'colsample_bytree': 0.45539475208245017}. Best is trial 8 with value: 121.30333099759687.\n"
     ]
    },
    {
     "name": "stdout",
     "output_type": "stream",
     "text": [
      "1\n",
      "[LightGBM] [Warning] min_data_in_leaf is set=55, min_child_samples=20 will be ignored. Current value: min_data_in_leaf=55\n",
      "[LightGBM] [Warning] num_threads is set=-1, n_jobs=-1 will be ignored. Current value: num_threads=-1\n"
     ]
    },
    {
     "name": "stderr",
     "output_type": "stream",
     "text": [
      "[I 2025-03-08 00:51:23,103] Trial 11 finished with value: 121.35283044197814 and parameters: {'n_estimators': 1252, 'learning_rate': 0.01955368486891832, 'num_leaves': 163, 'min_data_in_leaf': 55, 'subsample': 0.992959189914626, 'colsample_bytree': 0.9532073111429495}. Best is trial 8 with value: 121.30333099759687.\n"
     ]
    },
    {
     "name": "stdout",
     "output_type": "stream",
     "text": [
      "1\n",
      "[LightGBM] [Warning] min_data_in_leaf is set=70, min_child_samples=20 will be ignored. Current value: min_data_in_leaf=70\n",
      "[LightGBM] [Warning] num_threads is set=-1, n_jobs=-1 will be ignored. Current value: num_threads=-1\n"
     ]
    },
    {
     "name": "stderr",
     "output_type": "stream",
     "text": [
      "[I 2025-03-08 01:14:41,330] Trial 12 finished with value: 122.91177173916513 and parameters: {'n_estimators': 1279, 'learning_rate': 0.019363652631707418, 'num_leaves': 158, 'min_data_in_leaf': 70, 'subsample': 0.9810281552940621, 'colsample_bytree': 0.9904816297770492}. Best is trial 8 with value: 121.30333099759687.\n"
     ]
    },
    {
     "name": "stdout",
     "output_type": "stream",
     "text": [
      "1\n",
      "[LightGBM] [Warning] min_data_in_leaf is set=34, min_child_samples=20 will be ignored. Current value: min_data_in_leaf=34\n",
      "[LightGBM] [Warning] num_threads is set=-1, n_jobs=-1 will be ignored. Current value: num_threads=-1\n"
     ]
    },
    {
     "name": "stderr",
     "output_type": "stream",
     "text": [
      "[I 2025-03-08 01:32:26,347] Trial 13 finished with value: 121.71673943273593 and parameters: {'n_estimators': 1240, 'learning_rate': 0.004183633654146167, 'num_leaves': 57, 'min_data_in_leaf': 34, 'subsample': 0.8656909788627423, 'colsample_bytree': 0.995786868170945}. Best is trial 8 with value: 121.30333099759687.\n"
     ]
    },
    {
     "name": "stdout",
     "output_type": "stream",
     "text": [
      "1\n",
      "[LightGBM] [Warning] min_data_in_leaf is set=65, min_child_samples=20 will be ignored. Current value: min_data_in_leaf=65\n",
      "[LightGBM] [Warning] num_threads is set=-1, n_jobs=-1 will be ignored. Current value: num_threads=-1\n"
     ]
    },
    {
     "name": "stderr",
     "output_type": "stream",
     "text": [
      "[I 2025-03-08 01:58:57,829] Trial 14 finished with value: 123.32066967048335 and parameters: {'n_estimators': 1495, 'learning_rate': 0.010235617560028085, 'num_leaves': 157, 'min_data_in_leaf': 65, 'subsample': 0.8728186639439645, 'colsample_bytree': 0.9098736361261518}. Best is trial 8 with value: 121.30333099759687.\n"
     ]
    },
    {
     "name": "stdout",
     "output_type": "stream",
     "text": [
      "1\n",
      "[LightGBM] [Warning] min_data_in_leaf is set=76, min_child_samples=20 will be ignored. Current value: min_data_in_leaf=76\n",
      "[LightGBM] [Warning] num_threads is set=-1, n_jobs=-1 will be ignored. Current value: num_threads=-1\n"
     ]
    },
    {
     "name": "stderr",
     "output_type": "stream",
     "text": [
      "[I 2025-03-08 02:20:54,235] Trial 15 finished with value: 121.95890943859285 and parameters: {'n_estimators': 1158, 'learning_rate': 0.03052998811789499, 'num_leaves': 184, 'min_data_in_leaf': 76, 'subsample': 0.9944895052799709, 'colsample_bytree': 0.7554850310344825}. Best is trial 8 with value: 121.30333099759687.\n"
     ]
    },
    {
     "name": "stdout",
     "output_type": "stream",
     "text": [
      "1\n",
      "[LightGBM] [Warning] min_data_in_leaf is set=34, min_child_samples=20 will be ignored. Current value: min_data_in_leaf=34\n",
      "[LightGBM] [Warning] num_threads is set=-1, n_jobs=-1 will be ignored. Current value: num_threads=-1\n"
     ]
    },
    {
     "name": "stderr",
     "output_type": "stream",
     "text": [
      "[I 2025-03-08 02:35:50,775] Trial 16 finished with value: 121.6099657377164 and parameters: {'n_estimators': 768, 'learning_rate': 0.007107515432298213, 'num_leaves': 254, 'min_data_in_leaf': 34, 'subsample': 0.8736062781167806, 'colsample_bytree': 0.895966715801999}. Best is trial 8 with value: 121.30333099759687.\n"
     ]
    },
    {
     "name": "stdout",
     "output_type": "stream",
     "text": [
      "1\n",
      "[LightGBM] [Warning] min_data_in_leaf is set=57, min_child_samples=20 will be ignored. Current value: min_data_in_leaf=57\n",
      "[LightGBM] [Warning] num_threads is set=-1, n_jobs=-1 will be ignored. Current value: num_threads=-1\n"
     ]
    },
    {
     "name": "stderr",
     "output_type": "stream",
     "text": [
      "[I 2025-03-08 02:55:46,446] Trial 17 finished with value: 121.48893945484666 and parameters: {'n_estimators': 1368, 'learning_rate': 0.09761084341405427, 'num_leaves': 116, 'min_data_in_leaf': 57, 'subsample': 0.6420185137264385, 'colsample_bytree': 0.9259233991251713}. Best is trial 8 with value: 121.30333099759687.\n"
     ]
    },
    {
     "name": "stdout",
     "output_type": "stream",
     "text": [
      "1\n",
      "[LightGBM] [Warning] min_data_in_leaf is set=43, min_child_samples=20 will be ignored. Current value: min_data_in_leaf=43\n",
      "[LightGBM] [Warning] num_threads is set=-1, n_jobs=-1 will be ignored. Current value: num_threads=-1\n"
     ]
    },
    {
     "name": "stderr",
     "output_type": "stream",
     "text": [
      "[I 2025-03-08 03:15:49,760] Trial 18 finished with value: 130.92647957750452 and parameters: {'n_estimators': 1035, 'learning_rate': 0.002701649512872362, 'num_leaves': 146, 'min_data_in_leaf': 43, 'subsample': 0.7762459120721457, 'colsample_bytree': 0.7664476316977413}. Best is trial 8 with value: 121.30333099759687.\n"
     ]
    },
    {
     "name": "stdout",
     "output_type": "stream",
     "text": [
      "1\n",
      "[LightGBM] [Warning] min_data_in_leaf is set=22, min_child_samples=20 will be ignored. Current value: min_data_in_leaf=22\n",
      "[LightGBM] [Warning] num_threads is set=-1, n_jobs=-1 will be ignored. Current value: num_threads=-1\n"
     ]
    },
    {
     "name": "stderr",
     "output_type": "stream",
     "text": [
      "[I 2025-03-08 03:32:00,116] Trial 19 finished with value: 121.49214596494538 and parameters: {'n_estimators': 1125, 'learning_rate': 0.01583393102749653, 'num_leaves': 74, 'min_data_in_leaf': 22, 'subsample': 0.9211728034500878, 'colsample_bytree': 0.9317784213271632}. Best is trial 8 with value: 121.30333099759687.\n"
     ]
    },
    {
     "name": "stdout",
     "output_type": "stream",
     "text": [
      "1\n",
      "[LightGBM] [Warning] min_data_in_leaf is set=80, min_child_samples=20 will be ignored. Current value: min_data_in_leaf=80\n",
      "[LightGBM] [Warning] num_threads is set=-1, n_jobs=-1 will be ignored. Current value: num_threads=-1\n"
     ]
    },
    {
     "name": "stderr",
     "output_type": "stream",
     "text": [
      "[I 2025-03-08 03:53:41,994] Trial 20 finished with value: 123.82585900485111 and parameters: {'n_estimators': 835, 'learning_rate': 0.00798326322083452, 'num_leaves': 184, 'min_data_in_leaf': 80, 'subsample': 0.6462273348069615, 'colsample_bytree': 0.5255440788803941}. Best is trial 8 with value: 121.30333099759687.\n"
     ]
    },
    {
     "name": "stdout",
     "output_type": "stream",
     "text": [
      "1\n",
      "[LightGBM] [Warning] min_data_in_leaf is set=57, min_child_samples=20 will be ignored. Current value: min_data_in_leaf=57\n",
      "[LightGBM] [Warning] num_threads is set=-1, n_jobs=-1 will be ignored. Current value: num_threads=-1\n"
     ]
    },
    {
     "name": "stderr",
     "output_type": "stream",
     "text": [
      "[I 2025-03-08 04:12:27,551] Trial 21 finished with value: 121.16824302207638 and parameters: {'n_estimators': 1366, 'learning_rate': 0.09950880037234472, 'num_leaves': 109, 'min_data_in_leaf': 57, 'subsample': 0.6386757394012196, 'colsample_bytree': 0.9233732534199356}. Best is trial 21 with value: 121.16824302207638.\n"
     ]
    },
    {
     "name": "stdout",
     "output_type": "stream",
     "text": [
      "1\n",
      "[LightGBM] [Warning] min_data_in_leaf is set=56, min_child_samples=20 will be ignored. Current value: min_data_in_leaf=56\n",
      "[LightGBM] [Warning] num_threads is set=-1, n_jobs=-1 will be ignored. Current value: num_threads=-1\n"
     ]
    },
    {
     "name": "stderr",
     "output_type": "stream",
     "text": [
      "[I 2025-03-08 04:33:31,974] Trial 22 finished with value: 121.27664733465568 and parameters: {'n_estimators': 1348, 'learning_rate': 0.03674230999547858, 'num_leaves': 123, 'min_data_in_leaf': 56, 'subsample': 0.8220216225446204, 'colsample_bytree': 0.8606676801661979}. Best is trial 21 with value: 121.16824302207638.\n"
     ]
    },
    {
     "name": "stdout",
     "output_type": "stream",
     "text": [
      "1\n",
      "[LightGBM] [Warning] min_data_in_leaf is set=58, min_child_samples=20 will be ignored. Current value: min_data_in_leaf=58\n",
      "[LightGBM] [Warning] num_threads is set=-1, n_jobs=-1 will be ignored. Current value: num_threads=-1\n"
     ]
    },
    {
     "name": "stderr",
     "output_type": "stream",
     "text": [
      "[I 2025-03-08 04:51:00,152] Trial 23 finished with value: 121.28161312453392 and parameters: {'n_estimators': 1389, 'learning_rate': 0.050920829997330636, 'num_leaves': 74, 'min_data_in_leaf': 58, 'subsample': 0.8081608359559376, 'colsample_bytree': 0.8425221605947544}. Best is trial 21 with value: 121.16824302207638.\n"
     ]
    },
    {
     "name": "stdout",
     "output_type": "stream",
     "text": [
      "1\n",
      "[LightGBM] [Warning] min_data_in_leaf is set=61, min_child_samples=20 will be ignored. Current value: min_data_in_leaf=61\n",
      "[LightGBM] [Warning] num_threads is set=-1, n_jobs=-1 will be ignored. Current value: num_threads=-1\n"
     ]
    },
    {
     "name": "stderr",
     "output_type": "stream",
     "text": [
      "[I 2025-03-08 05:08:39,882] Trial 24 finished with value: 122.51815558328266 and parameters: {'n_estimators': 1421, 'learning_rate': 0.0487372205056542, 'num_leaves': 72, 'min_data_in_leaf': 61, 'subsample': 0.5915857693356249, 'colsample_bytree': 0.869323702626898}. Best is trial 21 with value: 121.16824302207638.\n"
     ]
    },
    {
     "name": "stdout",
     "output_type": "stream",
     "text": [
      "1\n",
      "[LightGBM] [Warning] min_data_in_leaf is set=76, min_child_samples=20 will be ignored. Current value: min_data_in_leaf=76\n",
      "[LightGBM] [Warning] num_threads is set=-1, n_jobs=-1 will be ignored. Current value: num_threads=-1\n"
     ]
    },
    {
     "name": "stderr",
     "output_type": "stream",
     "text": [
      "[I 2025-03-08 05:20:21,611] Trial 25 finished with value: 121.24428973607303 and parameters: {'n_estimators': 1383, 'learning_rate': 0.09438644152914831, 'num_leaves': 11, 'min_data_in_leaf': 76, 'subsample': 0.7908945393015657, 'colsample_bytree': 0.870752788036851}. Best is trial 21 with value: 121.16824302207638.\n"
     ]
    },
    {
     "name": "stdout",
     "output_type": "stream",
     "text": [
      "1\n",
      "[LightGBM] [Warning] min_data_in_leaf is set=100, min_child_samples=20 will be ignored. Current value: min_data_in_leaf=100\n",
      "[LightGBM] [Warning] num_threads is set=-1, n_jobs=-1 will be ignored. Current value: num_threads=-1\n"
     ]
    },
    {
     "name": "stderr",
     "output_type": "stream",
     "text": [
      "[I 2025-03-08 05:31:03,596] Trial 26 finished with value: 123.51261565279269 and parameters: {'n_estimators': 1134, 'learning_rate': 0.08424781591020694, 'num_leaves': 2, 'min_data_in_leaf': 100, 'subsample': 0.7095696607702033, 'colsample_bytree': 0.680860369239139}. Best is trial 21 with value: 121.16824302207638.\n"
     ]
    },
    {
     "name": "stdout",
     "output_type": "stream",
     "text": [
      "1\n",
      "[LightGBM] [Warning] min_data_in_leaf is set=76, min_child_samples=20 will be ignored. Current value: min_data_in_leaf=76\n",
      "[LightGBM] [Warning] num_threads is set=-1, n_jobs=-1 will be ignored. Current value: num_threads=-1\n"
     ]
    },
    {
     "name": "stderr",
     "output_type": "stream",
     "text": [
      "[I 2025-03-08 05:41:34,091] Trial 27 finished with value: 123.12733161840853 and parameters: {'n_estimators': 1346, 'learning_rate': 0.03522698824603303, 'num_leaves': 3, 'min_data_in_leaf': 76, 'subsample': 0.7547141327051, 'colsample_bytree': 0.9527916701234}. Best is trial 21 with value: 121.16824302207638.\n"
     ]
    },
    {
     "name": "stdout",
     "output_type": "stream",
     "text": [
      "1\n",
      "[LightGBM] [Warning] min_data_in_leaf is set=87, min_child_samples=20 will be ignored. Current value: min_data_in_leaf=87\n",
      "[LightGBM] [Warning] num_threads is set=-1, n_jobs=-1 will be ignored. Current value: num_threads=-1\n"
     ]
    },
    {
     "name": "stderr",
     "output_type": "stream",
     "text": [
      "[I 2025-03-08 05:56:01,701] Trial 28 finished with value: 121.31415126405521 and parameters: {'n_estimators': 1437, 'learning_rate': 0.06382942514797353, 'num_leaves': 39, 'min_data_in_leaf': 87, 'subsample': 0.6856013514123458, 'colsample_bytree': 0.8757476862468655}. Best is trial 21 with value: 121.16824302207638.\n"
     ]
    },
    {
     "name": "stdout",
     "output_type": "stream",
     "text": [
      "1\n",
      "[LightGBM] [Warning] min_data_in_leaf is set=70, min_child_samples=20 will be ignored. Current value: min_data_in_leaf=70\n",
      "[LightGBM] [Warning] num_threads is set=-1, n_jobs=-1 will be ignored. Current value: num_threads=-1\n"
     ]
    },
    {
     "name": "stderr",
     "output_type": "stream",
     "text": [
      "[I 2025-03-08 06:09:52,736] Trial 29 finished with value: 122.53656446949766 and parameters: {'n_estimators': 905, 'learning_rate': 0.027564380618602335, 'num_leaves': 107, 'min_data_in_leaf': 70, 'subsample': 0.8218659625024591, 'colsample_bytree': 0.7843943874298487}. Best is trial 21 with value: 121.16824302207638.\n"
     ]
    },
    {
     "name": "stdout",
     "output_type": "stream",
     "text": [
      "1\n",
      "[LightGBM] [Warning] min_data_in_leaf is set=39, min_child_samples=20 will be ignored. Current value: min_data_in_leaf=39\n",
      "[LightGBM] [Warning] num_threads is set=-1, n_jobs=-1 will be ignored. Current value: num_threads=-1\n"
     ]
    },
    {
     "name": "stderr",
     "output_type": "stream",
     "text": [
      "[I 2025-03-08 06:26:59,863] Trial 30 finished with value: 121.00544537754024 and parameters: {'n_estimators': 1098, 'learning_rate': 0.072868603106885, 'num_leaves': 126, 'min_data_in_leaf': 39, 'subsample': 0.6015961141654866, 'colsample_bytree': 0.8094674393844589}. Best is trial 30 with value: 121.00544537754024.\n"
     ]
    },
    {
     "name": "stdout",
     "output_type": "stream",
     "text": [
      "1\n",
      "[LightGBM] [Warning] min_data_in_leaf is set=41, min_child_samples=20 will be ignored. Current value: min_data_in_leaf=41\n",
      "[LightGBM] [Warning] num_threads is set=-1, n_jobs=-1 will be ignored. Current value: num_threads=-1\n"
     ]
    },
    {
     "name": "stderr",
     "output_type": "stream",
     "text": [
      "[I 2025-03-08 06:45:10,481] Trial 31 finished with value: 121.04148558853684 and parameters: {'n_estimators': 1187, 'learning_rate': 0.06637144363762362, 'num_leaves': 124, 'min_data_in_leaf': 41, 'subsample': 0.5543713772668386, 'colsample_bytree': 0.8306467476841285}. Best is trial 30 with value: 121.00544537754024.\n"
     ]
    },
    {
     "name": "stdout",
     "output_type": "stream",
     "text": [
      "1\n",
      "[LightGBM] [Warning] min_data_in_leaf is set=39, min_child_samples=20 will be ignored. Current value: min_data_in_leaf=39\n",
      "[LightGBM] [Warning] num_threads is set=-1, n_jobs=-1 will be ignored. Current value: num_threads=-1\n"
     ]
    },
    {
     "name": "stderr",
     "output_type": "stream",
     "text": [
      "[I 2025-03-08 07:00:53,971] Trial 32 finished with value: 121.07289087028272 and parameters: {'n_estimators': 1170, 'learning_rate': 0.06498326265226573, 'num_leaves': 88, 'min_data_in_leaf': 39, 'subsample': 0.58787713525527, 'colsample_bytree': 0.8213499381156113}. Best is trial 30 with value: 121.00544537754024.\n"
     ]
    },
    {
     "name": "stdout",
     "output_type": "stream",
     "text": [
      "1\n",
      "[LightGBM] [Warning] min_data_in_leaf is set=37, min_child_samples=20 will be ignored. Current value: min_data_in_leaf=37\n",
      "[LightGBM] [Warning] num_threads is set=-1, n_jobs=-1 will be ignored. Current value: num_threads=-1\n"
     ]
    },
    {
     "name": "stderr",
     "output_type": "stream",
     "text": [
      "[I 2025-03-08 07:15:42,885] Trial 33 finished with value: 121.03471445816616 and parameters: {'n_estimators': 1088, 'learning_rate': 0.06811861764642667, 'num_leaves': 88, 'min_data_in_leaf': 37, 'subsample': 0.5679935005084804, 'colsample_bytree': 0.8198648569674953}. Best is trial 30 with value: 121.00544537754024.\n"
     ]
    },
    {
     "name": "stdout",
     "output_type": "stream",
     "text": [
      "1\n",
      "[LightGBM] [Warning] min_data_in_leaf is set=19, min_child_samples=20 will be ignored. Current value: min_data_in_leaf=19\n",
      "[LightGBM] [Warning] num_threads is set=-1, n_jobs=-1 will be ignored. Current value: num_threads=-1\n"
     ]
    },
    {
     "name": "stderr",
     "output_type": "stream",
     "text": [
      "[I 2025-03-08 07:29:53,719] Trial 34 finished with value: 121.35807482013412 and parameters: {'n_estimators': 1068, 'learning_rate': 0.06280396426758247, 'num_leaves': 84, 'min_data_in_leaf': 19, 'subsample': 0.5399688491571454, 'colsample_bytree': 0.8160432940491641}. Best is trial 30 with value: 121.00544537754024.\n"
     ]
    },
    {
     "name": "stdout",
     "output_type": "stream",
     "text": [
      "1\n",
      "[LightGBM] [Warning] min_data_in_leaf is set=38, min_child_samples=20 will be ignored. Current value: min_data_in_leaf=38\n",
      "[LightGBM] [Warning] num_threads is set=-1, n_jobs=-1 will be ignored. Current value: num_threads=-1\n"
     ]
    },
    {
     "name": "stderr",
     "output_type": "stream",
     "text": [
      "[I 2025-03-08 07:47:00,172] Trial 35 finished with value: 120.88363622654974 and parameters: {'n_estimators': 952, 'learning_rate': 0.051106919899739436, 'num_leaves': 135, 'min_data_in_leaf': 38, 'subsample': 0.5955248360368148, 'colsample_bytree': 0.7277421110813926}. Best is trial 35 with value: 120.88363622654974.\n"
     ]
    },
    {
     "name": "stdout",
     "output_type": "stream",
     "text": [
      "1\n",
      "[LightGBM] [Warning] min_data_in_leaf is set=31, min_child_samples=20 will be ignored. Current value: min_data_in_leaf=31\n",
      "[LightGBM] [Warning] num_threads is set=-1, n_jobs=-1 will be ignored. Current value: num_threads=-1\n"
     ]
    },
    {
     "name": "stderr",
     "output_type": "stream",
     "text": [
      "[I 2025-03-08 08:03:56,227] Trial 36 finished with value: 121.34340251329418 and parameters: {'n_estimators': 965, 'learning_rate': 0.046628476121340724, 'num_leaves': 143, 'min_data_in_leaf': 31, 'subsample': 0.48213289363897616, 'colsample_bytree': 0.7361109397810972}. Best is trial 35 with value: 120.88363622654974.\n"
     ]
    },
    {
     "name": "stdout",
     "output_type": "stream",
     "text": [
      "1\n",
      "[LightGBM] [Warning] min_data_in_leaf is set=17, min_child_samples=20 will be ignored. Current value: min_data_in_leaf=17\n",
      "[LightGBM] [Warning] num_threads is set=-1, n_jobs=-1 will be ignored. Current value: num_threads=-1\n"
     ]
    },
    {
     "name": "stderr",
     "output_type": "stream",
     "text": [
      "[I 2025-03-08 08:19:27,260] Trial 37 finished with value: 121.40414412645697 and parameters: {'n_estimators': 828, 'learning_rate': 0.02598931286554768, 'num_leaves': 131, 'min_data_in_leaf': 17, 'subsample': 0.44956856355861474, 'colsample_bytree': 0.6713808905254433}. Best is trial 35 with value: 120.88363622654974.\n"
     ]
    },
    {
     "name": "stdout",
     "output_type": "stream",
     "text": [
      "1\n",
      "[LightGBM] [Warning] min_data_in_leaf is set=40, min_child_samples=20 will be ignored. Current value: min_data_in_leaf=40\n",
      "[LightGBM] [Warning] num_threads is set=-1, n_jobs=-1 will be ignored. Current value: num_threads=-1\n"
     ]
    },
    {
     "name": "stderr",
     "output_type": "stream",
     "text": [
      "[I 2025-03-08 08:40:47,087] Trial 38 finished with value: 121.03817622197707 and parameters: {'n_estimators': 1079, 'learning_rate': 0.07403127385484234, 'num_leaves': 136, 'min_data_in_leaf': 40, 'subsample': 0.5090715866987346, 'colsample_bytree': 0.6329428448884364}. Best is trial 35 with value: 120.88363622654974.\n"
     ]
    },
    {
     "name": "stdout",
     "output_type": "stream",
     "text": [
      "1\n",
      "[LightGBM] [Warning] min_data_in_leaf is set=10, min_child_samples=20 will be ignored. Current value: min_data_in_leaf=10\n",
      "[LightGBM] [Warning] num_threads is set=-1, n_jobs=-1 will be ignored. Current value: num_threads=-1\n"
     ]
    },
    {
     "name": "stderr",
     "output_type": "stream",
     "text": [
      "[I 2025-03-08 09:03:38,883] Trial 39 finished with value: 121.59918005971112 and parameters: {'n_estimators': 1065, 'learning_rate': 0.03927628574431122, 'num_leaves': 139, 'min_data_in_leaf': 10, 'subsample': 0.38657152165386843, 'colsample_bytree': 0.5798270705977364}. Best is trial 35 with value: 120.88363622654974.\n"
     ]
    },
    {
     "name": "stdout",
     "output_type": "stream",
     "text": [
      "1\n",
      "[LightGBM] [Warning] min_data_in_leaf is set=27, min_child_samples=20 will be ignored. Current value: min_data_in_leaf=27\n",
      "[LightGBM] [Warning] num_threads is set=-1, n_jobs=-1 will be ignored. Current value: num_threads=-1\n"
     ]
    },
    {
     "name": "stderr",
     "output_type": "stream",
     "text": [
      "[I 2025-03-08 09:19:31,029] Trial 40 finished with value: 121.15303989571368 and parameters: {'n_estimators': 956, 'learning_rate': 0.07719955540308088, 'num_leaves': 58, 'min_data_in_leaf': 27, 'subsample': 0.503670653700879, 'colsample_bytree': 0.6384065241523765}. Best is trial 35 with value: 120.88363622654974.\n"
     ]
    },
    {
     "name": "stdout",
     "output_type": "stream",
     "text": [
      "1\n",
      "[LightGBM] [Warning] min_data_in_leaf is set=41, min_child_samples=20 will be ignored. Current value: min_data_in_leaf=41\n",
      "[LightGBM] [Warning] num_threads is set=-1, n_jobs=-1 will be ignored. Current value: num_threads=-1\n"
     ]
    },
    {
     "name": "stderr",
     "output_type": "stream",
     "text": [
      "[I 2025-03-08 09:34:56,749] Trial 41 finished with value: 121.14440367068592 and parameters: {'n_estimators': 863, 'learning_rate': 0.05909876664679538, 'num_leaves': 98, 'min_data_in_leaf': 41, 'subsample': 0.598155095321086, 'colsample_bytree': 0.6270702923700628}. Best is trial 35 with value: 120.88363622654974.\n"
     ]
    },
    {
     "name": "stdout",
     "output_type": "stream",
     "text": [
      "1\n",
      "[LightGBM] [Warning] min_data_in_leaf is set=46, min_child_samples=20 will be ignored. Current value: min_data_in_leaf=46\n",
      "[LightGBM] [Warning] num_threads is set=-1, n_jobs=-1 will be ignored. Current value: num_threads=-1\n"
     ]
    },
    {
     "name": "stderr",
     "output_type": "stream",
     "text": [
      "[I 2025-03-08 09:54:22,806] Trial 42 finished with value: 121.12672410556829 and parameters: {'n_estimators': 1192, 'learning_rate': 0.07683335805005327, 'num_leaves': 126, 'min_data_in_leaf': 46, 'subsample': 0.5421572047928293, 'colsample_bytree': 0.7231990806339225}. Best is trial 35 with value: 120.88363622654974.\n"
     ]
    },
    {
     "name": "stdout",
     "output_type": "stream",
     "text": [
      "1\n",
      "[LightGBM] [Warning] min_data_in_leaf is set=36, min_child_samples=20 will be ignored. Current value: min_data_in_leaf=36\n",
      "[LightGBM] [Warning] num_threads is set=-1, n_jobs=-1 will be ignored. Current value: num_threads=-1\n"
     ]
    },
    {
     "name": "stderr",
     "output_type": "stream",
     "text": [
      "[I 2025-03-08 10:10:14,045] Trial 43 finished with value: 121.15498193977973 and parameters: {'n_estimators': 1101, 'learning_rate': 0.0547234064738263, 'num_leaves': 91, 'min_data_in_leaf': 36, 'subsample': 0.5141431403062211, 'colsample_bytree': 0.8022834661715831}. Best is trial 35 with value: 120.88363622654974.\n"
     ]
    },
    {
     "name": "stdout",
     "output_type": "stream",
     "text": [
      "1\n",
      "[LightGBM] [Warning] min_data_in_leaf is set=51, min_child_samples=20 will be ignored. Current value: min_data_in_leaf=51\n",
      "[LightGBM] [Warning] num_threads is set=-1, n_jobs=-1 will be ignored. Current value: num_threads=-1\n"
     ]
    },
    {
     "name": "stderr",
     "output_type": "stream",
     "text": [
      "[I 2025-03-08 10:34:19,031] Trial 44 finished with value: 121.3981117996998 and parameters: {'n_estimators': 981, 'learning_rate': 0.04448297890152933, 'num_leaves': 166, 'min_data_in_leaf': 51, 'subsample': 0.4670893434636145, 'colsample_bytree': 0.5262620532790009}. Best is trial 35 with value: 120.88363622654974.\n"
     ]
    },
    {
     "name": "stdout",
     "output_type": "stream",
     "text": [
      "1\n",
      "[LightGBM] [Warning] min_data_in_leaf is set=27, min_child_samples=20 will be ignored. Current value: min_data_in_leaf=27\n",
      "[LightGBM] [Warning] num_threads is set=-1, n_jobs=-1 will be ignored. Current value: num_threads=-1\n"
     ]
    },
    {
     "name": "stderr",
     "output_type": "stream",
     "text": [
      "[I 2025-03-08 10:51:11,060] Trial 45 finished with value: 121.29015262409114 and parameters: {'n_estimators': 1058, 'learning_rate': 0.07632397080002815, 'num_leaves': 118, 'min_data_in_leaf': 27, 'subsample': 0.6131755972361114, 'colsample_bytree': 0.7040588700293142}. Best is trial 35 with value: 120.88363622654974.\n"
     ]
    },
    {
     "name": "stdout",
     "output_type": "stream",
     "text": [
      "1\n",
      "[LightGBM] [Warning] min_data_in_leaf is set=48, min_child_samples=20 will be ignored. Current value: min_data_in_leaf=48\n",
      "[LightGBM] [Warning] num_threads is set=-1, n_jobs=-1 will be ignored. Current value: num_threads=-1\n"
     ]
    },
    {
     "name": "stderr",
     "output_type": "stream",
     "text": [
      "[I 2025-03-08 11:04:41,591] Trial 46 finished with value: 121.20855833666725 and parameters: {'n_estimators': 710, 'learning_rate': 0.014315592289128164, 'num_leaves': 150, 'min_data_in_leaf': 48, 'subsample': 0.6804412868873799, 'colsample_bytree': 0.745623549694419}. Best is trial 35 with value: 120.88363622654974.\n"
     ]
    },
    {
     "name": "stdout",
     "output_type": "stream",
     "text": [
      "1\n",
      "[LightGBM] [Warning] min_data_in_leaf is set=38, min_child_samples=20 will be ignored. Current value: min_data_in_leaf=38\n",
      "[LightGBM] [Warning] num_threads is set=-1, n_jobs=-1 will be ignored. Current value: num_threads=-1\n"
     ]
    },
    {
     "name": "stderr",
     "output_type": "stream",
     "text": [
      "[I 2025-03-08 11:35:48,649] Trial 47 finished with value: 121.69056561664777 and parameters: {'n_estimators': 1207, 'learning_rate': 0.03166325481333476, 'num_leaves': 134, 'min_data_in_leaf': 38, 'subsample': 0.5642261594922485, 'colsample_bytree': 0.3070391991670757}. Best is trial 35 with value: 120.88363622654974.\n"
     ]
    },
    {
     "name": "stdout",
     "output_type": "stream",
     "text": [
      "1\n",
      "[LightGBM] [Warning] min_data_in_leaf is set=30, min_child_samples=20 will be ignored. Current value: min_data_in_leaf=30\n",
      "[LightGBM] [Warning] num_threads is set=-1, n_jobs=-1 will be ignored. Current value: num_threads=-1\n"
     ]
    },
    {
     "name": "stderr",
     "output_type": "stream",
     "text": [
      "[I 2025-03-08 12:00:26,087] Trial 48 finished with value: 121.25562748611532 and parameters: {'n_estimators': 923, 'learning_rate': 0.04106111408991665, 'num_leaves': 171, 'min_data_in_leaf': 30, 'subsample': 0.4327721934850755, 'colsample_bytree': 0.4421656846304066}. Best is trial 35 with value: 120.88363622654974.\n"
     ]
    },
    {
     "name": "stdout",
     "output_type": "stream",
     "text": [
      "1\n",
      "[LightGBM] [Warning] min_data_in_leaf is set=52, min_child_samples=20 will be ignored. Current value: min_data_in_leaf=52\n",
      "[LightGBM] [Warning] num_threads is set=-1, n_jobs=-1 will be ignored. Current value: num_threads=-1\n"
     ]
    },
    {
     "name": "stderr",
     "output_type": "stream",
     "text": [
      "[I 2025-03-08 12:24:13,768] Trial 49 finished with value: 121.39224346825316 and parameters: {'n_estimators': 1008, 'learning_rate': 0.022904272664593675, 'num_leaves': 203, 'min_data_in_leaf': 52, 'subsample': 0.39635468176208755, 'colsample_bytree': 0.6122356043313575}. Best is trial 35 with value: 120.88363622654974.\n"
     ]
    }
   ],
   "source": [
    "import warnings\n",
    "warnings.filterwarnings(\"ignore\")\n",
    "study = optuna.create_study(direction='minimize')\n",
    "study.optimize(objective, n_trials=50)"
   ]
  },
  {
   "cell_type": "code",
   "execution_count": 9,
   "id": "2b8800a9-baa3-49f5-8cef-2ffbf8f249ec",
   "metadata": {},
   "outputs": [
    {
     "name": "stdout",
     "output_type": "stream",
     "text": [
      "{'n_estimators': 952, 'learning_rate': 0.051106919899739436, 'num_leaves': 135, 'min_data_in_leaf': 38, 'subsample': 0.5955248360368148, 'colsample_bytree': 0.7277421110813926}\n",
      "120.88363622654974\n",
      "FrozenTrial(number=35, state=TrialState.COMPLETE, values=[120.88363622654974], datetime_start=datetime.datetime(2025, 3, 8, 7, 29, 53, 720315), datetime_complete=datetime.datetime(2025, 3, 8, 7, 47, 0, 172169), params={'n_estimators': 952, 'learning_rate': 0.051106919899739436, 'num_leaves': 135, 'min_data_in_leaf': 38, 'subsample': 0.5955248360368148, 'colsample_bytree': 0.7277421110813926}, user_attrs={}, system_attrs={}, intermediate_values={}, distributions={'n_estimators': IntDistribution(high=1500, log=False, low=300, step=1), 'learning_rate': FloatDistribution(high=0.1, log=True, low=0.001, step=None), 'num_leaves': IntDistribution(high=256, log=False, low=2, step=1), 'min_data_in_leaf': IntDistribution(high=100, log=False, low=1, step=1), 'subsample': FloatDistribution(high=1.0, log=False, low=0.3, step=None), 'colsample_bytree': FloatDistribution(high=1.0, log=False, low=0.3, step=None)}, trial_id=35, value=None)\n"
     ]
    }
   ],
   "source": [
    "print(study.best_params)\n",
    "print(study.best_value)\n",
    "print(study.best_trial)"
   ]
  },
  {
   "cell_type": "markdown",
   "id": "06e24164-506c-4779-a8aa-3537666f20b2",
   "metadata": {
    "jp-MarkdownHeadingCollapsed": true,
    "tags": []
   },
   "source": [
    "## LGBM"
   ]
  },
  {
   "cell_type": "code",
   "execution_count": 4,
   "id": "1a372020-d570-4bc8-9deb-c65e2c506a22",
   "metadata": {},
   "outputs": [],
   "source": [
    "#params_1 = study.best_params\n",
    "'''\n",
    "feats = ['y','unique_id', 'ds', 'tm_d', 'tm_w', 'tm_m', 'tm_y', 'tm_wm',\n",
    "       'tm_dw', 'tm_w_end', 'event_name_1', 'event_type_1', 'event_name_2',\n",
    "       'event_type_2', 'snap_CA', 'snap_TX', 'snap_WI', 'level', 'sell_price',\n",
    "       'price_std', 'price_max', 'price_min', 'price_mean', 'price_std_dev',\n",
    "       'price_momentum_1d', 'price_momentum_1m', 'price_momentum_1y']'''"
   ]
  },
  {
   "cell_type": "code",
   "execution_count": 24,
   "id": "f568efbc-5762-4f98-a6dc-5c892a0a5321",
   "metadata": {
    "scrolled": true,
    "tags": []
   },
   "outputs": [
    {
     "name": "stdout",
     "output_type": "stream",
     "text": [
      "Wall time: 13min 59s\n"
     ]
    },
    {
     "data": {
      "text/plain": [
       "\"\\nmlf_lgbm = MLForecast(\\n    models=[lgb.LGBMRegressor(**params_2)],\\n    freq=1)\\npred = []\\nfor i in tqdm(range(28)):\\n    train = data[data['ds']<=1913+i]\\n    test  = data[data['ds']==1913+i+1]\\n    \\n    mlf_lgbm.fit(train,static_features=[])\\n    pred.append(mlf_lgbm.predict(h = 1, X_df = test[feats[1:]]))\""
      ]
     },
     "execution_count": 24,
     "metadata": {},
     "output_type": "execute_result"
    }
   ],
   "source": [
    "%%time\n",
    "import warnings\n",
    "warnings.filterwarnings(\"ignore\")\n",
    "from tqdm import tqdm\n",
    "\n",
    "lgb_model = lgb.train(params_2, lgb_train)\n",
    "y_pred = lgb_model.predict(x_ts)\n",
    "'''\n",
    "mlf_lgbm = MLForecast(\n",
    "    models=[lgb.LGBMRegressor(**params_2)],\n",
    "    freq=1)\n",
    "pred = []\n",
    "for i in tqdm(range(28)):\n",
    "    train = data[data['ds']<=1913+i]\n",
    "    test  = data[data['ds']==1913+i+1]\n",
    "    \n",
    "    mlf_lgbm.fit(train,static_features=[])\n",
    "    pred.append(mlf_lgbm.predict(h = 1, X_df = test[feats[1:]]))'''"
   ]
  },
  {
   "cell_type": "code",
   "execution_count": 25,
   "id": "62e6c8d6-7708-4c95-80c4-499463a89c89",
   "metadata": {},
   "outputs": [],
   "source": [
    "y_fitted = lgb_model.predict(x_tr)"
   ]
  },
  {
   "cell_type": "code",
   "execution_count": 27,
   "id": "ab638001-b7cd-41d1-a7a6-b25e208b27a8",
   "metadata": {},
   "outputs": [
    {
     "data": {
      "text/plain": [
       "81952920"
      ]
     },
     "execution_count": 27,
     "metadata": {},
     "output_type": "execute_result"
    }
   ],
   "source": [
    "len(y_fitted)"
   ]
  },
  {
   "cell_type": "code",
   "execution_count": 28,
   "id": "6fee7dbd-62d2-4e60-a90b-f87124281e63",
   "metadata": {},
   "outputs": [
    {
     "data": {
      "text/plain": [
       "42840.0"
      ]
     },
     "execution_count": 28,
     "metadata": {},
     "output_type": "execute_result"
    }
   ],
   "source": [
    "81952920/1913"
   ]
  },
  {
   "cell_type": "code",
   "execution_count": 32,
   "id": "b57b6ccb-1364-4011-ae60-ec496b5832df",
   "metadata": {},
   "outputs": [],
   "source": [
    "pd.DataFrame({'lgbm_base':y_pred}).to_pickle(\"h1LGBMbase.pkl\")\n",
    "pd.DataFrame({\"lgbm_fitted\":y_fitted}).to_pickle(\"h1LGBMfitt.pkl\")"
   ]
  },
  {
   "cell_type": "markdown",
   "id": "4644d074-9aa6-429e-9f70-092bac136630",
   "metadata": {},
   "source": [
    "## recursive"
   ]
  },
  {
   "cell_type": "code",
   "execution_count": 3,
   "id": "1d4ab554-4a81-4f14-9e06-e94bb6107b1d",
   "metadata": {},
   "outputs": [
    {
     "data": {
      "text/html": [
       "<div>\n",
       "<style scoped>\n",
       "    .dataframe tbody tr th:only-of-type {\n",
       "        vertical-align: middle;\n",
       "    }\n",
       "\n",
       "    .dataframe tbody tr th {\n",
       "        vertical-align: top;\n",
       "    }\n",
       "\n",
       "    .dataframe thead th {\n",
       "        text-align: right;\n",
       "    }\n",
       "</style>\n",
       "<table border=\"1\" class=\"dataframe\">\n",
       "  <thead>\n",
       "    <tr style=\"text-align: right;\">\n",
       "      <th></th>\n",
       "      <th>unique_id</th>\n",
       "      <th>ds</th>\n",
       "      <th>y</th>\n",
       "      <th>tm_d</th>\n",
       "      <th>tm_w</th>\n",
       "      <th>tm_m</th>\n",
       "      <th>tm_y</th>\n",
       "      <th>tm_wm</th>\n",
       "      <th>tm_dw</th>\n",
       "      <th>tm_w_end</th>\n",
       "      <th>...</th>\n",
       "      <th>price_momentum_1d</th>\n",
       "      <th>price_momentum_1m</th>\n",
       "      <th>price_momentum_1y</th>\n",
       "      <th>y_lags_1</th>\n",
       "      <th>y_lags_2</th>\n",
       "      <th>y_lags_3</th>\n",
       "      <th>y_lags_4</th>\n",
       "      <th>y_lags_5</th>\n",
       "      <th>y_lags_6</th>\n",
       "      <th>y_lags_7</th>\n",
       "    </tr>\n",
       "  </thead>\n",
       "  <tbody>\n",
       "    <tr>\n",
       "      <th>0</th>\n",
       "      <td>1.0</td>\n",
       "      <td>1</td>\n",
       "      <td>32631</td>\n",
       "      <td>29</td>\n",
       "      <td>4</td>\n",
       "      <td>1</td>\n",
       "      <td>0</td>\n",
       "      <td>5</td>\n",
       "      <td>5</td>\n",
       "      <td>1</td>\n",
       "      <td>...</td>\n",
       "      <td>0.0</td>\n",
       "      <td>0.0</td>\n",
       "      <td>0.000000</td>\n",
       "      <td>NaN</td>\n",
       "      <td>NaN</td>\n",
       "      <td>NaN</td>\n",
       "      <td>NaN</td>\n",
       "      <td>NaN</td>\n",
       "      <td>NaN</td>\n",
       "      <td>NaN</td>\n",
       "    </tr>\n",
       "    <tr>\n",
       "      <th>1</th>\n",
       "      <td>1.0</td>\n",
       "      <td>2</td>\n",
       "      <td>31749</td>\n",
       "      <td>30</td>\n",
       "      <td>4</td>\n",
       "      <td>1</td>\n",
       "      <td>0</td>\n",
       "      <td>5</td>\n",
       "      <td>6</td>\n",
       "      <td>1</td>\n",
       "      <td>...</td>\n",
       "      <td>0.0</td>\n",
       "      <td>0.0</td>\n",
       "      <td>0.000000</td>\n",
       "      <td>32631.0</td>\n",
       "      <td>NaN</td>\n",
       "      <td>NaN</td>\n",
       "      <td>NaN</td>\n",
       "      <td>NaN</td>\n",
       "      <td>NaN</td>\n",
       "      <td>NaN</td>\n",
       "    </tr>\n",
       "    <tr>\n",
       "      <th>2</th>\n",
       "      <td>1.0</td>\n",
       "      <td>3</td>\n",
       "      <td>23783</td>\n",
       "      <td>31</td>\n",
       "      <td>5</td>\n",
       "      <td>1</td>\n",
       "      <td>0</td>\n",
       "      <td>5</td>\n",
       "      <td>0</td>\n",
       "      <td>0</td>\n",
       "      <td>...</td>\n",
       "      <td>0.0</td>\n",
       "      <td>0.0</td>\n",
       "      <td>0.000000</td>\n",
       "      <td>31749.0</td>\n",
       "      <td>32631.0</td>\n",
       "      <td>NaN</td>\n",
       "      <td>NaN</td>\n",
       "      <td>NaN</td>\n",
       "      <td>NaN</td>\n",
       "      <td>NaN</td>\n",
       "    </tr>\n",
       "    <tr>\n",
       "      <th>3</th>\n",
       "      <td>1.0</td>\n",
       "      <td>4</td>\n",
       "      <td>25412</td>\n",
       "      <td>1</td>\n",
       "      <td>5</td>\n",
       "      <td>2</td>\n",
       "      <td>0</td>\n",
       "      <td>1</td>\n",
       "      <td>1</td>\n",
       "      <td>0</td>\n",
       "      <td>...</td>\n",
       "      <td>0.0</td>\n",
       "      <td>0.0</td>\n",
       "      <td>0.137056</td>\n",
       "      <td>23783.0</td>\n",
       "      <td>31749.0</td>\n",
       "      <td>32631.0</td>\n",
       "      <td>NaN</td>\n",
       "      <td>NaN</td>\n",
       "      <td>NaN</td>\n",
       "      <td>NaN</td>\n",
       "    </tr>\n",
       "    <tr>\n",
       "      <th>4</th>\n",
       "      <td>1.0</td>\n",
       "      <td>5</td>\n",
       "      <td>19146</td>\n",
       "      <td>2</td>\n",
       "      <td>5</td>\n",
       "      <td>2</td>\n",
       "      <td>0</td>\n",
       "      <td>1</td>\n",
       "      <td>2</td>\n",
       "      <td>0</td>\n",
       "      <td>...</td>\n",
       "      <td>0.0</td>\n",
       "      <td>0.0</td>\n",
       "      <td>0.000000</td>\n",
       "      <td>25412.0</td>\n",
       "      <td>23783.0</td>\n",
       "      <td>31749.0</td>\n",
       "      <td>32631.0</td>\n",
       "      <td>NaN</td>\n",
       "      <td>NaN</td>\n",
       "      <td>NaN</td>\n",
       "    </tr>\n",
       "    <tr>\n",
       "      <th>...</th>\n",
       "      <td>...</td>\n",
       "      <td>...</td>\n",
       "      <td>...</td>\n",
       "      <td>...</td>\n",
       "      <td>...</td>\n",
       "      <td>...</td>\n",
       "      <td>...</td>\n",
       "      <td>...</td>\n",
       "      <td>...</td>\n",
       "      <td>...</td>\n",
       "      <td>...</td>\n",
       "      <td>...</td>\n",
       "      <td>...</td>\n",
       "      <td>...</td>\n",
       "      <td>...</td>\n",
       "      <td>...</td>\n",
       "      <td>...</td>\n",
       "      <td>...</td>\n",
       "      <td>...</td>\n",
       "      <td>...</td>\n",
       "      <td>...</td>\n",
       "    </tr>\n",
       "    <tr>\n",
       "      <th>83152435</th>\n",
       "      <td>42840.0</td>\n",
       "      <td>1937</td>\n",
       "      <td>0</td>\n",
       "      <td>18</td>\n",
       "      <td>20</td>\n",
       "      <td>5</td>\n",
       "      <td>5</td>\n",
       "      <td>3</td>\n",
       "      <td>2</td>\n",
       "      <td>0</td>\n",
       "      <td>...</td>\n",
       "      <td>0.0</td>\n",
       "      <td>0.0</td>\n",
       "      <td>0.000000</td>\n",
       "      <td>0.0</td>\n",
       "      <td>0.0</td>\n",
       "      <td>0.0</td>\n",
       "      <td>1.0</td>\n",
       "      <td>0.0</td>\n",
       "      <td>0.0</td>\n",
       "      <td>0.0</td>\n",
       "    </tr>\n",
       "    <tr>\n",
       "      <th>83152436</th>\n",
       "      <td>42840.0</td>\n",
       "      <td>1938</td>\n",
       "      <td>0</td>\n",
       "      <td>19</td>\n",
       "      <td>20</td>\n",
       "      <td>5</td>\n",
       "      <td>5</td>\n",
       "      <td>3</td>\n",
       "      <td>3</td>\n",
       "      <td>0</td>\n",
       "      <td>...</td>\n",
       "      <td>0.0</td>\n",
       "      <td>0.0</td>\n",
       "      <td>0.000000</td>\n",
       "      <td>0.0</td>\n",
       "      <td>0.0</td>\n",
       "      <td>0.0</td>\n",
       "      <td>0.0</td>\n",
       "      <td>1.0</td>\n",
       "      <td>0.0</td>\n",
       "      <td>0.0</td>\n",
       "    </tr>\n",
       "    <tr>\n",
       "      <th>83152437</th>\n",
       "      <td>42840.0</td>\n",
       "      <td>1939</td>\n",
       "      <td>0</td>\n",
       "      <td>20</td>\n",
       "      <td>20</td>\n",
       "      <td>5</td>\n",
       "      <td>5</td>\n",
       "      <td>3</td>\n",
       "      <td>4</td>\n",
       "      <td>0</td>\n",
       "      <td>...</td>\n",
       "      <td>0.0</td>\n",
       "      <td>0.0</td>\n",
       "      <td>0.000000</td>\n",
       "      <td>0.0</td>\n",
       "      <td>0.0</td>\n",
       "      <td>0.0</td>\n",
       "      <td>0.0</td>\n",
       "      <td>0.0</td>\n",
       "      <td>1.0</td>\n",
       "      <td>0.0</td>\n",
       "    </tr>\n",
       "    <tr>\n",
       "      <th>83152438</th>\n",
       "      <td>42840.0</td>\n",
       "      <td>1940</td>\n",
       "      <td>0</td>\n",
       "      <td>21</td>\n",
       "      <td>20</td>\n",
       "      <td>5</td>\n",
       "      <td>5</td>\n",
       "      <td>3</td>\n",
       "      <td>5</td>\n",
       "      <td>1</td>\n",
       "      <td>...</td>\n",
       "      <td>0.0</td>\n",
       "      <td>0.0</td>\n",
       "      <td>0.000000</td>\n",
       "      <td>0.0</td>\n",
       "      <td>0.0</td>\n",
       "      <td>0.0</td>\n",
       "      <td>0.0</td>\n",
       "      <td>0.0</td>\n",
       "      <td>0.0</td>\n",
       "      <td>1.0</td>\n",
       "    </tr>\n",
       "    <tr>\n",
       "      <th>83152439</th>\n",
       "      <td>42840.0</td>\n",
       "      <td>1941</td>\n",
       "      <td>0</td>\n",
       "      <td>22</td>\n",
       "      <td>20</td>\n",
       "      <td>5</td>\n",
       "      <td>5</td>\n",
       "      <td>4</td>\n",
       "      <td>6</td>\n",
       "      <td>1</td>\n",
       "      <td>...</td>\n",
       "      <td>0.0</td>\n",
       "      <td>0.0</td>\n",
       "      <td>0.000000</td>\n",
       "      <td>0.0</td>\n",
       "      <td>0.0</td>\n",
       "      <td>0.0</td>\n",
       "      <td>0.0</td>\n",
       "      <td>0.0</td>\n",
       "      <td>0.0</td>\n",
       "      <td>0.0</td>\n",
       "    </tr>\n",
       "  </tbody>\n",
       "</table>\n",
       "<p>83152440 rows × 34 columns</p>\n",
       "</div>"
      ],
      "text/plain": [
       "          unique_id    ds      y  tm_d  tm_w  tm_m  tm_y  tm_wm  tm_dw  \\\n",
       "0               1.0     1  32631    29     4     1     0      5      5   \n",
       "1               1.0     2  31749    30     4     1     0      5      6   \n",
       "2               1.0     3  23783    31     5     1     0      5      0   \n",
       "3               1.0     4  25412     1     5     2     0      1      1   \n",
       "4               1.0     5  19146     2     5     2     0      1      2   \n",
       "...             ...   ...    ...   ...   ...   ...   ...    ...    ...   \n",
       "83152435    42840.0  1937      0    18    20     5     5      3      2   \n",
       "83152436    42840.0  1938      0    19    20     5     5      3      3   \n",
       "83152437    42840.0  1939      0    20    20     5     5      3      4   \n",
       "83152438    42840.0  1940      0    21    20     5     5      3      5   \n",
       "83152439    42840.0  1941      0    22    20     5     5      4      6   \n",
       "\n",
       "          tm_w_end  ... price_momentum_1d price_momentum_1m price_momentum_1y  \\\n",
       "0                1  ...               0.0               0.0          0.000000   \n",
       "1                1  ...               0.0               0.0          0.000000   \n",
       "2                0  ...               0.0               0.0          0.000000   \n",
       "3                0  ...               0.0               0.0          0.137056   \n",
       "4                0  ...               0.0               0.0          0.000000   \n",
       "...            ...  ...               ...               ...               ...   \n",
       "83152435         0  ...               0.0               0.0          0.000000   \n",
       "83152436         0  ...               0.0               0.0          0.000000   \n",
       "83152437         0  ...               0.0               0.0          0.000000   \n",
       "83152438         1  ...               0.0               0.0          0.000000   \n",
       "83152439         1  ...               0.0               0.0          0.000000   \n",
       "\n",
       "         y_lags_1 y_lags_2 y_lags_3 y_lags_4  y_lags_5  y_lags_6  y_lags_7  \n",
       "0             NaN      NaN      NaN      NaN       NaN       NaN       NaN  \n",
       "1         32631.0      NaN      NaN      NaN       NaN       NaN       NaN  \n",
       "2         31749.0  32631.0      NaN      NaN       NaN       NaN       NaN  \n",
       "3         23783.0  31749.0  32631.0      NaN       NaN       NaN       NaN  \n",
       "4         25412.0  23783.0  31749.0  32631.0       NaN       NaN       NaN  \n",
       "...           ...      ...      ...      ...       ...       ...       ...  \n",
       "83152435      0.0      0.0      0.0      1.0       0.0       0.0       0.0  \n",
       "83152436      0.0      0.0      0.0      0.0       1.0       0.0       0.0  \n",
       "83152437      0.0      0.0      0.0      0.0       0.0       1.0       0.0  \n",
       "83152438      0.0      0.0      0.0      0.0       0.0       0.0       1.0  \n",
       "83152439      0.0      0.0      0.0      0.0       0.0       0.0       0.0  \n",
       "\n",
       "[83152440 rows x 34 columns]"
      ]
     },
     "execution_count": 3,
     "metadata": {},
     "output_type": "execute_result"
    }
   ],
   "source": [
    "data"
   ]
  },
  {
   "cell_type": "code",
   "execution_count": 2,
   "id": "7b9169fc-1f2a-4ebb-a0ca-b855f2ad91be",
   "metadata": {},
   "outputs": [
    {
     "name": "stderr",
     "output_type": "stream",
     "text": [
      "100%|███████████████████████████████████████████████████████████████████████| 28/28 [10:14:34<00:00, 1316.95s/it]"
     ]
    },
    {
     "name": "stdout",
     "output_type": "stream",
     "text": [
      "Wall time: 10h 14min 51s\n"
     ]
    },
    {
     "name": "stderr",
     "output_type": "stream",
     "text": [
      "\n"
     ]
    }
   ],
   "source": [
    "%%time\n",
    "import warnings\n",
    "warnings.filterwarnings(\"ignore\")\n",
    "from tqdm import tqdm\n",
    "\n",
    "params_2 = {'n_estimators': 952, \n",
    "            'learning_rate': 0.051106919899739436, \n",
    "            'num_leaves': 135, \n",
    "            'min_data_in_leaf': 38, \n",
    "            'subsample': 0.5955248360368148, \n",
    "            'colsample_bytree': 0.7277421110813926,\n",
    "            \"objective\": \"regression\",\n",
    "            \"metric\": \"rmse\", \n",
    "            \"random_state\": 8,\n",
    "            \"verbosity\": -1,\n",
    "            'num_threads': -1}\n",
    "\n",
    "y = data[['ds','y']]\n",
    "x = data.drop(columns=['y'])\n",
    "y_p = []\n",
    "for i in tqdm(range(28)):\n",
    "    xr_ts = x[x['ds']==1913+i+1]\n",
    "    lgb_tr = lgb.Dataset(x[x['ds']<=(1913+i)], y[y['ds']<=(1913+i)]['y'])\n",
    "    lgb_m = lgb.train(params_2, lgb_tr)\n",
    "    y_p.append(pd.DataFrame({f\"{1913+i+1}\":lgb_m.predict(xr_ts)}))\n",
    "    del lgb_tr\n",
    "pd.concat(y_p,axis=1).to_pickle(\"h1_LGBM_base_recursive.pkl\")"
   ]
  },
  {
   "cell_type": "code",
   "execution_count": 9,
   "id": "d17ca0be-0a73-4dd9-84e9-10ebfbad0147",
   "metadata": {},
   "outputs": [
    {
     "name": "stderr",
     "output_type": "stream",
     "text": [
      "100%|████████████████████████████████████████████████████████████████████| 42840/42840 [00:13<00:00, 3247.76it/s]\n"
     ]
    }
   ],
   "source": [
    "lgb_ = pd.concat(y_p,axis=1)\n",
    "lgb222 = pd.concat([pd.DataFrame({'LGBMRegressor': lgb_.iloc[i,:] }) for i in tqdm(range(42840))])\n",
    "lgb222.to_pickle(\"h1_LGBMbase_recursive.pkl\")"
   ]
  },
  {
   "cell_type": "markdown",
   "id": "e5dc60a5-5b1f-4af9-a870-63a714c2497a",
   "metadata": {
    "tags": []
   },
   "source": [
    "## obtain fitted"
   ]
  },
  {
   "cell_type": "code",
   "execution_count": 4,
   "id": "c737c3c1-6ada-4125-ba26-5e1560daa78b",
   "metadata": {},
   "outputs": [
    {
     "name": "stdout",
     "output_type": "stream",
     "text": [
      "finished train\n",
      "Wall time: 27min 35s\n"
     ]
    }
   ],
   "source": [
    "%%time\n",
    "params_2 = {'n_estimators': 952, \n",
    "            'learning_rate': 0.051106919899739436, \n",
    "            'num_leaves': 135, \n",
    "            'min_data_in_leaf': 38, \n",
    "            'subsample': 0.5955248360368148, \n",
    "            'colsample_bytree': 0.7277421110813926,\n",
    "            \"objective\": \"regression\",\n",
    "            \"metric\": \"rmse\", \n",
    "            \"random_state\": 8,\n",
    "            \"verbosity\": -1,\n",
    "            'num_threads': -1}\n",
    "xtr,xts = x[x['ds']<=1913],x[x['ds']>1913]\n",
    "ytr,yts = y[y['ds']<=1913]['y'],y[y['ds']>1913]['y']\n",
    "lgbtr = lgb.Dataset(xtr,ytr)\n",
    "lgb2 = lgb.train(params_2, lgbtr)\n",
    "yfitt = lgb2.predict(xtr)\n",
    "pred2 = lgb2.predict(xts)\n",
    "print(\"finished train\")"
   ]
  },
  {
   "cell_type": "code",
   "execution_count": 7,
   "id": "06dedcb8-2e0f-4390-8237-67717d380f6d",
   "metadata": {},
   "outputs": [],
   "source": [
    "pd.DataFrame({\"LGBMRegressor\":yfitt}).to_pickle(\"h1_LGBMfitt.pkl\")"
   ]
  },
  {
   "cell_type": "code",
   "execution_count": 8,
   "id": "6daa3e82-1a79-4631-b5f6-84e6e7654d19",
   "metadata": {},
   "outputs": [],
   "source": [
    "pd.DataFrame({\"LGBMRegressor\":pred2}).to_pickle(\"h1_LGBMbase_norecursive.pkl\")"
   ]
  },
  {
   "cell_type": "code",
   "execution_count": null,
   "id": "e28a9bce-b3ae-48df-b6cb-d6420a29e588",
   "metadata": {},
   "outputs": [],
   "source": []
  }
 ],
 "metadata": {
  "kernelspec": {
   "display_name": "Python 3 (ipykernel)",
   "language": "python",
   "name": "python3"
  },
  "language_info": {
   "codemirror_mode": {
    "name": "ipython",
    "version": 3
   },
   "file_extension": ".py",
   "mimetype": "text/x-python",
   "name": "python",
   "nbconvert_exporter": "python",
   "pygments_lexer": "ipython3",
   "version": "3.9.7"
  }
 },
 "nbformat": 4,
 "nbformat_minor": 5
}
