{
 "cells": [
  {
   "cell_type": "code",
   "execution_count": 1,
   "id": "41c02c47-c267-4ab4-9738-54bc16c285e6",
   "metadata": {},
   "outputs": [],
   "source": [
    "import pandas as pd\n",
    "import numpy as np\n",
    "from tqdm import tqdm\n",
    "#path  = 'C:/PycharmProjects/pythonProject1/yjz/Extension for hts/JayCode/Data/'\n",
    "tr_y = pd.read_pickle(\"past_1913.pkl\")\n",
    "ts_y = pd.read_pickle(\"future_28.pkl\")\n",
    "y_hist   = tr_y['y']\n",
    "y_test   = ts_y['y']\n",
    "fcst = pd.read_pickle(\"fcsts_base2cohe_tdfp.pkl\")"
   ]
  },
  {
   "cell_type": "code",
   "execution_count": 5,
   "id": "2d6e6e33-89fd-443d-b7b9-c03bb01fdc69",
   "metadata": {},
   "outputs": [
    {
     "data": {
      "text/plain": [
       "array(['TOTAL/WI/WI_3/HOUSEHOLD/HOUSEHOLD_2/HOUSEHOLD_2_516'],\n",
       "      dtype=object)"
      ]
     },
     "execution_count": 5,
     "metadata": {},
     "output_type": "execute_result"
    }
   ],
   "source": [
    "ts_y['unique_id'].iloc[-28:].unique()"
   ]
  },
  {
   "cell_type": "code",
   "execution_count": 2,
   "id": "02c7ef4b-52d6-419a-89a0-bef0e3162d6a",
   "metadata": {},
   "outputs": [
    {
     "data": {
      "text/html": [
       "<div>\n",
       "<style scoped>\n",
       "    .dataframe tbody tr th:only-of-type {\n",
       "        vertical-align: middle;\n",
       "    }\n",
       "\n",
       "    .dataframe tbody tr th {\n",
       "        vertical-align: top;\n",
       "    }\n",
       "\n",
       "    .dataframe thead th {\n",
       "        text-align: right;\n",
       "    }\n",
       "</style>\n",
       "<table border=\"1\" class=\"dataframe\">\n",
       "  <thead>\n",
       "    <tr style=\"text-align: right;\">\n",
       "      <th></th>\n",
       "      <th>lgb_base</th>\n",
       "      <th>lgb_bu</th>\n",
       "      <th>lgb_td</th>\n",
       "      <th>lgb_mint</th>\n",
       "      <th>ets_base</th>\n",
       "      <th>ets_bu</th>\n",
       "      <th>ets_td</th>\n",
       "      <th>ets_mint</th>\n",
       "    </tr>\n",
       "  </thead>\n",
       "  <tbody>\n",
       "    <tr>\n",
       "      <th>0</th>\n",
       "      <td>37936.346099</td>\n",
       "      <td>37929.870202</td>\n",
       "      <td>37936.346099</td>\n",
       "      <td>37942.131159</td>\n",
       "      <td>42166.539062</td>\n",
       "      <td>42617.360970</td>\n",
       "      <td>42166.539062</td>\n",
       "      <td>42907.588644</td>\n",
       "    </tr>\n",
       "    <tr>\n",
       "      <th>1</th>\n",
       "      <td>35346.413219</td>\n",
       "      <td>36220.831410</td>\n",
       "      <td>35346.413219</td>\n",
       "      <td>35188.999335</td>\n",
       "      <td>42043.816406</td>\n",
       "      <td>41899.184619</td>\n",
       "      <td>42043.816406</td>\n",
       "      <td>37509.946040</td>\n",
       "    </tr>\n",
       "    <tr>\n",
       "      <th>2</th>\n",
       "      <td>33967.281969</td>\n",
       "      <td>34798.572205</td>\n",
       "      <td>33967.281969</td>\n",
       "      <td>34482.372855</td>\n",
       "      <td>41803.699219</td>\n",
       "      <td>40998.170227</td>\n",
       "      <td>41803.699219</td>\n",
       "      <td>38292.632633</td>\n",
       "    </tr>\n",
       "    <tr>\n",
       "      <th>3</th>\n",
       "      <td>34286.477860</td>\n",
       "      <td>34825.058046</td>\n",
       "      <td>34286.477860</td>\n",
       "      <td>34865.203322</td>\n",
       "      <td>41535.496094</td>\n",
       "      <td>40136.064270</td>\n",
       "      <td>41535.496094</td>\n",
       "      <td>38456.118033</td>\n",
       "    </tr>\n",
       "    <tr>\n",
       "      <th>4</th>\n",
       "      <td>38999.291696</td>\n",
       "      <td>39600.392103</td>\n",
       "      <td>38999.291696</td>\n",
       "      <td>39944.773472</td>\n",
       "      <td>41288.902344</td>\n",
       "      <td>39528.916325</td>\n",
       "      <td>41288.902344</td>\n",
       "      <td>40531.125660</td>\n",
       "    </tr>\n",
       "    <tr>\n",
       "      <th>...</th>\n",
       "      <td>...</td>\n",
       "      <td>...</td>\n",
       "      <td>...</td>\n",
       "      <td>...</td>\n",
       "      <td>...</td>\n",
       "      <td>...</td>\n",
       "      <td>...</td>\n",
       "      <td>...</td>\n",
       "    </tr>\n",
       "    <tr>\n",
       "      <th>1199515</th>\n",
       "      <td>0.177103</td>\n",
       "      <td>0.177103</td>\n",
       "      <td>0.062438</td>\n",
       "      <td>0.096519</td>\n",
       "      <td>0.076043</td>\n",
       "      <td>0.076043</td>\n",
       "      <td>0.040844</td>\n",
       "      <td>0.028109</td>\n",
       "    </tr>\n",
       "    <tr>\n",
       "      <th>1199516</th>\n",
       "      <td>0.186536</td>\n",
       "      <td>0.186536</td>\n",
       "      <td>0.078134</td>\n",
       "      <td>0.113224</td>\n",
       "      <td>0.074525</td>\n",
       "      <td>0.074525</td>\n",
       "      <td>0.035981</td>\n",
       "      <td>0.068262</td>\n",
       "    </tr>\n",
       "    <tr>\n",
       "      <th>1199517</th>\n",
       "      <td>0.174125</td>\n",
       "      <td>0.174125</td>\n",
       "      <td>0.073140</td>\n",
       "      <td>0.089249</td>\n",
       "      <td>0.074324</td>\n",
       "      <td>0.074324</td>\n",
       "      <td>0.037610</td>\n",
       "      <td>0.098300</td>\n",
       "    </tr>\n",
       "    <tr>\n",
       "      <th>1199518</th>\n",
       "      <td>0.242970</td>\n",
       "      <td>0.242970</td>\n",
       "      <td>0.098994</td>\n",
       "      <td>0.145623</td>\n",
       "      <td>0.073504</td>\n",
       "      <td>0.073504</td>\n",
       "      <td>0.039887</td>\n",
       "      <td>0.127565</td>\n",
       "    </tr>\n",
       "    <tr>\n",
       "      <th>1199519</th>\n",
       "      <td>0.142334</td>\n",
       "      <td>0.142334</td>\n",
       "      <td>0.053948</td>\n",
       "      <td>0.068590</td>\n",
       "      <td>0.072733</td>\n",
       "      <td>0.072733</td>\n",
       "      <td>0.039991</td>\n",
       "      <td>0.122506</td>\n",
       "    </tr>\n",
       "  </tbody>\n",
       "</table>\n",
       "<p>1199520 rows × 8 columns</p>\n",
       "</div>"
      ],
      "text/plain": [
       "             lgb_base        lgb_bu        lgb_td      lgb_mint      ets_base  \\\n",
       "0        37936.346099  37929.870202  37936.346099  37942.131159  42166.539062   \n",
       "1        35346.413219  36220.831410  35346.413219  35188.999335  42043.816406   \n",
       "2        33967.281969  34798.572205  33967.281969  34482.372855  41803.699219   \n",
       "3        34286.477860  34825.058046  34286.477860  34865.203322  41535.496094   \n",
       "4        38999.291696  39600.392103  38999.291696  39944.773472  41288.902344   \n",
       "...               ...           ...           ...           ...           ...   \n",
       "1199515      0.177103      0.177103      0.062438      0.096519      0.076043   \n",
       "1199516      0.186536      0.186536      0.078134      0.113224      0.074525   \n",
       "1199517      0.174125      0.174125      0.073140      0.089249      0.074324   \n",
       "1199518      0.242970      0.242970      0.098994      0.145623      0.073504   \n",
       "1199519      0.142334      0.142334      0.053948      0.068590      0.072733   \n",
       "\n",
       "               ets_bu        ets_td      ets_mint  \n",
       "0        42617.360970  42166.539062  42907.588644  \n",
       "1        41899.184619  42043.816406  37509.946040  \n",
       "2        40998.170227  41803.699219  38292.632633  \n",
       "3        40136.064270  41535.496094  38456.118033  \n",
       "4        39528.916325  41288.902344  40531.125660  \n",
       "...               ...           ...           ...  \n",
       "1199515      0.076043      0.040844      0.028109  \n",
       "1199516      0.074525      0.035981      0.068262  \n",
       "1199517      0.074324      0.037610      0.098300  \n",
       "1199518      0.073504      0.039887      0.127565  \n",
       "1199519      0.072733      0.039991      0.122506  \n",
       "\n",
       "[1199520 rows x 8 columns]"
      ]
     },
     "execution_count": 2,
     "metadata": {},
     "output_type": "execute_result"
    }
   ],
   "source": [
    "fcst"
   ]
  },
  {
   "cell_type": "markdown",
   "id": "230b0a88-7022-4066-b4b6-9300fbfbb9d9",
   "metadata": {
    "tags": []
   },
   "source": [
    "## Functions for RMSSE"
   ]
  },
  {
   "cell_type": "code",
   "execution_count": 3,
   "id": "adba6b75-33ba-469d-8a19-b303c693840b",
   "metadata": {
    "tags": []
   },
   "outputs": [
    {
     "name": "stderr",
     "output_type": "stream",
     "text": [
      "100%|█████████████████████████████████████████████████████████████████████████████████████████████████████████████████████████████████████████| 42840/42840 [00:03<00:00, 12890.24it/s]\n",
      "100%|█████████████████████████████████████████████████████████████████████████████████████████████████████████████████████████████████████████| 42840/42840 [00:03<00:00, 13686.78it/s]\n"
     ]
    }
   ],
   "source": [
    "import numpy as np\n",
    "from sklearn.metrics import mean_squared_error as mse\n",
    "\n",
    "def _get_df(df:pd.DataFrame, n:int = 42840, gap:int=28):\n",
    "    df_csv = []\n",
    "    for i in tqdm(range(n)):\n",
    "        df_csv.append(df[i*gap:(i+1)*gap].reset_index(drop=True))\n",
    "    df_csv = pd.concat(df_csv,axis=1,ignore_index= True)\n",
    "    return df_csv\n",
    "def rmsse(yts, fcst, ytr, n:int = 42840):\n",
    "    df_l = []\n",
    "    scaler =  (ytr.diff().dropna()**2).mean(axis = 0)\n",
    "    for i in tqdm(range(n)):\n",
    "        mse_ = mse(yts.iloc[:,i],fcst.iloc[:,i])\n",
    "        df_l.append(np.sqrt(mse_/scaler[i]))\n",
    "    return df_l   \n",
    "y_tr = _get_df(y_hist,gap = 1913)\n",
    "y_ts = _get_df(y_test)"
   ]
  },
  {
   "cell_type": "markdown",
   "id": "79ebacdc-e9ec-4cc6-bb49-b768163cd312",
   "metadata": {
    "tags": []
   },
   "source": [
    "## RMSSE:"
   ]
  },
  {
   "cell_type": "code",
   "execution_count": 4,
   "id": "67cbbdb1-c655-45e6-92c3-caf493e59345",
   "metadata": {
    "scrolled": true,
    "tags": []
   },
   "outputs": [
    {
     "name": "stderr",
     "output_type": "stream",
     "text": [
      "100%|█████████████████████████████████████████████████████████████████████████████████████████████████████████████████████████████████████████| 42840/42840 [00:03<00:00, 13625.63it/s]\n",
      "100%|██████████████████████████████████████████████████████████████████████████████████████████████████████████████████████████████████████████| 42840/42840 [00:16<00:00, 2592.10it/s]\n"
     ]
    },
    {
     "data": {
      "text/html": [
       "<div>\n",
       "<style scoped>\n",
       "    .dataframe tbody tr th:only-of-type {\n",
       "        vertical-align: middle;\n",
       "    }\n",
       "\n",
       "    .dataframe tbody tr th {\n",
       "        vertical-align: top;\n",
       "    }\n",
       "\n",
       "    .dataframe thead th {\n",
       "        text-align: right;\n",
       "    }\n",
       "</style>\n",
       "<table border=\"1\" class=\"dataframe\">\n",
       "  <thead>\n",
       "    <tr style=\"text-align: right;\">\n",
       "      <th></th>\n",
       "      <th>lgb_base_rmsse</th>\n",
       "    </tr>\n",
       "  </thead>\n",
       "  <tbody>\n",
       "    <tr>\n",
       "      <th>0</th>\n",
       "      <td>0.381607</td>\n",
       "    </tr>\n",
       "    <tr>\n",
       "      <th>1</th>\n",
       "      <td>0.386990</td>\n",
       "    </tr>\n",
       "    <tr>\n",
       "      <th>2</th>\n",
       "      <td>0.482995</td>\n",
       "    </tr>\n",
       "    <tr>\n",
       "      <th>3</th>\n",
       "      <td>0.542488</td>\n",
       "    </tr>\n",
       "    <tr>\n",
       "      <th>4</th>\n",
       "      <td>0.530162</td>\n",
       "    </tr>\n",
       "    <tr>\n",
       "      <th>...</th>\n",
       "      <td>...</td>\n",
       "    </tr>\n",
       "    <tr>\n",
       "      <th>42835</th>\n",
       "      <td>1.079308</td>\n",
       "    </tr>\n",
       "    <tr>\n",
       "      <th>42836</th>\n",
       "      <td>0.540944</td>\n",
       "    </tr>\n",
       "    <tr>\n",
       "      <th>42837</th>\n",
       "      <td>0.621724</td>\n",
       "    </tr>\n",
       "    <tr>\n",
       "      <th>42838</th>\n",
       "      <td>2.326800</td>\n",
       "    </tr>\n",
       "    <tr>\n",
       "      <th>42839</th>\n",
       "      <td>0.596163</td>\n",
       "    </tr>\n",
       "  </tbody>\n",
       "</table>\n",
       "<p>42840 rows × 1 columns</p>\n",
       "</div>"
      ],
      "text/plain": [
       "       lgb_base_rmsse\n",
       "0            0.381607\n",
       "1            0.386990\n",
       "2            0.482995\n",
       "3            0.542488\n",
       "4            0.530162\n",
       "...               ...\n",
       "42835        1.079308\n",
       "42836        0.540944\n",
       "42837        0.621724\n",
       "42838        2.326800\n",
       "42839        0.596163\n",
       "\n",
       "[42840 rows x 1 columns]"
      ]
     },
     "execution_count": 4,
     "metadata": {},
     "output_type": "execute_result"
    }
   ],
   "source": [
    "i = 'lgb_base'\n",
    "df = _get_df(fcst[i])\n",
    "pd.DataFrame({f'{i}_rmsse':rmsse(yts = y_ts,fcst=df,ytr = y_tr)})"
   ]
  },
  {
   "cell_type": "code",
   "execution_count": 5,
   "id": "8bde3484-2412-4a16-8ddd-2146816da14a",
   "metadata": {
    "scrolled": true,
    "tags": []
   },
   "outputs": [
    {
     "name": "stderr",
     "output_type": "stream",
     "text": [
      "100%|█████████████████████████████████████████████████████████████████████████████████████████████████████████████████████████████████████████| 42840/42840 [00:03<00:00, 14018.68it/s]\n",
      "100%|██████████████████████████████████████████████████████████████████████████████████████████████████████████████████████████████████████████| 42840/42840 [00:16<00:00, 2596.51it/s]\n"
     ]
    },
    {
     "name": "stdout",
     "output_type": "stream",
     "text": [
      "lgb_base Finished！\n"
     ]
    },
    {
     "name": "stderr",
     "output_type": "stream",
     "text": [
      "100%|█████████████████████████████████████████████████████████████████████████████████████████████████████████████████████████████████████████| 42840/42840 [00:02<00:00, 14334.76it/s]\n",
      "100%|██████████████████████████████████████████████████████████████████████████████████████████████████████████████████████████████████████████| 42840/42840 [00:16<00:00, 2596.74it/s]\n"
     ]
    },
    {
     "name": "stdout",
     "output_type": "stream",
     "text": [
      "lgb_bu Finished！\n"
     ]
    },
    {
     "name": "stderr",
     "output_type": "stream",
     "text": [
      "100%|█████████████████████████████████████████████████████████████████████████████████████████████████████████████████████████████████████████| 42840/42840 [00:03<00:00, 13893.99it/s]\n",
      "100%|██████████████████████████████████████████████████████████████████████████████████████████████████████████████████████████████████████████| 42840/42840 [00:16<00:00, 2606.29it/s]\n"
     ]
    },
    {
     "name": "stdout",
     "output_type": "stream",
     "text": [
      "lgb_td Finished！\n"
     ]
    },
    {
     "name": "stderr",
     "output_type": "stream",
     "text": [
      "100%|█████████████████████████████████████████████████████████████████████████████████████████████████████████████████████████████████████████| 42840/42840 [00:03<00:00, 14043.53it/s]\n",
      "100%|██████████████████████████████████████████████████████████████████████████████████████████████████████████████████████████████████████████| 42840/42840 [00:16<00:00, 2610.21it/s]\n"
     ]
    },
    {
     "name": "stdout",
     "output_type": "stream",
     "text": [
      "lgb_mint Finished！\n"
     ]
    },
    {
     "name": "stderr",
     "output_type": "stream",
     "text": [
      "100%|█████████████████████████████████████████████████████████████████████████████████████████████████████████████████████████████████████████| 42840/42840 [00:03<00:00, 13859.70it/s]\n",
      "100%|██████████████████████████████████████████████████████████████████████████████████████████████████████████████████████████████████████████| 42840/42840 [00:16<00:00, 2579.94it/s]\n"
     ]
    },
    {
     "name": "stdout",
     "output_type": "stream",
     "text": [
      "ets_base Finished！\n"
     ]
    },
    {
     "name": "stderr",
     "output_type": "stream",
     "text": [
      "100%|█████████████████████████████████████████████████████████████████████████████████████████████████████████████████████████████████████████| 42840/42840 [00:03<00:00, 14046.64it/s]\n",
      "100%|██████████████████████████████████████████████████████████████████████████████████████████████████████████████████████████████████████████| 42840/42840 [00:16<00:00, 2599.54it/s]\n"
     ]
    },
    {
     "name": "stdout",
     "output_type": "stream",
     "text": [
      "ets_bu Finished！\n"
     ]
    },
    {
     "name": "stderr",
     "output_type": "stream",
     "text": [
      "100%|█████████████████████████████████████████████████████████████████████████████████████████████████████████████████████████████████████████| 42840/42840 [00:03<00:00, 13870.01it/s]\n",
      "100%|██████████████████████████████████████████████████████████████████████████████████████████████████████████████████████████████████████████| 42840/42840 [00:16<00:00, 2603.80it/s]\n"
     ]
    },
    {
     "name": "stdout",
     "output_type": "stream",
     "text": [
      "ets_td Finished！\n"
     ]
    },
    {
     "name": "stderr",
     "output_type": "stream",
     "text": [
      "100%|█████████████████████████████████████████████████████████████████████████████████████████████████████████████████████████████████████████| 42840/42840 [00:03<00:00, 13777.74it/s]\n",
      "100%|██████████████████████████████████████████████████████████████████████████████████████████████████████████████████████████████████████████| 42840/42840 [00:16<00:00, 2607.72it/s]"
     ]
    },
    {
     "name": "stdout",
     "output_type": "stream",
     "text": [
      "ets_mint Finished！\n",
      "Wall time: 2min 56s\n"
     ]
    },
    {
     "name": "stderr",
     "output_type": "stream",
     "text": [
      "\n"
     ]
    }
   ],
   "source": [
    "%%time\n",
    "fcst = pd.read_pickle(\"fcsts_base2cohe_tdfp.pkl\")\n",
    "rmsse_l = []\n",
    "for i in fcst.columns:\n",
    "    df = _get_df(fcst[i])\n",
    "    df = pd.DataFrame({f'{i}_rmsse':rmsse(yts = y_ts,fcst=df,ytr = y_tr)})\n",
    "    rmsse_l.append(df)\n",
    "    print(f\"{i} Finished！\")"
   ]
  },
  {
   "cell_type": "code",
   "execution_count": 6,
   "id": "26efa096-af86-4820-93d1-4f0ea49d9d58",
   "metadata": {},
   "outputs": [
    {
     "data": {
      "text/html": [
       "<div>\n",
       "<style scoped>\n",
       "    .dataframe tbody tr th:only-of-type {\n",
       "        vertical-align: middle;\n",
       "    }\n",
       "\n",
       "    .dataframe tbody tr th {\n",
       "        vertical-align: top;\n",
       "    }\n",
       "\n",
       "    .dataframe thead th {\n",
       "        text-align: right;\n",
       "    }\n",
       "</style>\n",
       "<table border=\"1\" class=\"dataframe\">\n",
       "  <thead>\n",
       "    <tr style=\"text-align: right;\">\n",
       "      <th></th>\n",
       "      <th>lgb_base_rmsse</th>\n",
       "      <th>lgb_bu_rmsse</th>\n",
       "      <th>lgb_td_rmsse</th>\n",
       "      <th>lgb_mint_rmsse</th>\n",
       "      <th>ets_base_rmsse</th>\n",
       "      <th>ets_bu_rmsse</th>\n",
       "      <th>ets_td_rmsse</th>\n",
       "      <th>ets_mint_rmsse</th>\n",
       "    </tr>\n",
       "  </thead>\n",
       "  <tbody>\n",
       "    <tr>\n",
       "      <th>0</th>\n",
       "      <td>0.381607</td>\n",
       "      <td>0.338737</td>\n",
       "      <td>0.381607</td>\n",
       "      <td>0.265738</td>\n",
       "      <td>1.147773</td>\n",
       "      <td>1.139346</td>\n",
       "      <td>1.147773</td>\n",
       "      <td>0.765801</td>\n",
       "    </tr>\n",
       "    <tr>\n",
       "      <th>1</th>\n",
       "      <td>0.386990</td>\n",
       "      <td>0.365493</td>\n",
       "      <td>0.437034</td>\n",
       "      <td>0.278792</td>\n",
       "      <td>1.171681</td>\n",
       "      <td>1.181807</td>\n",
       "      <td>1.213860</td>\n",
       "      <td>0.755382</td>\n",
       "    </tr>\n",
       "    <tr>\n",
       "      <th>2</th>\n",
       "      <td>0.482995</td>\n",
       "      <td>0.499492</td>\n",
       "      <td>0.547123</td>\n",
       "      <td>0.439630</td>\n",
       "      <td>0.921631</td>\n",
       "      <td>0.904829</td>\n",
       "      <td>0.976054</td>\n",
       "      <td>0.664014</td>\n",
       "    </tr>\n",
       "    <tr>\n",
       "      <th>3</th>\n",
       "      <td>0.542488</td>\n",
       "      <td>0.602730</td>\n",
       "      <td>0.521796</td>\n",
       "      <td>0.444979</td>\n",
       "      <td>1.233625</td>\n",
       "      <td>1.192344</td>\n",
       "      <td>1.192668</td>\n",
       "      <td>0.930212</td>\n",
       "    </tr>\n",
       "    <tr>\n",
       "      <th>4</th>\n",
       "      <td>0.530162</td>\n",
       "      <td>0.439505</td>\n",
       "      <td>0.366426</td>\n",
       "      <td>0.250524</td>\n",
       "      <td>1.143070</td>\n",
       "      <td>1.114839</td>\n",
       "      <td>1.149127</td>\n",
       "      <td>0.742798</td>\n",
       "    </tr>\n",
       "    <tr>\n",
       "      <th>...</th>\n",
       "      <td>...</td>\n",
       "      <td>...</td>\n",
       "      <td>...</td>\n",
       "      <td>...</td>\n",
       "      <td>...</td>\n",
       "      <td>...</td>\n",
       "      <td>...</td>\n",
       "      <td>...</td>\n",
       "    </tr>\n",
       "    <tr>\n",
       "      <th>42835</th>\n",
       "      <td>1.079308</td>\n",
       "      <td>1.079308</td>\n",
       "      <td>1.055871</td>\n",
       "      <td>1.069534</td>\n",
       "      <td>0.989247</td>\n",
       "      <td>0.989247</td>\n",
       "      <td>1.040497</td>\n",
       "      <td>0.995505</td>\n",
       "    </tr>\n",
       "    <tr>\n",
       "      <th>42836</th>\n",
       "      <td>0.540944</td>\n",
       "      <td>0.540944</td>\n",
       "      <td>0.505536</td>\n",
       "      <td>0.528959</td>\n",
       "      <td>0.500271</td>\n",
       "      <td>0.500271</td>\n",
       "      <td>0.501746</td>\n",
       "      <td>0.508833</td>\n",
       "    </tr>\n",
       "    <tr>\n",
       "      <th>42837</th>\n",
       "      <td>0.621724</td>\n",
       "      <td>0.621724</td>\n",
       "      <td>0.534016</td>\n",
       "      <td>0.573881</td>\n",
       "      <td>0.538230</td>\n",
       "      <td>0.538230</td>\n",
       "      <td>0.526341</td>\n",
       "      <td>0.543464</td>\n",
       "    </tr>\n",
       "    <tr>\n",
       "      <th>42838</th>\n",
       "      <td>2.326800</td>\n",
       "      <td>2.326800</td>\n",
       "      <td>2.249731</td>\n",
       "      <td>2.297882</td>\n",
       "      <td>2.228416</td>\n",
       "      <td>2.228416</td>\n",
       "      <td>2.257921</td>\n",
       "      <td>2.236254</td>\n",
       "    </tr>\n",
       "    <tr>\n",
       "      <th>42839</th>\n",
       "      <td>0.596163</td>\n",
       "      <td>0.596163</td>\n",
       "      <td>0.498394</td>\n",
       "      <td>0.527149</td>\n",
       "      <td>0.488272</td>\n",
       "      <td>0.488272</td>\n",
       "      <td>0.492032</td>\n",
       "      <td>0.474926</td>\n",
       "    </tr>\n",
       "  </tbody>\n",
       "</table>\n",
       "<p>42840 rows × 8 columns</p>\n",
       "</div>"
      ],
      "text/plain": [
       "       lgb_base_rmsse  lgb_bu_rmsse  lgb_td_rmsse  lgb_mint_rmsse  \\\n",
       "0            0.381607      0.338737      0.381607        0.265738   \n",
       "1            0.386990      0.365493      0.437034        0.278792   \n",
       "2            0.482995      0.499492      0.547123        0.439630   \n",
       "3            0.542488      0.602730      0.521796        0.444979   \n",
       "4            0.530162      0.439505      0.366426        0.250524   \n",
       "...               ...           ...           ...             ...   \n",
       "42835        1.079308      1.079308      1.055871        1.069534   \n",
       "42836        0.540944      0.540944      0.505536        0.528959   \n",
       "42837        0.621724      0.621724      0.534016        0.573881   \n",
       "42838        2.326800      2.326800      2.249731        2.297882   \n",
       "42839        0.596163      0.596163      0.498394        0.527149   \n",
       "\n",
       "       ets_base_rmsse  ets_bu_rmsse  ets_td_rmsse  ets_mint_rmsse  \n",
       "0            1.147773      1.139346      1.147773        0.765801  \n",
       "1            1.171681      1.181807      1.213860        0.755382  \n",
       "2            0.921631      0.904829      0.976054        0.664014  \n",
       "3            1.233625      1.192344      1.192668        0.930212  \n",
       "4            1.143070      1.114839      1.149127        0.742798  \n",
       "...               ...           ...           ...             ...  \n",
       "42835        0.989247      0.989247      1.040497        0.995505  \n",
       "42836        0.500271      0.500271      0.501746        0.508833  \n",
       "42837        0.538230      0.538230      0.526341        0.543464  \n",
       "42838        2.228416      2.228416      2.257921        2.236254  \n",
       "42839        0.488272      0.488272      0.492032        0.474926  \n",
       "\n",
       "[42840 rows x 8 columns]"
      ]
     },
     "execution_count": 6,
     "metadata": {},
     "output_type": "execute_result"
    }
   ],
   "source": [
    "all_r = pd.concat(rmsse_l,axis=1)\n",
    "all_r.to_pickle(\"h1_RMSSEs_tdfp.pkl\")\n",
    "all_r"
   ]
  },
  {
   "cell_type": "code",
   "execution_count": 7,
   "id": "d5834ab2-0a98-4c5a-b057-0e05eca8accd",
   "metadata": {},
   "outputs": [
    {
     "data": {
      "text/plain": [
       "13.798282142206059"
      ]
     },
     "execution_count": 7,
     "metadata": {},
     "output_type": "execute_result"
    }
   ],
   "source": [
    "all_r[\"lgb_td_rmsse\"].max()"
   ]
  },
  {
   "cell_type": "code",
   "execution_count": 12,
   "id": "d685acda-22e0-4994-8f4b-0f93003c61c5",
   "metadata": {},
   "outputs": [
    {
     "data": {
      "text/plain": [
       "19.036921056900677"
      ]
     },
     "execution_count": 12,
     "metadata": {},
     "output_type": "execute_result"
    }
   ],
   "source": [
    "pd.read_pickle(\"h1_h28_RMSSE.pkl\")[\"lgb_td_rmsse\"].max()"
   ]
  },
  {
   "cell_type": "code",
   "execution_count": 8,
   "id": "4c4bdbf9-d3ac-4c5a-a99d-78cafbd612b6",
   "metadata": {},
   "outputs": [
    {
     "data": {
      "text/plain": [
       "1.1275273333333333"
      ]
     },
     "execution_count": 8,
     "metadata": {},
     "output_type": "execute_result"
    }
   ],
   "source": [
    "(1.213860+0.976054+1.192668)/3"
   ]
  },
  {
   "cell_type": "code",
   "execution_count": null,
   "id": "a4dc8f74-f881-4437-b911-45d0d48422b3",
   "metadata": {},
   "outputs": [],
   "source": []
  }
 ],
 "metadata": {
  "kernelspec": {
   "display_name": "Python 3 (ipykernel)",
   "language": "python",
   "name": "python3"
  },
  "language_info": {
   "codemirror_mode": {
    "name": "ipython",
    "version": 3
   },
   "file_extension": ".py",
   "mimetype": "text/x-python",
   "name": "python",
   "nbconvert_exporter": "python",
   "pygments_lexer": "ipython3",
   "version": "3.9.7"
  }
 },
 "nbformat": 4,
 "nbformat_minor": 5
}
