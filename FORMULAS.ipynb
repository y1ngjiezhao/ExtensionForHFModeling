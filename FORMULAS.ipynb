{
 "cells": [
  {
   "cell_type": "markdown",
   "id": "8d354126-376e-4cbb-8170-6265bb337ef0",
   "metadata": {},
   "source": [
    "## FORMULAS"
   ]
  },
  {
   "cell_type": "markdown",
   "id": "a3dc2962-775f-4ac3-a6c6-9760ac92a3d5",
   "metadata": {},
   "source": [
    "$$FORMULAS$$\n",
    "$o_t = \\hat{D}_t^L + ss_t + ip_t$,\n",
    "- $o_t$: quantity of stock to be orderd in period t;\n",
    "- $L$: the overall lead time. including the transportation lead time and a review period of 1.\n",
    "- $\\hat{D}_t^L$: forecasted demand over the lead time;\n",
    "- $ss_t$: safety stock;\n",
    "- $ip_t$: inventory position at the end of period t\n",
    "\n",
    "$\\hat{D}_t^L = \\sum_{k=1}^{L}{\\hat{d}_{t,t+k}}$\n",
    "- ${\\hat{d}_{t,t+k}}$: the forecast of demand in period t+k while current in t.\n",
    "\n",
    "$ss_t = \\phi^{-1}(\\alpha_s)\\sigma_{e,L}$\n",
    "- $\\phi^{-1}$:    the inverse cummulative distribution function of the std. norm. dist.\n",
    "- $\\sigma_{e,L}$: the std. deviation of the past lead time demand forecast errors--(with mean 0 and constant variance)\n",
    "\n",
    "The can be simplified to:\n",
    "\n",
    "$ss_t = \\phi^{-1}(\\alpha_s)\\sigma_{e,1}\\sqrt{L}$\n",
    "\n",
    "$ip_t = ip_{t-1} + o_{t-1} - d_t$\n",
    "- $d_t$ : the actual demand or consumption in period t.\n",
    "- $ip_t = i_t + w_t$\n",
    "- $i_t = i_{t-1} + o_{t-L} - d_t$\n",
    "- $w_t = w_{t-1} + o_{t-1} - o_{t-L}$"
   ]
  },
  {
   "cell_type": "code",
   "execution_count": null,
   "id": "bbafba49-2242-47f3-b9a1-02a61e4118ce",
   "metadata": {},
   "outputs": [],
   "source": []
  }
 ],
 "metadata": {
  "kernelspec": {
   "display_name": "Python 3 (ipykernel)",
   "language": "python",
   "name": "python3"
  },
  "language_info": {
   "codemirror_mode": {
    "name": "ipython",
    "version": 3
   },
   "file_extension": ".py",
   "mimetype": "text/x-python",
   "name": "python",
   "nbconvert_exporter": "python",
   "pygments_lexer": "ipython3",
   "version": "3.11.3"
  }
 },
 "nbformat": 4,
 "nbformat_minor": 5
}
