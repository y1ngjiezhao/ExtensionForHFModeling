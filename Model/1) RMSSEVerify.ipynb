{
 "cells": [
  {
   "cell_type": "code",
   "execution_count": 2,
   "id": "faa78184-847f-4d53-a3ff-19d6557c2eda",
   "metadata": {
    "tags": []
   },
   "outputs": [
    {
     "data": {
      "text/plain": [
       "'\\n# LGBM:\\nlbs_90,lbs_95,lbs_99       = pd.read_pickle(\"LGBM_base_90.pkl\"), pd.read_pickle(\"LGBM_base_95.pkl\"),pd.read_pickle(\"LGBM_base_99.pkl\")\\nlbu_90,lbu_95,lbu_99       = pd.read_pickle(\"LGBM_bu_90.pkl\"),   pd.read_pickle(\"LGBM_bu_95.pkl\"),  pd.read_pickle(\"LGBM_bu_99.pkl\")\\nltd_90,ltd_95,ltd_99       = pd.read_pickle(\"LGBM_td_90.pkl\"),   pd.read_pickle(\"LGBM_td_95.pkl\"),  pd.read_pickle(\"LGBM_td_99.pkl\")\\nlmint_90,lmint_95,lmint_99 = pd.read_pickle(\"LGBM_mint_90.pkl\"), pd.read_pickle(\"LGBM_mint_95.pkl\"),pd.read_pickle(\"LGBM_mint_99.pkl\")\\n\\n# AutoETS:\\nebs_90,ebs_95,ebs_99       = pd.read_pickle(\"ETS_base_90.pkl\"), pd.read_pickle(\"ETS_base_95.pkl\"),pd.read_pickle(\"ETS_base_99.pkl\")\\nebu_90,ebu_95,ebu_99       = pd.read_pickle(\"ETS_bu_90.pkl\"),   pd.read_pickle(\"ETS_bu_95.pkl\"),  pd.read_pickle(\"ETS_bu_99.pkl\")\\netd_90,etd_95,etd_99       = pd.read_pickle(\"ETS_td_90.pkl\"),   pd.read_pickle(\"ETS_td_95.pkl\"),  pd.read_pickle(\"ETS_td_99.pkl\")\\nemint_90,emint_95,emint_99 = pd.read_pickle(\"ETS_mint_90.pkl\"), pd.read_pickle(\"ETS_mint_95.pkl\"),pd.read_pickle(\"ETS_mint_99.pkl\")\\n'"
      ]
     },
     "execution_count": 2,
     "metadata": {},
     "output_type": "execute_result"
    }
   ],
   "source": [
    "#from Invtsim import *\n",
    "import numpy as np\n",
    "import pandas as pd\n",
    "from scipy.stats import norm\n",
    "import warnings\n",
    "warnings.simplefilter(\"ignore\")\n",
    "'''\n",
    "# LGBM:\n",
    "lbs_90,lbs_95,lbs_99       = pd.read_pickle(\"LGBM_base_90.pkl\"), pd.read_pickle(\"LGBM_base_95.pkl\"),pd.read_pickle(\"LGBM_base_99.pkl\")\n",
    "lbu_90,lbu_95,lbu_99       = pd.read_pickle(\"LGBM_bu_90.pkl\"),   pd.read_pickle(\"LGBM_bu_95.pkl\"),  pd.read_pickle(\"LGBM_bu_99.pkl\")\n",
    "ltd_90,ltd_95,ltd_99       = pd.read_pickle(\"LGBM_td_90.pkl\"),   pd.read_pickle(\"LGBM_td_95.pkl\"),  pd.read_pickle(\"LGBM_td_99.pkl\")\n",
    "lmint_90,lmint_95,lmint_99 = pd.read_pickle(\"LGBM_mint_90.pkl\"), pd.read_pickle(\"LGBM_mint_95.pkl\"),pd.read_pickle(\"LGBM_mint_99.pkl\")\n",
    "\n",
    "# AutoETS:\n",
    "ebs_90,ebs_95,ebs_99       = pd.read_pickle(\"ETS_base_90.pkl\"), pd.read_pickle(\"ETS_base_95.pkl\"),pd.read_pickle(\"ETS_base_99.pkl\")\n",
    "ebu_90,ebu_95,ebu_99       = pd.read_pickle(\"ETS_bu_90.pkl\"),   pd.read_pickle(\"ETS_bu_95.pkl\"),  pd.read_pickle(\"ETS_bu_99.pkl\")\n",
    "etd_90,etd_95,etd_99       = pd.read_pickle(\"ETS_td_90.pkl\"),   pd.read_pickle(\"ETS_td_95.pkl\"),  pd.read_pickle(\"ETS_td_99.pkl\")\n",
    "emint_90,emint_95,emint_99 = pd.read_pickle(\"ETS_mint_90.pkl\"), pd.read_pickle(\"ETS_mint_95.pkl\"),pd.read_pickle(\"ETS_mint_99.pkl\")\n",
    "'''"
   ]
  },
  {
   "cell_type": "code",
   "execution_count": 1,
   "id": "5bdea399-00e0-47f7-90f8-ea8a53b7320d",
   "metadata": {
    "tags": []
   },
   "outputs": [
    {
     "data": {
      "text/plain": [
       "42840"
      ]
     },
     "execution_count": 1,
     "metadata": {},
     "output_type": "execute_result"
    }
   ],
   "source": [
    "1+3+10+3+7+9+21+30+70+3049+9147+30490"
   ]
  },
  {
   "cell_type": "code",
   "execution_count": 4,
   "id": "fb0aa7fc-1061-4c51-b615-b0e1f7fcefa2",
   "metadata": {
    "tags": []
   },
   "outputs": [],
   "source": [
    "lp = {\"l10\":(0,3049),\n",
    "      \"l11\":(3049,3049+9147),\n",
    "      \"l12\":(3049+9147,3049+9147+30490)}\n",
    "def check(lp:dict, df:pd.DataFrame, col:str = 'backlog', gap:int = 28):\n",
    "    asl = []\n",
    "    for i in lp.keys():\n",
    "        bt = df[col]\n",
    "        l1 = bt[lp[i][0]*gap:lp[i][1]*gap]\n",
    "        \n",
    "        if col == 'backlog':\n",
    "            print(f\"{len(l1[l1==0])/len(l1)}\")\n",
    "            asl.append(len(l1[l1==0])/len(l1))\n",
    "        else:\n",
    "            asl.append(l1.mean())\n",
    "    return asl"
   ]
  },
  {
   "cell_type": "markdown",
   "id": "03fde06c-7421-4f78-98d5-e4acafb68e52",
   "metadata": {
    "tags": []
   },
   "source": [
    "## H1: RMSSE Inspection."
   ]
  },
  {
   "cell_type": "code",
   "execution_count": 7,
   "id": "72965345-4183-4a06-9b32-1242f3588948",
   "metadata": {
    "tags": []
   },
   "outputs": [
    {
     "name": "stderr",
     "output_type": "stream",
     "text": [
      "100%|██████████████████████████████████████████████████████████████████████████████████████████████████████████████████████████████████████████████████| 8/8 [00:00<00:00, 1144.69it/s]\n"
     ]
    }
   ],
   "source": [
    "from tqdm import tqdm\n",
    "rmsse   = pd.read_pickle(\"721h1_RMSSEs_tdfp.pkl\")\n",
    "rmsse_l = []\n",
    "for i in tqdm(rmsse.columns):\n",
    "    rmsse_l.append(pd.DataFrame({f\"{i}\":check(lp = lp, df = rmsse, col = i, gap =1)}))"
   ]
  },
  {
   "cell_type": "code",
   "execution_count": 8,
   "id": "cdaceb8d-b089-43c1-ad7a-9beeb2ea8d3f",
   "metadata": {
    "tags": []
   },
   "outputs": [],
   "source": [
    "lvls = pd.DataFrame({'Levels':[ 'l10',  'l11', 'l12']})"
   ]
  },
  {
   "cell_type": "code",
   "execution_count": 9,
   "id": "c0b314ad-e17f-408f-8dd0-e6d003b6d631",
   "metadata": {
    "tags": []
   },
   "outputs": [
    {
     "data": {
      "text/html": [
       "<div>\n",
       "<style scoped>\n",
       "    .dataframe tbody tr th:only-of-type {\n",
       "        vertical-align: middle;\n",
       "    }\n",
       "\n",
       "    .dataframe tbody tr th {\n",
       "        vertical-align: top;\n",
       "    }\n",
       "\n",
       "    .dataframe thead th {\n",
       "        text-align: right;\n",
       "    }\n",
       "</style>\n",
       "<table border=\"1\" class=\"dataframe\">\n",
       "  <thead>\n",
       "    <tr style=\"text-align: right;\">\n",
       "      <th></th>\n",
       "      <th>lgb_base_rmsse</th>\n",
       "      <th>lgb_bu_rmsse</th>\n",
       "      <th>lgb_td_rmsse</th>\n",
       "      <th>lgb_mint_rmsse</th>\n",
       "      <th>ets_base_rmsse</th>\n",
       "      <th>ets_bu_rmsse</th>\n",
       "      <th>ets_td_rmsse</th>\n",
       "      <th>ets_mint_rmsse</th>\n",
       "    </tr>\n",
       "  </thead>\n",
       "  <tbody>\n",
       "    <tr>\n",
       "      <th>0</th>\n",
       "      <td>0.918876</td>\n",
       "      <td>0.970923</td>\n",
       "      <td>0.918876</td>\n",
       "      <td>0.910020</td>\n",
       "      <td>0.949191</td>\n",
       "      <td>0.945819</td>\n",
       "      <td>0.949191</td>\n",
       "      <td>0.911686</td>\n",
       "    </tr>\n",
       "    <tr>\n",
       "      <th>1</th>\n",
       "      <td>0.927697</td>\n",
       "      <td>0.946941</td>\n",
       "      <td>0.924254</td>\n",
       "      <td>0.918966</td>\n",
       "      <td>0.912565</td>\n",
       "      <td>0.910127</td>\n",
       "      <td>0.914376</td>\n",
       "      <td>0.897725</td>\n",
       "    </tr>\n",
       "    <tr>\n",
       "      <th>2</th>\n",
       "      <td>0.940011</td>\n",
       "      <td>0.940011</td>\n",
       "      <td>0.924250</td>\n",
       "      <td>0.925968</td>\n",
       "      <td>0.898177</td>\n",
       "      <td>0.898177</td>\n",
       "      <td>0.900121</td>\n",
       "      <td>0.895563</td>\n",
       "    </tr>\n",
       "  </tbody>\n",
       "</table>\n",
       "</div>"
      ],
      "text/plain": [
       "   lgb_base_rmsse  lgb_bu_rmsse  lgb_td_rmsse  lgb_mint_rmsse  ets_base_rmsse  \\\n",
       "0        0.918876      0.970923      0.918876        0.910020        0.949191   \n",
       "1        0.927697      0.946941      0.924254        0.918966        0.912565   \n",
       "2        0.940011      0.940011      0.924250        0.925968        0.898177   \n",
       "\n",
       "   ets_bu_rmsse  ets_td_rmsse  ets_mint_rmsse  \n",
       "0      0.945819      0.949191        0.911686  \n",
       "1      0.910127      0.914376        0.897725  \n",
       "2      0.898177      0.900121        0.895563  "
      ]
     },
     "execution_count": 9,
     "metadata": {},
     "output_type": "execute_result"
    }
   ],
   "source": [
    "rms_ = pd.concat(rmsse_l,axis=1)\n",
    "#pd.concat([lvls,rms_],axis=1)\n",
    "rms_"
   ]
  },
  {
   "cell_type": "code",
   "execution_count": 19,
   "id": "0156d982-79d9-41fa-9ea2-538fc897a443",
   "metadata": {},
   "outputs": [
    {
     "data": {
      "text/plain": [
       "lgb_base_rmsse    0.621616\n",
       "lgb_bu_rmsse      0.772192\n",
       "lgb_td_rmsse      0.670819\n",
       "lgb_mint_rmsse    0.587556\n",
       "ets_base_rmsse    1.049132\n",
       "ets_bu_rmsse      1.055706\n",
       "ets_td_rmsse      1.058462\n",
       "ets_mint_rmsse    0.833656\n",
       "dtype: float64"
      ]
     },
     "execution_count": 19,
     "metadata": {},
     "output_type": "execute_result"
    }
   ],
   "source": [
    "rms_.mean()"
   ]
  },
  {
   "cell_type": "code",
   "execution_count": null,
   "id": "0608d1be-1d10-4ade-b630-0890c3846657",
   "metadata": {},
   "outputs": [],
   "source": []
  }
 ],
 "metadata": {
  "kernelspec": {
   "display_name": "Python 3 (ipykernel)",
   "language": "python",
   "name": "python3"
  },
  "language_info": {
   "codemirror_mode": {
    "name": "ipython",
    "version": 3
   },
   "file_extension": ".py",
   "mimetype": "text/x-python",
   "name": "python",
   "nbconvert_exporter": "python",
   "pygments_lexer": "ipython3",
   "version": "3.9.7"
  }
 },
 "nbformat": 4,
 "nbformat_minor": 5
}
