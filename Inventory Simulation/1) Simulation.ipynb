{
 "cells": [
  {
   "cell_type": "code",
   "execution_count": 1,
   "id": "8168a484-6847-4e90-b11e-3cc2b4f0d0ff",
   "metadata": {
    "tags": []
   },
   "outputs": [],
   "source": [
    "path1  = 'C:/PycharmProjects/yjz/Extension for hts/JayCode/Models/'\n",
    "from Invtsim import * \n",
    "import numpy as np\n",
    "import pandas as pd\n",
    "from scipy.stats import norm\n",
    "import warnings\n",
    "warnings.simplefilter(\"ignore\")\n",
    "from tqdm import tqdm"
   ]
  },
  {
   "cell_type": "code",
   "execution_count": 2,
   "id": "5c221aaf-fc9a-467f-9c42-627d2cfbcbb6",
   "metadata": {},
   "outputs": [],
   "source": [
    "fcst    = pd.read_pickle(f\"{path1}fcsts_base2cohe_tdfp.pkl\")\n",
    "fitt    = pd.read_pickle(f\"{path1}fitts_base2cohe_tdfp.pkl\")\n",
    "\n",
    "ets     = fcst.iloc[:,4:]\n",
    "lgb     = fcst.iloc[:,:4]\n",
    "\n",
    "etsf    = fitt.iloc[:,4:]\n",
    "lgbf    = fitt.iloc[:,:4]\n",
    "\n",
    "test    = pd.read_pickle(f\"{path1}future_28.pkl\").reset_index(drop=True)\n",
    "truth   = test[\"y\"]\n",
    "history = pd.read_pickle(f\"{path1}thepast_1913.pkl\")\n",
    "\n",
    "ets_resid = pd.concat({ f\"{etsf.columns[i]}\": history - etsf.iloc[:,i] for i in range(4)},axis=1)\n",
    "lgb_resid = pd.concat({ f\"{lgbf.columns[i]}\": history - lgbf.iloc[:,i] for i in range(4)},axis=1)"
   ]
  },
  {
   "cell_type": "markdown",
   "id": "a31d9ae4-24ca-4b94-8759-6688c1668cf9",
   "metadata": {
    "tags": []
   },
   "source": [
    "## Verify:"
   ]
  },
  {
   "cell_type": "code",
   "execution_count": 3,
   "id": "a9e0717a-e07a-4b7f-ae70-4641d1071e49",
   "metadata": {
    "tags": []
   },
   "outputs": [],
   "source": [
    "lp = {\"l1\" :(0,1),\n",
    "      \"l2\" :(1,(1+3)),\n",
    "      \"l4\" :((1+3),(1+3+3)),\n",
    "      \"l3\" :((1+3+3),(1+3+3+10)),\n",
    "      \"l5\" :((1+3+10+3),(1+3+10+3+7)),\n",
    "      \"l6\" :((1+3+10+3+7),(1+3+10+3+7+9)),\n",
    "      \"l7\" :((1+3+10+3+7+9),(1+3+10+3+7+9+21)),\n",
    "      \"l8\" :((1+3+10+3+7+9+21),(1+3+10+3+7+9+21+30)),\n",
    "      \"l10\" :((1+3+10+3+7+9+21+30),(1+3+10+3+7+9+21+30+3049)),\n",
    "      \"l9\":((1+3+10+3+7+9+21+30+3049),(1+3+10+3+7+9+21+30+3049+70)),\n",
    "      \"l11\":((1+3+10+3+7+9+21+30+70+3049),(1+3+10+3+7+9+21+30+70+3049+9147)),\n",
    "      \"l12\":((1+3+10+3+7+9+21+30+70+3049+9147),(1+3+10+3+7+9+21+30+70+3049+9147+30490))}\n",
    "\n",
    "def check(lp:dict, df:pd.DataFrame, col:str = 'backlog', gap:int = 28):\n",
    "    asl = []\n",
    "    for i in lp.keys():\n",
    "        bt = df[lp[i][0]*gap:lp[i][1]*gap]\n",
    "        l1 = bt[col]\n",
    "        if col == 'backlog':\n",
    "            print(f\"{len(l1[l1==0])/len(l1)}\")\n",
    "            asl.append(len(l1[l1==0])/len(l1))\n",
    "        else:\n",
    "            asl.append(l1.mean())\n",
    "    return asl"
   ]
  },
  {
   "cell_type": "code",
   "execution_count": 4,
   "id": "bd051191-385d-4d19-b46c-323749a0fefe",
   "metadata": {
    "tags": []
   },
   "outputs": [],
   "source": [
    "def loop(fcst, truth, residual, NAME:str,\n",
    "         gap1: int = 28, gap2:int = 1913,\n",
    "         n = None, \n",
    "         df_list:list = [], \n",
    "         L_ = 3):\n",
    "    if n == None:\n",
    "        n = int(len(fcst)/gap1)\n",
    "    for i in tqdm(range(n)):\n",
    "        fcst_1  = fcst[i*gap1:(i+1)*gap1]\n",
    "        truth_1 = truth[i*gap1:(i+1)*gap1]\n",
    "        res_1   = residual[i*gap2:(i+1)*gap2]\n",
    "        df = InvtSim(fcst = fcst_1, truth = truth_1, residual = res_1, name = NAME, L=L_)\n",
    "        res = df.ob_all_t()\n",
    "        df_list.append(res.reset_index(drop = True))\n",
    "    #results = pd.concat(res)\n",
    "    print(\"-----------DOWN!------------\")\n",
    "    return pd.concat(df_list).reset_index(drop=True)"
   ]
  },
  {
   "cell_type": "code",
   "execution_count": 5,
   "id": "1693d23a-4b77-4b6c-acab-5bbd96e75c95",
   "metadata": {
    "scrolled": true,
    "tags": []
   },
   "outputs": [
    {
     "name": "stderr",
     "output_type": "stream",
     "text": [
      "100%|███████████████████████████████████████████████████████████████████████████████████████████████████████████████████████████████████████████████████| 1/1 [00:00<00:00, 202.09it/s]"
     ]
    },
    {
     "name": "stdout",
     "output_type": "stream",
     "text": [
      "-----------DOWN!------------\n"
     ]
    },
    {
     "name": "stderr",
     "output_type": "stream",
     "text": [
      "\n"
     ]
    }
   ],
   "source": [
    "df = loop(fcst = fcst['lgb_base'], truth = truth, residual = lgb_resid['lgb_base'], NAME = 'lgb_base', df_list = [],L_=1,n=1)\n",
    "a = df[['cb_90','cb_95','cb_99']]#[['ot_90','ip_90','ot_95','ip_95','ot_99','ip_99']]#[['backlog_90','backlog_95','backlog_99']]#"
   ]
  },
  {
   "cell_type": "code",
   "execution_count": 6,
   "id": "a4e681d9-1b49-49a1-8007-67fbf3826bc3",
   "metadata": {
    "scrolled": true,
    "tags": []
   },
   "outputs": [
    {
     "data": {
      "text/html": [
       "<div>\n",
       "<style scoped>\n",
       "    .dataframe tbody tr th:only-of-type {\n",
       "        vertical-align: middle;\n",
       "    }\n",
       "\n",
       "    .dataframe tbody tr th {\n",
       "        vertical-align: top;\n",
       "    }\n",
       "\n",
       "    .dataframe thead th {\n",
       "        text-align: right;\n",
       "    }\n",
       "</style>\n",
       "<table border=\"1\" class=\"dataframe\">\n",
       "  <thead>\n",
       "    <tr style=\"text-align: right;\">\n",
       "      <th></th>\n",
       "      <th>cb_90</th>\n",
       "      <th>cb_95</th>\n",
       "      <th>cb_99</th>\n",
       "    </tr>\n",
       "  </thead>\n",
       "  <tbody>\n",
       "    <tr>\n",
       "      <th>0</th>\n",
       "      <td>0.000000</td>\n",
       "      <td>0.000000</td>\n",
       "      <td>0.000000</td>\n",
       "    </tr>\n",
       "    <tr>\n",
       "      <th>1</th>\n",
       "      <td>0.000000</td>\n",
       "      <td>0.000000</td>\n",
       "      <td>0.000000</td>\n",
       "    </tr>\n",
       "    <tr>\n",
       "      <th>2</th>\n",
       "      <td>0.000000</td>\n",
       "      <td>0.000000</td>\n",
       "      <td>0.000000</td>\n",
       "    </tr>\n",
       "    <tr>\n",
       "      <th>3</th>\n",
       "      <td>0.000000</td>\n",
       "      <td>0.000000</td>\n",
       "      <td>0.000000</td>\n",
       "    </tr>\n",
       "    <tr>\n",
       "      <th>4</th>\n",
       "      <td>30172.662835</td>\n",
       "      <td>60766.706862</td>\n",
       "      <td>287977.356283</td>\n",
       "    </tr>\n",
       "    <tr>\n",
       "      <th>5</th>\n",
       "      <td>3348.464339</td>\n",
       "      <td>4137.843370</td>\n",
       "      <td>0.000000</td>\n",
       "    </tr>\n",
       "    <tr>\n",
       "      <th>6</th>\n",
       "      <td>13986.758784</td>\n",
       "      <td>26596.464978</td>\n",
       "      <td>109932.411726</td>\n",
       "    </tr>\n",
       "    <tr>\n",
       "      <th>7</th>\n",
       "      <td>18260.857708</td>\n",
       "      <td>35619.562705</td>\n",
       "      <td>156947.499883</td>\n",
       "    </tr>\n",
       "    <tr>\n",
       "      <th>8</th>\n",
       "      <td>12866.321707</td>\n",
       "      <td>24231.097814</td>\n",
       "      <td>97607.603875</td>\n",
       "    </tr>\n",
       "    <tr>\n",
       "      <th>9</th>\n",
       "      <td>15780.565984</td>\n",
       "      <td>30383.391288</td>\n",
       "      <td>129664.290920</td>\n",
       "    </tr>\n",
       "    <tr>\n",
       "      <th>10</th>\n",
       "      <td>5325.809359</td>\n",
       "      <td>8312.238413</td>\n",
       "      <td>14661.968045</td>\n",
       "    </tr>\n",
       "    <tr>\n",
       "      <th>11</th>\n",
       "      <td>0.000000</td>\n",
       "      <td>0.000000</td>\n",
       "      <td>0.000000</td>\n",
       "    </tr>\n",
       "    <tr>\n",
       "      <th>12</th>\n",
       "      <td>12207.213113</td>\n",
       "      <td>22839.646337</td>\n",
       "      <td>90357.409334</td>\n",
       "    </tr>\n",
       "    <tr>\n",
       "      <th>13</th>\n",
       "      <td>0.000000</td>\n",
       "      <td>0.000000</td>\n",
       "      <td>0.000000</td>\n",
       "    </tr>\n",
       "    <tr>\n",
       "      <th>14</th>\n",
       "      <td>29853.150484</td>\n",
       "      <td>60092.180787</td>\n",
       "      <td>284462.720418</td>\n",
       "    </tr>\n",
       "    <tr>\n",
       "      <th>15</th>\n",
       "      <td>0.000000</td>\n",
       "      <td>0.000000</td>\n",
       "      <td>0.000000</td>\n",
       "    </tr>\n",
       "    <tr>\n",
       "      <th>16</th>\n",
       "      <td>16144.603640</td>\n",
       "      <td>31151.915228</td>\n",
       "      <td>133668.705134</td>\n",
       "    </tr>\n",
       "    <tr>\n",
       "      <th>17</th>\n",
       "      <td>0.000000</td>\n",
       "      <td>0.000000</td>\n",
       "      <td>0.000000</td>\n",
       "    </tr>\n",
       "    <tr>\n",
       "      <th>18</th>\n",
       "      <td>4355.881195</td>\n",
       "      <td>6264.612289</td>\n",
       "      <td>3992.758245</td>\n",
       "    </tr>\n",
       "    <tr>\n",
       "      <th>19</th>\n",
       "      <td>14197.881085</td>\n",
       "      <td>27042.167611</td>\n",
       "      <td>112254.757026</td>\n",
       "    </tr>\n",
       "    <tr>\n",
       "      <th>20</th>\n",
       "      <td>58852.767457</td>\n",
       "      <td>121313.594398</td>\n",
       "      <td>603458.507127</td>\n",
       "    </tr>\n",
       "    <tr>\n",
       "      <th>21</th>\n",
       "      <td>13636.035005</td>\n",
       "      <td>25856.048111</td>\n",
       "      <td>106074.450155</td>\n",
       "    </tr>\n",
       "    <tr>\n",
       "      <th>22</th>\n",
       "      <td>0.000000</td>\n",
       "      <td>0.000000</td>\n",
       "      <td>0.000000</td>\n",
       "    </tr>\n",
       "    <tr>\n",
       "      <th>23</th>\n",
       "      <td>0.000000</td>\n",
       "      <td>0.000000</td>\n",
       "      <td>0.000000</td>\n",
       "    </tr>\n",
       "    <tr>\n",
       "      <th>24</th>\n",
       "      <td>0.000000</td>\n",
       "      <td>0.000000</td>\n",
       "      <td>0.000000</td>\n",
       "    </tr>\n",
       "    <tr>\n",
       "      <th>25</th>\n",
       "      <td>8595.158584</td>\n",
       "      <td>15214.197888</td>\n",
       "      <td>50624.809523</td>\n",
       "    </tr>\n",
       "    <tr>\n",
       "      <th>26</th>\n",
       "      <td>0.000000</td>\n",
       "      <td>0.000000</td>\n",
       "      <td>0.000000</td>\n",
       "    </tr>\n",
       "    <tr>\n",
       "      <th>27</th>\n",
       "      <td>28214.404763</td>\n",
       "      <td>56632.606487</td>\n",
       "      <td>266436.517484</td>\n",
       "    </tr>\n",
       "  </tbody>\n",
       "</table>\n",
       "</div>"
      ],
      "text/plain": [
       "           cb_90          cb_95          cb_99\n",
       "0       0.000000       0.000000       0.000000\n",
       "1       0.000000       0.000000       0.000000\n",
       "2       0.000000       0.000000       0.000000\n",
       "3       0.000000       0.000000       0.000000\n",
       "4   30172.662835   60766.706862  287977.356283\n",
       "5    3348.464339    4137.843370       0.000000\n",
       "6   13986.758784   26596.464978  109932.411726\n",
       "7   18260.857708   35619.562705  156947.499883\n",
       "8   12866.321707   24231.097814   97607.603875\n",
       "9   15780.565984   30383.391288  129664.290920\n",
       "10   5325.809359    8312.238413   14661.968045\n",
       "11      0.000000       0.000000       0.000000\n",
       "12  12207.213113   22839.646337   90357.409334\n",
       "13      0.000000       0.000000       0.000000\n",
       "14  29853.150484   60092.180787  284462.720418\n",
       "15      0.000000       0.000000       0.000000\n",
       "16  16144.603640   31151.915228  133668.705134\n",
       "17      0.000000       0.000000       0.000000\n",
       "18   4355.881195    6264.612289    3992.758245\n",
       "19  14197.881085   27042.167611  112254.757026\n",
       "20  58852.767457  121313.594398  603458.507127\n",
       "21  13636.035005   25856.048111  106074.450155\n",
       "22      0.000000       0.000000       0.000000\n",
       "23      0.000000       0.000000       0.000000\n",
       "24      0.000000       0.000000       0.000000\n",
       "25   8595.158584   15214.197888   50624.809523\n",
       "26      0.000000       0.000000       0.000000\n",
       "27  28214.404763   56632.606487  266436.517484"
      ]
     },
     "execution_count": 6,
     "metadata": {},
     "output_type": "execute_result"
    }
   ],
   "source": [
    "df[['cb_90','cb_95','cb_99']]#[['ot_90','ip_90','ot_95','ip_95','ot_99','ip_99','cb_90','cb_95','cb_99']]\n",
    "#[['sst_99','sst_90','sst_95']]\n",
    "#[['ot_90','ip_90','ot_95','ip_95','ot_99','ip_99','cb_90','cb_95','cb_99']]#[['sst_99','ot_99']]#[['backlog_90','backlog_95','backlog_99']]#"
   ]
  },
  {
   "cell_type": "code",
   "execution_count": 9,
   "id": "f99006dc-ba18-411f-bae2-7e51ec75dcfb",
   "metadata": {},
   "outputs": [
    {
     "data": {
      "text/plain": [
       "511.3617123232323"
      ]
     },
     "execution_count": 9,
     "metadata": {},
     "output_type": "execute_result"
    }
   ],
   "source": [
    "50624.80952/99"
   ]
  },
  {
   "cell_type": "markdown",
   "id": "7f57bec8-3765-4d46-8e01-c8b7b179e288",
   "metadata": {
    "tags": []
   },
   "source": [
    "## LEAD TIME 1:"
   ]
  },
  {
   "cell_type": "code",
   "execution_count": 14,
   "id": "e94094c6-2c34-4c49-adfa-64ac17186a17",
   "metadata": {
    "scrolled": true,
    "tags": []
   },
   "outputs": [
    {
     "name": "stderr",
     "output_type": "stream",
     "text": [
      "100%|███████████████████████████████████████████████████████████████████████████████████████████████████████████████████████████████████████████| 42840/42840 [01:41<00:00, 422.94it/s]\n"
     ]
    },
    {
     "name": "stdout",
     "output_type": "stream",
     "text": [
      "-----------DOWN!------------\n"
     ]
    },
    {
     "name": "stderr",
     "output_type": "stream",
     "text": [
      "100%|███████████████████████████████████████████████████████████████████████████████████████████████████████████████████████████████████████████| 42840/42840 [01:41<00:00, 423.29it/s]\n"
     ]
    },
    {
     "name": "stdout",
     "output_type": "stream",
     "text": [
      "-----------DOWN!------------\n"
     ]
    },
    {
     "name": "stderr",
     "output_type": "stream",
     "text": [
      "100%|███████████████████████████████████████████████████████████████████████████████████████████████████████████████████████████████████████████| 42840/42840 [01:42<00:00, 416.61it/s]\n"
     ]
    },
    {
     "name": "stdout",
     "output_type": "stream",
     "text": [
      "-----------DOWN!------------\n"
     ]
    },
    {
     "name": "stderr",
     "output_type": "stream",
     "text": [
      "100%|███████████████████████████████████████████████████████████████████████████████████████████████████████████████████████████████████████████| 42840/42840 [01:39<00:00, 428.50it/s]\n"
     ]
    },
    {
     "name": "stdout",
     "output_type": "stream",
     "text": [
      "-----------DOWN!------------\n"
     ]
    },
    {
     "name": "stderr",
     "output_type": "stream",
     "text": [
      "100%|███████████████████████████████████████████████████████████████████████████████████████████████████████████████████████████████████████████| 42840/42840 [01:40<00:00, 425.31it/s]\n"
     ]
    },
    {
     "name": "stdout",
     "output_type": "stream",
     "text": [
      "-----------DOWN!------------\n"
     ]
    },
    {
     "name": "stderr",
     "output_type": "stream",
     "text": [
      "100%|███████████████████████████████████████████████████████████████████████████████████████████████████████████████████████████████████████████| 42840/42840 [01:39<00:00, 429.76it/s]\n"
     ]
    },
    {
     "name": "stdout",
     "output_type": "stream",
     "text": [
      "-----------DOWN!------------\n"
     ]
    },
    {
     "name": "stderr",
     "output_type": "stream",
     "text": [
      "100%|███████████████████████████████████████████████████████████████████████████████████████████████████████████████████████████████████████████| 42840/42840 [01:39<00:00, 432.47it/s]\n"
     ]
    },
    {
     "name": "stdout",
     "output_type": "stream",
     "text": [
      "-----------DOWN!------------\n"
     ]
    },
    {
     "name": "stderr",
     "output_type": "stream",
     "text": [
      "100%|███████████████████████████████████████████████████████████████████████████████████████████████████████████████████████████████████████████| 42840/42840 [01:39<00:00, 432.46it/s]\n"
     ]
    },
    {
     "name": "stdout",
     "output_type": "stream",
     "text": [
      "-----------DOWN!------------\n"
     ]
    }
   ],
   "source": [
    "Invt_df = []\n",
    "nam_lgb = [ \"lgb_base\", \"lgb_bu\", \"lgb_td\", \"lgb_mint\"]\n",
    "nam_ets = [ \"ets_base\", \"ets_bu\", \"ets_td\", \"ets_mint\"]\n",
    "lead_time = 1\n",
    "for i in nam_lgb:\n",
    "    df = loop(fcst = fcst[i], truth = truth, residual = lgb_resid[i], NAME = i, df_list = [],L_=lead_time)# L_=3\n",
    "    Invt_df.append(df)\n",
    "pd.concat(Invt_df).to_pickle(f\"lgbInvtSim_L{lead_time}.pkl\")\n",
    "\n",
    "Invt_df = []\n",
    "for i in nam_ets:\n",
    "    df = loop(fcst = fcst[i], truth = truth, residual = ets_resid[i], NAME = i, df_list = [],L_=lead_time)\n",
    "    Invt_df.append(df)\n",
    "pd.concat(Invt_df).to_pickle(f\"etsInvtSim_L{lead_time}.pkl\")"
   ]
  },
  {
   "cell_type": "markdown",
   "id": "15c3ce77-be4f-401c-b21f-a075db920a79",
   "metadata": {
    "tags": []
   },
   "source": [
    "## LEAD TIME 3:"
   ]
  },
  {
   "cell_type": "code",
   "execution_count": 7,
   "id": "bc4c3e1b-1697-41ad-822d-338a69d051b7",
   "metadata": {
    "scrolled": true,
    "tags": []
   },
   "outputs": [
    {
     "name": "stderr",
     "output_type": "stream",
     "text": [
      "100%|███████████████████████████████████████████████████████████████████████████████████████████████████████████████████████████████████████████| 42840/42840 [01:48<00:00, 395.27it/s]\n"
     ]
    },
    {
     "name": "stdout",
     "output_type": "stream",
     "text": [
      "-----------DOWN!------------\n"
     ]
    },
    {
     "name": "stderr",
     "output_type": "stream",
     "text": [
      "100%|███████████████████████████████████████████████████████████████████████████████████████████████████████████████████████████████████████████| 42840/42840 [04:54<00:00, 145.69it/s]\n"
     ]
    },
    {
     "name": "stdout",
     "output_type": "stream",
     "text": [
      "-----------DOWN!------------\n"
     ]
    },
    {
     "name": "stderr",
     "output_type": "stream",
     "text": [
      "100%|███████████████████████████████████████████████████████████████████████████████████████████████████████████████████████████████████████████| 42840/42840 [03:17<00:00, 216.47it/s]\n"
     ]
    },
    {
     "name": "stdout",
     "output_type": "stream",
     "text": [
      "-----------DOWN!------------\n"
     ]
    },
    {
     "name": "stderr",
     "output_type": "stream",
     "text": [
      "100%|███████████████████████████████████████████████████████████████████████████████████████████████████████████████████████████████████████████| 42840/42840 [01:41<00:00, 420.08it/s]\n"
     ]
    },
    {
     "name": "stdout",
     "output_type": "stream",
     "text": [
      "-----------DOWN!------------\n"
     ]
    },
    {
     "name": "stderr",
     "output_type": "stream",
     "text": [
      "100%|███████████████████████████████████████████████████████████████████████████████████████████████████████████████████████████████████████████| 42840/42840 [01:42<00:00, 419.56it/s]\n"
     ]
    },
    {
     "name": "stdout",
     "output_type": "stream",
     "text": [
      "-----------DOWN!------------\n"
     ]
    },
    {
     "name": "stderr",
     "output_type": "stream",
     "text": [
      "100%|███████████████████████████████████████████████████████████████████████████████████████████████████████████████████████████████████████████| 42840/42840 [01:40<00:00, 424.24it/s]\n"
     ]
    },
    {
     "name": "stdout",
     "output_type": "stream",
     "text": [
      "-----------DOWN!------------\n"
     ]
    },
    {
     "name": "stderr",
     "output_type": "stream",
     "text": [
      "100%|███████████████████████████████████████████████████████████████████████████████████████████████████████████████████████████████████████████| 42840/42840 [01:39<00:00, 431.52it/s]\n"
     ]
    },
    {
     "name": "stdout",
     "output_type": "stream",
     "text": [
      "-----------DOWN!------------\n"
     ]
    },
    {
     "name": "stderr",
     "output_type": "stream",
     "text": [
      "100%|███████████████████████████████████████████████████████████████████████████████████████████████████████████████████████████████████████████| 42840/42840 [01:39<00:00, 432.39it/s]\n"
     ]
    },
    {
     "name": "stdout",
     "output_type": "stream",
     "text": [
      "-----------DOWN!------------\n"
     ]
    }
   ],
   "source": [
    "Invt_df = []\n",
    "nam_lgb = [ \"lgb_base\", \"lgb_bu\", \"lgb_td\", \"lgb_mint\"]\n",
    "nam_ets = [ \"ets_base\", \"ets_bu\", \"ets_td\", \"ets_mint\"]\n",
    "lead_time = 3\n",
    "for i in nam_lgb:\n",
    "    df = loop(fcst = fcst[i], truth = truth, residual = lgb_resid[i], NAME = i, df_list = [],L_=lead_time)# L_=3\n",
    "    Invt_df.append(df)\n",
    "pd.concat(Invt_df).to_pickle(f\"lgbInvtSim_L{lead_time}.pkl\")\n",
    "\n",
    "Invt_df = []\n",
    "for i in nam_ets:\n",
    "    df = loop(fcst = fcst[i], truth = truth, residual = ets_resid[i], NAME = i, df_list = [],L_=lead_time)\n",
    "    Invt_df.append(df)\n",
    "pd.concat(Invt_df).to_pickle(f\"etsInvtSim_L{lead_time}.pkl\")"
   ]
  },
  {
   "cell_type": "markdown",
   "id": "255e7958-cd36-46c3-b81c-188996835e9b",
   "metadata": {
    "tags": []
   },
   "source": [
    "## LEAD TIME 7:"
   ]
  },
  {
   "cell_type": "code",
   "execution_count": 8,
   "id": "585d9e5a-aeea-4e89-99f2-77addd30d603",
   "metadata": {},
   "outputs": [
    {
     "name": "stderr",
     "output_type": "stream",
     "text": [
      "100%|███████████████████████████████████████████████████████████████████████████████████████████████████████████████████████████████████████████| 42840/42840 [01:48<00:00, 394.25it/s]\n"
     ]
    },
    {
     "name": "stdout",
     "output_type": "stream",
     "text": [
      "-----------DOWN!------------\n"
     ]
    },
    {
     "name": "stderr",
     "output_type": "stream",
     "text": [
      "100%|███████████████████████████████████████████████████████████████████████████████████████████████████████████████████████████████████████████| 42840/42840 [01:48<00:00, 393.31it/s]\n"
     ]
    },
    {
     "name": "stdout",
     "output_type": "stream",
     "text": [
      "-----------DOWN!------------\n"
     ]
    },
    {
     "name": "stderr",
     "output_type": "stream",
     "text": [
      "100%|███████████████████████████████████████████████████████████████████████████████████████████████████████████████████████████████████████████| 42840/42840 [01:49<00:00, 392.89it/s]\n"
     ]
    },
    {
     "name": "stdout",
     "output_type": "stream",
     "text": [
      "-----------DOWN!------------\n"
     ]
    },
    {
     "name": "stderr",
     "output_type": "stream",
     "text": [
      "100%|███████████████████████████████████████████████████████████████████████████████████████████████████████████████████████████████████████████| 42840/42840 [01:47<00:00, 398.59it/s]\n"
     ]
    },
    {
     "name": "stdout",
     "output_type": "stream",
     "text": [
      "-----------DOWN!------------\n"
     ]
    },
    {
     "name": "stderr",
     "output_type": "stream",
     "text": [
      "100%|███████████████████████████████████████████████████████████████████████████████████████████████████████████████████████████████████████████| 42840/42840 [01:49<00:00, 391.05it/s]\n"
     ]
    },
    {
     "name": "stdout",
     "output_type": "stream",
     "text": [
      "-----------DOWN!------------\n"
     ]
    },
    {
     "name": "stderr",
     "output_type": "stream",
     "text": [
      "100%|███████████████████████████████████████████████████████████████████████████████████████████████████████████████████████████████████████████| 42840/42840 [01:47<00:00, 398.33it/s]\n"
     ]
    },
    {
     "name": "stdout",
     "output_type": "stream",
     "text": [
      "-----------DOWN!------------\n"
     ]
    },
    {
     "name": "stderr",
     "output_type": "stream",
     "text": [
      "100%|███████████████████████████████████████████████████████████████████████████████████████████████████████████████████████████████████████████| 42840/42840 [01:47<00:00, 400.35it/s]\n"
     ]
    },
    {
     "name": "stdout",
     "output_type": "stream",
     "text": [
      "-----------DOWN!------------\n"
     ]
    },
    {
     "name": "stderr",
     "output_type": "stream",
     "text": [
      "100%|███████████████████████████████████████████████████████████████████████████████████████████████████████████████████████████████████████████| 42840/42840 [01:46<00:00, 400.69it/s]\n"
     ]
    },
    {
     "name": "stdout",
     "output_type": "stream",
     "text": [
      "-----------DOWN!------------\n"
     ]
    }
   ],
   "source": [
    "Invt_df = []\n",
    "nam_lgb = [ \"lgb_base\", \"lgb_bu\", \"lgb_td\", \"lgb_mint\"]\n",
    "nam_ets = [ \"ets_base\", \"ets_bu\", \"ets_td\", \"ets_mint\"]\n",
    "lead_time = 7\n",
    "for i in nam_lgb:\n",
    "    df = loop(fcst = fcst[i], truth = truth, residual = lgb_resid[i], NAME = i, df_list = [],L_=lead_time)# L_=3\n",
    "    Invt_df.append(df)\n",
    "pd.concat(Invt_df).to_pickle(f\"lgbInvtSim_L{lead_time}.pkl\")\n",
    "\n",
    "Invt_df = []\n",
    "for i in nam_ets:\n",
    "    df = loop(fcst = fcst[i], truth = truth, residual = ets_resid[i], NAME = i, df_list = [],L_=lead_time)\n",
    "    Invt_df.append(df)\n",
    "pd.concat(Invt_df).to_pickle(f\"etsInvtSim_L{lead_time}.pkl\")"
   ]
  },
  {
   "cell_type": "markdown",
   "id": "867ec2cd-8613-4c87-a4dd-96490f742b7a",
   "metadata": {},
   "source": [
    "## LEAD TIME 14:"
   ]
  },
  {
   "cell_type": "code",
   "execution_count": 9,
   "id": "a08a54f5-6954-4b9b-a0d6-f85924b53d5a",
   "metadata": {
    "scrolled": true,
    "tags": []
   },
   "outputs": [
    {
     "name": "stderr",
     "output_type": "stream",
     "text": [
      "100%|███████████████████████████████████████████████████████████████████████████████████████████████████████████████████████████████████████████| 42840/42840 [01:59<00:00, 358.85it/s]\n"
     ]
    },
    {
     "name": "stdout",
     "output_type": "stream",
     "text": [
      "-----------DOWN!------------\n"
     ]
    },
    {
     "name": "stderr",
     "output_type": "stream",
     "text": [
      "100%|███████████████████████████████████████████████████████████████████████████████████████████████████████████████████████████████████████████| 42840/42840 [01:58<00:00, 360.82it/s]\n"
     ]
    },
    {
     "name": "stdout",
     "output_type": "stream",
     "text": [
      "-----------DOWN!------------\n"
     ]
    },
    {
     "name": "stderr",
     "output_type": "stream",
     "text": [
      "100%|███████████████████████████████████████████████████████████████████████████████████████████████████████████████████████████████████████████| 42840/42840 [01:59<00:00, 357.53it/s]\n"
     ]
    },
    {
     "name": "stdout",
     "output_type": "stream",
     "text": [
      "-----------DOWN!------------\n"
     ]
    },
    {
     "name": "stderr",
     "output_type": "stream",
     "text": [
      "100%|███████████████████████████████████████████████████████████████████████████████████████████████████████████████████████████████████████████| 42840/42840 [01:58<00:00, 360.83it/s]\n"
     ]
    },
    {
     "name": "stdout",
     "output_type": "stream",
     "text": [
      "-----------DOWN!------------\n"
     ]
    },
    {
     "name": "stderr",
     "output_type": "stream",
     "text": [
      "100%|███████████████████████████████████████████████████████████████████████████████████████████████████████████████████████████████████████████| 42840/42840 [02:00<00:00, 354.75it/s]\n"
     ]
    },
    {
     "name": "stdout",
     "output_type": "stream",
     "text": [
      "-----------DOWN!------------\n"
     ]
    },
    {
     "name": "stderr",
     "output_type": "stream",
     "text": [
      "100%|███████████████████████████████████████████████████████████████████████████████████████████████████████████████████████████████████████████| 42840/42840 [01:58<00:00, 362.94it/s]\n"
     ]
    },
    {
     "name": "stdout",
     "output_type": "stream",
     "text": [
      "-----------DOWN!------------\n"
     ]
    },
    {
     "name": "stderr",
     "output_type": "stream",
     "text": [
      "100%|███████████████████████████████████████████████████████████████████████████████████████████████████████████████████████████████████████████| 42840/42840 [01:58<00:00, 360.87it/s]\n"
     ]
    },
    {
     "name": "stdout",
     "output_type": "stream",
     "text": [
      "-----------DOWN!------------\n"
     ]
    },
    {
     "name": "stderr",
     "output_type": "stream",
     "text": [
      "100%|███████████████████████████████████████████████████████████████████████████████████████████████████████████████████████████████████████████| 42840/42840 [01:57<00:00, 363.58it/s]\n"
     ]
    },
    {
     "name": "stdout",
     "output_type": "stream",
     "text": [
      "-----------DOWN!------------\n"
     ]
    }
   ],
   "source": [
    "Invt_df = []\n",
    "nam_lgb = [ \"lgb_base\", \"lgb_bu\", \"lgb_td\", \"lgb_mint\"]\n",
    "nam_ets = [ \"ets_base\", \"ets_bu\", \"ets_td\", \"ets_mint\"]\n",
    "lead_time = 14\n",
    "for i in nam_lgb:\n",
    "    df = loop(fcst = fcst[i], truth = truth, residual = lgb_resid[i], NAME = i, df_list = [],L_=lead_time)# L_=3\n",
    "    Invt_df.append(df)\n",
    "pd.concat(Invt_df).to_pickle(f\"lgbInvtSim_L{lead_time}.pkl\")\n",
    "\n",
    "Invt_df = []\n",
    "for i in nam_ets:\n",
    "    df = loop(fcst = fcst[i], truth = truth, residual = ets_resid[i], NAME = i, df_list = [],L_=lead_time)\n",
    "    Invt_df.append(df)\n",
    "pd.concat(Invt_df).to_pickle(f\"etsInvtSim_L{lead_time}.pkl\")"
   ]
  },
  {
   "cell_type": "markdown",
   "id": "a1ed2098-6590-462e-80b7-7f9455d8e690",
   "metadata": {},
   "source": [
    "## Inventory Reconciliation"
   ]
  },
  {
   "cell_type": "code",
   "execution_count": 8,
   "id": "4cd19e47-3347-40d2-adbd-17be228f3885",
   "metadata": {},
   "outputs": [],
   "source": [
    "import pandas as pd\n",
    "import numpy as np\n",
    "from tqdm import tqdm\n",
    "import warnings\n",
    "warnings.simplefilter(\"ignore\")\n",
    "lgbsim = pd.read_pickle(\"lgbInvtSim_L3.pkl\")\n",
    "etssim = pd.read_pickle(\"etsInvtSim_L3.pkl\")"
   ]
  },
  {
   "cell_type": "code",
   "execution_count": 9,
   "id": "5420e196-f027-47e7-94cf-71555bd916df",
   "metadata": {},
   "outputs": [
    {
     "data": {
      "text/html": [
       "<div>\n",
       "<style scoped>\n",
       "    .dataframe tbody tr th:only-of-type {\n",
       "        vertical-align: middle;\n",
       "    }\n",
       "\n",
       "    .dataframe tbody tr th {\n",
       "        vertical-align: top;\n",
       "    }\n",
       "\n",
       "    .dataframe thead th {\n",
       "        text-align: right;\n",
       "    }\n",
       "</style>\n",
       "<table border=\"1\" class=\"dataframe\">\n",
       "  <thead>\n",
       "    <tr style=\"text-align: right;\">\n",
       "      <th></th>\n",
       "      <th>name</th>\n",
       "      <th>true_demand</th>\n",
       "      <th>forecasts</th>\n",
       "      <th>ot_90</th>\n",
       "      <th>sst_90</th>\n",
       "      <th>ip_90</th>\n",
       "      <th>net_90</th>\n",
       "      <th>backlog_90</th>\n",
       "      <th>ch_90</th>\n",
       "      <th>cb_90</th>\n",
       "      <th>...</th>\n",
       "      <th>backlog_95</th>\n",
       "      <th>ch_95</th>\n",
       "      <th>cb_95</th>\n",
       "      <th>ot_99</th>\n",
       "      <th>sst_99</th>\n",
       "      <th>ip_99</th>\n",
       "      <th>net_99</th>\n",
       "      <th>backlog_99</th>\n",
       "      <th>ch_99</th>\n",
       "      <th>cb_99</th>\n",
       "    </tr>\n",
       "  </thead>\n",
       "  <tbody>\n",
       "    <tr>\n",
       "      <th>0</th>\n",
       "      <td>lgb_base</td>\n",
       "      <td>38793</td>\n",
       "      <td>37936.346099</td>\n",
       "      <td>0.000000</td>\n",
       "      <td>942.565094</td>\n",
       "      <td>69932.000000</td>\n",
       "      <td>69932.000000</td>\n",
       "      <td>0.000000</td>\n",
       "      <td>69932.000000</td>\n",
       "      <td>0.00000</td>\n",
       "      <td>...</td>\n",
       "      <td>0.000000</td>\n",
       "      <td>69932.000000</td>\n",
       "      <td>0.000000</td>\n",
       "      <td>236.040956</td>\n",
       "      <td>1710.999668</td>\n",
       "      <td>70168.040956</td>\n",
       "      <td>69932.000000</td>\n",
       "      <td>0.000000</td>\n",
       "      <td>69932.000000</td>\n",
       "      <td>0.000000</td>\n",
       "    </tr>\n",
       "    <tr>\n",
       "      <th>1</th>\n",
       "      <td>lgb_base</td>\n",
       "      <td>35487</td>\n",
       "      <td>35346.413219</td>\n",
       "      <td>34610.738143</td>\n",
       "      <td>942.565094</td>\n",
       "      <td>69055.738143</td>\n",
       "      <td>34445.000000</td>\n",
       "      <td>0.000000</td>\n",
       "      <td>34445.000000</td>\n",
       "      <td>0.00000</td>\n",
       "      <td>...</td>\n",
       "      <td>0.000000</td>\n",
       "      <td>34445.000000</td>\n",
       "      <td>0.000000</td>\n",
       "      <td>35143.131762</td>\n",
       "      <td>1710.999668</td>\n",
       "      <td>69824.172717</td>\n",
       "      <td>34681.040956</td>\n",
       "      <td>0.000000</td>\n",
       "      <td>34681.040956</td>\n",
       "      <td>0.000000</td>\n",
       "    </tr>\n",
       "    <tr>\n",
       "      <th>2</th>\n",
       "      <td>lgb_base</td>\n",
       "      <td>34445</td>\n",
       "      <td>33967.281969</td>\n",
       "      <td>39139.878477</td>\n",
       "      <td>942.565094</td>\n",
       "      <td>73750.616620</td>\n",
       "      <td>34610.738143</td>\n",
       "      <td>0.000000</td>\n",
       "      <td>34610.738143</td>\n",
       "      <td>0.00000</td>\n",
       "      <td>...</td>\n",
       "      <td>0.000000</td>\n",
       "      <td>34877.942250</td>\n",
       "      <td>0.000000</td>\n",
       "      <td>39139.878477</td>\n",
       "      <td>1710.999668</td>\n",
       "      <td>74519.051194</td>\n",
       "      <td>35379.172717</td>\n",
       "      <td>0.000000</td>\n",
       "      <td>35379.172717</td>\n",
       "      <td>0.000000</td>\n",
       "    </tr>\n",
       "    <tr>\n",
       "      <th>3</th>\n",
       "      <td>lgb_base</td>\n",
       "      <td>34732</td>\n",
       "      <td>34286.477860</td>\n",
       "      <td>49990.476227</td>\n",
       "      <td>942.565094</td>\n",
       "      <td>89009.092847</td>\n",
       "      <td>-121.261857</td>\n",
       "      <td>121.261857</td>\n",
       "      <td>0.000000</td>\n",
       "      <td>1091.35671</td>\n",
       "      <td>...</td>\n",
       "      <td>0.000000</td>\n",
       "      <td>145.942250</td>\n",
       "      <td>0.000000</td>\n",
       "      <td>49990.476227</td>\n",
       "      <td>1710.999668</td>\n",
       "      <td>89777.527421</td>\n",
       "      <td>883.213673</td>\n",
       "      <td>0.000000</td>\n",
       "      <td>883.213673</td>\n",
       "      <td>0.000000</td>\n",
       "    </tr>\n",
       "    <tr>\n",
       "      <th>4</th>\n",
       "      <td>lgb_base</td>\n",
       "      <td>42896</td>\n",
       "      <td>38999.291696</td>\n",
       "      <td>51379.247619</td>\n",
       "      <td>942.565094</td>\n",
       "      <td>97492.340466</td>\n",
       "      <td>-8406.523713</td>\n",
       "      <td>8406.523713</td>\n",
       "      <td>0.000000</td>\n",
       "      <td>75658.71342</td>\n",
       "      <td>...</td>\n",
       "      <td>7872.115499</td>\n",
       "      <td>0.000000</td>\n",
       "      <td>149570.194482</td>\n",
       "      <td>51379.247619</td>\n",
       "      <td>1710.999668</td>\n",
       "      <td>98260.775040</td>\n",
       "      <td>-6869.654566</td>\n",
       "      <td>6869.654566</td>\n",
       "      <td>0.000000</td>\n",
       "      <td>680095.801985</td>\n",
       "    </tr>\n",
       "    <tr>\n",
       "      <th>...</th>\n",
       "      <td>...</td>\n",
       "      <td>...</td>\n",
       "      <td>...</td>\n",
       "      <td>...</td>\n",
       "      <td>...</td>\n",
       "      <td>...</td>\n",
       "      <td>...</td>\n",
       "      <td>...</td>\n",
       "      <td>...</td>\n",
       "      <td>...</td>\n",
       "      <td>...</td>\n",
       "      <td>...</td>\n",
       "      <td>...</td>\n",
       "      <td>...</td>\n",
       "      <td>...</td>\n",
       "      <td>...</td>\n",
       "      <td>...</td>\n",
       "      <td>...</td>\n",
       "      <td>...</td>\n",
       "      <td>...</td>\n",
       "      <td>...</td>\n",
       "    </tr>\n",
       "    <tr>\n",
       "      <th>1199515</th>\n",
       "      <td>lgb_mint</td>\n",
       "      <td>0</td>\n",
       "      <td>0.096519</td>\n",
       "      <td>0.000000</td>\n",
       "      <td>0.866392</td>\n",
       "      <td>1.398920</td>\n",
       "      <td>2.349361</td>\n",
       "      <td>0.000000</td>\n",
       "      <td>2.349361</td>\n",
       "      <td>0.00000</td>\n",
       "      <td>...</td>\n",
       "      <td>0.000000</td>\n",
       "      <td>2.840581</td>\n",
       "      <td>0.000000</td>\n",
       "      <td>0.000000</td>\n",
       "      <td>1.572726</td>\n",
       "      <td>2.105254</td>\n",
       "      <td>3.762029</td>\n",
       "      <td>0.000000</td>\n",
       "      <td>3.762029</td>\n",
       "      <td>0.000000</td>\n",
       "    </tr>\n",
       "    <tr>\n",
       "      <th>1199516</th>\n",
       "      <td>lgb_mint</td>\n",
       "      <td>0</td>\n",
       "      <td>0.113224</td>\n",
       "      <td>0.000000</td>\n",
       "      <td>0.866392</td>\n",
       "      <td>1.398920</td>\n",
       "      <td>2.349361</td>\n",
       "      <td>0.000000</td>\n",
       "      <td>2.349361</td>\n",
       "      <td>0.00000</td>\n",
       "      <td>...</td>\n",
       "      <td>0.000000</td>\n",
       "      <td>2.840581</td>\n",
       "      <td>0.000000</td>\n",
       "      <td>0.000000</td>\n",
       "      <td>1.572726</td>\n",
       "      <td>2.105254</td>\n",
       "      <td>3.762029</td>\n",
       "      <td>0.000000</td>\n",
       "      <td>3.762029</td>\n",
       "      <td>0.000000</td>\n",
       "    </tr>\n",
       "    <tr>\n",
       "      <th>1199517</th>\n",
       "      <td>lgb_mint</td>\n",
       "      <td>0</td>\n",
       "      <td>0.089249</td>\n",
       "      <td>0.000000</td>\n",
       "      <td>0.866392</td>\n",
       "      <td>1.398920</td>\n",
       "      <td>2.349361</td>\n",
       "      <td>0.000000</td>\n",
       "      <td>2.349361</td>\n",
       "      <td>0.00000</td>\n",
       "      <td>...</td>\n",
       "      <td>0.000000</td>\n",
       "      <td>2.840581</td>\n",
       "      <td>0.000000</td>\n",
       "      <td>0.000000</td>\n",
       "      <td>1.572726</td>\n",
       "      <td>2.105254</td>\n",
       "      <td>3.762029</td>\n",
       "      <td>0.000000</td>\n",
       "      <td>3.762029</td>\n",
       "      <td>0.000000</td>\n",
       "    </tr>\n",
       "    <tr>\n",
       "      <th>1199518</th>\n",
       "      <td>lgb_mint</td>\n",
       "      <td>0</td>\n",
       "      <td>0.145623</td>\n",
       "      <td>0.000000</td>\n",
       "      <td>0.866392</td>\n",
       "      <td>1.398920</td>\n",
       "      <td>2.349361</td>\n",
       "      <td>0.000000</td>\n",
       "      <td>2.349361</td>\n",
       "      <td>0.00000</td>\n",
       "      <td>...</td>\n",
       "      <td>0.000000</td>\n",
       "      <td>2.840581</td>\n",
       "      <td>0.000000</td>\n",
       "      <td>0.000000</td>\n",
       "      <td>1.572726</td>\n",
       "      <td>2.105254</td>\n",
       "      <td>3.762029</td>\n",
       "      <td>0.000000</td>\n",
       "      <td>3.762029</td>\n",
       "      <td>0.000000</td>\n",
       "    </tr>\n",
       "    <tr>\n",
       "      <th>1199519</th>\n",
       "      <td>lgb_mint</td>\n",
       "      <td>0</td>\n",
       "      <td>0.068590</td>\n",
       "      <td>0.000000</td>\n",
       "      <td>0.866392</td>\n",
       "      <td>1.398920</td>\n",
       "      <td>2.349361</td>\n",
       "      <td>0.000000</td>\n",
       "      <td>2.349361</td>\n",
       "      <td>0.00000</td>\n",
       "      <td>...</td>\n",
       "      <td>0.000000</td>\n",
       "      <td>2.840581</td>\n",
       "      <td>0.000000</td>\n",
       "      <td>0.000000</td>\n",
       "      <td>1.572726</td>\n",
       "      <td>2.105254</td>\n",
       "      <td>3.762029</td>\n",
       "      <td>0.000000</td>\n",
       "      <td>3.762029</td>\n",
       "      <td>0.000000</td>\n",
       "    </tr>\n",
       "  </tbody>\n",
       "</table>\n",
       "<p>4798080 rows × 24 columns</p>\n",
       "</div>"
      ],
      "text/plain": [
       "             name  true_demand     forecasts         ot_90      sst_90  \\\n",
       "0        lgb_base        38793  37936.346099      0.000000  942.565094   \n",
       "1        lgb_base        35487  35346.413219  34610.738143  942.565094   \n",
       "2        lgb_base        34445  33967.281969  39139.878477  942.565094   \n",
       "3        lgb_base        34732  34286.477860  49990.476227  942.565094   \n",
       "4        lgb_base        42896  38999.291696  51379.247619  942.565094   \n",
       "...           ...          ...           ...           ...         ...   \n",
       "1199515  lgb_mint            0      0.096519      0.000000    0.866392   \n",
       "1199516  lgb_mint            0      0.113224      0.000000    0.866392   \n",
       "1199517  lgb_mint            0      0.089249      0.000000    0.866392   \n",
       "1199518  lgb_mint            0      0.145623      0.000000    0.866392   \n",
       "1199519  lgb_mint            0      0.068590      0.000000    0.866392   \n",
       "\n",
       "                ip_90        net_90   backlog_90         ch_90        cb_90  \\\n",
       "0        69932.000000  69932.000000     0.000000  69932.000000      0.00000   \n",
       "1        69055.738143  34445.000000     0.000000  34445.000000      0.00000   \n",
       "2        73750.616620  34610.738143     0.000000  34610.738143      0.00000   \n",
       "3        89009.092847   -121.261857   121.261857      0.000000   1091.35671   \n",
       "4        97492.340466  -8406.523713  8406.523713      0.000000  75658.71342   \n",
       "...               ...           ...          ...           ...          ...   \n",
       "1199515      1.398920      2.349361     0.000000      2.349361      0.00000   \n",
       "1199516      1.398920      2.349361     0.000000      2.349361      0.00000   \n",
       "1199517      1.398920      2.349361     0.000000      2.349361      0.00000   \n",
       "1199518      1.398920      2.349361     0.000000      2.349361      0.00000   \n",
       "1199519      1.398920      2.349361     0.000000      2.349361      0.00000   \n",
       "\n",
       "         ...   backlog_95         ch_95          cb_95         ot_99  \\\n",
       "0        ...     0.000000  69932.000000       0.000000    236.040956   \n",
       "1        ...     0.000000  34445.000000       0.000000  35143.131762   \n",
       "2        ...     0.000000  34877.942250       0.000000  39139.878477   \n",
       "3        ...     0.000000    145.942250       0.000000  49990.476227   \n",
       "4        ...  7872.115499      0.000000  149570.194482  51379.247619   \n",
       "...      ...          ...           ...            ...           ...   \n",
       "1199515  ...     0.000000      2.840581       0.000000      0.000000   \n",
       "1199516  ...     0.000000      2.840581       0.000000      0.000000   \n",
       "1199517  ...     0.000000      2.840581       0.000000      0.000000   \n",
       "1199518  ...     0.000000      2.840581       0.000000      0.000000   \n",
       "1199519  ...     0.000000      2.840581       0.000000      0.000000   \n",
       "\n",
       "              sst_99         ip_99        net_99   backlog_99         ch_99  \\\n",
       "0        1710.999668  70168.040956  69932.000000     0.000000  69932.000000   \n",
       "1        1710.999668  69824.172717  34681.040956     0.000000  34681.040956   \n",
       "2        1710.999668  74519.051194  35379.172717     0.000000  35379.172717   \n",
       "3        1710.999668  89777.527421    883.213673     0.000000    883.213673   \n",
       "4        1710.999668  98260.775040  -6869.654566  6869.654566      0.000000   \n",
       "...              ...           ...           ...          ...           ...   \n",
       "1199515     1.572726      2.105254      3.762029     0.000000      3.762029   \n",
       "1199516     1.572726      2.105254      3.762029     0.000000      3.762029   \n",
       "1199517     1.572726      2.105254      3.762029     0.000000      3.762029   \n",
       "1199518     1.572726      2.105254      3.762029     0.000000      3.762029   \n",
       "1199519     1.572726      2.105254      3.762029     0.000000      3.762029   \n",
       "\n",
       "                 cb_99  \n",
       "0             0.000000  \n",
       "1             0.000000  \n",
       "2             0.000000  \n",
       "3             0.000000  \n",
       "4        680095.801985  \n",
       "...                ...  \n",
       "1199515       0.000000  \n",
       "1199516       0.000000  \n",
       "1199517       0.000000  \n",
       "1199518       0.000000  \n",
       "1199519       0.000000  \n",
       "\n",
       "[4798080 rows x 24 columns]"
      ]
     },
     "execution_count": 9,
     "metadata": {},
     "output_type": "execute_result"
    }
   ],
   "source": [
    "lgbsim"
   ]
  },
  {
   "cell_type": "code",
   "execution_count": 8,
   "id": "8ba1b7ce-b3e9-48fc-988f-f5473559d490",
   "metadata": {},
   "outputs": [],
   "source": [
    "lgbsim = pd.read_pickle(\"lgbInvtSim.pkl\")"
   ]
  },
  {
   "cell_type": "code",
   "execution_count": 10,
   "id": "6d4b393b-52e7-4669-81a1-8c3b2e51508e",
   "metadata": {},
   "outputs": [
    {
     "data": {
      "text/html": [
       "<div>\n",
       "<style scoped>\n",
       "    .dataframe tbody tr th:only-of-type {\n",
       "        vertical-align: middle;\n",
       "    }\n",
       "\n",
       "    .dataframe tbody tr th {\n",
       "        vertical-align: top;\n",
       "    }\n",
       "\n",
       "    .dataframe thead th {\n",
       "        text-align: right;\n",
       "    }\n",
       "</style>\n",
       "<table border=\"1\" class=\"dataframe\">\n",
       "  <thead>\n",
       "    <tr style=\"text-align: right;\">\n",
       "      <th></th>\n",
       "      <th>name</th>\n",
       "      <th>true_demand</th>\n",
       "      <th>forecasts</th>\n",
       "      <th>ot_90</th>\n",
       "      <th>ip_90</th>\n",
       "      <th>net_90</th>\n",
       "      <th>backlog_90</th>\n",
       "      <th>ch_90</th>\n",
       "      <th>cb_90</th>\n",
       "      <th>ot_95</th>\n",
       "      <th>...</th>\n",
       "      <th>net_95</th>\n",
       "      <th>backlog_95</th>\n",
       "      <th>ch_95</th>\n",
       "      <th>cb_95</th>\n",
       "      <th>ot_99</th>\n",
       "      <th>ip_99</th>\n",
       "      <th>net_99</th>\n",
       "      <th>backlog_99</th>\n",
       "      <th>ch_99</th>\n",
       "      <th>cb_99</th>\n",
       "    </tr>\n",
       "  </thead>\n",
       "  <tbody>\n",
       "    <tr>\n",
       "      <th>0</th>\n",
       "      <td>lgb_base</td>\n",
       "      <td>38793</td>\n",
       "      <td>37936.346099</td>\n",
       "      <td>0.000000</td>\n",
       "      <td>70954.109013</td>\n",
       "      <td>70954.109013</td>\n",
       "      <td>0.000000</td>\n",
       "      <td>70954.109013</td>\n",
       "      <td>0.000000</td>\n",
       "      <td>0.000000</td>\n",
       "      <td>...</td>\n",
       "      <td>71243.862716</td>\n",
       "      <td>0.000000</td>\n",
       "      <td>71243.862716</td>\n",
       "      <td>0.000000</td>\n",
       "      <td>0.000000</td>\n",
       "      <td>71787.392474</td>\n",
       "      <td>71787.392474</td>\n",
       "      <td>0.000000</td>\n",
       "      <td>71787.392474</td>\n",
       "      <td>0.000000</td>\n",
       "    </tr>\n",
       "    <tr>\n",
       "      <th>1</th>\n",
       "      <td>lgb_base</td>\n",
       "      <td>35487</td>\n",
       "      <td>35346.413219</td>\n",
       "      <td>33676.098158</td>\n",
       "      <td>35467.109013</td>\n",
       "      <td>35467.109013</td>\n",
       "      <td>0.000000</td>\n",
       "      <td>35467.109013</td>\n",
       "      <td>0.000000</td>\n",
       "      <td>33678.344816</td>\n",
       "      <td>...</td>\n",
       "      <td>35756.862716</td>\n",
       "      <td>0.000000</td>\n",
       "      <td>35756.862716</td>\n",
       "      <td>0.000000</td>\n",
       "      <td>33682.559173</td>\n",
       "      <td>36300.392474</td>\n",
       "      <td>36300.392474</td>\n",
       "      <td>0.000000</td>\n",
       "      <td>36300.392474</td>\n",
       "      <td>0.000000</td>\n",
       "    </tr>\n",
       "    <tr>\n",
       "      <th>2</th>\n",
       "      <td>lgb_base</td>\n",
       "      <td>34445</td>\n",
       "      <td>33967.281969</td>\n",
       "      <td>72824.764518</td>\n",
       "      <td>34698.207171</td>\n",
       "      <td>1022.109013</td>\n",
       "      <td>0.000000</td>\n",
       "      <td>1022.109013</td>\n",
       "      <td>0.000000</td>\n",
       "      <td>72829.502419</td>\n",
       "      <td>...</td>\n",
       "      <td>1311.862716</td>\n",
       "      <td>0.000000</td>\n",
       "      <td>1311.862716</td>\n",
       "      <td>0.000000</td>\n",
       "      <td>72838.389933</td>\n",
       "      <td>35537.951648</td>\n",
       "      <td>1855.392474</td>\n",
       "      <td>0.000000</td>\n",
       "      <td>1855.392474</td>\n",
       "      <td>0.000000</td>\n",
       "    </tr>\n",
       "    <tr>\n",
       "      <th>3</th>\n",
       "      <td>lgb_base</td>\n",
       "      <td>34732</td>\n",
       "      <td>34286.477860</td>\n",
       "      <td>89144.057315</td>\n",
       "      <td>72790.971689</td>\n",
       "      <td>-33709.890987</td>\n",
       "      <td>33709.890987</td>\n",
       "      <td>0.000000</td>\n",
       "      <td>640487.928748</td>\n",
       "      <td>89147.941815</td>\n",
       "      <td>...</td>\n",
       "      <td>-33420.137284</td>\n",
       "      <td>33420.137284</td>\n",
       "      <td>0.000000</td>\n",
       "      <td>634982.608395</td>\n",
       "      <td>89155.228490</td>\n",
       "      <td>73644.341581</td>\n",
       "      <td>-32876.607526</td>\n",
       "      <td>32876.607526</td>\n",
       "      <td>0.000000</td>\n",
       "      <td>624655.542990</td>\n",
       "    </tr>\n",
       "    <tr>\n",
       "      <th>4</th>\n",
       "      <td>lgb_base</td>\n",
       "      <td>42896</td>\n",
       "      <td>38999.291696</td>\n",
       "      <td>67695.864735</td>\n",
       "      <td>119039.029003</td>\n",
       "      <td>-42929.792829</td>\n",
       "      <td>42929.792829</td>\n",
       "      <td>0.000000</td>\n",
       "      <td>815666.063750</td>\n",
       "      <td>67694.252816</td>\n",
       "      <td>...</td>\n",
       "      <td>-42637.792468</td>\n",
       "      <td>42637.792468</td>\n",
       "      <td>0.000000</td>\n",
       "      <td>810118.056889</td>\n",
       "      <td>67691.229123</td>\n",
       "      <td>119903.570071</td>\n",
       "      <td>-42090.048352</td>\n",
       "      <td>42090.048352</td>\n",
       "      <td>0.000000</td>\n",
       "      <td>799710.918696</td>\n",
       "    </tr>\n",
       "    <tr>\n",
       "      <th>...</th>\n",
       "      <td>...</td>\n",
       "      <td>...</td>\n",
       "      <td>...</td>\n",
       "      <td>...</td>\n",
       "      <td>...</td>\n",
       "      <td>...</td>\n",
       "      <td>...</td>\n",
       "      <td>...</td>\n",
       "      <td>...</td>\n",
       "      <td>...</td>\n",
       "      <td>...</td>\n",
       "      <td>...</td>\n",
       "      <td>...</td>\n",
       "      <td>...</td>\n",
       "      <td>...</td>\n",
       "      <td>...</td>\n",
       "      <td>...</td>\n",
       "      <td>...</td>\n",
       "      <td>...</td>\n",
       "      <td>...</td>\n",
       "      <td>...</td>\n",
       "    </tr>\n",
       "    <tr>\n",
       "      <th>1199515</th>\n",
       "      <td>lgb_mint</td>\n",
       "      <td>0</td>\n",
       "      <td>0.096519</td>\n",
       "      <td>0.000000</td>\n",
       "      <td>0.931117</td>\n",
       "      <td>0.931117</td>\n",
       "      <td>0.000000</td>\n",
       "      <td>0.931117</td>\n",
       "      <td>0.000000</td>\n",
       "      <td>0.000000</td>\n",
       "      <td>...</td>\n",
       "      <td>1.038955</td>\n",
       "      <td>0.000000</td>\n",
       "      <td>1.038955</td>\n",
       "      <td>0.000000</td>\n",
       "      <td>0.000000</td>\n",
       "      <td>1.241242</td>\n",
       "      <td>1.241242</td>\n",
       "      <td>0.000000</td>\n",
       "      <td>1.241242</td>\n",
       "      <td>0.000000</td>\n",
       "    </tr>\n",
       "    <tr>\n",
       "      <th>1199516</th>\n",
       "      <td>lgb_mint</td>\n",
       "      <td>0</td>\n",
       "      <td>0.113224</td>\n",
       "      <td>0.000000</td>\n",
       "      <td>0.931117</td>\n",
       "      <td>0.931117</td>\n",
       "      <td>0.000000</td>\n",
       "      <td>0.931117</td>\n",
       "      <td>0.000000</td>\n",
       "      <td>0.000000</td>\n",
       "      <td>...</td>\n",
       "      <td>1.038955</td>\n",
       "      <td>0.000000</td>\n",
       "      <td>1.038955</td>\n",
       "      <td>0.000000</td>\n",
       "      <td>0.000000</td>\n",
       "      <td>1.241242</td>\n",
       "      <td>1.241242</td>\n",
       "      <td>0.000000</td>\n",
       "      <td>1.241242</td>\n",
       "      <td>0.000000</td>\n",
       "    </tr>\n",
       "    <tr>\n",
       "      <th>1199517</th>\n",
       "      <td>lgb_mint</td>\n",
       "      <td>0</td>\n",
       "      <td>0.089249</td>\n",
       "      <td>0.000000</td>\n",
       "      <td>0.931117</td>\n",
       "      <td>0.931117</td>\n",
       "      <td>0.000000</td>\n",
       "      <td>0.931117</td>\n",
       "      <td>0.000000</td>\n",
       "      <td>0.000000</td>\n",
       "      <td>...</td>\n",
       "      <td>1.038955</td>\n",
       "      <td>0.000000</td>\n",
       "      <td>1.038955</td>\n",
       "      <td>0.000000</td>\n",
       "      <td>0.000000</td>\n",
       "      <td>1.241242</td>\n",
       "      <td>1.241242</td>\n",
       "      <td>0.000000</td>\n",
       "      <td>1.241242</td>\n",
       "      <td>0.000000</td>\n",
       "    </tr>\n",
       "    <tr>\n",
       "      <th>1199518</th>\n",
       "      <td>lgb_mint</td>\n",
       "      <td>0</td>\n",
       "      <td>0.145623</td>\n",
       "      <td>0.000000</td>\n",
       "      <td>0.931117</td>\n",
       "      <td>0.931117</td>\n",
       "      <td>0.000000</td>\n",
       "      <td>0.931117</td>\n",
       "      <td>0.000000</td>\n",
       "      <td>0.000000</td>\n",
       "      <td>...</td>\n",
       "      <td>1.038955</td>\n",
       "      <td>0.000000</td>\n",
       "      <td>1.038955</td>\n",
       "      <td>0.000000</td>\n",
       "      <td>0.000000</td>\n",
       "      <td>1.241242</td>\n",
       "      <td>1.241242</td>\n",
       "      <td>0.000000</td>\n",
       "      <td>1.241242</td>\n",
       "      <td>0.000000</td>\n",
       "    </tr>\n",
       "    <tr>\n",
       "      <th>1199519</th>\n",
       "      <td>lgb_mint</td>\n",
       "      <td>0</td>\n",
       "      <td>0.068590</td>\n",
       "      <td>0.000000</td>\n",
       "      <td>0.931117</td>\n",
       "      <td>0.931117</td>\n",
       "      <td>0.000000</td>\n",
       "      <td>0.931117</td>\n",
       "      <td>0.000000</td>\n",
       "      <td>0.000000</td>\n",
       "      <td>...</td>\n",
       "      <td>1.038955</td>\n",
       "      <td>0.000000</td>\n",
       "      <td>1.038955</td>\n",
       "      <td>0.000000</td>\n",
       "      <td>0.000000</td>\n",
       "      <td>1.241242</td>\n",
       "      <td>1.241242</td>\n",
       "      <td>0.000000</td>\n",
       "      <td>1.241242</td>\n",
       "      <td>0.000000</td>\n",
       "    </tr>\n",
       "  </tbody>\n",
       "</table>\n",
       "<p>4798080 rows × 21 columns</p>\n",
       "</div>"
      ],
      "text/plain": [
       "             name  true_demand     forecasts         ot_90          ip_90  \\\n",
       "0        lgb_base        38793  37936.346099      0.000000   70954.109013   \n",
       "1        lgb_base        35487  35346.413219  33676.098158   35467.109013   \n",
       "2        lgb_base        34445  33967.281969  72824.764518   34698.207171   \n",
       "3        lgb_base        34732  34286.477860  89144.057315   72790.971689   \n",
       "4        lgb_base        42896  38999.291696  67695.864735  119039.029003   \n",
       "...           ...          ...           ...           ...            ...   \n",
       "1199515  lgb_mint            0      0.096519      0.000000       0.931117   \n",
       "1199516  lgb_mint            0      0.113224      0.000000       0.931117   \n",
       "1199517  lgb_mint            0      0.089249      0.000000       0.931117   \n",
       "1199518  lgb_mint            0      0.145623      0.000000       0.931117   \n",
       "1199519  lgb_mint            0      0.068590      0.000000       0.931117   \n",
       "\n",
       "               net_90    backlog_90         ch_90          cb_90  \\\n",
       "0        70954.109013      0.000000  70954.109013       0.000000   \n",
       "1        35467.109013      0.000000  35467.109013       0.000000   \n",
       "2         1022.109013      0.000000   1022.109013       0.000000   \n",
       "3       -33709.890987  33709.890987      0.000000  640487.928748   \n",
       "4       -42929.792829  42929.792829      0.000000  815666.063750   \n",
       "...               ...           ...           ...            ...   \n",
       "1199515      0.931117      0.000000      0.931117       0.000000   \n",
       "1199516      0.931117      0.000000      0.931117       0.000000   \n",
       "1199517      0.931117      0.000000      0.931117       0.000000   \n",
       "1199518      0.931117      0.000000      0.931117       0.000000   \n",
       "1199519      0.931117      0.000000      0.931117       0.000000   \n",
       "\n",
       "                ot_95  ...        net_95    backlog_95         ch_95  \\\n",
       "0            0.000000  ...  71243.862716      0.000000  71243.862716   \n",
       "1        33678.344816  ...  35756.862716      0.000000  35756.862716   \n",
       "2        72829.502419  ...   1311.862716      0.000000   1311.862716   \n",
       "3        89147.941815  ... -33420.137284  33420.137284      0.000000   \n",
       "4        67694.252816  ... -42637.792468  42637.792468      0.000000   \n",
       "...               ...  ...           ...           ...           ...   \n",
       "1199515      0.000000  ...      1.038955      0.000000      1.038955   \n",
       "1199516      0.000000  ...      1.038955      0.000000      1.038955   \n",
       "1199517      0.000000  ...      1.038955      0.000000      1.038955   \n",
       "1199518      0.000000  ...      1.038955      0.000000      1.038955   \n",
       "1199519      0.000000  ...      1.038955      0.000000      1.038955   \n",
       "\n",
       "                 cb_95         ot_99          ip_99        net_99  \\\n",
       "0             0.000000      0.000000   71787.392474  71787.392474   \n",
       "1             0.000000  33682.559173   36300.392474  36300.392474   \n",
       "2             0.000000  72838.389933   35537.951648   1855.392474   \n",
       "3        634982.608395  89155.228490   73644.341581 -32876.607526   \n",
       "4        810118.056889  67691.229123  119903.570071 -42090.048352   \n",
       "...                ...           ...            ...           ...   \n",
       "1199515       0.000000      0.000000       1.241242      1.241242   \n",
       "1199516       0.000000      0.000000       1.241242      1.241242   \n",
       "1199517       0.000000      0.000000       1.241242      1.241242   \n",
       "1199518       0.000000      0.000000       1.241242      1.241242   \n",
       "1199519       0.000000      0.000000       1.241242      1.241242   \n",
       "\n",
       "           backlog_99         ch_99          cb_99  \n",
       "0            0.000000  71787.392474       0.000000  \n",
       "1            0.000000  36300.392474       0.000000  \n",
       "2            0.000000   1855.392474       0.000000  \n",
       "3        32876.607526      0.000000  624655.542990  \n",
       "4        42090.048352      0.000000  799710.918696  \n",
       "...               ...           ...            ...  \n",
       "1199515      0.000000      1.241242       0.000000  \n",
       "1199516      0.000000      1.241242       0.000000  \n",
       "1199517      0.000000      1.241242       0.000000  \n",
       "1199518      0.000000      1.241242       0.000000  \n",
       "1199519      0.000000      1.241242       0.000000  \n",
       "\n",
       "[4798080 rows x 21 columns]"
      ]
     },
     "execution_count": 10,
     "metadata": {},
     "output_type": "execute_result"
    }
   ],
   "source": [
    "lgbsim"
   ]
  },
  {
   "cell_type": "code",
   "execution_count": null,
   "id": "76135bd8-10de-4d6a-81c7-5d0e1b93a251",
   "metadata": {},
   "outputs": [],
   "source": []
  }
 ],
 "metadata": {
  "kernelspec": {
   "display_name": "Python 3 (ipykernel)",
   "language": "python",
   "name": "python3"
  },
  "language_info": {
   "codemirror_mode": {
    "name": "ipython",
    "version": 3
   },
   "file_extension": ".py",
   "mimetype": "text/x-python",
   "name": "python",
   "nbconvert_exporter": "python",
   "pygments_lexer": "ipython3",
   "version": "3.9.7"
  }
 },
 "nbformat": 4,
 "nbformat_minor": 5
}
