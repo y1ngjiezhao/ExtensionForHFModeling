{
 "cells": [
  {
   "cell_type": "markdown",
   "id": "a1ed2098-6590-462e-80b7-7f9455d8e690",
   "metadata": {
    "tags": []
   },
   "source": [
    "## BU_L1"
   ]
  },
  {
   "cell_type": "code",
   "execution_count": 1,
   "id": "4cd19e47-3347-40d2-adbd-17be228f3885",
   "metadata": {
    "tags": []
   },
   "outputs": [],
   "source": [
    "path1  = 'C:/PycharmProjects/yjz/Extension for hts/JayCode/Models/'\n",
    "import warnings\n",
    "warnings.simplefilter(\"ignore\")\n",
    "from Invtsim import *\n",
    "import numpy as np\n",
    "import pandas as pd\n",
    "from scipy.stats import norm\n",
    "from hierarchicalforecast.core import HierarchicalReconciliation\n",
    "from hierarchicalforecast.methods import BottomUp, TopDown, MinTrace\n",
    "from tqdm import tqdm\n",
    "\n",
    "gap1    = 365\n",
    "gap2    = 1548\n",
    "train   = pd.read_pickle(f\"{path1}past_1913.pkl\").reset_index(drop=True)\n",
    "test    = pd.read_pickle(f\"{path1}future_28.pkl\").reset_index(drop=True)\n",
    "S       = pd.read_pickle(f\"{path1}S_df.pkl\")\n",
    "tags    = pd.read_pickle(f\"{path1}tags.bin\")\n",
    "\n",
    "ts_id   = test[['unique_id', 'ds']]\n",
    "tr_id   = train[['unique_id', 'ds']]\n",
    "trts_id = tr_id[tr_id['ds']> gap2]\n",
    "trtr_id = tr_id[tr_id['ds']<= gap2]\n",
    "'''\n",
    "lgbs = pd.read_pickle(\"lgbInvtSim_L1.pkl\")\n",
    "etss = pd.read_pickle(\"etsInvtSim_L1.pkl\")\n",
    "bus = pd.concat([lgbs,etss])'''\n",
    "del train, test, trtr_id"
   ]
  },
  {
   "cell_type": "markdown",
   "id": "9ca264fb-bdf2-4ae9-b3fa-ca2b794747fd",
   "metadata": {
    "tags": []
   },
   "source": [
    "## Order BU"
   ]
  },
  {
   "cell_type": "markdown",
   "id": "c09ee6ce-cb78-4561-ba65-9ca965ec8dc6",
   "metadata": {},
   "source": [
    "### L1"
   ]
  },
  {
   "cell_type": "code",
   "execution_count": 2,
   "id": "5420e196-f027-47e7-94cf-71555bd916df",
   "metadata": {},
   "outputs": [
    {
     "name": "stderr",
     "output_type": "stream",
     "text": [
      "100%|███████████████████████████████████████████████████████████████████████████████████████████████████████████████████████████████████████████████████| 8/8 [14:16<00:00, 107.04s/it]\n"
     ]
    }
   ],
   "source": [
    "################################### BU\n",
    "lt = 1\n",
    "on   = ['ot_90','ot_95','ot_99']\n",
    "names = ['lgb_base', 'lgb_bu', 'lgb_td', 'lgb_mint','ets_base', 'ets_bu', 'ets_td', 'ets_mint']\n",
    "bottomup = [BottomUp()]\n",
    "bu = HierarchicalReconciliation(reconcilers=bottomup)\n",
    "eobu,lobu = [], []\n",
    "\n",
    "lgbs = pd.read_pickle(f\"lgbInvtSim_L{lt}.pkl\")\n",
    "etss = pd.read_pickle(f\"etsInvtSim_L{lt}.pkl\")\n",
    "bus = pd.concat([lgbs,etss])\n",
    "\n",
    "for i in tqdm(names):\n",
    "    obu = pd.concat([ts_id, bus[bus['name'] == i][on]],axis=1)\n",
    "    lobu.append(bu.reconcile(Y_hat_df=obu, S=S, tags=tags).iloc[:,-3:])\n",
    "orderbu = pd.concat([bus['name'], pd.concat(lobu)],axis=1)\n",
    "#ets_orderbu.to_pickle(\"Order_ets_BU.pkl\")\n",
    "orderbu.to_pickle(f\"OrderBU_L{lt}.pkl\")"
   ]
  },
  {
   "cell_type": "markdown",
   "id": "b0b9e27a-4c85-4acc-a8db-18e392c058f0",
   "metadata": {},
   "source": [
    "### L3"
   ]
  },
  {
   "cell_type": "code",
   "execution_count": 3,
   "id": "4d2555f8-0a6e-426c-9553-3409d63b25be",
   "metadata": {},
   "outputs": [
    {
     "name": "stderr",
     "output_type": "stream",
     "text": [
      "100%|███████████████████████████████████████████████████████████████████████████████████████████████████████████████████████████████████████████████████| 8/8 [13:53<00:00, 104.19s/it]\n"
     ]
    }
   ],
   "source": [
    "lt = 3\n",
    "on   = ['ot_90','ot_95','ot_99']\n",
    "names = ['lgb_base', 'lgb_bu', 'lgb_td', 'lgb_mint','ets_base', 'ets_bu', 'ets_td', 'ets_mint']\n",
    "bottomup = [BottomUp()]\n",
    "bu = HierarchicalReconciliation(reconcilers=bottomup)\n",
    "eobu,lobu = [], []\n",
    "\n",
    "lgbs = pd.read_pickle(f\"lgbInvtSim_L{lt}.pkl\")\n",
    "etss = pd.read_pickle(f\"etsInvtSim_L{lt}.pkl\")\n",
    "bus = pd.concat([lgbs,etss])\n",
    "\n",
    "for i in tqdm(names):\n",
    "    obu = pd.concat([ts_id, bus[bus['name'] == i][on]],axis=1)\n",
    "    lobu.append(bu.reconcile(Y_hat_df=obu, S=S, tags=tags).iloc[:,-3:])\n",
    "orderbu = pd.concat([bus['name'], pd.concat(lobu)],axis=1)\n",
    "#ets_orderbu.to_pickle(\"Order_ets_BU.pkl\")\n",
    "orderbu.to_pickle(f\"OrderBU_L{lt}.pkl\")"
   ]
  },
  {
   "cell_type": "markdown",
   "id": "cf4232c2-a098-4b0b-9e52-22c9e251007c",
   "metadata": {},
   "source": [
    "### L7"
   ]
  },
  {
   "cell_type": "code",
   "execution_count": 4,
   "id": "9dac076a-2f72-4023-8c07-7fd61934a0ba",
   "metadata": {},
   "outputs": [
    {
     "name": "stderr",
     "output_type": "stream",
     "text": [
      "100%|███████████████████████████████████████████████████████████████████████████████████████████████████████████████████████████████████████████████████| 8/8 [13:53<00:00, 104.22s/it]\n"
     ]
    }
   ],
   "source": [
    "lt = 7\n",
    "on   = ['ot_90','ot_95','ot_99']\n",
    "names = ['lgb_base', 'lgb_bu', 'lgb_td', 'lgb_mint','ets_base', 'ets_bu', 'ets_td', 'ets_mint']\n",
    "bottomup = [BottomUp()]\n",
    "bu = HierarchicalReconciliation(reconcilers=bottomup)\n",
    "eobu,lobu = [], []\n",
    "\n",
    "lgbs = pd.read_pickle(f\"lgbInvtSim_L{lt}.pkl\")\n",
    "etss = pd.read_pickle(f\"etsInvtSim_L{lt}.pkl\")\n",
    "bus = pd.concat([lgbs,etss])\n",
    "\n",
    "for i in tqdm(names):\n",
    "    obu = pd.concat([ts_id, bus[bus['name'] == i][on]],axis=1)\n",
    "    lobu.append(bu.reconcile(Y_hat_df=obu, S=S, tags=tags).iloc[:,-3:])\n",
    "orderbu = pd.concat([bus['name'], pd.concat(lobu)],axis=1)\n",
    "#ets_orderbu.to_pickle(\"Order_ets_BU.pkl\")\n",
    "orderbu.to_pickle(f\"OrderBU_L{lt}.pkl\")"
   ]
  },
  {
   "cell_type": "markdown",
   "id": "f65345f0-c3df-4698-b9ac-c4c1ae49edf6",
   "metadata": {},
   "source": [
    "### L14"
   ]
  },
  {
   "cell_type": "code",
   "execution_count": 5,
   "id": "739d3315-4b8a-47d1-9fa5-6d2274eb63b1",
   "metadata": {},
   "outputs": [
    {
     "name": "stderr",
     "output_type": "stream",
     "text": [
      "100%|███████████████████████████████████████████████████████████████████████████████████████████████████████████████████████████████████████████████████| 8/8 [13:54<00:00, 104.37s/it]\n"
     ]
    }
   ],
   "source": [
    "lt = 14\n",
    "on   = ['ot_90','ot_95','ot_99']\n",
    "names = ['lgb_base', 'lgb_bu', 'lgb_td', 'lgb_mint','ets_base', 'ets_bu', 'ets_td', 'ets_mint']\n",
    "bottomup = [BottomUp()]\n",
    "bu = HierarchicalReconciliation(reconcilers=bottomup)\n",
    "eobu,lobu = [], []\n",
    "\n",
    "lgbs = pd.read_pickle(f\"lgbInvtSim_L{lt}.pkl\")\n",
    "etss = pd.read_pickle(f\"etsInvtSim_L{lt}.pkl\")\n",
    "bus = pd.concat([lgbs,etss])\n",
    "\n",
    "for i in tqdm(names):\n",
    "    obu = pd.concat([ts_id, bus[bus['name'] == i][on]],axis=1)\n",
    "    lobu.append(bu.reconcile(Y_hat_df=obu, S=S, tags=tags).iloc[:,-3:])\n",
    "orderbu = pd.concat([bus['name'], pd.concat(lobu)],axis=1)\n",
    "#ets_orderbu.to_pickle(\"Order_ets_BU.pkl\")\n",
    "orderbu.to_pickle(f\"OrderBU_L{lt}.pkl\")"
   ]
  },
  {
   "cell_type": "markdown",
   "id": "351f01d5-7038-492d-a137-8d6a9710e7b9",
   "metadata": {
    "tags": []
   },
   "source": [
    "## Fixed Order Simulation:"
   ]
  },
  {
   "cell_type": "code",
   "execution_count": 1,
   "id": "ac1246c4-bf00-420d-bae0-84fe3d999979",
   "metadata": {},
   "outputs": [],
   "source": [
    "path1  = 'C:/PycharmProjects/yjz/Extension for hts/JayCode/Models/'\n",
    "from Invtsim import *\n",
    "import numpy as np\n",
    "import pandas as pd\n",
    "from scipy.stats import norm\n",
    "import warnings\n",
    "warnings.simplefilter(\"ignore\")\n",
    "from tqdm import tqdm\n",
    "def loop2( truth, NAME:str, fcst, residual = 0,\n",
    "         gap1: int = 28, gap2:int = 1913,\n",
    "         n = None, \n",
    "         df_list:list = [], \n",
    "         L_ = 3):\n",
    "    if n == None:\n",
    "        n = int(len(truth)/gap1)\n",
    "    for i in tqdm(range(n)):\n",
    "        fcst_1  = fcst[i*gap1:(i+1)*gap1]\n",
    "        truth_1 = truth[i*gap1:(i+1)*gap1]\n",
    "        #res_1   = residual[i*gap2:(i+1)*gap2]\n",
    "        df = InvtSim(fcst = 0, truth = truth_1, residual = residual, name = NAME, L=L_)##################\n",
    "        res = df.ob_all_t_fixedcase(fixed_order = fcst_1)\n",
    "        df_list.append(res.reset_index(drop = True))\n",
    "    print(\"-----------DOWN!------------\")\n",
    "    return pd.concat(df_list).reset_index(drop=True)"
   ]
  },
  {
   "cell_type": "markdown",
   "id": "d4515cb3-ec67-4f27-9649-d7f44ed6c424",
   "metadata": {
    "tags": []
   },
   "source": [
    "## BU-FIXED SIMULATION:"
   ]
  },
  {
   "cell_type": "markdown",
   "id": "c141c932-0c7b-4845-b8ee-4400a793fd39",
   "metadata": {},
   "source": [
    "### L1"
   ]
  },
  {
   "cell_type": "code",
   "execution_count": 2,
   "id": "aa7b428a-317f-4b62-b2ea-9602d9c85dbf",
   "metadata": {
    "scrolled": true,
    "tags": []
   },
   "outputs": [
    {
     "name": "stderr",
     "output_type": "stream",
     "text": [
      "100%|███████████████████████████████████████████████████████████████████████████████████████████████████████████████████████████████████████████| 42840/42840 [01:13<00:00, 581.67it/s]\n"
     ]
    },
    {
     "name": "stdout",
     "output_type": "stream",
     "text": [
      "-----------DOWN!------------\n"
     ]
    },
    {
     "name": "stderr",
     "output_type": "stream",
     "text": [
      "100%|███████████████████████████████████████████████████████████████████████████████████████████████████████████████████████████████████████████| 42840/42840 [01:09<00:00, 612.90it/s]\n"
     ]
    },
    {
     "name": "stdout",
     "output_type": "stream",
     "text": [
      "-----------DOWN!------------\n"
     ]
    },
    {
     "name": "stderr",
     "output_type": "stream",
     "text": [
      "100%|███████████████████████████████████████████████████████████████████████████████████████████████████████████████████████████████████████████| 42840/42840 [01:11<00:00, 596.70it/s]\n"
     ]
    },
    {
     "name": "stdout",
     "output_type": "stream",
     "text": [
      "-----------DOWN!------------\n"
     ]
    },
    {
     "name": "stderr",
     "output_type": "stream",
     "text": [
      "100%|███████████████████████████████████████████████████████████████████████████████████████████████████████████████████████████████████████████| 42840/42840 [01:09<00:00, 614.91it/s]\n"
     ]
    },
    {
     "name": "stdout",
     "output_type": "stream",
     "text": [
      "-----------DOWN!------------\n"
     ]
    },
    {
     "name": "stderr",
     "output_type": "stream",
     "text": [
      "100%|███████████████████████████████████████████████████████████████████████████████████████████████████████████████████████████████████████████| 42840/42840 [01:08<00:00, 627.51it/s]\n"
     ]
    },
    {
     "name": "stdout",
     "output_type": "stream",
     "text": [
      "-----------DOWN!------------\n"
     ]
    },
    {
     "name": "stderr",
     "output_type": "stream",
     "text": [
      "100%|███████████████████████████████████████████████████████████████████████████████████████████████████████████████████████████████████████████| 42840/42840 [01:09<00:00, 615.53it/s]\n"
     ]
    },
    {
     "name": "stdout",
     "output_type": "stream",
     "text": [
      "-----------DOWN!------------\n"
     ]
    },
    {
     "name": "stderr",
     "output_type": "stream",
     "text": [
      "100%|███████████████████████████████████████████████████████████████████████████████████████████████████████████████████████████████████████████| 42840/42840 [01:09<00:00, 616.39it/s]\n"
     ]
    },
    {
     "name": "stdout",
     "output_type": "stream",
     "text": [
      "-----------DOWN!------------\n"
     ]
    },
    {
     "name": "stderr",
     "output_type": "stream",
     "text": [
      "100%|███████████████████████████████████████████████████████████████████████████████████████████████████████████████████████████████████████████| 42840/42840 [01:09<00:00, 619.45it/s]\n"
     ]
    },
    {
     "name": "stdout",
     "output_type": "stream",
     "text": [
      "-----------DOWN!------------\n"
     ]
    }
   ],
   "source": [
    "lead_time = 1\n",
    "BU   = pd.read_pickle(f\"OrderBU_L{lead_time}.pkl\")\n",
    "truth= pd.read_pickle(f\"{path1}future_28.pkl\")['y']\n",
    "Invt_df = []\n",
    "names   = [ \"lgb_base\", \"lgb_bu\", \"lgb_td\", \"lgb_mint\", \"ets_base\", \"ets_bu\", \"ets_td\", \"ets_mint\"]\n",
    "\n",
    "for i in names:\n",
    "    df = loop2(fcst = BU[BU['name'] == i].iloc[:,-3:], truth = truth, residual = [], NAME = i, df_list = [],L_=lead_time)# L_=3\n",
    "    Invt_df.append(df)\n",
    "pd.concat(Invt_df).to_pickle(f\"BUOrder_L{lead_time}.pkl\")"
   ]
  },
  {
   "cell_type": "markdown",
   "id": "17528500-b7e6-4788-9c71-748d2ba439eb",
   "metadata": {},
   "source": [
    "### L3"
   ]
  },
  {
   "cell_type": "code",
   "execution_count": 3,
   "id": "87a9a9cc-8184-4d7c-8307-c450995e69b6",
   "metadata": {
    "scrolled": true,
    "tags": []
   },
   "outputs": [
    {
     "name": "stderr",
     "output_type": "stream",
     "text": [
      "100%|███████████████████████████████████████████████████████████████████████████████████████████████████████████████████████████████████████████| 42840/42840 [01:17<00:00, 550.04it/s]\n"
     ]
    },
    {
     "name": "stdout",
     "output_type": "stream",
     "text": [
      "-----------DOWN!------------\n"
     ]
    },
    {
     "name": "stderr",
     "output_type": "stream",
     "text": [
      "100%|███████████████████████████████████████████████████████████████████████████████████████████████████████████████████████████████████████████| 42840/42840 [01:16<00:00, 558.56it/s]\n"
     ]
    },
    {
     "name": "stdout",
     "output_type": "stream",
     "text": [
      "-----------DOWN!------------\n"
     ]
    },
    {
     "name": "stderr",
     "output_type": "stream",
     "text": [
      "100%|███████████████████████████████████████████████████████████████████████████████████████████████████████████████████████████████████████████| 42840/42840 [01:18<00:00, 549.16it/s]\n"
     ]
    },
    {
     "name": "stdout",
     "output_type": "stream",
     "text": [
      "-----------DOWN!------------\n"
     ]
    },
    {
     "name": "stderr",
     "output_type": "stream",
     "text": [
      "100%|███████████████████████████████████████████████████████████████████████████████████████████████████████████████████████████████████████████| 42840/42840 [01:16<00:00, 556.61it/s]\n"
     ]
    },
    {
     "name": "stdout",
     "output_type": "stream",
     "text": [
      "-----------DOWN!------------\n"
     ]
    },
    {
     "name": "stderr",
     "output_type": "stream",
     "text": [
      "100%|███████████████████████████████████████████████████████████████████████████████████████████████████████████████████████████████████████████| 42840/42840 [01:16<00:00, 563.21it/s]\n"
     ]
    },
    {
     "name": "stdout",
     "output_type": "stream",
     "text": [
      "-----------DOWN!------------\n"
     ]
    },
    {
     "name": "stderr",
     "output_type": "stream",
     "text": [
      "100%|███████████████████████████████████████████████████████████████████████████████████████████████████████████████████████████████████████████| 42840/42840 [01:15<00:00, 563.85it/s]\n"
     ]
    },
    {
     "name": "stdout",
     "output_type": "stream",
     "text": [
      "-----------DOWN!------------\n"
     ]
    },
    {
     "name": "stderr",
     "output_type": "stream",
     "text": [
      "100%|███████████████████████████████████████████████████████████████████████████████████████████████████████████████████████████████████████████| 42840/42840 [01:16<00:00, 562.81it/s]\n"
     ]
    },
    {
     "name": "stdout",
     "output_type": "stream",
     "text": [
      "-----------DOWN!------------\n"
     ]
    },
    {
     "name": "stderr",
     "output_type": "stream",
     "text": [
      "100%|███████████████████████████████████████████████████████████████████████████████████████████████████████████████████████████████████████████| 42840/42840 [01:16<00:00, 560.06it/s]\n"
     ]
    },
    {
     "name": "stdout",
     "output_type": "stream",
     "text": [
      "-----------DOWN!------------\n"
     ]
    }
   ],
   "source": [
    "lead_time = 3\n",
    "BU   = pd.read_pickle(f\"OrderBU_L{lead_time}.pkl\")\n",
    "truth= pd.read_pickle(f\"{path1}future_28.pkl\")['y']\n",
    "Invt_df = []\n",
    "names   = [ \"lgb_base\", \"lgb_bu\", \"lgb_td\", \"lgb_mint\", \"ets_base\", \"ets_bu\", \"ets_td\", \"ets_mint\"]\n",
    "\n",
    "for i in names:\n",
    "    df = loop2(fcst = BU[BU['name'] == i].iloc[:,-3:], truth = truth, residual = [], NAME = i, df_list = [],L_=lead_time)# L_=3\n",
    "    Invt_df.append(df)\n",
    "pd.concat(Invt_df).to_pickle(f\"BUOrder_L{lead_time}.pkl\")"
   ]
  },
  {
   "cell_type": "markdown",
   "id": "e542330e-c405-4cbf-b177-cfad45b6d912",
   "metadata": {},
   "source": [
    "### L7"
   ]
  },
  {
   "cell_type": "code",
   "execution_count": 4,
   "id": "b27b7f7c-e5d7-435c-bd57-2c5c74035ae4",
   "metadata": {
    "scrolled": true,
    "tags": []
   },
   "outputs": [
    {
     "name": "stderr",
     "output_type": "stream",
     "text": [
      "100%|███████████████████████████████████████████████████████████████████████████████████████████████████████████████████████████████████████████| 42840/42840 [01:25<00:00, 502.54it/s]\n"
     ]
    },
    {
     "name": "stdout",
     "output_type": "stream",
     "text": [
      "-----------DOWN!------------\n"
     ]
    },
    {
     "name": "stderr",
     "output_type": "stream",
     "text": [
      "100%|███████████████████████████████████████████████████████████████████████████████████████████████████████████████████████████████████████████| 42840/42840 [01:26<00:00, 496.65it/s]\n"
     ]
    },
    {
     "name": "stdout",
     "output_type": "stream",
     "text": [
      "-----------DOWN!------------\n"
     ]
    },
    {
     "name": "stderr",
     "output_type": "stream",
     "text": [
      "100%|███████████████████████████████████████████████████████████████████████████████████████████████████████████████████████████████████████████| 42840/42840 [01:25<00:00, 499.68it/s]\n"
     ]
    },
    {
     "name": "stdout",
     "output_type": "stream",
     "text": [
      "-----------DOWN!------------\n"
     ]
    },
    {
     "name": "stderr",
     "output_type": "stream",
     "text": [
      "100%|███████████████████████████████████████████████████████████████████████████████████████████████████████████████████████████████████████████| 42840/42840 [01:25<00:00, 502.14it/s]\n"
     ]
    },
    {
     "name": "stdout",
     "output_type": "stream",
     "text": [
      "-----------DOWN!------------\n"
     ]
    },
    {
     "name": "stderr",
     "output_type": "stream",
     "text": [
      "100%|███████████████████████████████████████████████████████████████████████████████████████████████████████████████████████████████████████████| 42840/42840 [01:23<00:00, 511.94it/s]\n"
     ]
    },
    {
     "name": "stdout",
     "output_type": "stream",
     "text": [
      "-----------DOWN!------------\n"
     ]
    },
    {
     "name": "stderr",
     "output_type": "stream",
     "text": [
      "100%|███████████████████████████████████████████████████████████████████████████████████████████████████████████████████████████████████████████| 42840/42840 [01:23<00:00, 510.11it/s]\n"
     ]
    },
    {
     "name": "stdout",
     "output_type": "stream",
     "text": [
      "-----------DOWN!------------\n"
     ]
    },
    {
     "name": "stderr",
     "output_type": "stream",
     "text": [
      "100%|███████████████████████████████████████████████████████████████████████████████████████████████████████████████████████████████████████████| 42840/42840 [01:24<00:00, 506.02it/s]\n"
     ]
    },
    {
     "name": "stdout",
     "output_type": "stream",
     "text": [
      "-----------DOWN!------------\n"
     ]
    },
    {
     "name": "stderr",
     "output_type": "stream",
     "text": [
      "100%|███████████████████████████████████████████████████████████████████████████████████████████████████████████████████████████████████████████| 42840/42840 [01:22<00:00, 521.54it/s]\n"
     ]
    },
    {
     "name": "stdout",
     "output_type": "stream",
     "text": [
      "-----------DOWN!------------\n"
     ]
    }
   ],
   "source": [
    "lead_time = 7\n",
    "BU   = pd.read_pickle(f\"OrderBU_L{lead_time}.pkl\")\n",
    "truth= pd.read_pickle(f\"{path1}future_28.pkl\")['y']\n",
    "Invt_df = []\n",
    "names   = [ \"lgb_base\", \"lgb_bu\", \"lgb_td\", \"lgb_mint\", \"ets_base\", \"ets_bu\", \"ets_td\", \"ets_mint\"]\n",
    "\n",
    "for i in names:\n",
    "    df = loop2(fcst = BU[BU['name'] == i].iloc[:,-3:], truth = truth, residual = [], NAME = i, df_list = [],L_=lead_time)# L_=3\n",
    "    Invt_df.append(df)\n",
    "pd.concat(Invt_df).to_pickle(f\"BUOrder_L{lead_time}.pkl\")"
   ]
  },
  {
   "cell_type": "markdown",
   "id": "d93a9d65-ceb8-4a53-af0c-45b3061b2893",
   "metadata": {},
   "source": [
    "### L14"
   ]
  },
  {
   "cell_type": "code",
   "execution_count": 5,
   "id": "69efaa83-62c7-4173-b09d-4187e91f4ced",
   "metadata": {},
   "outputs": [
    {
     "name": "stderr",
     "output_type": "stream",
     "text": [
      "100%|███████████████████████████████████████████████████████████████████████████████████████████████████████████████████████████████████████████| 42840/42840 [01:34<00:00, 453.28it/s]\n"
     ]
    },
    {
     "name": "stdout",
     "output_type": "stream",
     "text": [
      "-----------DOWN!------------\n"
     ]
    },
    {
     "name": "stderr",
     "output_type": "stream",
     "text": [
      "100%|███████████████████████████████████████████████████████████████████████████████████████████████████████████████████████████████████████████| 42840/42840 [01:35<00:00, 450.22it/s]\n"
     ]
    },
    {
     "name": "stdout",
     "output_type": "stream",
     "text": [
      "-----------DOWN!------------\n"
     ]
    },
    {
     "name": "stderr",
     "output_type": "stream",
     "text": [
      "100%|███████████████████████████████████████████████████████████████████████████████████████████████████████████████████████████████████████████| 42840/42840 [01:35<00:00, 448.18it/s]\n"
     ]
    },
    {
     "name": "stdout",
     "output_type": "stream",
     "text": [
      "-----------DOWN!------------\n"
     ]
    },
    {
     "name": "stderr",
     "output_type": "stream",
     "text": [
      "100%|███████████████████████████████████████████████████████████████████████████████████████████████████████████████████████████████████████████| 42840/42840 [01:34<00:00, 453.72it/s]\n"
     ]
    },
    {
     "name": "stdout",
     "output_type": "stream",
     "text": [
      "-----------DOWN!------------\n"
     ]
    },
    {
     "name": "stderr",
     "output_type": "stream",
     "text": [
      "100%|███████████████████████████████████████████████████████████████████████████████████████████████████████████████████████████████████████████| 42840/42840 [01:34<00:00, 450.98it/s]\n"
     ]
    },
    {
     "name": "stdout",
     "output_type": "stream",
     "text": [
      "-----------DOWN!------------\n"
     ]
    },
    {
     "name": "stderr",
     "output_type": "stream",
     "text": [
      "100%|███████████████████████████████████████████████████████████████████████████████████████████████████████████████████████████████████████████| 42840/42840 [01:33<00:00, 460.05it/s]\n"
     ]
    },
    {
     "name": "stdout",
     "output_type": "stream",
     "text": [
      "-----------DOWN!------------\n"
     ]
    },
    {
     "name": "stderr",
     "output_type": "stream",
     "text": [
      "100%|███████████████████████████████████████████████████████████████████████████████████████████████████████████████████████████████████████████| 42840/42840 [01:33<00:00, 458.58it/s]\n"
     ]
    },
    {
     "name": "stdout",
     "output_type": "stream",
     "text": [
      "-----------DOWN!------------\n"
     ]
    },
    {
     "name": "stderr",
     "output_type": "stream",
     "text": [
      "100%|███████████████████████████████████████████████████████████████████████████████████████████████████████████████████████████████████████████| 42840/42840 [01:31<00:00, 466.77it/s]\n"
     ]
    },
    {
     "name": "stdout",
     "output_type": "stream",
     "text": [
      "-----------DOWN!------------\n"
     ]
    }
   ],
   "source": [
    "lead_time = 14\n",
    "BU   = pd.read_pickle(f\"OrderBU_L{lead_time}.pkl\")\n",
    "truth= pd.read_pickle(f\"{path1}future_28.pkl\")['y']\n",
    "Invt_df = []\n",
    "names   = [ \"lgb_base\", \"lgb_bu\", \"lgb_td\", \"lgb_mint\", \"ets_base\", \"ets_bu\", \"ets_td\", \"ets_mint\"]\n",
    "\n",
    "for i in names:\n",
    "    df = loop2(fcst = BU[BU['name'] == i].iloc[:,-3:], truth = truth, residual = [], NAME = i, df_list = [],L_=lead_time)# L_=3\n",
    "    Invt_df.append(df)\n",
    "pd.concat(Invt_df).to_pickle(f\"BUOrder_L{lead_time}.pkl\")"
   ]
  },
  {
   "cell_type": "code",
   "execution_count": null,
   "id": "3f0e5c9e-4a35-45d7-9249-f76b0aaa3712",
   "metadata": {},
   "outputs": [],
   "source": []
  }
 ],
 "metadata": {
  "kernelspec": {
   "display_name": "Python 3 (ipykernel)",
   "language": "python",
   "name": "python3"
  },
  "language_info": {
   "codemirror_mode": {
    "name": "ipython",
    "version": 3
   },
   "file_extension": ".py",
   "mimetype": "text/x-python",
   "name": "python",
   "nbconvert_exporter": "python",
   "pygments_lexer": "ipython3",
   "version": "3.9.7"
  }
 },
 "nbformat": 4,
 "nbformat_minor": 5
}
